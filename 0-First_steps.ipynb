{
 "cells": [
  {
   "cell_type": "markdown",
   "metadata": {},
   "source": [
    "RAINSTORM - @author: Santiago D'hers\n",
    "\n",
    "[![Open in Colab](https://colab.research.google.com/assets/colab-badge.svg)](https://colab.research.google.com/github/sdhers/rainstorm/blob/main/0-First_steps.ipynb)\n",
    "\n",
    "## First steps\n",
    "\n",
    "Welcome!\n",
    "\n",
    "- This is the first notebook of the RAINSTORM project. Here you'll find the initial steps to prepare the data for analysis.\n",
    "- We will be working on an example folder with pose estimation files from mice on a Novel Object Recognition (NOR) task.\n",
    "\n",
    "The pose estimation data obtained with DeepLabCut is stored in H5 files, those will be our starting point.\n",
    "\n",
    "For better analysis, we should start by editing the names of the H5 files. We are looking for the following:\n",
    "- **position files must end with the word '_position'**\n",
    "    - Since we use the data from DeepLabCut, the filenames end with something like 'DLC_{Network_used + name + date + snapshot}.h5'. We can change that here.\n",
    "- If the files belong to different trials of an experiment, they should contain the name of the trial in the filename.\n",
    "\n",
    "We can find an easy way to rename files below."
   ]
  },
  {
   "cell_type": "markdown",
   "metadata": {},
   "source": [
    "---\n",
    "#### 1. Load the necessary modules"
   ]
  },
  {
   "cell_type": "code",
   "execution_count": 3,
   "metadata": {},
   "outputs": [],
   "source": [
    "import os\n",
    "import rainstorm.first_steps as rst"
   ]
  },
  {
   "cell_type": "markdown",
   "metadata": {},
   "source": [
    "---\n",
    "#### 2. State your project path (the path to the downloaded RAINSTORM repository folder)\n",
    "`base` : The path to the downloaded repository. If you are using a Windows path with backslashes, place an ‘r’ in front of the directory path to avoid an error (e.g. r'C:\\Users\\dhers\\Desktop\\RAINSTORM').\n",
    "\n",
    "The `folder_path` variable is set to use the example data in the docs folder, if you want to use your own data, change the folder_path variable to the path to your data."
   ]
  },
  {
   "cell_type": "code",
   "execution_count": 10,
   "metadata": {},
   "outputs": [],
   "source": [
    "# State your path:\n",
    "base = r'C:\\Users\\dhers\\Desktop\\RAINSTORM'\n",
    "folder_path = os.path.join(base, r'docs\\examples\\NOR_example')"
   ]
  },
  {
   "cell_type": "markdown",
   "metadata": {},
   "source": [
    "---\n",
    "#### 3. Lets start by making a copy of the example position_files"
   ]
  },
  {
   "cell_type": "code",
   "execution_count": 11,
   "metadata": {},
   "outputs": [
    {
     "name": "stdout",
     "output_type": "stream",
     "text": [
      "Copied folder to 'C:\\Users\\dhers\\Desktop\\RAINSTORM\\docs\\examples\\NOR_example_copy'.\n"
     ]
    }
   ],
   "source": [
    "folder_path = rst.copy_folder(folder_path)"
   ]
  },
  {
   "cell_type": "markdown",
   "metadata": {},
   "source": [
    "---\n",
    "#### 4. Now we can rename the files on the copied folder to end in '_position.h5'"
   ]
  },
  {
   "cell_type": "code",
   "execution_count": 12,
   "metadata": {},
   "outputs": [
    {
     "name": "stdout",
     "output_type": "stream",
     "text": [
      "Renamed: C:\\Users\\dhers\\Desktop\\RAINSTORM\\docs\\examples\\NOR_example_copy\\NOR_Hab_C1_ADLC_resnet50_shuffle2_200000.h5 to C:\\Users\\dhers\\Desktop\\RAINSTORM\\docs\\examples\\NOR_example_copy\\NOR_Hab_C1_A_position.h5\n",
      "Renamed: C:\\Users\\dhers\\Desktop\\RAINSTORM\\docs\\examples\\NOR_example_copy\\NOR_Hab_C1_BDLC_resnet50_shuffle2_200000.h5 to C:\\Users\\dhers\\Desktop\\RAINSTORM\\docs\\examples\\NOR_example_copy\\NOR_Hab_C1_B_position.h5\n",
      "Renamed: C:\\Users\\dhers\\Desktop\\RAINSTORM\\docs\\examples\\NOR_example_copy\\NOR_Hab_C1_CDLC_resnet50_shuffle2_200000.h5 to C:\\Users\\dhers\\Desktop\\RAINSTORM\\docs\\examples\\NOR_example_copy\\NOR_Hab_C1_C_position.h5\n",
      "Renamed: C:\\Users\\dhers\\Desktop\\RAINSTORM\\docs\\examples\\NOR_example_copy\\NOR_Hab_C1_DDLC_resnet50_shuffle2_200000.h5 to C:\\Users\\dhers\\Desktop\\RAINSTORM\\docs\\examples\\NOR_example_copy\\NOR_Hab_C1_D_position.h5\n",
      "Renamed: C:\\Users\\dhers\\Desktop\\RAINSTORM\\docs\\examples\\NOR_example_copy\\NOR_Hab_C2_ADLC_resnet50_shuffle2_200000.h5 to C:\\Users\\dhers\\Desktop\\RAINSTORM\\docs\\examples\\NOR_example_copy\\NOR_Hab_C2_A_position.h5\n",
      "Renamed: C:\\Users\\dhers\\Desktop\\RAINSTORM\\docs\\examples\\NOR_example_copy\\NOR_Hab_C2_BDLC_resnet50_shuffle2_200000.h5 to C:\\Users\\dhers\\Desktop\\RAINSTORM\\docs\\examples\\NOR_example_copy\\NOR_Hab_C2_B_position.h5\n",
      "Renamed: C:\\Users\\dhers\\Desktop\\RAINSTORM\\docs\\examples\\NOR_example_copy\\NOR_Hab_C2_CDLC_resnet50_shuffle2_200000.h5 to C:\\Users\\dhers\\Desktop\\RAINSTORM\\docs\\examples\\NOR_example_copy\\NOR_Hab_C2_C_position.h5\n",
      "Renamed: C:\\Users\\dhers\\Desktop\\RAINSTORM\\docs\\examples\\NOR_example_copy\\NOR_Hab_C2_DDLC_resnet50_shuffle2_200000.h5 to C:\\Users\\dhers\\Desktop\\RAINSTORM\\docs\\examples\\NOR_example_copy\\NOR_Hab_C2_D_position.h5\n",
      "Renamed: C:\\Users\\dhers\\Desktop\\RAINSTORM\\docs\\examples\\NOR_example_copy\\NOR_Hab_C3_ADLC_resnet50_shuffle2_200000.h5 to C:\\Users\\dhers\\Desktop\\RAINSTORM\\docs\\examples\\NOR_example_copy\\NOR_Hab_C3_A_position.h5\n",
      "Renamed: C:\\Users\\dhers\\Desktop\\RAINSTORM\\docs\\examples\\NOR_example_copy\\NOR_Hab_C3_BDLC_resnet50_shuffle2_200000.h5 to C:\\Users\\dhers\\Desktop\\RAINSTORM\\docs\\examples\\NOR_example_copy\\NOR_Hab_C3_B_position.h5\n",
      "Renamed: C:\\Users\\dhers\\Desktop\\RAINSTORM\\docs\\examples\\NOR_example_copy\\NOR_Hab_C3_CDLC_resnet50_shuffle2_200000.h5 to C:\\Users\\dhers\\Desktop\\RAINSTORM\\docs\\examples\\NOR_example_copy\\NOR_Hab_C3_C_position.h5\n",
      "Renamed: C:\\Users\\dhers\\Desktop\\RAINSTORM\\docs\\examples\\NOR_example_copy\\NOR_Hab_C3_DDLC_resnet50_shuffle2_200000.h5 to C:\\Users\\dhers\\Desktop\\RAINSTORM\\docs\\examples\\NOR_example_copy\\NOR_Hab_C3_D_position.h5\n",
      "Renamed: C:\\Users\\dhers\\Desktop\\RAINSTORM\\docs\\examples\\NOR_example_copy\\NOR_Hab_C4_ADLC_resnet50_shuffle2_200000.h5 to C:\\Users\\dhers\\Desktop\\RAINSTORM\\docs\\examples\\NOR_example_copy\\NOR_Hab_C4_A_position.h5\n",
      "Renamed: C:\\Users\\dhers\\Desktop\\RAINSTORM\\docs\\examples\\NOR_example_copy\\NOR_Hab_C4_BDLC_resnet50_shuffle2_200000.h5 to C:\\Users\\dhers\\Desktop\\RAINSTORM\\docs\\examples\\NOR_example_copy\\NOR_Hab_C4_B_position.h5\n",
      "Renamed: C:\\Users\\dhers\\Desktop\\RAINSTORM\\docs\\examples\\NOR_example_copy\\NOR_Hab_C4_CDLC_resnet50_shuffle2_200000.h5 to C:\\Users\\dhers\\Desktop\\RAINSTORM\\docs\\examples\\NOR_example_copy\\NOR_Hab_C4_C_position.h5\n",
      "Renamed: C:\\Users\\dhers\\Desktop\\RAINSTORM\\docs\\examples\\NOR_example_copy\\NOR_Hab_C4_DDLC_resnet50_shuffle2_200000.h5 to C:\\Users\\dhers\\Desktop\\RAINSTORM\\docs\\examples\\NOR_example_copy\\NOR_Hab_C4_D_position.h5\n",
      "Renamed: C:\\Users\\dhers\\Desktop\\RAINSTORM\\docs\\examples\\NOR_example_copy\\NOR_Hab_C5_ADLC_resnet50_shuffle2_200000.h5 to C:\\Users\\dhers\\Desktop\\RAINSTORM\\docs\\examples\\NOR_example_copy\\NOR_Hab_C5_A_position.h5\n",
      "Renamed: C:\\Users\\dhers\\Desktop\\RAINSTORM\\docs\\examples\\NOR_example_copy\\NOR_Hab_C5_BDLC_resnet50_shuffle2_200000.h5 to C:\\Users\\dhers\\Desktop\\RAINSTORM\\docs\\examples\\NOR_example_copy\\NOR_Hab_C5_B_position.h5\n",
      "Renamed: C:\\Users\\dhers\\Desktop\\RAINSTORM\\docs\\examples\\NOR_example_copy\\NOR_Hab_C5_CDLC_resnet50_shuffle2_200000.h5 to C:\\Users\\dhers\\Desktop\\RAINSTORM\\docs\\examples\\NOR_example_copy\\NOR_Hab_C5_C_position.h5\n",
      "Renamed: C:\\Users\\dhers\\Desktop\\RAINSTORM\\docs\\examples\\NOR_example_copy\\NOR_Hab_C5_DDLC_resnet50_shuffle2_200000.h5 to C:\\Users\\dhers\\Desktop\\RAINSTORM\\docs\\examples\\NOR_example_copy\\NOR_Hab_C5_D_position.h5\n",
      "Renamed: C:\\Users\\dhers\\Desktop\\RAINSTORM\\docs\\examples\\NOR_example_copy\\NOR_TR2_C1_ADLC_resnet50_shuffle2_200000.h5 to C:\\Users\\dhers\\Desktop\\RAINSTORM\\docs\\examples\\NOR_example_copy\\NOR_TR2_C1_A_position.h5\n",
      "Renamed: C:\\Users\\dhers\\Desktop\\RAINSTORM\\docs\\examples\\NOR_example_copy\\NOR_TR2_C1_BDLC_resnet50_shuffle2_200000.h5 to C:\\Users\\dhers\\Desktop\\RAINSTORM\\docs\\examples\\NOR_example_copy\\NOR_TR2_C1_B_position.h5\n",
      "Renamed: C:\\Users\\dhers\\Desktop\\RAINSTORM\\docs\\examples\\NOR_example_copy\\NOR_TR2_C1_CDLC_resnet50_shuffle2_200000.h5 to C:\\Users\\dhers\\Desktop\\RAINSTORM\\docs\\examples\\NOR_example_copy\\NOR_TR2_C1_C_position.h5\n",
      "Renamed: C:\\Users\\dhers\\Desktop\\RAINSTORM\\docs\\examples\\NOR_example_copy\\NOR_TR2_C1_DDLC_resnet50_shuffle2_200000.h5 to C:\\Users\\dhers\\Desktop\\RAINSTORM\\docs\\examples\\NOR_example_copy\\NOR_TR2_C1_D_position.h5\n",
      "Renamed: C:\\Users\\dhers\\Desktop\\RAINSTORM\\docs\\examples\\NOR_example_copy\\NOR_TR2_C2_ADLC_resnet50_shuffle2_200000.h5 to C:\\Users\\dhers\\Desktop\\RAINSTORM\\docs\\examples\\NOR_example_copy\\NOR_TR2_C2_A_position.h5\n",
      "Renamed: C:\\Users\\dhers\\Desktop\\RAINSTORM\\docs\\examples\\NOR_example_copy\\NOR_TR2_C2_BDLC_resnet50_shuffle2_200000.h5 to C:\\Users\\dhers\\Desktop\\RAINSTORM\\docs\\examples\\NOR_example_copy\\NOR_TR2_C2_B_position.h5\n",
      "Renamed: C:\\Users\\dhers\\Desktop\\RAINSTORM\\docs\\examples\\NOR_example_copy\\NOR_TR2_C2_CDLC_resnet50_shuffle2_200000.h5 to C:\\Users\\dhers\\Desktop\\RAINSTORM\\docs\\examples\\NOR_example_copy\\NOR_TR2_C2_C_position.h5\n",
      "Renamed: C:\\Users\\dhers\\Desktop\\RAINSTORM\\docs\\examples\\NOR_example_copy\\NOR_TR2_C2_DDLC_resnet50_shuffle2_200000.h5 to C:\\Users\\dhers\\Desktop\\RAINSTORM\\docs\\examples\\NOR_example_copy\\NOR_TR2_C2_D_position.h5\n",
      "Renamed: C:\\Users\\dhers\\Desktop\\RAINSTORM\\docs\\examples\\NOR_example_copy\\NOR_TR2_C3_ADLC_resnet50_shuffle2_200000.h5 to C:\\Users\\dhers\\Desktop\\RAINSTORM\\docs\\examples\\NOR_example_copy\\NOR_TR2_C3_A_position.h5\n",
      "Renamed: C:\\Users\\dhers\\Desktop\\RAINSTORM\\docs\\examples\\NOR_example_copy\\NOR_TR2_C3_BDLC_resnet50_shuffle2_200000.h5 to C:\\Users\\dhers\\Desktop\\RAINSTORM\\docs\\examples\\NOR_example_copy\\NOR_TR2_C3_B_position.h5\n",
      "Renamed: C:\\Users\\dhers\\Desktop\\RAINSTORM\\docs\\examples\\NOR_example_copy\\NOR_TR2_C3_CDLC_resnet50_shuffle2_200000.h5 to C:\\Users\\dhers\\Desktop\\RAINSTORM\\docs\\examples\\NOR_example_copy\\NOR_TR2_C3_C_position.h5\n",
      "Renamed: C:\\Users\\dhers\\Desktop\\RAINSTORM\\docs\\examples\\NOR_example_copy\\NOR_TR2_C3_DDLC_resnet50_shuffle2_200000.h5 to C:\\Users\\dhers\\Desktop\\RAINSTORM\\docs\\examples\\NOR_example_copy\\NOR_TR2_C3_D_position.h5\n",
      "Renamed: C:\\Users\\dhers\\Desktop\\RAINSTORM\\docs\\examples\\NOR_example_copy\\NOR_TR2_C4_ADLC_resnet50_shuffle2_200000.h5 to C:\\Users\\dhers\\Desktop\\RAINSTORM\\docs\\examples\\NOR_example_copy\\NOR_TR2_C4_A_position.h5\n",
      "Renamed: C:\\Users\\dhers\\Desktop\\RAINSTORM\\docs\\examples\\NOR_example_copy\\NOR_TR2_C4_BDLC_resnet50_shuffle2_200000.h5 to C:\\Users\\dhers\\Desktop\\RAINSTORM\\docs\\examples\\NOR_example_copy\\NOR_TR2_C4_B_position.h5\n",
      "Renamed: C:\\Users\\dhers\\Desktop\\RAINSTORM\\docs\\examples\\NOR_example_copy\\NOR_TR2_C4_CDLC_resnet50_shuffle2_200000.h5 to C:\\Users\\dhers\\Desktop\\RAINSTORM\\docs\\examples\\NOR_example_copy\\NOR_TR2_C4_C_position.h5\n",
      "Renamed: C:\\Users\\dhers\\Desktop\\RAINSTORM\\docs\\examples\\NOR_example_copy\\NOR_TR2_C4_DDLC_resnet50_shuffle2_200000.h5 to C:\\Users\\dhers\\Desktop\\RAINSTORM\\docs\\examples\\NOR_example_copy\\NOR_TR2_C4_D_position.h5\n",
      "Renamed: C:\\Users\\dhers\\Desktop\\RAINSTORM\\docs\\examples\\NOR_example_copy\\NOR_TR2_C5_ADLC_resnet50_shuffle2_200000.h5 to C:\\Users\\dhers\\Desktop\\RAINSTORM\\docs\\examples\\NOR_example_copy\\NOR_TR2_C5_A_position.h5\n",
      "Renamed: C:\\Users\\dhers\\Desktop\\RAINSTORM\\docs\\examples\\NOR_example_copy\\NOR_TR2_C5_BDLC_resnet50_shuffle2_200000.h5 to C:\\Users\\dhers\\Desktop\\RAINSTORM\\docs\\examples\\NOR_example_copy\\NOR_TR2_C5_B_position.h5\n",
      "Renamed: C:\\Users\\dhers\\Desktop\\RAINSTORM\\docs\\examples\\NOR_example_copy\\NOR_TR2_C5_CDLC_resnet50_shuffle2_200000.h5 to C:\\Users\\dhers\\Desktop\\RAINSTORM\\docs\\examples\\NOR_example_copy\\NOR_TR2_C5_C_position.h5\n",
      "Renamed: C:\\Users\\dhers\\Desktop\\RAINSTORM\\docs\\examples\\NOR_example_copy\\NOR_TR2_C5_DDLC_resnet50_shuffle2_200000.h5 to C:\\Users\\dhers\\Desktop\\RAINSTORM\\docs\\examples\\NOR_example_copy\\NOR_TR2_C5_D_position.h5\n",
      "Renamed: C:\\Users\\dhers\\Desktop\\RAINSTORM\\docs\\examples\\NOR_example_copy\\NOR_TS_C1_ADLC_resnet50_shuffle2_200000.h5 to C:\\Users\\dhers\\Desktop\\RAINSTORM\\docs\\examples\\NOR_example_copy\\NOR_TS_C1_A_position.h5\n",
      "Renamed: C:\\Users\\dhers\\Desktop\\RAINSTORM\\docs\\examples\\NOR_example_copy\\NOR_TS_C1_BDLC_resnet50_shuffle2_200000.h5 to C:\\Users\\dhers\\Desktop\\RAINSTORM\\docs\\examples\\NOR_example_copy\\NOR_TS_C1_B_position.h5\n",
      "Renamed: C:\\Users\\dhers\\Desktop\\RAINSTORM\\docs\\examples\\NOR_example_copy\\NOR_TS_C1_CDLC_resnet50_shuffle2_200000.h5 to C:\\Users\\dhers\\Desktop\\RAINSTORM\\docs\\examples\\NOR_example_copy\\NOR_TS_C1_C_position.h5\n",
      "Renamed: C:\\Users\\dhers\\Desktop\\RAINSTORM\\docs\\examples\\NOR_example_copy\\NOR_TS_C1_DDLC_resnet50_shuffle2_200000.h5 to C:\\Users\\dhers\\Desktop\\RAINSTORM\\docs\\examples\\NOR_example_copy\\NOR_TS_C1_D_position.h5\n",
      "Renamed: C:\\Users\\dhers\\Desktop\\RAINSTORM\\docs\\examples\\NOR_example_copy\\NOR_TS_C2_ADLC_resnet50_shuffle2_200000.h5 to C:\\Users\\dhers\\Desktop\\RAINSTORM\\docs\\examples\\NOR_example_copy\\NOR_TS_C2_A_position.h5\n",
      "Renamed: C:\\Users\\dhers\\Desktop\\RAINSTORM\\docs\\examples\\NOR_example_copy\\NOR_TS_C2_BDLC_resnet50_shuffle2_200000.h5 to C:\\Users\\dhers\\Desktop\\RAINSTORM\\docs\\examples\\NOR_example_copy\\NOR_TS_C2_B_position.h5\n",
      "Renamed: C:\\Users\\dhers\\Desktop\\RAINSTORM\\docs\\examples\\NOR_example_copy\\NOR_TS_C2_CDLC_resnet50_shuffle2_200000.h5 to C:\\Users\\dhers\\Desktop\\RAINSTORM\\docs\\examples\\NOR_example_copy\\NOR_TS_C2_C_position.h5\n",
      "Renamed: C:\\Users\\dhers\\Desktop\\RAINSTORM\\docs\\examples\\NOR_example_copy\\NOR_TS_C2_DDLC_resnet50_shuffle2_200000.h5 to C:\\Users\\dhers\\Desktop\\RAINSTORM\\docs\\examples\\NOR_example_copy\\NOR_TS_C2_D_position.h5\n",
      "Renamed: C:\\Users\\dhers\\Desktop\\RAINSTORM\\docs\\examples\\NOR_example_copy\\NOR_TS_C3_ADLC_resnet50_shuffle2_200000.h5 to C:\\Users\\dhers\\Desktop\\RAINSTORM\\docs\\examples\\NOR_example_copy\\NOR_TS_C3_A_position.h5\n",
      "Renamed: C:\\Users\\dhers\\Desktop\\RAINSTORM\\docs\\examples\\NOR_example_copy\\NOR_TS_C3_BDLC_resnet50_shuffle2_200000.h5 to C:\\Users\\dhers\\Desktop\\RAINSTORM\\docs\\examples\\NOR_example_copy\\NOR_TS_C3_B_position.h5\n",
      "Renamed: C:\\Users\\dhers\\Desktop\\RAINSTORM\\docs\\examples\\NOR_example_copy\\NOR_TS_C3_CDLC_resnet50_shuffle2_200000.h5 to C:\\Users\\dhers\\Desktop\\RAINSTORM\\docs\\examples\\NOR_example_copy\\NOR_TS_C3_C_position.h5\n",
      "Renamed: C:\\Users\\dhers\\Desktop\\RAINSTORM\\docs\\examples\\NOR_example_copy\\NOR_TS_C3_DDLC_resnet50_shuffle2_200000.h5 to C:\\Users\\dhers\\Desktop\\RAINSTORM\\docs\\examples\\NOR_example_copy\\NOR_TS_C3_D_position.h5\n",
      "Renamed: C:\\Users\\dhers\\Desktop\\RAINSTORM\\docs\\examples\\NOR_example_copy\\NOR_TS_C4_ADLC_resnet50_shuffle2_200000.h5 to C:\\Users\\dhers\\Desktop\\RAINSTORM\\docs\\examples\\NOR_example_copy\\NOR_TS_C4_A_position.h5\n",
      "Renamed: C:\\Users\\dhers\\Desktop\\RAINSTORM\\docs\\examples\\NOR_example_copy\\NOR_TS_C4_BDLC_resnet50_shuffle2_200000.h5 to C:\\Users\\dhers\\Desktop\\RAINSTORM\\docs\\examples\\NOR_example_copy\\NOR_TS_C4_B_position.h5\n",
      "Renamed: C:\\Users\\dhers\\Desktop\\RAINSTORM\\docs\\examples\\NOR_example_copy\\NOR_TS_C4_CDLC_resnet50_shuffle2_200000.h5 to C:\\Users\\dhers\\Desktop\\RAINSTORM\\docs\\examples\\NOR_example_copy\\NOR_TS_C4_C_position.h5\n",
      "Renamed: C:\\Users\\dhers\\Desktop\\RAINSTORM\\docs\\examples\\NOR_example_copy\\NOR_TS_C4_DDLC_resnet50_shuffle2_200000.h5 to C:\\Users\\dhers\\Desktop\\RAINSTORM\\docs\\examples\\NOR_example_copy\\NOR_TS_C4_D_position.h5\n",
      "Renamed: C:\\Users\\dhers\\Desktop\\RAINSTORM\\docs\\examples\\NOR_example_copy\\NOR_TS_C5_ADLC_resnet50_shuffle2_200000.h5 to C:\\Users\\dhers\\Desktop\\RAINSTORM\\docs\\examples\\NOR_example_copy\\NOR_TS_C5_A_position.h5\n",
      "Renamed: C:\\Users\\dhers\\Desktop\\RAINSTORM\\docs\\examples\\NOR_example_copy\\NOR_TS_C5_BDLC_resnet50_shuffle2_200000.h5 to C:\\Users\\dhers\\Desktop\\RAINSTORM\\docs\\examples\\NOR_example_copy\\NOR_TS_C5_B_position.h5\n",
      "Renamed: C:\\Users\\dhers\\Desktop\\RAINSTORM\\docs\\examples\\NOR_example_copy\\NOR_TS_C5_CDLC_resnet50_shuffle2_200000.h5 to C:\\Users\\dhers\\Desktop\\RAINSTORM\\docs\\examples\\NOR_example_copy\\NOR_TS_C5_C_position.h5\n",
      "Renamed: C:\\Users\\dhers\\Desktop\\RAINSTORM\\docs\\examples\\NOR_example_copy\\NOR_TS_C5_DDLC_resnet50_shuffle2_200000.h5 to C:\\Users\\dhers\\Desktop\\RAINSTORM\\docs\\examples\\NOR_example_copy\\NOR_TS_C5_D_position.h5\n"
     ]
    }
   ],
   "source": [
    "# Change the file name as needed\n",
    "before = 'DLC_resnet50_shuffle2_200000.h5'\n",
    "after = '_position.h5'\n",
    "\n",
    "rst.rename_files(folder_path, before, after)"
   ]
  }
 ],
 "metadata": {
  "kernelspec": {
   "display_name": "storm",
   "language": "python",
   "name": "python3"
  },
  "language_info": {
   "codemirror_mode": {
    "name": "ipython",
    "version": 3
   },
   "file_extension": ".py",
   "mimetype": "text/x-python",
   "name": "python",
   "nbconvert_exporter": "python",
   "pygments_lexer": "ipython3",
   "version": "3.10.15"
  }
 },
 "nbformat": 4,
 "nbformat_minor": 2
}
