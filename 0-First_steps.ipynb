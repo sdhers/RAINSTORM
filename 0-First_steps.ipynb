{
  "cells": [
    {
      "cell_type": "markdown",
      "metadata": {
        "id": "zI56iQdq132a"
      },
      "source": [
        "RAINSTORM - @author: Santiago D'hers\n",
        "\n",
        "[![Open in Colab](https://colab.research.google.com/assets/colab-badge.svg)](https://colab.research.google.com/github/sdhers/rainstorm/blob/main/0-First_steps.ipynb)\n",
        "\n",
        "## First steps\n",
        "\n",
        "Welcome!\n",
        "\n",
        "- This is the first notebook of the RAINSTORM project. Here you'll find the initial steps to prepare the data for analysis.\n",
        "- We will be working on an example folder with pose estimation files from mice on a Novel Object Recognition (NOR) task.\n",
        "\n",
        "The pose estimation data obtained with DeepLabCut is stored in H5 files, those will be our starting point.\n",
        "\n",
        "For better analysis, we should start by editing the names of the H5 files. We are looking for the following:\n",
        "- **position files must end with the word '_position'**\n",
        "    - Since we use the data from DeepLabCut, the filenames end with something like 'DLC_{Network_used + name + date + snapshot}.h5'. We can change that here.\n",
        "- If the files belong to different trials of an experiment, they should contain the name of the trial in the filename.\n",
        "\n",
        "We can find an easy way to rename files below."
      ]
    },
    {
      "cell_type": "markdown",
      "metadata": {
        "id": "9HZvTiMc132c"
      },
      "source": [
        "---\n",
        "#### 1. Load the necessary modules"
      ]
    },
    {
      "cell_type": "code",
      "source": [
        "!git clone https://github.com/sdhers/RAINSTORM.git\n",
        "%cd RAINSTORM\n",
        "!ls"
      ],
      "metadata": {
        "id": "_vAkDAyH2GoY",
        "outputId": "501cdc33-3485-4b93-df9c-88493a175403",
        "colab": {
          "base_uri": "https://localhost:8080/"
        }
      },
      "execution_count": 5,
      "outputs": [
        {
          "output_type": "stream",
          "name": "stdout",
          "text": [
            "Cloning into 'RAINSTORM'...\n",
            "remote: Enumerating objects: 1884, done.\u001b[K\n",
            "remote: Counting objects: 100% (586/586), done.\u001b[K\n",
            "remote: Compressing objects: 100% (422/422), done.\u001b[K\n",
            "remote: Total 1884 (delta 159), reused 581 (delta 155), pack-reused 1298 (from 1)\u001b[K\n",
            "Receiving objects: 100% (1884/1884), 729.09 MiB | 21.48 MiB/s, done.\n",
            "Resolving deltas: 100% (907/907), done.\n",
            "Updating files: 100% (411/411), done.\n",
            "/content/RAINSTORM\n",
            "0-First_steps.ipynb\t    4-Evaluate_models.ipynb\tdocs\t\t    README.md\n",
            "1-Prepare_positions.ipynb   5-Automatic_analysis.ipynb\tLICENSE\t\t    setup.py\n",
            "2-Geometric_analysis.ipynb  6-Compare_labels.ipynb\trainstorm\n",
            "3-Create_models.ipynb\t    7-Seize_labels.ipynb\trainstorm_venv.yml\n"
          ]
        }
      ]
    },
    {
      "cell_type": "code",
      "source": [
        "%pip install rainstorm"
      ],
      "metadata": {
        "id": "dBqbrvrG3WrJ",
        "outputId": "a148890e-baa8-4c54-90a7-a5ac3ba579a1",
        "colab": {
          "base_uri": "https://localhost:8080/",
          "height": 1000
        }
      },
      "execution_count": 11,
      "outputs": [
        {
          "output_type": "stream",
          "name": "stdout",
          "text": [
            "Collecting rainstorm\n",
            "  Downloading rainstorm-0.0.4-py3-none-any.whl.metadata (6.0 kB)\n",
            "Collecting ipykernel>=6.29.5 (from rainstorm)\n",
            "  Downloading ipykernel-6.29.5-py3-none-any.whl.metadata (6.3 kB)\n",
            "Requirement already satisfied: opencv-python>=4.10 in /usr/local/lib/python3.10/dist-packages (from rainstorm) (4.10.0.84)\n",
            "Collecting keyboard>=0.13.5 (from rainstorm)\n",
            "  Downloading keyboard-0.13.5-py3-none-any.whl.metadata (4.0 kB)\n",
            "Requirement already satisfied: plotly>=5.24.1 in /usr/local/lib/python3.10/dist-packages (from rainstorm) (5.24.1)\n",
            "Collecting matplotlib>=3.9.3 (from rainstorm)\n",
            "  Downloading matplotlib-3.9.3-cp310-cp310-manylinux_2_17_x86_64.manylinux2014_x86_64.whl.metadata (11 kB)\n",
            "Requirement already satisfied: scipy>=1.13.1 in /usr/local/lib/python3.10/dist-packages (from rainstorm) (1.13.1)\n",
            "Requirement already satisfied: tables>=3.9.2 in /usr/local/lib/python3.10/dist-packages (from rainstorm) (3.10.1)\n",
            "Requirement already satisfied: numpy>=1.25.2 in /usr/local/lib/python3.10/dist-packages (from rainstorm) (1.26.4)\n",
            "Requirement already satisfied: pandas>=2.0.3 in /usr/local/lib/python3.10/dist-packages (from rainstorm) (2.2.2)\n",
            "Requirement already satisfied: nbformat>=5.10.4 in /usr/local/lib/python3.10/dist-packages (from rainstorm) (5.10.4)\n",
            "Requirement already satisfied: h5py>=3.12.1 in /usr/local/lib/python3.10/dist-packages (from rainstorm) (3.12.1)\n",
            "Collecting tensorflow<2.11,>=2.10 (from rainstorm)\n",
            "  Downloading tensorflow-2.10.1-cp310-cp310-manylinux_2_17_x86_64.manylinux2014_x86_64.whl.metadata (3.1 kB)\n",
            "Requirement already satisfied: scikit-learn<2.0,>=1.5.2 in /usr/local/lib/python3.10/dist-packages (from rainstorm) (1.5.2)\n",
            "Requirement already satisfied: seaborn>=0.13.2 in /usr/local/lib/python3.10/dist-packages (from rainstorm) (0.13.2)\n",
            "Collecting comm>=0.1.1 (from ipykernel>=6.29.5->rainstorm)\n",
            "  Downloading comm-0.2.2-py3-none-any.whl.metadata (3.7 kB)\n",
            "Requirement already satisfied: debugpy>=1.6.5 in /usr/local/lib/python3.10/dist-packages (from ipykernel>=6.29.5->rainstorm) (1.8.0)\n",
            "Requirement already satisfied: ipython>=7.23.1 in /usr/local/lib/python3.10/dist-packages (from ipykernel>=6.29.5->rainstorm) (7.34.0)\n",
            "Requirement already satisfied: jupyter-client>=6.1.12 in /usr/local/lib/python3.10/dist-packages (from ipykernel>=6.29.5->rainstorm) (6.1.12)\n",
            "Requirement already satisfied: jupyter-core!=5.0.*,>=4.12 in /usr/local/lib/python3.10/dist-packages (from ipykernel>=6.29.5->rainstorm) (5.7.2)\n",
            "Requirement already satisfied: matplotlib-inline>=0.1 in /usr/local/lib/python3.10/dist-packages (from ipykernel>=6.29.5->rainstorm) (0.1.7)\n",
            "Requirement already satisfied: nest-asyncio in /usr/local/lib/python3.10/dist-packages (from ipykernel>=6.29.5->rainstorm) (1.6.0)\n",
            "Requirement already satisfied: packaging in /usr/local/lib/python3.10/dist-packages (from ipykernel>=6.29.5->rainstorm) (24.2)\n",
            "Requirement already satisfied: psutil in /usr/local/lib/python3.10/dist-packages (from ipykernel>=6.29.5->rainstorm) (5.9.5)\n",
            "Requirement already satisfied: pyzmq>=24 in /usr/local/lib/python3.10/dist-packages (from ipykernel>=6.29.5->rainstorm) (24.0.1)\n",
            "Requirement already satisfied: tornado>=6.1 in /usr/local/lib/python3.10/dist-packages (from ipykernel>=6.29.5->rainstorm) (6.3.3)\n",
            "Requirement already satisfied: traitlets>=5.4.0 in /usr/local/lib/python3.10/dist-packages (from ipykernel>=6.29.5->rainstorm) (5.7.1)\n",
            "Requirement already satisfied: contourpy>=1.0.1 in /usr/local/lib/python3.10/dist-packages (from matplotlib>=3.9.3->rainstorm) (1.3.1)\n",
            "Requirement already satisfied: cycler>=0.10 in /usr/local/lib/python3.10/dist-packages (from matplotlib>=3.9.3->rainstorm) (0.12.1)\n",
            "Requirement already satisfied: fonttools>=4.22.0 in /usr/local/lib/python3.10/dist-packages (from matplotlib>=3.9.3->rainstorm) (4.55.1)\n",
            "Requirement already satisfied: kiwisolver>=1.3.1 in /usr/local/lib/python3.10/dist-packages (from matplotlib>=3.9.3->rainstorm) (1.4.7)\n",
            "Requirement already satisfied: pillow>=8 in /usr/local/lib/python3.10/dist-packages (from matplotlib>=3.9.3->rainstorm) (11.0.0)\n",
            "Requirement already satisfied: pyparsing>=2.3.1 in /usr/local/lib/python3.10/dist-packages (from matplotlib>=3.9.3->rainstorm) (3.2.0)\n",
            "Requirement already satisfied: python-dateutil>=2.7 in /usr/local/lib/python3.10/dist-packages (from matplotlib>=3.9.3->rainstorm) (2.8.2)\n",
            "Requirement already satisfied: fastjsonschema>=2.15 in /usr/local/lib/python3.10/dist-packages (from nbformat>=5.10.4->rainstorm) (2.21.1)\n",
            "Requirement already satisfied: jsonschema>=2.6 in /usr/local/lib/python3.10/dist-packages (from nbformat>=5.10.4->rainstorm) (4.23.0)\n",
            "Requirement already satisfied: pytz>=2020.1 in /usr/local/lib/python3.10/dist-packages (from pandas>=2.0.3->rainstorm) (2024.2)\n",
            "Requirement already satisfied: tzdata>=2022.7 in /usr/local/lib/python3.10/dist-packages (from pandas>=2.0.3->rainstorm) (2024.2)\n",
            "Requirement already satisfied: tenacity>=6.2.0 in /usr/local/lib/python3.10/dist-packages (from plotly>=5.24.1->rainstorm) (9.0.0)\n",
            "Requirement already satisfied: joblib>=1.2.0 in /usr/local/lib/python3.10/dist-packages (from scikit-learn<2.0,>=1.5.2->rainstorm) (1.4.2)\n",
            "Requirement already satisfied: threadpoolctl>=3.1.0 in /usr/local/lib/python3.10/dist-packages (from scikit-learn<2.0,>=1.5.2->rainstorm) (3.5.0)\n",
            "Requirement already satisfied: numexpr>=2.6.2 in /usr/local/lib/python3.10/dist-packages (from tables>=3.9.2->rainstorm) (2.10.2)\n",
            "Requirement already satisfied: py-cpuinfo in /usr/local/lib/python3.10/dist-packages (from tables>=3.9.2->rainstorm) (9.0.0)\n",
            "Requirement already satisfied: blosc2>=2.3.0 in /usr/local/lib/python3.10/dist-packages (from tables>=3.9.2->rainstorm) (2.7.1)\n",
            "Requirement already satisfied: typing-extensions>=4.4.0 in /usr/local/lib/python3.10/dist-packages (from tables>=3.9.2->rainstorm) (4.12.2)\n",
            "Requirement already satisfied: absl-py>=1.0.0 in /usr/local/lib/python3.10/dist-packages (from tensorflow<2.11,>=2.10->rainstorm) (1.4.0)\n",
            "Requirement already satisfied: astunparse>=1.6.0 in /usr/local/lib/python3.10/dist-packages (from tensorflow<2.11,>=2.10->rainstorm) (1.6.3)\n",
            "Requirement already satisfied: flatbuffers>=2.0 in /usr/local/lib/python3.10/dist-packages (from tensorflow<2.11,>=2.10->rainstorm) (24.3.25)\n",
            "Collecting gast<=0.4.0,>=0.2.1 (from tensorflow<2.11,>=2.10->rainstorm)\n",
            "  Downloading gast-0.4.0-py3-none-any.whl.metadata (1.1 kB)\n",
            "Requirement already satisfied: google-pasta>=0.1.1 in /usr/local/lib/python3.10/dist-packages (from tensorflow<2.11,>=2.10->rainstorm) (0.2.0)\n",
            "Requirement already satisfied: grpcio<2.0,>=1.24.3 in /usr/local/lib/python3.10/dist-packages (from tensorflow<2.11,>=2.10->rainstorm) (1.68.1)\n",
            "Collecting keras<2.11,>=2.10.0 (from tensorflow<2.11,>=2.10->rainstorm)\n",
            "  Downloading keras-2.10.0-py2.py3-none-any.whl.metadata (1.3 kB)\n",
            "Collecting keras-preprocessing>=1.1.1 (from tensorflow<2.11,>=2.10->rainstorm)\n",
            "  Downloading Keras_Preprocessing-1.1.2-py2.py3-none-any.whl.metadata (1.9 kB)\n",
            "Requirement already satisfied: libclang>=13.0.0 in /usr/local/lib/python3.10/dist-packages (from tensorflow<2.11,>=2.10->rainstorm) (18.1.1)\n",
            "Requirement already satisfied: opt-einsum>=2.3.2 in /usr/local/lib/python3.10/dist-packages (from tensorflow<2.11,>=2.10->rainstorm) (3.4.0)\n",
            "Collecting protobuf<3.20,>=3.9.2 (from tensorflow<2.11,>=2.10->rainstorm)\n",
            "  Downloading protobuf-3.19.6-cp310-cp310-manylinux_2_17_x86_64.manylinux2014_x86_64.whl.metadata (787 bytes)\n",
            "Requirement already satisfied: setuptools in /usr/local/lib/python3.10/dist-packages (from tensorflow<2.11,>=2.10->rainstorm) (75.1.0)\n",
            "Requirement already satisfied: six>=1.12.0 in /usr/local/lib/python3.10/dist-packages (from tensorflow<2.11,>=2.10->rainstorm) (1.16.0)\n",
            "Collecting tensorboard<2.11,>=2.10 (from tensorflow<2.11,>=2.10->rainstorm)\n",
            "  Downloading tensorboard-2.10.1-py3-none-any.whl.metadata (1.9 kB)\n",
            "Requirement already satisfied: tensorflow-io-gcs-filesystem>=0.23.1 in /usr/local/lib/python3.10/dist-packages (from tensorflow<2.11,>=2.10->rainstorm) (0.37.1)\n",
            "Collecting tensorflow-estimator<2.11,>=2.10.0 (from tensorflow<2.11,>=2.10->rainstorm)\n",
            "  Downloading tensorflow_estimator-2.10.0-py2.py3-none-any.whl.metadata (1.3 kB)\n",
            "Requirement already satisfied: termcolor>=1.1.0 in /usr/local/lib/python3.10/dist-packages (from tensorflow<2.11,>=2.10->rainstorm) (2.5.0)\n",
            "Requirement already satisfied: wrapt>=1.11.0 in /usr/local/lib/python3.10/dist-packages (from tensorflow<2.11,>=2.10->rainstorm) (1.17.0)\n",
            "Requirement already satisfied: wheel<1.0,>=0.23.0 in /usr/local/lib/python3.10/dist-packages (from astunparse>=1.6.0->tensorflow<2.11,>=2.10->rainstorm) (0.45.1)\n",
            "Requirement already satisfied: ndindex>=1.4 in /usr/local/lib/python3.10/dist-packages (from blosc2>=2.3.0->tables>=3.9.2->rainstorm) (1.9.2)\n",
            "Requirement already satisfied: msgpack in /usr/local/lib/python3.10/dist-packages (from blosc2>=2.3.0->tables>=3.9.2->rainstorm) (1.1.0)\n",
            "Collecting jedi>=0.16 (from ipython>=7.23.1->ipykernel>=6.29.5->rainstorm)\n",
            "  Downloading jedi-0.19.2-py2.py3-none-any.whl.metadata (22 kB)\n",
            "Requirement already satisfied: decorator in /usr/local/lib/python3.10/dist-packages (from ipython>=7.23.1->ipykernel>=6.29.5->rainstorm) (4.4.2)\n",
            "Requirement already satisfied: pickleshare in /usr/local/lib/python3.10/dist-packages (from ipython>=7.23.1->ipykernel>=6.29.5->rainstorm) (0.7.5)\n",
            "Requirement already satisfied: prompt-toolkit!=3.0.0,!=3.0.1,<3.1.0,>=2.0.0 in /usr/local/lib/python3.10/dist-packages (from ipython>=7.23.1->ipykernel>=6.29.5->rainstorm) (3.0.48)\n",
            "Requirement already satisfied: pygments in /usr/local/lib/python3.10/dist-packages (from ipython>=7.23.1->ipykernel>=6.29.5->rainstorm) (2.18.0)\n",
            "Requirement already satisfied: backcall in /usr/local/lib/python3.10/dist-packages (from ipython>=7.23.1->ipykernel>=6.29.5->rainstorm) (0.2.0)\n",
            "Requirement already satisfied: pexpect>4.3 in /usr/local/lib/python3.10/dist-packages (from ipython>=7.23.1->ipykernel>=6.29.5->rainstorm) (4.9.0)\n",
            "Requirement already satisfied: attrs>=22.2.0 in /usr/local/lib/python3.10/dist-packages (from jsonschema>=2.6->nbformat>=5.10.4->rainstorm) (24.2.0)\n",
            "Requirement already satisfied: jsonschema-specifications>=2023.03.6 in /usr/local/lib/python3.10/dist-packages (from jsonschema>=2.6->nbformat>=5.10.4->rainstorm) (2024.10.1)\n",
            "Requirement already satisfied: referencing>=0.28.4 in /usr/local/lib/python3.10/dist-packages (from jsonschema>=2.6->nbformat>=5.10.4->rainstorm) (0.35.1)\n",
            "Requirement already satisfied: rpds-py>=0.7.1 in /usr/local/lib/python3.10/dist-packages (from jsonschema>=2.6->nbformat>=5.10.4->rainstorm) (0.22.3)\n",
            "Requirement already satisfied: platformdirs>=2.5 in /usr/local/lib/python3.10/dist-packages (from jupyter-core!=5.0.*,>=4.12->ipykernel>=6.29.5->rainstorm) (4.3.6)\n",
            "Requirement already satisfied: google-auth<3,>=1.6.3 in /usr/local/lib/python3.10/dist-packages (from tensorboard<2.11,>=2.10->tensorflow<2.11,>=2.10->rainstorm) (2.27.0)\n",
            "Collecting google-auth-oauthlib<0.5,>=0.4.1 (from tensorboard<2.11,>=2.10->tensorflow<2.11,>=2.10->rainstorm)\n",
            "  Downloading google_auth_oauthlib-0.4.6-py2.py3-none-any.whl.metadata (2.7 kB)\n",
            "Requirement already satisfied: markdown>=2.6.8 in /usr/local/lib/python3.10/dist-packages (from tensorboard<2.11,>=2.10->tensorflow<2.11,>=2.10->rainstorm) (3.7)\n",
            "Requirement already satisfied: requests<3,>=2.21.0 in /usr/local/lib/python3.10/dist-packages (from tensorboard<2.11,>=2.10->tensorflow<2.11,>=2.10->rainstorm) (2.32.3)\n",
            "Collecting tensorboard-data-server<0.7.0,>=0.6.0 (from tensorboard<2.11,>=2.10->tensorflow<2.11,>=2.10->rainstorm)\n",
            "  Downloading tensorboard_data_server-0.6.1-py3-none-manylinux2010_x86_64.whl.metadata (1.1 kB)\n",
            "Collecting tensorboard-plugin-wit>=1.6.0 (from tensorboard<2.11,>=2.10->tensorflow<2.11,>=2.10->rainstorm)\n",
            "  Downloading tensorboard_plugin_wit-1.8.1-py3-none-any.whl.metadata (873 bytes)\n",
            "Requirement already satisfied: werkzeug>=1.0.1 in /usr/local/lib/python3.10/dist-packages (from tensorboard<2.11,>=2.10->tensorflow<2.11,>=2.10->rainstorm) (3.1.3)\n",
            "Requirement already satisfied: cachetools<6.0,>=2.0.0 in /usr/local/lib/python3.10/dist-packages (from google-auth<3,>=1.6.3->tensorboard<2.11,>=2.10->tensorflow<2.11,>=2.10->rainstorm) (5.5.0)\n",
            "Requirement already satisfied: pyasn1-modules>=0.2.1 in /usr/local/lib/python3.10/dist-packages (from google-auth<3,>=1.6.3->tensorboard<2.11,>=2.10->tensorflow<2.11,>=2.10->rainstorm) (0.4.1)\n",
            "Requirement already satisfied: rsa<5,>=3.1.4 in /usr/local/lib/python3.10/dist-packages (from google-auth<3,>=1.6.3->tensorboard<2.11,>=2.10->tensorflow<2.11,>=2.10->rainstorm) (4.9)\n",
            "Requirement already satisfied: requests-oauthlib>=0.7.0 in /usr/local/lib/python3.10/dist-packages (from google-auth-oauthlib<0.5,>=0.4.1->tensorboard<2.11,>=2.10->tensorflow<2.11,>=2.10->rainstorm) (1.3.1)\n",
            "Requirement already satisfied: parso<0.9.0,>=0.8.4 in /usr/local/lib/python3.10/dist-packages (from jedi>=0.16->ipython>=7.23.1->ipykernel>=6.29.5->rainstorm) (0.8.4)\n",
            "Requirement already satisfied: ptyprocess>=0.5 in /usr/local/lib/python3.10/dist-packages (from pexpect>4.3->ipython>=7.23.1->ipykernel>=6.29.5->rainstorm) (0.7.0)\n",
            "Requirement already satisfied: wcwidth in /usr/local/lib/python3.10/dist-packages (from prompt-toolkit!=3.0.0,!=3.0.1,<3.1.0,>=2.0.0->ipython>=7.23.1->ipykernel>=6.29.5->rainstorm) (0.2.13)\n",
            "Requirement already satisfied: charset-normalizer<4,>=2 in /usr/local/lib/python3.10/dist-packages (from requests<3,>=2.21.0->tensorboard<2.11,>=2.10->tensorflow<2.11,>=2.10->rainstorm) (3.4.0)\n",
            "Requirement already satisfied: idna<4,>=2.5 in /usr/local/lib/python3.10/dist-packages (from requests<3,>=2.21.0->tensorboard<2.11,>=2.10->tensorflow<2.11,>=2.10->rainstorm) (3.10)\n",
            "Requirement already satisfied: urllib3<3,>=1.21.1 in /usr/local/lib/python3.10/dist-packages (from requests<3,>=2.21.0->tensorboard<2.11,>=2.10->tensorflow<2.11,>=2.10->rainstorm) (2.2.3)\n",
            "Requirement already satisfied: certifi>=2017.4.17 in /usr/local/lib/python3.10/dist-packages (from requests<3,>=2.21.0->tensorboard<2.11,>=2.10->tensorflow<2.11,>=2.10->rainstorm) (2024.8.30)\n",
            "Requirement already satisfied: MarkupSafe>=2.1.1 in /usr/local/lib/python3.10/dist-packages (from werkzeug>=1.0.1->tensorboard<2.11,>=2.10->tensorflow<2.11,>=2.10->rainstorm) (3.0.2)\n",
            "Requirement already satisfied: pyasn1<0.7.0,>=0.4.6 in /usr/local/lib/python3.10/dist-packages (from pyasn1-modules>=0.2.1->google-auth<3,>=1.6.3->tensorboard<2.11,>=2.10->tensorflow<2.11,>=2.10->rainstorm) (0.6.1)\n",
            "Requirement already satisfied: oauthlib>=3.0.0 in /usr/local/lib/python3.10/dist-packages (from requests-oauthlib>=0.7.0->google-auth-oauthlib<0.5,>=0.4.1->tensorboard<2.11,>=2.10->tensorflow<2.11,>=2.10->rainstorm) (3.2.2)\n",
            "Downloading rainstorm-0.0.4-py3-none-any.whl (28 kB)\n",
            "Downloading ipykernel-6.29.5-py3-none-any.whl (117 kB)\n",
            "\u001b[2K   \u001b[90m━━━━━━━━━━━━━━━━━━━━━━━━━━━━━━━━━━━━━━━━\u001b[0m \u001b[32m117.2/117.2 kB\u001b[0m \u001b[31m4.0 MB/s\u001b[0m eta \u001b[36m0:00:00\u001b[0m\n",
            "\u001b[?25hDownloading keyboard-0.13.5-py3-none-any.whl (58 kB)\n",
            "\u001b[2K   \u001b[90m━━━━━━━━━━━━━━━━━━━━━━━━━━━━━━━━━━━━━━━━\u001b[0m \u001b[32m58.1/58.1 kB\u001b[0m \u001b[31m4.2 MB/s\u001b[0m eta \u001b[36m0:00:00\u001b[0m\n",
            "\u001b[?25hDownloading matplotlib-3.9.3-cp310-cp310-manylinux_2_17_x86_64.manylinux2014_x86_64.whl (8.3 MB)\n",
            "\u001b[2K   \u001b[90m━━━━━━━━━━━━━━━━━━━━━━━━━━━━━━━━━━━━━━━━\u001b[0m \u001b[32m8.3/8.3 MB\u001b[0m \u001b[31m60.6 MB/s\u001b[0m eta \u001b[36m0:00:00\u001b[0m\n",
            "\u001b[?25hDownloading tensorflow-2.10.1-cp310-cp310-manylinux_2_17_x86_64.manylinux2014_x86_64.whl (578.1 MB)\n",
            "\u001b[2K   \u001b[90m━━━━━━━━━━━━━━━━━━━━━━━━━━━━━━━━━━━━━━━━\u001b[0m \u001b[32m578.1/578.1 MB\u001b[0m \u001b[31m3.5 MB/s\u001b[0m eta \u001b[36m0:00:00\u001b[0m\n",
            "\u001b[?25hDownloading comm-0.2.2-py3-none-any.whl (7.2 kB)\n",
            "Downloading gast-0.4.0-py3-none-any.whl (9.8 kB)\n",
            "Downloading keras-2.10.0-py2.py3-none-any.whl (1.7 MB)\n",
            "\u001b[2K   \u001b[90m━━━━━━━━━━━━━━━━━━━━━━━━━━━━━━━━━━━━━━━━\u001b[0m \u001b[32m1.7/1.7 MB\u001b[0m \u001b[31m51.6 MB/s\u001b[0m eta \u001b[36m0:00:00\u001b[0m\n",
            "\u001b[?25hDownloading Keras_Preprocessing-1.1.2-py2.py3-none-any.whl (42 kB)\n",
            "\u001b[2K   \u001b[90m━━━━━━━━━━━━━━━━━━━━━━━━━━━━━━━━━━━━━━━━\u001b[0m \u001b[32m42.6/42.6 kB\u001b[0m \u001b[31m2.8 MB/s\u001b[0m eta \u001b[36m0:00:00\u001b[0m\n",
            "\u001b[?25hDownloading protobuf-3.19.6-cp310-cp310-manylinux_2_17_x86_64.manylinux2014_x86_64.whl (1.1 MB)\n",
            "\u001b[2K   \u001b[90m━━━━━━━━━━━━━━━━━━━━━━━━━━━━━━━━━━━━━━━━\u001b[0m \u001b[32m1.1/1.1 MB\u001b[0m \u001b[31m40.1 MB/s\u001b[0m eta \u001b[36m0:00:00\u001b[0m\n",
            "\u001b[?25hDownloading tensorboard-2.10.1-py3-none-any.whl (5.9 MB)\n",
            "\u001b[2K   \u001b[90m━━━━━━━━━━━━━━━━━━━━━━━━━━━━━━━━━━━━━━━━\u001b[0m \u001b[32m5.9/5.9 MB\u001b[0m \u001b[31m58.2 MB/s\u001b[0m eta \u001b[36m0:00:00\u001b[0m\n",
            "\u001b[?25hDownloading tensorflow_estimator-2.10.0-py2.py3-none-any.whl (438 kB)\n",
            "\u001b[2K   \u001b[90m━━━━━━━━━━━━━━━━━━━━━━━━━━━━━━━━━━━━━━━━\u001b[0m \u001b[32m438.7/438.7 kB\u001b[0m \u001b[31m25.9 MB/s\u001b[0m eta \u001b[36m0:00:00\u001b[0m\n",
            "\u001b[?25hDownloading google_auth_oauthlib-0.4.6-py2.py3-none-any.whl (18 kB)\n",
            "Downloading jedi-0.19.2-py2.py3-none-any.whl (1.6 MB)\n",
            "\u001b[2K   \u001b[90m━━━━━━━━━━━━━━━━━━━━━━━━━━━━━━━━━━━━━━━━\u001b[0m \u001b[32m1.6/1.6 MB\u001b[0m \u001b[31m47.4 MB/s\u001b[0m eta \u001b[36m0:00:00\u001b[0m\n",
            "\u001b[?25hDownloading tensorboard_data_server-0.6.1-py3-none-manylinux2010_x86_64.whl (4.9 MB)\n",
            "\u001b[2K   \u001b[90m━━━━━━━━━━━━━━━━━━━━━━━━━━━━━━━━━━━━━━━━\u001b[0m \u001b[32m4.9/4.9 MB\u001b[0m \u001b[31m61.0 MB/s\u001b[0m eta \u001b[36m0:00:00\u001b[0m\n",
            "\u001b[?25hDownloading tensorboard_plugin_wit-1.8.1-py3-none-any.whl (781 kB)\n",
            "\u001b[2K   \u001b[90m━━━━━━━━━━━━━━━━━━━━━━━━━━━━━━━━━━━━━━━━\u001b[0m \u001b[32m781.3/781.3 kB\u001b[0m \u001b[31m28.6 MB/s\u001b[0m eta \u001b[36m0:00:00\u001b[0m\n",
            "\u001b[?25hInstalling collected packages: tensorboard-plugin-wit, keyboard, keras, tensorflow-estimator, tensorboard-data-server, protobuf, keras-preprocessing, jedi, gast, comm, matplotlib, ipykernel, google-auth-oauthlib, tensorboard, tensorflow, rainstorm\n",
            "  Attempting uninstall: keras\n",
            "    Found existing installation: keras 3.5.0\n",
            "    Uninstalling keras-3.5.0:\n",
            "      Successfully uninstalled keras-3.5.0\n",
            "  Attempting uninstall: tensorboard-data-server\n",
            "    Found existing installation: tensorboard-data-server 0.7.2\n",
            "    Uninstalling tensorboard-data-server-0.7.2:\n",
            "      Successfully uninstalled tensorboard-data-server-0.7.2\n",
            "  Attempting uninstall: protobuf\n",
            "    Found existing installation: protobuf 4.25.5\n",
            "    Uninstalling protobuf-4.25.5:\n",
            "      Successfully uninstalled protobuf-4.25.5\n",
            "  Attempting uninstall: gast\n",
            "    Found existing installation: gast 0.6.0\n",
            "    Uninstalling gast-0.6.0:\n",
            "      Successfully uninstalled gast-0.6.0\n",
            "  Attempting uninstall: matplotlib\n",
            "    Found existing installation: matplotlib 3.8.0\n",
            "    Uninstalling matplotlib-3.8.0:\n",
            "      Successfully uninstalled matplotlib-3.8.0\n",
            "  Attempting uninstall: ipykernel\n",
            "    Found existing installation: ipykernel 5.5.6\n",
            "    Uninstalling ipykernel-5.5.6:\n",
            "      Successfully uninstalled ipykernel-5.5.6\n",
            "  Attempting uninstall: google-auth-oauthlib\n",
            "    Found existing installation: google-auth-oauthlib 1.2.1\n",
            "    Uninstalling google-auth-oauthlib-1.2.1:\n",
            "      Successfully uninstalled google-auth-oauthlib-1.2.1\n",
            "  Attempting uninstall: tensorboard\n",
            "    Found existing installation: tensorboard 2.17.1\n",
            "    Uninstalling tensorboard-2.17.1:\n",
            "      Successfully uninstalled tensorboard-2.17.1\n",
            "  Attempting uninstall: tensorflow\n",
            "    Found existing installation: tensorflow 2.17.1\n",
            "    Uninstalling tensorflow-2.17.1:\n",
            "      Successfully uninstalled tensorflow-2.17.1\n",
            "\u001b[31mERROR: pip's dependency resolver does not currently take into account all the packages that are installed. This behaviour is the source of the following dependency conflicts.\n",
            "google-ai-generativelanguage 0.6.10 requires protobuf!=4.21.0,!=4.21.1,!=4.21.2,!=4.21.3,!=4.21.4,!=4.21.5,<6.0.0dev,>=3.20.2, but you have protobuf 3.19.6 which is incompatible.\n",
            "google-cloud-aiplatform 1.73.0 requires protobuf!=4.21.0,!=4.21.1,!=4.21.2,!=4.21.3,!=4.21.4,!=4.21.5,<6.0.0dev,>=3.20.2, but you have protobuf 3.19.6 which is incompatible.\n",
            "google-cloud-bigquery-connection 1.16.1 requires protobuf!=4.21.0,!=4.21.1,!=4.21.2,!=4.21.3,!=4.21.4,!=4.21.5,<6.0.0dev,>=3.20.2, but you have protobuf 3.19.6 which is incompatible.\n",
            "google-cloud-bigquery-storage 2.27.0 requires protobuf!=3.20.0,!=3.20.1,!=4.21.0,!=4.21.1,!=4.21.2,!=4.21.3,!=4.21.4,!=4.21.5,<6.0.0dev,>=3.20.2, but you have protobuf 3.19.6 which is incompatible.\n",
            "google-cloud-bigtable 2.27.0 requires protobuf!=4.21.0,!=4.21.1,!=4.21.2,!=4.21.3,!=4.21.4,!=4.21.5,<6.0.0dev,>=3.20.2, but you have protobuf 3.19.6 which is incompatible.\n",
            "google-cloud-datastore 2.20.1 requires protobuf!=3.20.0,!=3.20.1,!=4.21.0,!=4.21.1,!=4.21.2,!=4.21.3,!=4.21.4,!=4.21.5,<6.0.0dev,>=3.20.2, but you have protobuf 3.19.6 which is incompatible.\n",
            "google-cloud-firestore 2.19.0 requires protobuf!=3.20.0,!=3.20.1,!=4.21.0,!=4.21.1,!=4.21.2,!=4.21.3,!=4.21.4,!=4.21.5,<6.0.0dev,>=3.20.2, but you have protobuf 3.19.6 which is incompatible.\n",
            "google-cloud-functions 1.18.1 requires protobuf!=4.21.0,!=4.21.1,!=4.21.2,!=4.21.3,!=4.21.4,!=4.21.5,<6.0.0dev,>=3.20.2, but you have protobuf 3.19.6 which is incompatible.\n",
            "google-cloud-iam 2.16.1 requires protobuf!=4.21.0,!=4.21.1,!=4.21.2,!=4.21.3,!=4.21.4,!=4.21.5,<6.0.0dev,>=3.20.2, but you have protobuf 3.19.6 which is incompatible.\n",
            "google-cloud-language 2.15.1 requires protobuf!=4.21.0,!=4.21.1,!=4.21.2,!=4.21.3,!=4.21.4,!=4.21.5,<6.0.0dev,>=3.20.2, but you have protobuf 3.19.6 which is incompatible.\n",
            "google-cloud-pubsub 2.27.1 requires protobuf!=4.21.0,!=4.21.1,!=4.21.2,!=4.21.3,!=4.21.4,!=4.21.5,<6.0.0dev,>=3.20.2, but you have protobuf 3.19.6 which is incompatible.\n",
            "google-cloud-resource-manager 1.13.1 requires protobuf!=4.21.0,!=4.21.1,!=4.21.2,!=4.21.3,!=4.21.4,!=4.21.5,<6.0.0dev,>=3.20.2, but you have protobuf 3.19.6 which is incompatible.\n",
            "google-cloud-translate 3.17.0 requires protobuf!=4.21.0,!=4.21.1,!=4.21.2,!=4.21.3,!=4.21.4,!=4.21.5,<6.0.0dev,>=3.20.2, but you have protobuf 3.19.6 which is incompatible.\n",
            "google-colab 1.0.0 requires ipykernel==5.5.6, but you have ipykernel 6.29.5 which is incompatible.\n",
            "googleapis-common-protos 1.66.0 requires protobuf!=3.20.0,!=3.20.1,!=4.21.1,!=4.21.2,!=4.21.3,!=4.21.4,!=4.21.5,<6.0.0.dev0,>=3.20.2, but you have protobuf 3.19.6 which is incompatible.\n",
            "grpc-google-iam-v1 0.13.1 requires protobuf!=4.21.1,!=4.21.2,!=4.21.3,!=4.21.4,!=4.21.5,<6.0.0dev,>=3.20.2, but you have protobuf 3.19.6 which is incompatible.\n",
            "grpcio-status 1.62.3 requires protobuf>=4.21.6, but you have protobuf 3.19.6 which is incompatible.\n",
            "pandas-gbq 0.24.0 requires google-auth-oauthlib>=0.7.0, but you have google-auth-oauthlib 0.4.6 which is incompatible.\n",
            "tensorflow-datasets 4.9.7 requires protobuf>=3.20, but you have protobuf 3.19.6 which is incompatible.\n",
            "tensorflow-metadata 1.13.1 requires protobuf<5,>=3.20.3, but you have protobuf 3.19.6 which is incompatible.\n",
            "tf-keras 2.17.0 requires tensorflow<2.18,>=2.17, but you have tensorflow 2.10.1 which is incompatible.\u001b[0m\u001b[31m\n",
            "\u001b[0mSuccessfully installed comm-0.2.2 gast-0.4.0 google-auth-oauthlib-0.4.6 ipykernel-6.29.5 jedi-0.19.2 keras-2.10.0 keras-preprocessing-1.1.2 keyboard-0.13.5 matplotlib-3.9.3 protobuf-3.19.6 rainstorm-0.0.4 tensorboard-2.10.1 tensorboard-data-server-0.6.1 tensorboard-plugin-wit-1.8.1 tensorflow-2.10.1 tensorflow-estimator-2.10.0\n"
          ]
        },
        {
          "output_type": "display_data",
          "data": {
            "application/vnd.colab-display-data+json": {
              "pip_warning": {
                "packages": [
                  "google",
                  "google_auth_oauthlib"
                ]
              },
              "id": "8617f140cf334da79a63d786ac76dcfb"
            }
          },
          "metadata": {}
        }
      ]
    },
    {
      "cell_type": "code",
      "execution_count": 1,
      "metadata": {
        "id": "lI1AsYQ-132c"
      },
      "outputs": [],
      "source": [
        "import os\n",
        "import rainstorm.first_steps as rst"
      ]
    },
    {
      "cell_type": "markdown",
      "metadata": {
        "id": "LG7M43zd132d"
      },
      "source": [
        "---\n",
        "#### 2. State your project path (the path to the downloaded RAINSTORM repository folder)\n",
        "`base` : The path to the downloaded repository. If you are using a Windows path with backslashes, place an ‘r’ in front of the directory path to avoid an error (e.g. r'C:\\Users\\dhers\\Desktop\\RAINSTORM').\n",
        "\n",
        "The `folder_path` variable is set to use the example data in the docs folder, if you want to use your own data, change the folder_path variable to the path to your data."
      ]
    },
    {
      "cell_type": "code",
      "execution_count": 6,
      "metadata": {
        "id": "Z8Ngsfz_132d"
      },
      "outputs": [],
      "source": [
        "# State your path:\n",
        "base = r'C:/Users/dhers/Desktop/RAINSTORM'\n",
        "base = r'/content/RAINSTORM'\n",
        "folder_path = os.path.join(base, r'docs/examples/NOR_example')"
      ]
    },
    {
      "cell_type": "markdown",
      "metadata": {
        "id": "AjTg_T1b132d"
      },
      "source": [
        "---\n",
        "#### 3. Lets start by making a copy of the example position_files"
      ]
    },
    {
      "cell_type": "code",
      "execution_count": 7,
      "metadata": {
        "id": "un6cbx25132e",
        "outputId": "5f2016b8-9d57-4455-c7d6-a98e52d5299e",
        "colab": {
          "base_uri": "https://localhost:8080/"
        }
      },
      "outputs": [
        {
          "output_type": "stream",
          "name": "stdout",
          "text": [
            "The folder '/content/RAINSTORM/docs/examples/NOR_example_copy' already exists.\n"
          ]
        }
      ],
      "source": [
        "folder_path = rst.copy_folder(folder_path)"
      ]
    },
    {
      "cell_type": "markdown",
      "metadata": {
        "id": "yMngXODA132e"
      },
      "source": [
        "---\n",
        "#### 4. Now we can rename the files on the copied folder to end in '_position.h5'"
      ]
    },
    {
      "cell_type": "code",
      "execution_count": null,
      "metadata": {
        "id": "vysB04_K132e",
        "outputId": "84311f26-65e1-42ef-fd44-8c29321e0a52"
      },
      "outputs": [
        {
          "name": "stdout",
          "output_type": "stream",
          "text": [
            "Renamed: C:\\Users\\dhers\\Desktop\\RAINSTORM\\docs\\examples\\NOR_example_copy\\NOR_Hab_C1_ADLC_resnet50_shuffle2_200000.h5 to C:\\Users\\dhers\\Desktop\\RAINSTORM\\docs\\examples\\NOR_example_copy\\NOR_Hab_C1_A_position.h5\n",
            "Renamed: C:\\Users\\dhers\\Desktop\\RAINSTORM\\docs\\examples\\NOR_example_copy\\NOR_Hab_C1_BDLC_resnet50_shuffle2_200000.h5 to C:\\Users\\dhers\\Desktop\\RAINSTORM\\docs\\examples\\NOR_example_copy\\NOR_Hab_C1_B_position.h5\n",
            "Renamed: C:\\Users\\dhers\\Desktop\\RAINSTORM\\docs\\examples\\NOR_example_copy\\NOR_Hab_C1_CDLC_resnet50_shuffle2_200000.h5 to C:\\Users\\dhers\\Desktop\\RAINSTORM\\docs\\examples\\NOR_example_copy\\NOR_Hab_C1_C_position.h5\n",
            "Renamed: C:\\Users\\dhers\\Desktop\\RAINSTORM\\docs\\examples\\NOR_example_copy\\NOR_Hab_C1_DDLC_resnet50_shuffle2_200000.h5 to C:\\Users\\dhers\\Desktop\\RAINSTORM\\docs\\examples\\NOR_example_copy\\NOR_Hab_C1_D_position.h5\n",
            "Renamed: C:\\Users\\dhers\\Desktop\\RAINSTORM\\docs\\examples\\NOR_example_copy\\NOR_Hab_C2_ADLC_resnet50_shuffle2_200000.h5 to C:\\Users\\dhers\\Desktop\\RAINSTORM\\docs\\examples\\NOR_example_copy\\NOR_Hab_C2_A_position.h5\n",
            "Renamed: C:\\Users\\dhers\\Desktop\\RAINSTORM\\docs\\examples\\NOR_example_copy\\NOR_Hab_C2_BDLC_resnet50_shuffle2_200000.h5 to C:\\Users\\dhers\\Desktop\\RAINSTORM\\docs\\examples\\NOR_example_copy\\NOR_Hab_C2_B_position.h5\n",
            "Renamed: C:\\Users\\dhers\\Desktop\\RAINSTORM\\docs\\examples\\NOR_example_copy\\NOR_Hab_C2_CDLC_resnet50_shuffle2_200000.h5 to C:\\Users\\dhers\\Desktop\\RAINSTORM\\docs\\examples\\NOR_example_copy\\NOR_Hab_C2_C_position.h5\n",
            "Renamed: C:\\Users\\dhers\\Desktop\\RAINSTORM\\docs\\examples\\NOR_example_copy\\NOR_Hab_C2_DDLC_resnet50_shuffle2_200000.h5 to C:\\Users\\dhers\\Desktop\\RAINSTORM\\docs\\examples\\NOR_example_copy\\NOR_Hab_C2_D_position.h5\n",
            "Renamed: C:\\Users\\dhers\\Desktop\\RAINSTORM\\docs\\examples\\NOR_example_copy\\NOR_Hab_C3_ADLC_resnet50_shuffle2_200000.h5 to C:\\Users\\dhers\\Desktop\\RAINSTORM\\docs\\examples\\NOR_example_copy\\NOR_Hab_C3_A_position.h5\n",
            "Renamed: C:\\Users\\dhers\\Desktop\\RAINSTORM\\docs\\examples\\NOR_example_copy\\NOR_Hab_C3_BDLC_resnet50_shuffle2_200000.h5 to C:\\Users\\dhers\\Desktop\\RAINSTORM\\docs\\examples\\NOR_example_copy\\NOR_Hab_C3_B_position.h5\n",
            "Renamed: C:\\Users\\dhers\\Desktop\\RAINSTORM\\docs\\examples\\NOR_example_copy\\NOR_Hab_C3_CDLC_resnet50_shuffle2_200000.h5 to C:\\Users\\dhers\\Desktop\\RAINSTORM\\docs\\examples\\NOR_example_copy\\NOR_Hab_C3_C_position.h5\n",
            "Renamed: C:\\Users\\dhers\\Desktop\\RAINSTORM\\docs\\examples\\NOR_example_copy\\NOR_Hab_C3_DDLC_resnet50_shuffle2_200000.h5 to C:\\Users\\dhers\\Desktop\\RAINSTORM\\docs\\examples\\NOR_example_copy\\NOR_Hab_C3_D_position.h5\n",
            "Renamed: C:\\Users\\dhers\\Desktop\\RAINSTORM\\docs\\examples\\NOR_example_copy\\NOR_Hab_C4_ADLC_resnet50_shuffle2_200000.h5 to C:\\Users\\dhers\\Desktop\\RAINSTORM\\docs\\examples\\NOR_example_copy\\NOR_Hab_C4_A_position.h5\n",
            "Renamed: C:\\Users\\dhers\\Desktop\\RAINSTORM\\docs\\examples\\NOR_example_copy\\NOR_Hab_C4_BDLC_resnet50_shuffle2_200000.h5 to C:\\Users\\dhers\\Desktop\\RAINSTORM\\docs\\examples\\NOR_example_copy\\NOR_Hab_C4_B_position.h5\n",
            "Renamed: C:\\Users\\dhers\\Desktop\\RAINSTORM\\docs\\examples\\NOR_example_copy\\NOR_Hab_C4_CDLC_resnet50_shuffle2_200000.h5 to C:\\Users\\dhers\\Desktop\\RAINSTORM\\docs\\examples\\NOR_example_copy\\NOR_Hab_C4_C_position.h5\n",
            "Renamed: C:\\Users\\dhers\\Desktop\\RAINSTORM\\docs\\examples\\NOR_example_copy\\NOR_Hab_C4_DDLC_resnet50_shuffle2_200000.h5 to C:\\Users\\dhers\\Desktop\\RAINSTORM\\docs\\examples\\NOR_example_copy\\NOR_Hab_C4_D_position.h5\n",
            "Renamed: C:\\Users\\dhers\\Desktop\\RAINSTORM\\docs\\examples\\NOR_example_copy\\NOR_Hab_C5_ADLC_resnet50_shuffle2_200000.h5 to C:\\Users\\dhers\\Desktop\\RAINSTORM\\docs\\examples\\NOR_example_copy\\NOR_Hab_C5_A_position.h5\n",
            "Renamed: C:\\Users\\dhers\\Desktop\\RAINSTORM\\docs\\examples\\NOR_example_copy\\NOR_Hab_C5_BDLC_resnet50_shuffle2_200000.h5 to C:\\Users\\dhers\\Desktop\\RAINSTORM\\docs\\examples\\NOR_example_copy\\NOR_Hab_C5_B_position.h5\n",
            "Renamed: C:\\Users\\dhers\\Desktop\\RAINSTORM\\docs\\examples\\NOR_example_copy\\NOR_Hab_C5_CDLC_resnet50_shuffle2_200000.h5 to C:\\Users\\dhers\\Desktop\\RAINSTORM\\docs\\examples\\NOR_example_copy\\NOR_Hab_C5_C_position.h5\n",
            "Renamed: C:\\Users\\dhers\\Desktop\\RAINSTORM\\docs\\examples\\NOR_example_copy\\NOR_Hab_C5_DDLC_resnet50_shuffle2_200000.h5 to C:\\Users\\dhers\\Desktop\\RAINSTORM\\docs\\examples\\NOR_example_copy\\NOR_Hab_C5_D_position.h5\n",
            "Renamed: C:\\Users\\dhers\\Desktop\\RAINSTORM\\docs\\examples\\NOR_example_copy\\NOR_TR_C1_ADLC_resnet50_shuffle2_200000.h5 to C:\\Users\\dhers\\Desktop\\RAINSTORM\\docs\\examples\\NOR_example_copy\\NOR_TR_C1_A_position.h5\n",
            "Renamed: C:\\Users\\dhers\\Desktop\\RAINSTORM\\docs\\examples\\NOR_example_copy\\NOR_TR_C1_BDLC_resnet50_shuffle2_200000.h5 to C:\\Users\\dhers\\Desktop\\RAINSTORM\\docs\\examples\\NOR_example_copy\\NOR_TR_C1_B_position.h5\n",
            "Renamed: C:\\Users\\dhers\\Desktop\\RAINSTORM\\docs\\examples\\NOR_example_copy\\NOR_TR_C1_CDLC_resnet50_shuffle2_200000.h5 to C:\\Users\\dhers\\Desktop\\RAINSTORM\\docs\\examples\\NOR_example_copy\\NOR_TR_C1_C_position.h5\n",
            "Renamed: C:\\Users\\dhers\\Desktop\\RAINSTORM\\docs\\examples\\NOR_example_copy\\NOR_TR_C1_DDLC_resnet50_shuffle2_200000.h5 to C:\\Users\\dhers\\Desktop\\RAINSTORM\\docs\\examples\\NOR_example_copy\\NOR_TR_C1_D_position.h5\n",
            "Renamed: C:\\Users\\dhers\\Desktop\\RAINSTORM\\docs\\examples\\NOR_example_copy\\NOR_TR_C2_ADLC_resnet50_shuffle2_200000.h5 to C:\\Users\\dhers\\Desktop\\RAINSTORM\\docs\\examples\\NOR_example_copy\\NOR_TR_C2_A_position.h5\n",
            "Renamed: C:\\Users\\dhers\\Desktop\\RAINSTORM\\docs\\examples\\NOR_example_copy\\NOR_TR_C2_BDLC_resnet50_shuffle2_200000.h5 to C:\\Users\\dhers\\Desktop\\RAINSTORM\\docs\\examples\\NOR_example_copy\\NOR_TR_C2_B_position.h5\n",
            "Renamed: C:\\Users\\dhers\\Desktop\\RAINSTORM\\docs\\examples\\NOR_example_copy\\NOR_TR_C2_CDLC_resnet50_shuffle2_200000.h5 to C:\\Users\\dhers\\Desktop\\RAINSTORM\\docs\\examples\\NOR_example_copy\\NOR_TR_C2_C_position.h5\n",
            "Renamed: C:\\Users\\dhers\\Desktop\\RAINSTORM\\docs\\examples\\NOR_example_copy\\NOR_TR_C2_DDLC_resnet50_shuffle2_200000.h5 to C:\\Users\\dhers\\Desktop\\RAINSTORM\\docs\\examples\\NOR_example_copy\\NOR_TR_C2_D_position.h5\n",
            "Renamed: C:\\Users\\dhers\\Desktop\\RAINSTORM\\docs\\examples\\NOR_example_copy\\NOR_TR_C3_ADLC_resnet50_shuffle2_200000.h5 to C:\\Users\\dhers\\Desktop\\RAINSTORM\\docs\\examples\\NOR_example_copy\\NOR_TR_C3_A_position.h5\n",
            "Renamed: C:\\Users\\dhers\\Desktop\\RAINSTORM\\docs\\examples\\NOR_example_copy\\NOR_TR_C3_BDLC_resnet50_shuffle2_200000.h5 to C:\\Users\\dhers\\Desktop\\RAINSTORM\\docs\\examples\\NOR_example_copy\\NOR_TR_C3_B_position.h5\n",
            "Renamed: C:\\Users\\dhers\\Desktop\\RAINSTORM\\docs\\examples\\NOR_example_copy\\NOR_TR_C3_CDLC_resnet50_shuffle2_200000.h5 to C:\\Users\\dhers\\Desktop\\RAINSTORM\\docs\\examples\\NOR_example_copy\\NOR_TR_C3_C_position.h5\n",
            "Renamed: C:\\Users\\dhers\\Desktop\\RAINSTORM\\docs\\examples\\NOR_example_copy\\NOR_TR_C3_DDLC_resnet50_shuffle2_200000.h5 to C:\\Users\\dhers\\Desktop\\RAINSTORM\\docs\\examples\\NOR_example_copy\\NOR_TR_C3_D_position.h5\n",
            "Renamed: C:\\Users\\dhers\\Desktop\\RAINSTORM\\docs\\examples\\NOR_example_copy\\NOR_TR_C4_ADLC_resnet50_shuffle2_200000.h5 to C:\\Users\\dhers\\Desktop\\RAINSTORM\\docs\\examples\\NOR_example_copy\\NOR_TR_C4_A_position.h5\n",
            "Renamed: C:\\Users\\dhers\\Desktop\\RAINSTORM\\docs\\examples\\NOR_example_copy\\NOR_TR_C4_BDLC_resnet50_shuffle2_200000.h5 to C:\\Users\\dhers\\Desktop\\RAINSTORM\\docs\\examples\\NOR_example_copy\\NOR_TR_C4_B_position.h5\n",
            "Renamed: C:\\Users\\dhers\\Desktop\\RAINSTORM\\docs\\examples\\NOR_example_copy\\NOR_TR_C4_CDLC_resnet50_shuffle2_200000.h5 to C:\\Users\\dhers\\Desktop\\RAINSTORM\\docs\\examples\\NOR_example_copy\\NOR_TR_C4_C_position.h5\n",
            "Renamed: C:\\Users\\dhers\\Desktop\\RAINSTORM\\docs\\examples\\NOR_example_copy\\NOR_TR_C4_DDLC_resnet50_shuffle2_200000.h5 to C:\\Users\\dhers\\Desktop\\RAINSTORM\\docs\\examples\\NOR_example_copy\\NOR_TR_C4_D_position.h5\n",
            "Renamed: C:\\Users\\dhers\\Desktop\\RAINSTORM\\docs\\examples\\NOR_example_copy\\NOR_TR_C5_ADLC_resnet50_shuffle2_200000.h5 to C:\\Users\\dhers\\Desktop\\RAINSTORM\\docs\\examples\\NOR_example_copy\\NOR_TR_C5_A_position.h5\n",
            "Renamed: C:\\Users\\dhers\\Desktop\\RAINSTORM\\docs\\examples\\NOR_example_copy\\NOR_TR_C5_BDLC_resnet50_shuffle2_200000.h5 to C:\\Users\\dhers\\Desktop\\RAINSTORM\\docs\\examples\\NOR_example_copy\\NOR_TR_C5_B_position.h5\n",
            "Renamed: C:\\Users\\dhers\\Desktop\\RAINSTORM\\docs\\examples\\NOR_example_copy\\NOR_TR_C5_CDLC_resnet50_shuffle2_200000.h5 to C:\\Users\\dhers\\Desktop\\RAINSTORM\\docs\\examples\\NOR_example_copy\\NOR_TR_C5_C_position.h5\n",
            "Renamed: C:\\Users\\dhers\\Desktop\\RAINSTORM\\docs\\examples\\NOR_example_copy\\NOR_TR_C5_DDLC_resnet50_shuffle2_200000.h5 to C:\\Users\\dhers\\Desktop\\RAINSTORM\\docs\\examples\\NOR_example_copy\\NOR_TR_C5_D_position.h5\n",
            "Renamed: C:\\Users\\dhers\\Desktop\\RAINSTORM\\docs\\examples\\NOR_example_copy\\NOR_TS_C1_ADLC_resnet50_shuffle2_200000.h5 to C:\\Users\\dhers\\Desktop\\RAINSTORM\\docs\\examples\\NOR_example_copy\\NOR_TS_C1_A_position.h5\n",
            "Renamed: C:\\Users\\dhers\\Desktop\\RAINSTORM\\docs\\examples\\NOR_example_copy\\NOR_TS_C1_BDLC_resnet50_shuffle2_200000.h5 to C:\\Users\\dhers\\Desktop\\RAINSTORM\\docs\\examples\\NOR_example_copy\\NOR_TS_C1_B_position.h5\n",
            "Renamed: C:\\Users\\dhers\\Desktop\\RAINSTORM\\docs\\examples\\NOR_example_copy\\NOR_TS_C1_CDLC_resnet50_shuffle2_200000.h5 to C:\\Users\\dhers\\Desktop\\RAINSTORM\\docs\\examples\\NOR_example_copy\\NOR_TS_C1_C_position.h5\n",
            "Renamed: C:\\Users\\dhers\\Desktop\\RAINSTORM\\docs\\examples\\NOR_example_copy\\NOR_TS_C1_DDLC_resnet50_shuffle2_200000.h5 to C:\\Users\\dhers\\Desktop\\RAINSTORM\\docs\\examples\\NOR_example_copy\\NOR_TS_C1_D_position.h5\n",
            "Renamed: C:\\Users\\dhers\\Desktop\\RAINSTORM\\docs\\examples\\NOR_example_copy\\NOR_TS_C2_ADLC_resnet50_shuffle2_200000.h5 to C:\\Users\\dhers\\Desktop\\RAINSTORM\\docs\\examples\\NOR_example_copy\\NOR_TS_C2_A_position.h5\n",
            "Renamed: C:\\Users\\dhers\\Desktop\\RAINSTORM\\docs\\examples\\NOR_example_copy\\NOR_TS_C2_BDLC_resnet50_shuffle2_200000.h5 to C:\\Users\\dhers\\Desktop\\RAINSTORM\\docs\\examples\\NOR_example_copy\\NOR_TS_C2_B_position.h5\n",
            "Renamed: C:\\Users\\dhers\\Desktop\\RAINSTORM\\docs\\examples\\NOR_example_copy\\NOR_TS_C2_CDLC_resnet50_shuffle2_200000.h5 to C:\\Users\\dhers\\Desktop\\RAINSTORM\\docs\\examples\\NOR_example_copy\\NOR_TS_C2_C_position.h5\n",
            "Renamed: C:\\Users\\dhers\\Desktop\\RAINSTORM\\docs\\examples\\NOR_example_copy\\NOR_TS_C2_DDLC_resnet50_shuffle2_200000.h5 to C:\\Users\\dhers\\Desktop\\RAINSTORM\\docs\\examples\\NOR_example_copy\\NOR_TS_C2_D_position.h5\n",
            "Renamed: C:\\Users\\dhers\\Desktop\\RAINSTORM\\docs\\examples\\NOR_example_copy\\NOR_TS_C3_ADLC_resnet50_shuffle2_200000.h5 to C:\\Users\\dhers\\Desktop\\RAINSTORM\\docs\\examples\\NOR_example_copy\\NOR_TS_C3_A_position.h5\n",
            "Renamed: C:\\Users\\dhers\\Desktop\\RAINSTORM\\docs\\examples\\NOR_example_copy\\NOR_TS_C3_BDLC_resnet50_shuffle2_200000.h5 to C:\\Users\\dhers\\Desktop\\RAINSTORM\\docs\\examples\\NOR_example_copy\\NOR_TS_C3_B_position.h5\n",
            "Renamed: C:\\Users\\dhers\\Desktop\\RAINSTORM\\docs\\examples\\NOR_example_copy\\NOR_TS_C3_CDLC_resnet50_shuffle2_200000.h5 to C:\\Users\\dhers\\Desktop\\RAINSTORM\\docs\\examples\\NOR_example_copy\\NOR_TS_C3_C_position.h5\n",
            "Renamed: C:\\Users\\dhers\\Desktop\\RAINSTORM\\docs\\examples\\NOR_example_copy\\NOR_TS_C3_DDLC_resnet50_shuffle2_200000.h5 to C:\\Users\\dhers\\Desktop\\RAINSTORM\\docs\\examples\\NOR_example_copy\\NOR_TS_C3_D_position.h5\n",
            "Renamed: C:\\Users\\dhers\\Desktop\\RAINSTORM\\docs\\examples\\NOR_example_copy\\NOR_TS_C4_ADLC_resnet50_shuffle2_200000.h5 to C:\\Users\\dhers\\Desktop\\RAINSTORM\\docs\\examples\\NOR_example_copy\\NOR_TS_C4_A_position.h5\n",
            "Renamed: C:\\Users\\dhers\\Desktop\\RAINSTORM\\docs\\examples\\NOR_example_copy\\NOR_TS_C4_BDLC_resnet50_shuffle2_200000.h5 to C:\\Users\\dhers\\Desktop\\RAINSTORM\\docs\\examples\\NOR_example_copy\\NOR_TS_C4_B_position.h5\n",
            "Renamed: C:\\Users\\dhers\\Desktop\\RAINSTORM\\docs\\examples\\NOR_example_copy\\NOR_TS_C4_CDLC_resnet50_shuffle2_200000.h5 to C:\\Users\\dhers\\Desktop\\RAINSTORM\\docs\\examples\\NOR_example_copy\\NOR_TS_C4_C_position.h5\n",
            "Renamed: C:\\Users\\dhers\\Desktop\\RAINSTORM\\docs\\examples\\NOR_example_copy\\NOR_TS_C4_DDLC_resnet50_shuffle2_200000.h5 to C:\\Users\\dhers\\Desktop\\RAINSTORM\\docs\\examples\\NOR_example_copy\\NOR_TS_C4_D_position.h5\n",
            "Renamed: C:\\Users\\dhers\\Desktop\\RAINSTORM\\docs\\examples\\NOR_example_copy\\NOR_TS_C5_ADLC_resnet50_shuffle2_200000.h5 to C:\\Users\\dhers\\Desktop\\RAINSTORM\\docs\\examples\\NOR_example_copy\\NOR_TS_C5_A_position.h5\n",
            "Renamed: C:\\Users\\dhers\\Desktop\\RAINSTORM\\docs\\examples\\NOR_example_copy\\NOR_TS_C5_BDLC_resnet50_shuffle2_200000.h5 to C:\\Users\\dhers\\Desktop\\RAINSTORM\\docs\\examples\\NOR_example_copy\\NOR_TS_C5_B_position.h5\n",
            "Renamed: C:\\Users\\dhers\\Desktop\\RAINSTORM\\docs\\examples\\NOR_example_copy\\NOR_TS_C5_CDLC_resnet50_shuffle2_200000.h5 to C:\\Users\\dhers\\Desktop\\RAINSTORM\\docs\\examples\\NOR_example_copy\\NOR_TS_C5_C_position.h5\n",
            "Renamed: C:\\Users\\dhers\\Desktop\\RAINSTORM\\docs\\examples\\NOR_example_copy\\NOR_TS_C5_DDLC_resnet50_shuffle2_200000.h5 to C:\\Users\\dhers\\Desktop\\RAINSTORM\\docs\\examples\\NOR_example_copy\\NOR_TS_C5_D_position.h5\n"
          ]
        }
      ],
      "source": [
        "# Change the file name as needed\n",
        "before = 'DLC_resnet50_shuffle2_200000.h5'\n",
        "after = '_position.h5'\n",
        "\n",
        "rst.rename_files(folder_path, before, after)"
      ]
    }
  ],
  "metadata": {
    "kernelspec": {
      "display_name": "rainstorm",
      "language": "python",
      "name": "python3"
    },
    "language_info": {
      "codemirror_mode": {
        "name": "ipython",
        "version": 3
      },
      "file_extension": ".py",
      "mimetype": "text/x-python",
      "name": "python",
      "nbconvert_exporter": "python",
      "pygments_lexer": "ipython3",
      "version": "3.9.21"
    },
    "colab": {
      "provenance": []
    }
  },
  "nbformat": 4,
  "nbformat_minor": 0
}