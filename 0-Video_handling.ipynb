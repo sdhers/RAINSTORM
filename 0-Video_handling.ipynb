{
 "cells": [
  {
   "cell_type": "markdown",
   "metadata": {},
   "source": [
    "RAIN - Real & Artificial Intelligence for Neuroscience\n",
    "\n",
    "## Video handling\n",
    "\n",
    "This Notebook is ment to offer a quick and easy way to prepare videos for pose estimation. It allows:\n",
    "- Trimming the video to the desired length.\n",
    "- Cropping the video to the desired size.\n",
    "- Aligning the videos based on two manually selected points (very useful when you want to batch process videos with ROIs).\n",
    "- Drawing ROIs on the video and selecting a distance for scaling."
   ]
  },
  {
   "cell_type": "markdown",
   "metadata": {},
   "source": [
    "---\n",
    "#### Load the necessary modules"
   ]
  },
  {
   "cell_type": "code",
   "execution_count": 1,
   "metadata": {},
   "outputs": [],
   "source": [
    "import rainstorm.video_handling as rst"
   ]
  },
  {
   "cell_type": "markdown",
   "metadata": {},
   "source": [
    "---\n",
    "#### Create a 'video dictionary' where we can store the parameters to edit each video.\n",
    "\n",
    "Run the cell and select the videos you want to edit from the pop up window."
   ]
  },
  {
   "cell_type": "code",
   "execution_count": 2,
   "metadata": {},
   "outputs": [
    {
     "name": "stdout",
     "output_type": "stream",
     "text": [
      "Selected 36 videos.\n"
     ]
    }
   ],
   "source": [
    "video_dict = rst.create_video_dict()"
   ]
  },
  {
   "cell_type": "markdown",
   "metadata": {},
   "source": [
    "---\n",
    "#### Select the time you want the video to start and end."
   ]
  },
  {
   "cell_type": "code",
   "execution_count": null,
   "metadata": {},
   "outputs": [],
   "source": [
    "rst.select_trimming(video_dict)"
   ]
  },
  {
   "cell_type": "markdown",
   "metadata": {},
   "source": [
    "---\n",
    "#### Select the area of the video you want to crop.\n",
    "\n",
    "How to use:\n",
    "\n",
    "- Left-click and drag to draw a rectangle\n",
    "- Right-click and drag to move the rectangle\n",
    "- Use the scroll wheel to resize the rectangle\n",
    "- Use Ctrl + scroll wheel to rotate the rectangle\n",
    "- Press 'c' to confirm the cropping area\n",
    "- Press 'q' to quit"
   ]
  },
  {
   "cell_type": "code",
   "execution_count": null,
   "metadata": {},
   "outputs": [],
   "source": [
    "rst.select_cropping(video_dict)"
   ]
  },
  {
   "cell_type": "markdown",
   "metadata": {},
   "source": [
    "---\n",
    "#### Select the same two points on each video to align them together.\n",
    "\n",
    "How to use:\n",
    "- Left-click to select a point\n",
    "- Press enter to confirm\n",
    "- Left-click again to select a second point\n",
    "- Press enter to confirm\n",
    "- Repeat until two points are selected for each video"
   ]
  },
  {
   "cell_type": "code",
   "execution_count": 3,
   "metadata": {},
   "outputs": [
    {
     "name": "stdout",
     "output_type": "stream",
     "text": [
      "Point confirmed: (226, 135)\n",
      "Point confirmed: (500, 138)\n",
      "Point confirmed: (224, 139)\n",
      "Point confirmed: (489, 139)\n",
      "Point confirmed: (244, 138)\n",
      "Point confirmed: (503, 135)\n",
      "Point confirmed: (218, 141)\n",
      "Point confirmed: (480, 140)\n",
      "Point confirmed: (241, 141)\n",
      "Point confirmed: (505, 138)\n",
      "Point confirmed: (226, 137)\n",
      "Point confirmed: (495, 137)\n",
      "Point confirmed: (221, 140)\n",
      "Point confirmed: (490, 143)\n",
      "Point confirmed: (224, 138)\n",
      "Point confirmed: (494, 138)\n",
      "Point confirmed: (219, 138)\n",
      "Point confirmed: (492, 144)\n",
      "Point confirmed: (224, 134)\n",
      "Point confirmed: (498, 138)\n",
      "Point confirmed: (226, 138)\n",
      "Point confirmed: (492, 139)\n",
      "Point confirmed: (224, 140)\n",
      "Point confirmed: (477, 138)\n",
      "Point confirmed: (242, 134)\n",
      "Point confirmed: (505, 138)\n",
      "Point confirmed: (241, 137)\n",
      "Point confirmed: (501, 140)\n",
      "Point confirmed: (222, 136)\n",
      "Point confirmed: (498, 137)\n",
      "Point confirmed: (227, 139)\n",
      "Point confirmed: (494, 137)\n",
      "Point confirmed: (226, 133)\n",
      "Point confirmed: (495, 137)\n",
      "Point confirmed: (220, 142)\n",
      "Point confirmed: (494, 143)\n",
      "Point confirmed: (233, 132)\n",
      "Point confirmed: (501, 135)\n",
      "Point confirmed: (218, 138)\n",
      "Point confirmed: (484, 142)\n",
      "Point confirmed: (243, 134)\n",
      "Point confirmed: (503, 136)\n",
      "Point confirmed: (222, 141)\n",
      "Point confirmed: (483, 140)\n",
      "Point confirmed: (239, 136)\n",
      "Point confirmed: (504, 133)\n",
      "Point confirmed: (229, 129)\n",
      "Point confirmed: (499, 132)\n",
      "Point confirmed: (216, 146)\n",
      "Point confirmed: (483, 145)\n",
      "Point confirmed: (229, 129)\n",
      "Point confirmed: (499, 132)\n",
      "Point confirmed: (216, 142)\n",
      "Point confirmed: (486, 146)\n",
      "Point confirmed: (227, 130)\n",
      "Point confirmed: (498, 135)\n",
      "Point confirmed: (218, 144)\n",
      "Point confirmed: (489, 145)\n",
      "Point confirmed: (237, 136)\n",
      "Point confirmed: (504, 136)\n",
      "Point confirmed: (219, 143)\n",
      "Point confirmed: (484, 143)\n",
      "Point confirmed: (238, 132)\n",
      "Point confirmed: (504, 132)\n",
      "Point confirmed: (230, 126)\n",
      "Point confirmed: (500, 130)\n",
      "Point confirmed: (217, 146)\n",
      "Point confirmed: (486, 151)\n",
      "Point confirmed: (238, 136)\n",
      "Point confirmed: (499, 136)\n",
      "Point confirmed: (218, 144)\n",
      "Point confirmed: (482, 140)\n",
      "Alignment settings applied to all videos.\n"
     ]
    }
   ],
   "source": [
    "rst.select_alignment(video_dict)"
   ]
  },
  {
   "cell_type": "markdown",
   "metadata": {},
   "source": [
    "---\n",
    "#### Apply trimming, cropping, and alignment to the selected videos. \n",
    "---\n",
    "Before running the following cell, you can save the video dictionary to a JSON file using the `save_video_dict` function:\n",
    "\n",
    "```python\n",
    "file_path = r'path/to/file.json'\n",
    "rst.save_video_dict(video_dict, file_path)\n",
    "```\n",
    "Once stored, you can edit the JSON file to modify the trimming, cropping, and alignment parameters manually.\n",
    "When you are done editing, you can load the video dictionary from the JSON file using the `load_video_dict` function:\n",
    "\n",
    "```python\n",
    "video_dict = rst.load_video_dict(file_path)\n",
    "```\n",
    "---"
   ]
  },
  {
   "cell_type": "code",
   "execution_count": 8,
   "metadata": {},
   "outputs": [
    {
     "name": "stderr",
     "output_type": "stream",
     "text": [
      "INFO:rainstorm.video_handling:Mean points: [[227, 137], [494, 137]]\n",
      "INFO:rainstorm.video_handling:Processed 2025_04-BSI-Hab-R01_C2n.mp4.\n",
      "INFO:rainstorm.video_handling:Processed 2025_04-BSI-Hab-R02_C2i.mp4.\n",
      "INFO:rainstorm.video_handling:Processed 2025_04-BSI-Hab-R03_C2d.mp4.\n",
      "INFO:rainstorm.video_handling:Processed 2025_04-BSI-Hab-R04_C2a.mp4.\n",
      "INFO:rainstorm.video_handling:Processed 2025_04-BSI-Hab-R05_C3n.mp4.\n",
      "INFO:rainstorm.video_handling:Processed 2025_04-BSI-Hab-R06_C3i.mp4.\n",
      "INFO:rainstorm.video_handling:Processed 2025_04-BSI-Hab-R07_C3d.mp4.\n",
      "INFO:rainstorm.video_handling:Processed 2025_04-BSI-Hab-R08_C4i.mp4.\n",
      "INFO:rainstorm.video_handling:Processed 2025_04-BSI-Hab-R09_C4d.mp4.\n",
      "INFO:rainstorm.video_handling:Processed 2025_04-BSI-TR1-R01_C2n.mp4.\n",
      "INFO:rainstorm.video_handling:Processed 2025_04-BSI-TR1-R02_C2i.mp4.\n",
      "INFO:rainstorm.video_handling:Processed 2025_04-BSI-TR1-R03_C2d.mp4.\n",
      "INFO:rainstorm.video_handling:Processed 2025_04-BSI-TR1-R04_C2a.mp4.\n",
      "INFO:rainstorm.video_handling:Processed 2025_04-BSI-TR1-R05_C3n.mp4.\n",
      "INFO:rainstorm.video_handling:Processed 2025_04-BSI-TR1-R06_C3i.mp4.\n",
      "INFO:rainstorm.video_handling:Processed 2025_04-BSI-TR1-R07_C3d.mp4.\n",
      "INFO:rainstorm.video_handling:Processed 2025_04-BSI-TR1-R08_C4i.mp4.\n",
      "INFO:rainstorm.video_handling:Processed 2025_04-BSI-TR1-R09_C4d.mp4.\n",
      "INFO:rainstorm.video_handling:Processed 2025_04-BSI-TR2-R01_C2n.mp4.\n",
      "INFO:rainstorm.video_handling:Processed 2025_04-BSI-TR2-R02_C2i.mp4.\n",
      "INFO:rainstorm.video_handling:Processed 2025_04-BSI-TR2-R03_C2d.mp4.\n",
      "INFO:rainstorm.video_handling:Processed 2025_04-BSI-TR2-R04_C2a.mp4.\n",
      "INFO:rainstorm.video_handling:Processed 2025_04-BSI-TR2-R05_C3n.mp4.\n",
      "INFO:rainstorm.video_handling:Processed 2025_04-BSI-TR2-R06_C3i.mp4.\n",
      "INFO:rainstorm.video_handling:Processed 2025_04-BSI-TR2-R07_C3d.mp4.\n",
      "INFO:rainstorm.video_handling:Processed 2025_04-BSI-TR2-R08_C4i.mp4.\n",
      "INFO:rainstorm.video_handling:Processed 2025_04-BSI-TR2-R09_C4d.mp4.\n",
      "INFO:rainstorm.video_handling:Processed 2025_04-BSI-TS1-R01_C2n.mp4.\n",
      "INFO:rainstorm.video_handling:Processed 2025_04-BSI-TS1-R02_C2i.mp4.\n",
      "INFO:rainstorm.video_handling:Processed 2025_04-BSI-TS1-R03_C2d.mp4.\n",
      "INFO:rainstorm.video_handling:Processed 2025_04-BSI-TS1-R04_C2a.mp4.\n",
      "INFO:rainstorm.video_handling:Processed 2025_04-BSI-TS1-R05_C3n.mp4.\n",
      "INFO:rainstorm.video_handling:Processed 2025_04-BSI-TS1-R06_C3i.mp4.\n",
      "INFO:rainstorm.video_handling:Processed 2025_04-BSI-TS1-R07_C3d.mp4.\n",
      "INFO:rainstorm.video_handling:Processed 2025_04-BSI-TS1-R08_C4i.mp4.\n",
      "INFO:rainstorm.video_handling:Processed 2025_04-BSI-TS1-R09_C4d.mp4.\n",
      "INFO:rainstorm.video_handling:Processed 2025_04-BSI-TS2-R01_C2n.mp4.\n",
      "INFO:rainstorm.video_handling:Processed 2025_04-BSI-TS2-R02_C2i.mp4.\n",
      "INFO:rainstorm.video_handling:Processed 2025_04-BSI-TS2-R03_C2d.mp4.\n",
      "INFO:rainstorm.video_handling:Processed 2025_04-BSI-TS2-R04_C2a.mp4.\n",
      "INFO:rainstorm.video_handling:Processed 2025_04-BSI-TS2-R05_C3n.mp4.\n",
      "INFO:rainstorm.video_handling:Processed 2025_04-BSI-TS2-R06_C3i.mp4.\n",
      "INFO:rainstorm.video_handling:Processed 2025_04-BSI-TS2-R07_C3d.mp4.\n",
      "INFO:rainstorm.video_handling:Processed 2025_04-BSI-TS2-R08_C4i.mp4.\n",
      "INFO:rainstorm.video_handling:Processed 2025_04-BSI-TS2-R09_C4d.mp4.\n",
      "INFO:rainstorm.video_handling:No trimming applied.\n",
      "INFO:rainstorm.video_handling:Alignment applied using mean points [227, 137] and [494, 137].\n",
      "INFO:rainstorm.video_handling:No cropping applied.\n",
      "INFO:rainstorm.video_handling:Modified videos saved in 'None'.\n"
     ]
    }
   ],
   "source": [
    "rst.apply_transformations(video_dict, trim = False, crop = False, align = True, horizontal = True)"
   ]
  },
  {
   "cell_type": "markdown",
   "metadata": {},
   "source": [
    "---\n",
    "#### Draw ROIs\n",
    "\n",
    "How to use:\n",
    "- Select the videos you want to draw on\n",
    "- Left-click to select a point\n",
    "- Left-click and drag to draw a rectangle\n",
    "  - Right-click and drag to move the rectangle\n",
    "  - Use the scroll wheel to resize the rectangle\n",
    "  - Use Ctrl + scroll wheel to rotate the rectangle\n",
    "- Alt + left-click and drag to draw a scale line\n",
    "- Press 'S' to save the current ROI\n",
    "- Press 'Q' to quit and save all ROIs"
   ]
  },
  {
   "cell_type": "code",
   "execution_count": 2,
   "metadata": {},
   "outputs": [
    {
     "name": "stdout",
     "output_type": "stream",
     "text": [
      "Selected 12 videos.\n",
      "Saved ROI: {'name': 'obj_1', 'center': [227, 137]}\n",
      "Saved ROI: {'name': 'obj_2', 'center': [491, 137]}\n",
      "ROIs saved to C:/Users/dhers/OneDrive/Doctorado/Experimentos/PD/videos/TS\\ROIs.json\n"
     ]
    }
   ],
   "source": [
    "rst.draw_rois()"
   ]
  }
 ],
 "metadata": {
  "kernelspec": {
   "display_name": "rainstorm",
   "language": "python",
   "name": "python3"
  },
  "language_info": {
   "codemirror_mode": {
    "name": "ipython",
    "version": 3
   },
   "file_extension": ".py",
   "mimetype": "text/x-python",
   "name": "python",
   "nbconvert_exporter": "python",
   "pygments_lexer": "ipython3",
   "version": "3.9.21"
  }
 },
 "nbformat": 4,
 "nbformat_minor": 2
}
