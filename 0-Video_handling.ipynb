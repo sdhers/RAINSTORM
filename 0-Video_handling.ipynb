{
 "cells": [
  {
   "cell_type": "markdown",
   "metadata": {},
   "source": [
    "RAIN - Real & Artificial Intelligence for Neuroscience\n",
    "\n",
    "## Video handling\n",
    "\n",
    "This Notebook is ment to offer a quick and easy way to prepare videos for pose estimation. It allows:\n",
    "- Trimming the video to the desired length.\n",
    "- Cropping the video to the desired size.\n",
    "- Aligning the videos based on two manually selected points (very useful when you want to batch process videos with ROIs).\n",
    "- Drawing ROIs on the video and selecting a distance for scaling."
   ]
  },
  {
   "cell_type": "markdown",
   "metadata": {},
   "source": [
    "---\n",
    "#### Load the necessary modules"
   ]
  },
  {
   "cell_type": "code",
   "execution_count": 1,
   "metadata": {},
   "outputs": [],
   "source": [
    "import rainstorm.video_handling as rst"
   ]
  },
  {
   "cell_type": "markdown",
   "metadata": {},
   "source": [
    "---\n",
    "#### Create a 'video dictionary' where we can store the parameters to edit each video.\n",
    "\n",
    "Run the cell and select the videos you want to edit from the pop up window."
   ]
  },
  {
   "cell_type": "code",
   "execution_count": 4,
   "metadata": {},
   "outputs": [
    {
     "name": "stdout",
     "output_type": "stream",
     "text": [
      "Selected 6 videos.\n"
     ]
    }
   ],
   "source": [
    "video_dict = rst.create_video_dict()"
   ]
  },
  {
   "cell_type": "markdown",
   "metadata": {},
   "source": [
    "---\n",
    "#### Select the time you want the video to start and end."
   ]
  },
  {
   "cell_type": "code",
   "execution_count": 3,
   "metadata": {},
   "outputs": [
    {
     "name": "stdout",
     "output_type": "stream",
     "text": [
      "Trimming settings applied to all videos.\n"
     ]
    }
   ],
   "source": [
    "rst.select_trimming(video_dict)"
   ]
  },
  {
   "cell_type": "markdown",
   "metadata": {},
   "source": [
    "---\n",
    "#### Select the area of the video you want to crop.\n",
    "\n",
    "How to use:\n",
    "\n",
    "  - 'Left-click' and drag to draw a rectangle\n",
    "    - 'Right-click' and drag to move the rectangle\n",
    "    - Use the scroll wheel to resize the rectangle\n",
    "    - Use 'Ctrl + scroll wheel' to rotate the rectangle\n",
    "  - Press 'Enter' to select the cropping area"
   ]
  },
  {
   "cell_type": "code",
   "execution_count": 5,
   "metadata": {},
   "outputs": [
    {
     "name": "stdout",
     "output_type": "stream",
     "text": [
      "Select cropping:\n",
      "  - Left-click and drag to draw a rectangle\n",
      "    - Right-click and drag to move the rectangle\n",
      "    - Use the scroll wheel to resize the rectangle\n",
      "    - Use Ctrl + scroll wheel to rotate the rectangle\n",
      "  - Press 'Enter' to select the cropping area\n",
      "Original Size: 720x640\n",
      "Cropping settings applied to all videos.\n"
     ]
    }
   ],
   "source": [
    "rst.select_cropping(video_dict)"
   ]
  },
  {
   "cell_type": "markdown",
   "metadata": {},
   "source": [
    "---\n",
    "#### Select the same two points on each video to align them together.\n",
    "\n",
    "How to use:\n",
    "  - 'Left-click' to place a point\n",
    "  - Press 'Enter' to confirm the point\n",
    "  - Use 'WASD' to edit a point's position by one pixel\n",
    "  - Use 'Shift + scroll wheel' to zoom in/out\n",
    "  - Select two points in each video frame\n",
    "  - Press 'b' to go back\n",
    "  - Press 'e' to erase points from a frame\n",
    "  - Press 'q' to quit"
   ]
  },
  {
   "cell_type": "code",
   "execution_count": 6,
   "metadata": {},
   "outputs": [
    {
     "name": "stdout",
     "output_type": "stream",
     "text": [
      "Select alignment:\n",
      "  - 'Left-click' to place a point\n",
      "  - Press 'Enter' to confirm the point\n",
      "  - Use 'WASD' to edit a point's position by one pixel\n",
      "  - Use 'Shift + Mouse Wheel' to zoom in/out\n",
      "  - Select two points in each video frame\n",
      "  - Press 'b' to go back\n",
      "  - Press 'e' to erase points from a frame\n",
      "  - Press 'q' to quit\n"
     ]
    },
    {
     "data": {
      "text/plain": [
       "{'C:/Users/dhers/Desktop/fix/2024_05-3xTg_B2-TOM_TS-R04_C2i.mp4': {'trim': None,\n",
       "  'crop': {'center': [360, 240], 'width': 720, 'height': 480, 'angle': 0},\n",
       "  'align': {'first_point': (235, 142), 'second_point': (491, 142)}},\n",
       " 'C:/Users/dhers/Desktop/fix/2024_05-3xTg_B2-TOM_TS-R09_C3n.mp4': {'trim': None,\n",
       "  'crop': {'center': [360, 240], 'width': 720, 'height': 480, 'angle': 0},\n",
       "  'align': {'first_point': (224, 129), 'second_point': (481, 126)}},\n",
       " 'C:/Users/dhers/Desktop/fix/2024_05-3xTg_B2-TOM_TS-R14_C5a.mp4': {'trim': None,\n",
       "  'crop': {'center': [360, 240], 'width': 720, 'height': 480, 'angle': 0},\n",
       "  'align': {'first_point': (226, 128), 'second_point': (481, 130)}},\n",
       " 'C:/Users/dhers/Desktop/fix/2024-04_TORM-Tg-2m_TS_C1_A_R.mp4': {'trim': None,\n",
       "  'crop': {'center': [360, 240], 'width': 720, 'height': 480, 'angle': 0},\n",
       "  'align': {'first_point': (230, 133), 'second_point': (492, 133)}},\n",
       " 'C:/Users/dhers/Desktop/fix/2024-04_TORM-Tg-2m_TS_C6_A_L.mp4': {'trim': None,\n",
       "  'crop': {'center': [360, 240], 'width': 720, 'height': 480, 'angle': 0},\n",
       "  'align': {'first_point': (227, 143), 'second_point': (485, 141)}},\n",
       " 'C:/Users/dhers/Desktop/fix/2024-04_TORM-Tg-2m_TS_C6_A_R.mp4': {'trim': None,\n",
       "  'crop': {'center': [360, 240], 'width': 720, 'height': 480, 'angle': 0},\n",
       "  'align': {'first_point': (230, 133), 'second_point': (491, 133)}}}"
      ]
     },
     "execution_count": 6,
     "metadata": {},
     "output_type": "execute_result"
    }
   ],
   "source": [
    "rst.select_alignment(video_dict)"
   ]
  },
  {
   "cell_type": "markdown",
   "metadata": {},
   "source": [
    "---\n",
    "#### Apply trimming, cropping, and alignment to the selected videos. \n",
    "---\n",
    "Before running the following cell, you can save the video dictionary to a JSON file using the `save_video_dict` function:\n",
    "\n",
    "```python\n",
    "rst.save_video_dict(video_dict)\n",
    "```\n",
    "Once stored, you can edit the JSON file to modify the trimming, cropping, and alignment parameters manually.\n",
    "When you are done editing, you can load the video dictionary from the JSON file using the `load_video_dict` function:\n",
    "\n",
    "```python\n",
    "video_dict = rst.load_video_dict()\n",
    "```\n",
    "---"
   ]
  },
  {
   "cell_type": "code",
   "execution_count": 8,
   "metadata": {},
   "outputs": [
    {
     "name": "stdout",
     "output_type": "stream",
     "text": [
      "Saved video_dict to: C:/Users/dhers/Desktop/fix/video_dict.json\n"
     ]
    }
   ],
   "source": [
    "rst.save_video_dict(video_dict)"
   ]
  },
  {
   "cell_type": "code",
   "execution_count": 11,
   "metadata": {},
   "outputs": [],
   "source": [
    "loaded_video_dict = rst.load_video_dict()"
   ]
  },
  {
   "cell_type": "code",
   "execution_count": 12,
   "metadata": {},
   "outputs": [
    {
     "name": "stderr",
     "output_type": "stream",
     "text": [
      "INFO:rainstorm.video_handling:Processed 2024_05-3xTg_B2-TOM_TS-R04_C2i.mp4.\n",
      "INFO:rainstorm.video_handling:Processed 2024_05-3xTg_B2-TOM_TS-R09_C3n.mp4.\n",
      "INFO:rainstorm.video_handling:Processed 2024_05-3xTg_B2-TOM_TS-R14_C5a.mp4.\n",
      "INFO:rainstorm.video_handling:Processed 2024_04-TORM_2m-TS_C1_A_R.mp4.\n",
      "INFO:rainstorm.video_handling:Processed 2024_04-TORM_2m-TS_C6_A_L.mp4.\n",
      "INFO:rainstorm.video_handling:Processed 2024_04-TORM_2m-TS_C6_A_R.mp4.\n",
      "INFO:rainstorm.video_handling:No trimming applied.\n",
      "INFO:rainstorm.video_handling:Alignment applied using mean points [227, 137] and [490, 137].\n",
      "INFO:rainstorm.video_handling:Cropping applied.\n",
      "INFO:rainstorm.video_handling:Modified videos saved in 'C:/Users/dhers/Desktop/fix/raw/Chopped\\modified'.\n"
     ]
    }
   ],
   "source": [
    "rst.apply_transformations(loaded_video_dict, trim = False, crop = True, align = True)"
   ]
  },
  {
   "cell_type": "markdown",
   "metadata": {},
   "source": [
    "---\n",
    "#### Draw ROIs\n",
    "\n",
    "How to use:\n",
    "- Select the videos you want to draw on\n",
    "- Left-click to select a point\n",
    "- Left-click and drag to draw a rectangle\n",
    "  - Right-click and drag to move the rectangle\n",
    "  - Use the scroll wheel to resize the rectangle\n",
    "  - Use Ctrl + scroll wheel to rotate the rectangle\n",
    "- Alt + left-click and drag to draw a scale line\n",
    "- Press 'Enter' to save the current ROI\n",
    "- Press 'Q' to quit and save all ROIs"
   ]
  },
  {
   "cell_type": "code",
   "execution_count": 4,
   "metadata": {},
   "outputs": [
    {
     "name": "stdout",
     "output_type": "stream",
     "text": [
      "Selected 6 videos.\n",
      "Draw ROIs:\n",
      "  - Select the videos you want to draw on\n",
      "  - Left-click to select a point\n",
      "  - Left-click and drag to draw a rectangle\n",
      "  - Hold Ctrl while dragging to draw a square\n",
      "    - Right-click and drag to move the rectangle\n",
      "    - Use the scroll wheel to resize the rectangle\n",
      "    - Use Ctrl + scroll wheel to rotate the rectangle\n",
      "    - Use Shift + scroll Wheel to zoom in/out\n",
      "  - Hold Alt + left-click and drag to draw a scale line\n",
      "  - Press 'Enter' to save the current ROI\n",
      "  - Press 'b' to erase last drawn point/ROI\n",
      "  - Press 'e' to erase all ROIs\n",
      "  - Press 'Q' to quit and save all ROIs\n",
      "ROIs saved to E:/Guille/8_mth/Social/modified\\ROIs.json\n"
     ]
    },
    {
     "data": {
      "text/plain": [
       "{'frame_shape': [880, 640],\n",
       " 'scale': 9.7,\n",
       " 'areas': [{'name': 'center',\n",
       "   'center': [441, 402],\n",
       "   'width': 224,\n",
       "   'height': 224,\n",
       "   'angle': 0},\n",
       "  {'name': 'blue_corner',\n",
       "   'center': [214, 402],\n",
       "   'width': 224,\n",
       "   'height': 224,\n",
       "   'angle': 0},\n",
       "  {'name': 'blue_chamber',\n",
       "   'center': [214, 175],\n",
       "   'width': 224,\n",
       "   'height': 224,\n",
       "   'angle': 0},\n",
       "  {'name': 'red_corner',\n",
       "   'center': [668, 402],\n",
       "   'width': 224,\n",
       "   'height': 224,\n",
       "   'angle': 0},\n",
       "  {'name': 'red_chamber',\n",
       "   'center': [668, 175],\n",
       "   'width': 224,\n",
       "   'height': 224,\n",
       "   'angle': 0}],\n",
       " 'points': [{'name': 'blue_cyl', 'center': [160, 126]},\n",
       "  {'name': 'red_cyl', 'center': [719, 126]}]}"
      ]
     },
     "execution_count": 4,
     "metadata": {},
     "output_type": "execute_result"
    }
   ],
   "source": [
    "rst.draw_rois()"
   ]
  }
 ],
 "metadata": {
  "kernelspec": {
   "display_name": "rainstorm",
   "language": "python",
   "name": "python3"
  },
  "language_info": {
   "codemirror_mode": {
    "name": "ipython",
    "version": 3
   },
   "file_extension": ".py",
   "mimetype": "text/x-python",
   "name": "python",
   "nbconvert_exporter": "python",
   "pygments_lexer": "ipython3",
   "version": "3.9.21"
  }
 },
 "nbformat": 4,
 "nbformat_minor": 2
}
