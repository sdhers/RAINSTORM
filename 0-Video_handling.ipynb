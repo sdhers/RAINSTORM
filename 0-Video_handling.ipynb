{
 "cells": [
  {
   "cell_type": "markdown",
   "metadata": {},
   "source": [
    "RAIN - Real & Artificial Intelligence for Neuroscience\n",
    "\n",
    "## Video handling\n",
    "\n",
    "This Notebook is ment to offer a quick and easy way to prepare videos for pose estimation. It allows:\n",
    "- Trimming the video to the desired length.\n",
    "- Cropping the video to the desired size.\n",
    "- Aligning the videos based on two manually selected points (very useful when you want to batch process videos with ROIs).\n",
    "- Drawing ROIs on the video and selecting a distance for scaling."
   ]
  },
  {
   "cell_type": "markdown",
   "metadata": {},
   "source": [
    "---\n",
    "#### Load the necessary modules"
   ]
  },
  {
   "cell_type": "code",
   "execution_count": 1,
   "metadata": {},
   "outputs": [],
   "source": [
    "import rainstorm.video_handling as rst"
   ]
  },
  {
   "cell_type": "markdown",
   "metadata": {},
   "source": [
    "---\n",
    "#### Create a 'video dictionary' where we can store the parameters to edit each video.\n",
    "\n",
    "Run the cell and select the videos you want to edit from the pop up window."
   ]
  },
  {
   "cell_type": "code",
   "execution_count": 2,
   "metadata": {},
   "outputs": [
    {
     "name": "stdout",
     "output_type": "stream",
     "text": [
      "Selected 3 videos.\n"
     ]
    }
   ],
   "source": [
    "video_dict = rst.create_video_dict()"
   ]
  },
  {
   "cell_type": "markdown",
   "metadata": {},
   "source": [
    "---\n",
    "#### Select the time you want the video to start and end."
   ]
  },
  {
   "cell_type": "code",
   "execution_count": 3,
   "metadata": {},
   "outputs": [
    {
     "ename": "KeyboardInterrupt",
     "evalue": "",
     "output_type": "error",
     "traceback": [
      "\u001b[1;31m---------------------------------------------------------------------------\u001b[0m",
      "\u001b[1;31mKeyboardInterrupt\u001b[0m                         Traceback (most recent call last)",
      "Cell \u001b[1;32mIn[3], line 1\u001b[0m\n\u001b[1;32m----> 1\u001b[0m \u001b[43mrst\u001b[49m\u001b[38;5;241;43m.\u001b[39;49m\u001b[43mselect_trimming\u001b[49m\u001b[43m(\u001b[49m\u001b[43mvideo_dict\u001b[49m\u001b[43m)\u001b[49m\n",
      "File \u001b[1;32mc:\\Users\\dhers\\Desktop\\Rainstorm\\rainstorm\\video_handling.py:702\u001b[0m, in \u001b[0;36mselect_trimming\u001b[1;34m(video_dict)\u001b[0m\n\u001b[0;32m    698\u001b[0m     root\u001b[38;5;241m.\u001b[39mquit()  \u001b[38;5;66;03m# Stops mainloop()\u001b[39;00m\n\u001b[0;32m    700\u001b[0m Button(window, text\u001b[38;5;241m=\u001b[39m\u001b[38;5;124m\"\u001b[39m\u001b[38;5;124mApply Settings\u001b[39m\u001b[38;5;124m\"\u001b[39m, command\u001b[38;5;241m=\u001b[39mapply_settings)\u001b[38;5;241m.\u001b[39mpack()\n\u001b[1;32m--> 702\u001b[0m \u001b[43mwindow\u001b[49m\u001b[38;5;241;43m.\u001b[39;49m\u001b[43mmainloop\u001b[49m\u001b[43m(\u001b[49m\u001b[43m)\u001b[49m\n",
      "File \u001b[1;32mc:\\Users\\dhers\\miniconda3\\envs\\rainstorm\\lib\\tkinter\\__init__.py:1429\u001b[0m, in \u001b[0;36mMisc.mainloop\u001b[1;34m(self, n)\u001b[0m\n\u001b[0;32m   1427\u001b[0m \u001b[38;5;28;01mdef\u001b[39;00m \u001b[38;5;21mmainloop\u001b[39m(\u001b[38;5;28mself\u001b[39m, n\u001b[38;5;241m=\u001b[39m\u001b[38;5;241m0\u001b[39m):\n\u001b[0;32m   1428\u001b[0m \u001b[38;5;250m    \u001b[39m\u001b[38;5;124;03m\"\"\"Call the mainloop of Tk.\"\"\"\u001b[39;00m\n\u001b[1;32m-> 1429\u001b[0m     \u001b[38;5;28;43mself\u001b[39;49m\u001b[38;5;241;43m.\u001b[39;49m\u001b[43mtk\u001b[49m\u001b[38;5;241;43m.\u001b[39;49m\u001b[43mmainloop\u001b[49m\u001b[43m(\u001b[49m\u001b[43mn\u001b[49m\u001b[43m)\u001b[49m\n",
      "\u001b[1;31mKeyboardInterrupt\u001b[0m: "
     ]
    }
   ],
   "source": [
    "rst.select_trimming(video_dict)"
   ]
  },
  {
   "cell_type": "markdown",
   "metadata": {},
   "source": [
    "---\n",
    "#### Select the area of the video you want to crop.\n",
    "\n",
    "How to use:\n",
    "\n",
    "  - 'Left-click' and drag to draw a rectangle\n",
    "    - 'Right-click' and drag to move the rectangle\n",
    "    - Use the scroll wheel to resize the rectangle\n",
    "    - Use 'Ctrl + scroll wheel' to rotate the rectangle\n",
    "  - Press 'Enter' to select the cropping area"
   ]
  },
  {
   "cell_type": "code",
   "execution_count": 4,
   "metadata": {},
   "outputs": [
    {
     "name": "stdout",
     "output_type": "stream",
     "text": [
      "Select cropping:\n",
      "  - Left-click and drag to draw a rectangle\n",
      "    - Right-click and drag to move the rectangle\n",
      "    - Use the scroll wheel to resize the rectangle\n",
      "    - Use Ctrl + scroll wheel to rotate the rectangle\n",
      "  - Press 'Enter' to select the cropping area\n",
      "Original Size: 700x500\n",
      "Cropping canceled.\n"
     ]
    }
   ],
   "source": [
    "rst.select_cropping(video_dict)"
   ]
  },
  {
   "cell_type": "markdown",
   "metadata": {},
   "source": [
    "---\n",
    "#### Select the same two points on each video to align them together.\n",
    "\n",
    "How to use:\n",
    "  - 'Left-click' to place a point\n",
    "  - Press 'Enter' to confirm the point\n",
    "  - Use 'WASD' to edit a point's position by one pixel\n",
    "  - Use 'Shift + scroll wheel' to zoom in/out\n",
    "  - Select two points in each video frame\n",
    "  - Press 'b' to go back\n",
    "  - Press 'e' to erase points from a frame\n",
    "  - Press 'q' to quit"
   ]
  },
  {
   "cell_type": "code",
   "execution_count": 6,
   "metadata": {},
   "outputs": [
    {
     "name": "stdout",
     "output_type": "stream",
     "text": [
      "Select alignment:\n",
      "  - 'Left-click' to place a point\n",
      "  - Press 'Enter' to confirm the point\n",
      "  - Use 'WASD' to edit a point's position by one pixel\n",
      "  - Use 'Shift + Mouse Wheel' to zoom in/out\n",
      "  - Select two points in each video frame\n",
      "  - Press 'b' to go back\n",
      "  - Press 'e' to erase points from a frame\n",
      "  - Press 'q' to quit\n"
     ]
    },
    {
     "data": {
      "text/plain": [
       "{'D:/sdhers/NOR_videos/PD/Chopped/2024_05-PD_45-TR-R13_C6n.mp4': {'trim': None,\n",
       "  'crop': None,\n",
       "  'align': {'first_point': (229, 135), 'second_point': (491, 135)}},\n",
       " 'D:/sdhers/NOR_videos/PD/Chopped/2024_05-PD_45-TR-R14_C6i.mp4': {'trim': None,\n",
       "  'crop': None,\n",
       "  'align': {'first_point': (228, 136), 'second_point': (491, 136)}},\n",
       " 'D:/sdhers/NOR_videos/PD/Chopped/2024_05-PD_45-TR-R15_C6d.mp4': {'trim': None,\n",
       "  'crop': None,\n",
       "  'align': {'first_point': (227, 136), 'second_point': (489, 135)}},\n",
       " 'D:/sdhers/NOR_videos/PD/Chopped/2024_05-PD_45-TR-R16_C6a.mp4': {'trim': None,\n",
       "  'crop': None,\n",
       "  'align': {'first_point': (229, 135), 'second_point': (489, 135)}},\n",
       " 'D:/sdhers/NOR_videos/PD/Chopped/2024_05-PD_45-TR-R17_C7n.mp4': {'trim': None,\n",
       "  'crop': None,\n",
       "  'align': None},\n",
       " 'D:/sdhers/NOR_videos/PD/Chopped/2024_05-PD_45-TR-R18_C7i.mp4': {'trim': None,\n",
       "  'crop': None,\n",
       "  'align': None},\n",
       " 'D:/sdhers/NOR_videos/PD/Chopped/2024_05-PD_45-TR-R19_C7d.mp4': {'trim': None,\n",
       "  'crop': None,\n",
       "  'align': None},\n",
       " 'D:/sdhers/NOR_videos/PD/Chopped/2024_05-PD_45-TR-R20_C8n.mp4': {'trim': None,\n",
       "  'crop': None,\n",
       "  'align': None},\n",
       " 'D:/sdhers/NOR_videos/PD/Chopped/2024_05-PD_45-TR-R21_C8i.mp4': {'trim': None,\n",
       "  'crop': None,\n",
       "  'align': None},\n",
       " 'D:/sdhers/NOR_videos/PD/Chopped/2024_05-PD_45-TR-R22_C8d.mp4': {'trim': None,\n",
       "  'crop': None,\n",
       "  'align': None},\n",
       " 'D:/sdhers/NOR_videos/PD/Chopped/2024_05-PD_45-TR-R23_C8a.mp4': {'trim': None,\n",
       "  'crop': None,\n",
       "  'align': None},\n",
       " 'D:/sdhers/NOR_videos/PD/Chopped/2024_05-PD_45-TS-R13_C6n.mp4': {'trim': None,\n",
       "  'crop': None,\n",
       "  'align': None},\n",
       " 'D:/sdhers/NOR_videos/PD/Chopped/2024_05-PD_45-TS-R14_C6i.mp4': {'trim': None,\n",
       "  'crop': None,\n",
       "  'align': None},\n",
       " 'D:/sdhers/NOR_videos/PD/Chopped/2024_05-PD_45-TS-R15_C6d.mp4': {'trim': None,\n",
       "  'crop': None,\n",
       "  'align': None},\n",
       " 'D:/sdhers/NOR_videos/PD/Chopped/2024_05-PD_45-TS-R16_C6a.mp4': {'trim': None,\n",
       "  'crop': None,\n",
       "  'align': None},\n",
       " 'D:/sdhers/NOR_videos/PD/Chopped/2024_05-PD_45-TS-R17_C7n.mp4': {'trim': None,\n",
       "  'crop': None,\n",
       "  'align': None},\n",
       " 'D:/sdhers/NOR_videos/PD/Chopped/2024_05-PD_45-TS-R18_C7i.mp4': {'trim': None,\n",
       "  'crop': None,\n",
       "  'align': None},\n",
       " 'D:/sdhers/NOR_videos/PD/Chopped/2024_05-PD_45-TS-R19_C7d.mp4': {'trim': None,\n",
       "  'crop': None,\n",
       "  'align': None},\n",
       " 'D:/sdhers/NOR_videos/PD/Chopped/2024_05-PD_45-TS-R20_C8n.mp4': {'trim': None,\n",
       "  'crop': None,\n",
       "  'align': None},\n",
       " 'D:/sdhers/NOR_videos/PD/Chopped/2024_05-PD_45-TS-R21_C8i.mp4': {'trim': None,\n",
       "  'crop': None,\n",
       "  'align': None},\n",
       " 'D:/sdhers/NOR_videos/PD/Chopped/2024_05-PD_45-TS-R22_C8d.mp4': {'trim': None,\n",
       "  'crop': None,\n",
       "  'align': None},\n",
       " 'D:/sdhers/NOR_videos/PD/Chopped/2024_05-PD_45-TS-R23_C8a.mp4': {'trim': None,\n",
       "  'crop': None,\n",
       "  'align': None},\n",
       " 'D:/sdhers/NOR_videos/PD/Chopped/2025_04-PD_45-TR-R01_C1i.mp4': {'trim': None,\n",
       "  'crop': None,\n",
       "  'align': None},\n",
       " 'D:/sdhers/NOR_videos/PD/Chopped/2025_04-PD_45-TR-R02_C1n.mp4': {'trim': None,\n",
       "  'crop': None,\n",
       "  'align': None},\n",
       " 'D:/sdhers/NOR_videos/PD/Chopped/2025_04-PD_45-TR-R03_C1d.mp4': {'trim': None,\n",
       "  'crop': None,\n",
       "  'align': None},\n",
       " 'D:/sdhers/NOR_videos/PD/Chopped/2025_04-PD_45-TR-R04_C1a.mp4': {'trim': None,\n",
       "  'crop': None,\n",
       "  'align': None},\n",
       " 'D:/sdhers/NOR_videos/PD/Chopped/2025_04-PD_45-TR-R05_C2n.mp4': {'trim': None,\n",
       "  'crop': None,\n",
       "  'align': None},\n",
       " 'D:/sdhers/NOR_videos/PD/Chopped/2025_04-PD_45-TR-R06_C2d.mp4': {'trim': None,\n",
       "  'crop': None,\n",
       "  'align': None},\n",
       " 'D:/sdhers/NOR_videos/PD/Chopped/2025_04-PD_45-TR-R07_C2i.mp4': {'trim': None,\n",
       "  'crop': None,\n",
       "  'align': None},\n",
       " 'D:/sdhers/NOR_videos/PD/Chopped/2025_04-PD_45-TR-R08_C2a.mp4': {'trim': None,\n",
       "  'crop': None,\n",
       "  'align': None},\n",
       " 'D:/sdhers/NOR_videos/PD/Chopped/2025_04-PD_45-TR-R09_C3i.mp4': {'trim': None,\n",
       "  'crop': None,\n",
       "  'align': None},\n",
       " 'D:/sdhers/NOR_videos/PD/Chopped/2025_04-PD_45-TR-R10_C3d.mp4': {'trim': None,\n",
       "  'crop': None,\n",
       "  'align': None},\n",
       " 'D:/sdhers/NOR_videos/PD/Chopped/2025_04-PD_45-TR-R11_C4i.mp4': {'trim': None,\n",
       "  'crop': None,\n",
       "  'align': None},\n",
       " 'D:/sdhers/NOR_videos/PD/Chopped/2025_04-PD_45-TR-R12_C5i.mp4': {'trim': None,\n",
       "  'crop': None,\n",
       "  'align': None},\n",
       " 'D:/sdhers/NOR_videos/PD/Chopped/2025_04-PD_45-TS-R01_C1i.mp4': {'trim': None,\n",
       "  'crop': None,\n",
       "  'align': None},\n",
       " 'D:/sdhers/NOR_videos/PD/Chopped/2025_04-PD_45-TS-R02_C1n.mp4': {'trim': None,\n",
       "  'crop': None,\n",
       "  'align': None},\n",
       " 'D:/sdhers/NOR_videos/PD/Chopped/2025_04-PD_45-TS-R03_C1d.mp4': {'trim': None,\n",
       "  'crop': None,\n",
       "  'align': None},\n",
       " 'D:/sdhers/NOR_videos/PD/Chopped/2025_04-PD_45-TS-R04_C1a.mp4': {'trim': None,\n",
       "  'crop': None,\n",
       "  'align': None},\n",
       " 'D:/sdhers/NOR_videos/PD/Chopped/2025_04-PD_45-TS-R05_C2n.mp4': {'trim': None,\n",
       "  'crop': None,\n",
       "  'align': None},\n",
       " 'D:/sdhers/NOR_videos/PD/Chopped/2025_04-PD_45-TS-R06_C2d.mp4': {'trim': None,\n",
       "  'crop': None,\n",
       "  'align': None},\n",
       " 'D:/sdhers/NOR_videos/PD/Chopped/2025_04-PD_45-TS-R07_C2i.mp4': {'trim': None,\n",
       "  'crop': None,\n",
       "  'align': None},\n",
       " 'D:/sdhers/NOR_videos/PD/Chopped/2025_04-PD_45-TS-R08_C2a.mp4': {'trim': None,\n",
       "  'crop': None,\n",
       "  'align': None},\n",
       " 'D:/sdhers/NOR_videos/PD/Chopped/2025_04-PD_45-TS-R09_C3i.mp4': {'trim': None,\n",
       "  'crop': None,\n",
       "  'align': None},\n",
       " 'D:/sdhers/NOR_videos/PD/Chopped/2025_04-PD_45-TS-R10_C3d.mp4': {'trim': None,\n",
       "  'crop': None,\n",
       "  'align': None},\n",
       " 'D:/sdhers/NOR_videos/PD/Chopped/2025_04-PD_45-TS-R11_C4i.mp4': {'trim': None,\n",
       "  'crop': None,\n",
       "  'align': None},\n",
       " 'D:/sdhers/NOR_videos/PD/Chopped/2025_04-PD_45-TS-R12_C5i.mp4': {'trim': None,\n",
       "  'crop': None,\n",
       "  'align': None}}"
      ]
     },
     "execution_count": 6,
     "metadata": {},
     "output_type": "execute_result"
    }
   ],
   "source": [
    "rst.select_alignment(video_dict)"
   ]
  },
  {
   "cell_type": "markdown",
   "metadata": {},
   "source": [
    "---\n",
    "#### Apply trimming, cropping, and alignment to the selected videos. \n",
    "---\n",
    "Before running the following cell, you can save the video dictionary to a JSON file using the `save_video_dict` function:\n",
    "\n",
    "```python\n",
    "rst.save_video_dict(video_dict)\n",
    "```\n",
    "Once stored, you can edit the JSON file to modify the trimming, cropping, and alignment parameters manually.\n",
    "When you are done editing, you can load the video dictionary from the JSON file using the `load_video_dict` function:\n",
    "\n",
    "```python\n",
    "video_dict = rst.load_video_dict()\n",
    "```\n",
    "---"
   ]
  },
  {
   "cell_type": "code",
   "execution_count": null,
   "metadata": {},
   "outputs": [],
   "source": [
    "rst.save_video_dict(video_dict)"
   ]
  },
  {
   "cell_type": "code",
   "execution_count": null,
   "metadata": {},
   "outputs": [],
   "source": [
    "rst.load_video_dict()"
   ]
  },
  {
   "cell_type": "code",
   "execution_count": null,
   "metadata": {},
   "outputs": [],
   "source": [
    "rst.apply_transformations(video_dict, trim = True, crop = True, align = True, horizontal = False)"
   ]
  },
  {
   "cell_type": "markdown",
   "metadata": {},
   "source": [
    "---\n",
    "#### Draw ROIs\n",
    "\n",
    "How to use:\n",
    "- Select the videos you want to draw on\n",
    "- Left-click to select a point\n",
    "- Left-click and drag to draw a rectangle\n",
    "  - Right-click and drag to move the rectangle\n",
    "  - Use the scroll wheel to resize the rectangle\n",
    "  - Use Ctrl + scroll wheel to rotate the rectangle\n",
    "- Alt + left-click and drag to draw a scale line\n",
    "- Press 'Enter' to save the current ROI\n",
    "- Press 'Q' to quit and save all ROIs"
   ]
  },
  {
   "cell_type": "code",
   "execution_count": 2,
   "metadata": {},
   "outputs": [
    {
     "name": "stdout",
     "output_type": "stream",
     "text": [
      "Selected 5 videos.\n",
      "Draw ROIs:\n",
      "  - Select the videos you want to draw on\n",
      "  - Left-click to select a point\n",
      "  - Left-click and drag to draw a rectangle\n",
      "  - Hold Ctrl while dragging to draw a square\n",
      "    - Right-click and drag to move the rectangle\n",
      "    - Use the scroll wheel to resize the rectangle\n",
      "    - Use Ctrl + scroll wheel to rotate the rectangle\n",
      "    - Use Shift + scroll Wheel to zoom in/out\n",
      "  - Hold Alt + left-click and drag to draw a scale line\n",
      "  - Press 'Enter' to save the current ROI\n",
      "  - Press 'b' to erase last drawn point/ROI\n",
      "  - Press 'e' to erase all ROIs\n",
      "  - Press 'Q' to quit and save all ROIs\n",
      "No ROIs saved.\n"
     ]
    },
    {
     "data": {
      "text/plain": [
       "{'frame_shape': [700, 500], 'scale': None, 'areas': [], 'points': []}"
      ]
     },
     "execution_count": 2,
     "metadata": {},
     "output_type": "execute_result"
    }
   ],
   "source": [
    "rst.draw_rois()"
   ]
  }
 ],
 "metadata": {
  "kernelspec": {
   "display_name": "rainstorm",
   "language": "python",
   "name": "python3"
  },
  "language_info": {
   "codemirror_mode": {
    "name": "ipython",
    "version": 3
   },
   "file_extension": ".py",
   "mimetype": "text/x-python",
   "name": "python",
   "nbconvert_exporter": "python",
   "pygments_lexer": "ipython3",
   "version": "3.9.21"
  }
 },
 "nbformat": 4,
 "nbformat_minor": 2
}
