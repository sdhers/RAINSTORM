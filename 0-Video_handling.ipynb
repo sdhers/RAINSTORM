{
 "cells": [
  {
   "cell_type": "markdown",
   "metadata": {},
   "source": [
    "RAIN - Real & Artificial Intelligence for Neuroscience\n",
    "\n",
    "## Video handling\n",
    "\n",
    "This Notebook is ment to offer a quick and easy way to prepare videos for pose estimation and behavioral analysis. It allows:\n",
    "- Trimming the video to the desired length.\n",
    "- Cropping the video to the desired size.\n",
    "- Aligning the videos based on two manually selected points (very useful when you want to batch process videos with ROIs).\n",
    "- Drawing ROIs on the video and selecting a distance for scaling."
   ]
  },
  {
   "cell_type": "markdown",
   "metadata": {},
   "source": [
    "---\n",
    "#### Load and run the Video Handling app"
   ]
  },
  {
   "cell_type": "code",
   "execution_count": null,
   "metadata": {},
   "outputs": [],
   "source": [
    "from rainstorm.VideoHandling import VideoHandling\n",
    "VideoHandling.run_app()"
   ]
  },
  {
   "cell_type": "markdown",
   "metadata": {},
   "source": [
    "---\n",
    "#### Load and run the Draw ROIs app"
   ]
  },
  {
   "cell_type": "code",
   "execution_count": null,
   "metadata": {},
   "outputs": [],
   "source": [
    "from rainstorm.DrawROIs import DrawROIs\n",
    "DrawROIs.run_app()"
   ]
  }
 ],
 "metadata": {
  "kernelspec": {
   "display_name": "rainstorm",
   "language": "python",
   "name": "python3"
  },
  "language_info": {
   "codemirror_mode": {
    "name": "ipython",
    "version": 3
   },
   "file_extension": ".py",
   "mimetype": "text/x-python",
   "name": "python",
   "nbconvert_exporter": "python",
   "pygments_lexer": "ipython3",
   "version": "3.9.21"
  }
 },
 "nbformat": 4,
 "nbformat_minor": 2
}
