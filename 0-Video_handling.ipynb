{
 "cells": [
  {
   "cell_type": "markdown",
   "metadata": {},
   "source": [
    "RAIN - Real & Artificial Intelligence for Neuroscience\n",
    "\n",
    "## Video handling\n",
    "\n",
    "This notebook is ment to offer a quick and easy way to prepare videos for pose estimation. It allows:\n",
    "- Trimming the video to the desired length.\n",
    "- Cropping the video to the desired size.\n",
    "- Aligning the videos based on two manually selected points (very useful when you want to batch process videos with ROIs).\n",
    "- Drawing ROIs on the video and selecting a distance for scaling."
   ]
  },
  {
   "cell_type": "markdown",
   "metadata": {},
   "source": [
    "---\n",
    "#### Load the necessary modules"
   ]
  },
  {
   "cell_type": "code",
   "execution_count": 1,
   "metadata": {},
   "outputs": [],
   "source": [
    "import rainstorm.video_handling as rst"
   ]
  },
  {
   "cell_type": "markdown",
   "metadata": {},
   "source": [
    "---\n",
    "#### 1. Create the video dictionary, where we can store the parameters to edit each video."
   ]
  },
  {
   "cell_type": "code",
   "execution_count": 3,
   "metadata": {},
   "outputs": [
    {
     "name": "stdout",
     "output_type": "stream",
     "text": [
      "Selected 16 videos.\n"
     ]
    }
   ],
   "source": [
    "video_dict = rst.create_video_dict()"
   ]
  },
  {
   "cell_type": "markdown",
   "metadata": {},
   "source": [
    "---\n",
    "#### 2. Select the time you want the video to start and end."
   ]
  },
  {
   "cell_type": "code",
   "execution_count": null,
   "metadata": {},
   "outputs": [
    {
     "name": "stdout",
     "output_type": "stream",
     "text": [
      "Trimming settings applied to all videos.\n"
     ]
    }
   ],
   "source": [
    "rst.select_trimming(video_dict)"
   ]
  },
  {
   "cell_type": "markdown",
   "metadata": {},
   "source": [
    "---\n",
    "#### 3. Select the area of the video you want to crop."
   ]
  },
  {
   "cell_type": "code",
   "execution_count": null,
   "metadata": {},
   "outputs": [
    {
     "name": "stdout",
     "output_type": "stream",
     "text": [
      "Original Size: 720x480\n",
      "Cropping canceled.\n"
     ]
    }
   ],
   "source": [
    "rst.select_cropping(video_dict)"
   ]
  },
  {
   "cell_type": "markdown",
   "metadata": {},
   "source": [
    "---\n",
    "#### 4. Select the same two points on each video to align them together."
   ]
  },
  {
   "cell_type": "code",
   "execution_count": 4,
   "metadata": {},
   "outputs": [
    {
     "name": "stdout",
     "output_type": "stream",
     "text": [
      "Point confirmed: (221, 312)\n",
      "Point confirmed: (492, 142)\n",
      "Point confirmed: (228, 294)\n",
      "Point confirmed: (495, 136)\n",
      "Point confirmed: (243, 294)\n",
      "Point confirmed: (504, 124)\n",
      "Point confirmed: (217, 322)\n",
      "Point confirmed: (479, 149)\n",
      "Point confirmed: (216, 308)\n",
      "Point confirmed: (495, 146)\n",
      "Point confirmed: (230, 299)\n",
      "Point confirmed: (496, 131)\n",
      "Point confirmed: (241, 297)\n",
      "Point confirmed: (502, 124)\n",
      "Point confirmed: (217, 320)\n",
      "Point confirmed: (483, 148)\n",
      "Point confirmed: (222, 309)\n",
      "Point confirmed: (495, 141)\n",
      "Point confirmed: (228, 305)\n",
      "Point confirmed: (497, 138)\n",
      "Point confirmed: (242, 295)\n",
      "Point confirmed: (504, 130)\n",
      "Point confirmed: (222, 320)\n",
      "Point confirmed: (483, 150)\n",
      "Point confirmed: (218, 312)\n",
      "Point confirmed: (492, 141)\n",
      "Point confirmed: (233, 302)\n",
      "Point confirmed: (498, 136)\n",
      "Point confirmed: (240, 295)\n",
      "Point confirmed: (505, 130)\n",
      "Point confirmed: (216, 319)\n",
      "Point confirmed: (483, 148)\n",
      "Alignment settings applied to all videos.\n"
     ]
    }
   ],
   "source": [
    "rst.select_alignment(video_dict)"
   ]
  },
  {
   "cell_type": "markdown",
   "metadata": {},
   "source": [
    "---\n",
    "#### 5. Apply trimming, cropping, and alignment to the selected videos. \n",
    "---\n",
    "Before running the following cell, you can save the video dictionary to a JSON file using the `save_video_dict` function:\n",
    "\n",
    "```python\n",
    "file_path = r'path/to/file.json'\n",
    "rst.save_video_dict(video_dict, file_path)\n",
    "```\n",
    "Once stored, you can edit the JSON file to modify the trimming, cropping, and alignment parameters manually.\n",
    "When you are done editing, you can load the video dictionary from the JSON file using the `load_video_dict` function:\n",
    "\n",
    "```python\n",
    "video_dict = rst.load_video_dict(file_path)\n",
    "```\n",
    "---"
   ]
  },
  {
   "cell_type": "code",
   "execution_count": 5,
   "metadata": {},
   "outputs": [],
   "source": [
    "file_path = r'd:\\sdhers\\3_obj\\Chopped videos\\file.json'\n",
    "rst.save_video_dict(video_dict, file_path)"
   ]
  },
  {
   "cell_type": "code",
   "execution_count": 2,
   "metadata": {},
   "outputs": [],
   "source": [
    "file_path = r'd:\\sdhers\\3_obj\\Chopped videos\\file.json'\n",
    "video_dict = rst.load_video_dict(file_path)"
   ]
  },
  {
   "cell_type": "code",
   "execution_count": 3,
   "metadata": {},
   "outputs": [
    {
     "name": "stderr",
     "output_type": "stream",
     "text": [
      "INFO:rainstorm.video_handling:Mean points: [[227, 306], [493, 138]]\n",
      "INFO:rainstorm.video_handling:Processed 03_2025-TORM_3xTR-R01_C1n-TS.mp4.\n",
      "INFO:rainstorm.video_handling:Processed 03_2025-TORM_3xTR-R02_C1i-TS.mp4.\n",
      "INFO:rainstorm.video_handling:Processed 03_2025-TORM_3xTR-R03_C1d-TS.mp4.\n",
      "INFO:rainstorm.video_handling:Processed 03_2025-TORM_3xTR-R04_C1a-TS.mp4.\n",
      "INFO:rainstorm.video_handling:Processed 03_2025-TORM_3xTR-R05_C2n-TS.mp4.\n",
      "INFO:rainstorm.video_handling:Processed 03_2025-TORM_3xTR-R06_C2i-TS.mp4.\n",
      "INFO:rainstorm.video_handling:Processed 03_2025-TORM_3xTR-R07_C2d-TS.mp4.\n",
      "INFO:rainstorm.video_handling:Processed 03_2025-TORM_3xTR-R08_C2a-TS.mp4.\n",
      "INFO:rainstorm.video_handling:Processed 03_2025-TORM_3xTR-R09_C3n-TS.mp4.\n",
      "INFO:rainstorm.video_handling:Processed 03_2025-TORM_3xTR-R10_C3i-TS.mp4.\n",
      "INFO:rainstorm.video_handling:Processed 03_2025-TORM_3xTR-R11_C3d-TS.mp4.\n",
      "INFO:rainstorm.video_handling:Processed 03_2025-TORM_3xTR-R12_C3a-TS.mp4.\n",
      "INFO:rainstorm.video_handling:Processed 03_2025-TORM_3xTR-R13_C4n-TS.mp4.\n",
      "INFO:rainstorm.video_handling:Processed 03_2025-TORM_3xTR-R14_C4i-TS.mp4.\n",
      "INFO:rainstorm.video_handling:Processed 03_2025-TORM_3xTR-R15_C4d-TS.mp4.\n",
      "INFO:rainstorm.video_handling:Processed 03_2025-TORM_3xTR-R16_C4a-TS.mp4.\n",
      "INFO:rainstorm.video_handling:No trimming applied.\n",
      "INFO:rainstorm.video_handling:Alignment applied using mean points [227, 306] and [493, 138].\n",
      "INFO:rainstorm.video_handling:No cropping applied.\n",
      "INFO:rainstorm.video_handling:Modified videos saved in 'None'.\n"
     ]
    }
   ],
   "source": [
    "# Apply trimming, cropping, and alignment\n",
    "rst.apply_transformations(video_dict, trim = False, crop = False, align = True)"
   ]
  },
  {
   "cell_type": "markdown",
   "metadata": {},
   "source": [
    "---\n",
    "#### 6. Draw ROIs\n",
    "\n",
    "How to use:\n",
    "- Select the videos you want to draw on\n",
    "- Left-click to select a point\n",
    "- Left-click and drag to draw a rectangle\n",
    "  - Right-click and drag to move the rectangle\n",
    "  - Use the scroll wheel to resize the rectangle\n",
    "  - Use Ctrl + scroll wheel to rotate the rectangle\n",
    "- Alt + left-click and drag to draw a scale line\n",
    "- Press 'S' to save the current ROI\n",
    "- Press 'Q' to quit and save all ROIs"
   ]
  },
  {
   "cell_type": "code",
   "execution_count": 5,
   "metadata": {},
   "outputs": [
    {
     "name": "stdout",
     "output_type": "stream",
     "text": [
      "Instructions:\n",
      "1. Left-click once to mark a point.\n",
      "2. Left-click and drag to draw a rectangle.\n",
      "3. Right-click and drag to move the ROI.\n",
      "4. Scroll to resize, Ctrl+Scroll to rotate.\n",
      "5. Alt+Left-click and drag to draw a scale line.\n",
      "6. Press 'S' to save selection or scale.\n",
      "7. Press 'Q' to quit and save all data.\n",
      "Selected 64 videos.\n",
      "No ROIs saved.\n"
     ]
    }
   ],
   "source": [
    "rst.draw_rois()"
   ]
  }
 ],
 "metadata": {
  "kernelspec": {
   "display_name": "rainstorm",
   "language": "python",
   "name": "python3"
  },
  "language_info": {
   "codemirror_mode": {
    "name": "ipython",
    "version": 3
   },
   "file_extension": ".py",
   "mimetype": "text/x-python",
   "name": "python",
   "nbconvert_exporter": "python",
   "pygments_lexer": "ipython3",
   "version": "3.9.21"
  }
 },
 "nbformat": 4,
 "nbformat_minor": 2
}
