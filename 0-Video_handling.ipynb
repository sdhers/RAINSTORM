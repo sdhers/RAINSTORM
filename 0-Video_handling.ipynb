{
 "cells": [
  {
   "cell_type": "markdown",
   "metadata": {},
   "source": [
    "RAIN - Real & Artificial Intelligence for Neuroscience\n",
    "\n",
    "## Video handling\n",
    "\n",
    "This Notebook is ment to offer a quick and easy way to prepare videos for pose estimation. It allows:\n",
    "- Trimming the video to the desired length.\n",
    "- Cropping the video to the desired size.\n",
    "- Aligning the videos based on two manually selected points (very useful when you want to batch process videos with ROIs).\n",
    "- Drawing ROIs on the video and selecting a distance for scaling."
   ]
  },
  {
   "cell_type": "markdown",
   "metadata": {},
   "source": [
    "---\n",
    "#### Load the necessary modules"
   ]
  },
  {
   "cell_type": "code",
   "execution_count": 4,
   "metadata": {},
   "outputs": [],
   "source": [
    "import rainstorm.video_handling as rst"
   ]
  },
  {
   "cell_type": "markdown",
   "metadata": {},
   "source": [
    "---\n",
    "#### Create a 'video dictionary' where we can store the parameters to edit each video.\n",
    "\n",
    "Run the cell and select the videos you want to edit from the pop up window."
   ]
  },
  {
   "cell_type": "code",
   "execution_count": 5,
   "metadata": {},
   "outputs": [
    {
     "name": "stdout",
     "output_type": "stream",
     "text": [
      "Selected 46 videos.\n"
     ]
    }
   ],
   "source": [
    "video_dict = rst.create_video_dict()"
   ]
  },
  {
   "cell_type": "markdown",
   "metadata": {},
   "source": [
    "---\n",
    "#### Select the time you want the video to start and end."
   ]
  },
  {
   "cell_type": "code",
   "execution_count": null,
   "metadata": {},
   "outputs": [],
   "source": [
    "rst.select_trimming(video_dict)"
   ]
  },
  {
   "cell_type": "markdown",
   "metadata": {},
   "source": [
    "---\n",
    "#### Select the area of the video you want to crop.\n",
    "\n",
    "How to use:\n",
    "\n",
    "  - 'Left-click' and drag to draw a rectangle\n",
    "    - 'Right-click' and drag to move the rectangle\n",
    "    - Use the scroll wheel to resize the rectangle\n",
    "    - Use 'Ctrl + scroll wheel' to rotate the rectangle\n",
    "  - Press 'Enter' to select the cropping area"
   ]
  },
  {
   "cell_type": "code",
   "execution_count": null,
   "metadata": {},
   "outputs": [],
   "source": [
    "rst.select_cropping(video_dict)"
   ]
  },
  {
   "cell_type": "markdown",
   "metadata": {},
   "source": [
    "---\n",
    "#### Select the same two points on each video to align them together.\n",
    "\n",
    "How to use:\n",
    "  - 'Left-click' to place a point\n",
    "  - Press 'Enter' to confirm the point\n",
    "  - Use 'WASD' to edit a point's position by one pixel\n",
    "  - Use 'Shift + scroll wheel' to zoom in/out\n",
    "  - Select two points in each video frame\n",
    "  - Press 'b' to go back\n",
    "  - Press 'e' to erase points from a frame\n",
    "  - Press 'q' to quit"
   ]
  },
  {
   "cell_type": "code",
   "execution_count": 6,
   "metadata": {},
   "outputs": [
    {
     "name": "stdout",
     "output_type": "stream",
     "text": [
      "Select alignment:\n",
      "  - 'Left-click' to place a point\n",
      "  - Press 'Enter' to confirm the point\n",
      "  - Use 'WASD' to edit a point's position by one pixel\n",
      "  - Use 'Shift + Mouse Wheel' to zoom in/out\n",
      "  - Select two points in each video frame\n",
      "  - Press 'b' to go back\n",
      "  - Press 'e' to erase points from a frame\n",
      "  - Press 'q' to quit\n"
     ]
    },
    {
     "data": {
      "text/plain": [
       "{'D:/sdhers/NOR_videos/PD/Chopped/2024_05-PD_45-TR-R13_C6n.mp4': {'trim': None,\n",
       "  'crop': None,\n",
       "  'align': {'first_point': (229, 135), 'second_point': (491, 135)}},\n",
       " 'D:/sdhers/NOR_videos/PD/Chopped/2024_05-PD_45-TR-R14_C6i.mp4': {'trim': None,\n",
       "  'crop': None,\n",
       "  'align': {'first_point': (228, 136), 'second_point': (491, 136)}},\n",
       " 'D:/sdhers/NOR_videos/PD/Chopped/2024_05-PD_45-TR-R15_C6d.mp4': {'trim': None,\n",
       "  'crop': None,\n",
       "  'align': {'first_point': (227, 136), 'second_point': (489, 135)}},\n",
       " 'D:/sdhers/NOR_videos/PD/Chopped/2024_05-PD_45-TR-R16_C6a.mp4': {'trim': None,\n",
       "  'crop': None,\n",
       "  'align': {'first_point': (229, 135), 'second_point': (489, 135)}},\n",
       " 'D:/sdhers/NOR_videos/PD/Chopped/2024_05-PD_45-TR-R17_C7n.mp4': {'trim': None,\n",
       "  'crop': None,\n",
       "  'align': None},\n",
       " 'D:/sdhers/NOR_videos/PD/Chopped/2024_05-PD_45-TR-R18_C7i.mp4': {'trim': None,\n",
       "  'crop': None,\n",
       "  'align': None},\n",
       " 'D:/sdhers/NOR_videos/PD/Chopped/2024_05-PD_45-TR-R19_C7d.mp4': {'trim': None,\n",
       "  'crop': None,\n",
       "  'align': None},\n",
       " 'D:/sdhers/NOR_videos/PD/Chopped/2024_05-PD_45-TR-R20_C8n.mp4': {'trim': None,\n",
       "  'crop': None,\n",
       "  'align': None},\n",
       " 'D:/sdhers/NOR_videos/PD/Chopped/2024_05-PD_45-TR-R21_C8i.mp4': {'trim': None,\n",
       "  'crop': None,\n",
       "  'align': None},\n",
       " 'D:/sdhers/NOR_videos/PD/Chopped/2024_05-PD_45-TR-R22_C8d.mp4': {'trim': None,\n",
       "  'crop': None,\n",
       "  'align': None},\n",
       " 'D:/sdhers/NOR_videos/PD/Chopped/2024_05-PD_45-TR-R23_C8a.mp4': {'trim': None,\n",
       "  'crop': None,\n",
       "  'align': None},\n",
       " 'D:/sdhers/NOR_videos/PD/Chopped/2024_05-PD_45-TS-R13_C6n.mp4': {'trim': None,\n",
       "  'crop': None,\n",
       "  'align': None},\n",
       " 'D:/sdhers/NOR_videos/PD/Chopped/2024_05-PD_45-TS-R14_C6i.mp4': {'trim': None,\n",
       "  'crop': None,\n",
       "  'align': None},\n",
       " 'D:/sdhers/NOR_videos/PD/Chopped/2024_05-PD_45-TS-R15_C6d.mp4': {'trim': None,\n",
       "  'crop': None,\n",
       "  'align': None},\n",
       " 'D:/sdhers/NOR_videos/PD/Chopped/2024_05-PD_45-TS-R16_C6a.mp4': {'trim': None,\n",
       "  'crop': None,\n",
       "  'align': None},\n",
       " 'D:/sdhers/NOR_videos/PD/Chopped/2024_05-PD_45-TS-R17_C7n.mp4': {'trim': None,\n",
       "  'crop': None,\n",
       "  'align': None},\n",
       " 'D:/sdhers/NOR_videos/PD/Chopped/2024_05-PD_45-TS-R18_C7i.mp4': {'trim': None,\n",
       "  'crop': None,\n",
       "  'align': None},\n",
       " 'D:/sdhers/NOR_videos/PD/Chopped/2024_05-PD_45-TS-R19_C7d.mp4': {'trim': None,\n",
       "  'crop': None,\n",
       "  'align': None},\n",
       " 'D:/sdhers/NOR_videos/PD/Chopped/2024_05-PD_45-TS-R20_C8n.mp4': {'trim': None,\n",
       "  'crop': None,\n",
       "  'align': None},\n",
       " 'D:/sdhers/NOR_videos/PD/Chopped/2024_05-PD_45-TS-R21_C8i.mp4': {'trim': None,\n",
       "  'crop': None,\n",
       "  'align': None},\n",
       " 'D:/sdhers/NOR_videos/PD/Chopped/2024_05-PD_45-TS-R22_C8d.mp4': {'trim': None,\n",
       "  'crop': None,\n",
       "  'align': None},\n",
       " 'D:/sdhers/NOR_videos/PD/Chopped/2024_05-PD_45-TS-R23_C8a.mp4': {'trim': None,\n",
       "  'crop': None,\n",
       "  'align': None},\n",
       " 'D:/sdhers/NOR_videos/PD/Chopped/2025_04-PD_45-TR-R01_C1i.mp4': {'trim': None,\n",
       "  'crop': None,\n",
       "  'align': None},\n",
       " 'D:/sdhers/NOR_videos/PD/Chopped/2025_04-PD_45-TR-R02_C1n.mp4': {'trim': None,\n",
       "  'crop': None,\n",
       "  'align': None},\n",
       " 'D:/sdhers/NOR_videos/PD/Chopped/2025_04-PD_45-TR-R03_C1d.mp4': {'trim': None,\n",
       "  'crop': None,\n",
       "  'align': None},\n",
       " 'D:/sdhers/NOR_videos/PD/Chopped/2025_04-PD_45-TR-R04_C1a.mp4': {'trim': None,\n",
       "  'crop': None,\n",
       "  'align': None},\n",
       " 'D:/sdhers/NOR_videos/PD/Chopped/2025_04-PD_45-TR-R05_C2n.mp4': {'trim': None,\n",
       "  'crop': None,\n",
       "  'align': None},\n",
       " 'D:/sdhers/NOR_videos/PD/Chopped/2025_04-PD_45-TR-R06_C2d.mp4': {'trim': None,\n",
       "  'crop': None,\n",
       "  'align': None},\n",
       " 'D:/sdhers/NOR_videos/PD/Chopped/2025_04-PD_45-TR-R07_C2i.mp4': {'trim': None,\n",
       "  'crop': None,\n",
       "  'align': None},\n",
       " 'D:/sdhers/NOR_videos/PD/Chopped/2025_04-PD_45-TR-R08_C2a.mp4': {'trim': None,\n",
       "  'crop': None,\n",
       "  'align': None},\n",
       " 'D:/sdhers/NOR_videos/PD/Chopped/2025_04-PD_45-TR-R09_C3i.mp4': {'trim': None,\n",
       "  'crop': None,\n",
       "  'align': None},\n",
       " 'D:/sdhers/NOR_videos/PD/Chopped/2025_04-PD_45-TR-R10_C3d.mp4': {'trim': None,\n",
       "  'crop': None,\n",
       "  'align': None},\n",
       " 'D:/sdhers/NOR_videos/PD/Chopped/2025_04-PD_45-TR-R11_C4i.mp4': {'trim': None,\n",
       "  'crop': None,\n",
       "  'align': None},\n",
       " 'D:/sdhers/NOR_videos/PD/Chopped/2025_04-PD_45-TR-R12_C5i.mp4': {'trim': None,\n",
       "  'crop': None,\n",
       "  'align': None},\n",
       " 'D:/sdhers/NOR_videos/PD/Chopped/2025_04-PD_45-TS-R01_C1i.mp4': {'trim': None,\n",
       "  'crop': None,\n",
       "  'align': None},\n",
       " 'D:/sdhers/NOR_videos/PD/Chopped/2025_04-PD_45-TS-R02_C1n.mp4': {'trim': None,\n",
       "  'crop': None,\n",
       "  'align': None},\n",
       " 'D:/sdhers/NOR_videos/PD/Chopped/2025_04-PD_45-TS-R03_C1d.mp4': {'trim': None,\n",
       "  'crop': None,\n",
       "  'align': None},\n",
       " 'D:/sdhers/NOR_videos/PD/Chopped/2025_04-PD_45-TS-R04_C1a.mp4': {'trim': None,\n",
       "  'crop': None,\n",
       "  'align': None},\n",
       " 'D:/sdhers/NOR_videos/PD/Chopped/2025_04-PD_45-TS-R05_C2n.mp4': {'trim': None,\n",
       "  'crop': None,\n",
       "  'align': None},\n",
       " 'D:/sdhers/NOR_videos/PD/Chopped/2025_04-PD_45-TS-R06_C2d.mp4': {'trim': None,\n",
       "  'crop': None,\n",
       "  'align': None},\n",
       " 'D:/sdhers/NOR_videos/PD/Chopped/2025_04-PD_45-TS-R07_C2i.mp4': {'trim': None,\n",
       "  'crop': None,\n",
       "  'align': None},\n",
       " 'D:/sdhers/NOR_videos/PD/Chopped/2025_04-PD_45-TS-R08_C2a.mp4': {'trim': None,\n",
       "  'crop': None,\n",
       "  'align': None},\n",
       " 'D:/sdhers/NOR_videos/PD/Chopped/2025_04-PD_45-TS-R09_C3i.mp4': {'trim': None,\n",
       "  'crop': None,\n",
       "  'align': None},\n",
       " 'D:/sdhers/NOR_videos/PD/Chopped/2025_04-PD_45-TS-R10_C3d.mp4': {'trim': None,\n",
       "  'crop': None,\n",
       "  'align': None},\n",
       " 'D:/sdhers/NOR_videos/PD/Chopped/2025_04-PD_45-TS-R11_C4i.mp4': {'trim': None,\n",
       "  'crop': None,\n",
       "  'align': None},\n",
       " 'D:/sdhers/NOR_videos/PD/Chopped/2025_04-PD_45-TS-R12_C5i.mp4': {'trim': None,\n",
       "  'crop': None,\n",
       "  'align': None}}"
      ]
     },
     "execution_count": 6,
     "metadata": {},
     "output_type": "execute_result"
    }
   ],
   "source": [
    "rst.select_alignment(video_dict)"
   ]
  },
  {
   "cell_type": "markdown",
   "metadata": {},
   "source": [
    "---\n",
    "#### Apply trimming, cropping, and alignment to the selected videos. \n",
    "---\n",
    "Before running the following cell, you can save the video dictionary to a JSON file using the `save_video_dict` function:\n",
    "\n",
    "```python\n",
    "rst.save_video_dict(video_dict)\n",
    "```\n",
    "Once stored, you can edit the JSON file to modify the trimming, cropping, and alignment parameters manually.\n",
    "When you are done editing, you can load the video dictionary from the JSON file using the `load_video_dict` function:\n",
    "\n",
    "```python\n",
    "video_dict = rst.load_video_dict()\n",
    "```\n",
    "---"
   ]
  },
  {
   "cell_type": "code",
   "execution_count": null,
   "metadata": {},
   "outputs": [],
   "source": [
    "rst.save_video_dict(video_dict)"
   ]
  },
  {
   "cell_type": "code",
   "execution_count": null,
   "metadata": {},
   "outputs": [],
   "source": [
    "rst.load_video_dict()"
   ]
  },
  {
   "cell_type": "code",
   "execution_count": null,
   "metadata": {},
   "outputs": [],
   "source": [
    "rst.apply_transformations(video_dict, trim = True, crop = True, align = True, horizontal = False)"
   ]
  },
  {
   "cell_type": "markdown",
   "metadata": {},
   "source": [
    "---\n",
    "#### Draw ROIs\n",
    "\n",
    "How to use:\n",
    "- Select the videos you want to draw on\n",
    "- Left-click to select a point\n",
    "- Left-click and drag to draw a rectangle\n",
    "  - Right-click and drag to move the rectangle\n",
    "  - Use the scroll wheel to resize the rectangle\n",
    "  - Use Ctrl + scroll wheel to rotate the rectangle\n",
    "- Alt + left-click and drag to draw a scale line\n",
    "- Press 'Enter' to save the current ROI\n",
    "- Press 'Q' to quit and save all ROIs"
   ]
  },
  {
   "cell_type": "code",
   "execution_count": 3,
   "metadata": {},
   "outputs": [
    {
     "name": "stdout",
     "output_type": "stream",
     "text": [
      "Draw ROIs:\n",
      "  - Select the videos you want to draw on\n",
      "  - Left-click to select a point\n",
      "  - Left-click and drag to draw a rectangle\n",
      "    - Right-click and drag to move the rectangle\n",
      "    - Use the scroll wheel to resize the rectangle\n",
      "    - Use Ctrl + scroll wheel to rotate the rectangle\n",
      "  - Alt + left-click and drag to draw a scale line\n",
      "  - Press 'Enter' to save the current ROI\n",
      "  - Press 'Q' to quit and save all ROIs\n",
      "Selected 7 videos.\n",
      "No ROIs saved.\n"
     ]
    }
   ],
   "source": [
    "rst.draw_rois()"
   ]
  }
 ],
 "metadata": {
  "kernelspec": {
   "display_name": "rainstorm",
   "language": "python",
   "name": "python3"
  },
  "language_info": {
   "codemirror_mode": {
    "name": "ipython",
    "version": 3
   },
   "file_extension": ".py",
   "mimetype": "text/x-python",
   "name": "python",
   "nbconvert_exporter": "python",
   "pygments_lexer": "ipython3",
   "version": "3.9.21"
  }
 },
 "nbformat": 4,
 "nbformat_minor": 2
}
