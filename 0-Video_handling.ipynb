{
 "cells": [
  {
   "cell_type": "markdown",
   "metadata": {},
   "source": [
    "RAIN - Real & Artificial Intelligence for Neuroscience\n",
    "\n",
    "## Video handling\n",
    "\n",
    "This Notebook is meant to offer a quick and easy way to prepare videos for pose estimation and behavioral analysis. It allows:\n",
    "- Trimming the video to the desired length.\n",
    "- Cropping the video to the desired size.\n",
    "- Aligning the videos based on two manually selected points (very useful when you want to batch process videos with ROIs).\n",
    "- Rotating the video.\n",
    "\n",
    "And after videos are ready, it allows:\n",
    "- Drawing ROIs on the video\n",
    "- Selecting a distance for scaling."
   ]
  },
  {
   "cell_type": "markdown",
   "metadata": {},
   "source": [
    "---\n",
    "#### Load and run the Video Handling app"
   ]
  },
  {
   "cell_type": "code",
   "execution_count": null,
   "metadata": {},
   "outputs": [],
   "source": [
    "from rainstorm.VideoHandling import VideoHandling\n",
    "VideoHandling.run_app()"
   ]
  },
  {
   "cell_type": "markdown",
   "metadata": {},
   "source": [
    "---\n",
    "#### Load and run the Draw ROIs app"
   ]
  },
  {
   "cell_type": "code",
   "execution_count": null,
   "metadata": {},
   "outputs": [],
   "source": [
    "from rainstorm.DrawROIs import DrawROIs\n",
    "DrawROIs.run_app()"
   ]
  },
  {
   "cell_type": "markdown",
   "metadata": {},
   "source": [
    "---\n",
    "---\n",
    "## File handling\n",
    "\n",
    "Below you'll find are a compilation of many functions I've written when working with files.\n",
    "\n",
    "Sometimes it is useful to rename, move, and organize files, among other things."
   ]
  },
  {
   "cell_type": "code",
   "execution_count": null,
   "metadata": {},
   "outputs": [],
   "source": [
    "from pathlib import Path\n",
    "import os\n",
    "import pandas as pd"
   ]
  },
  {
   "cell_type": "code",
   "execution_count": null,
   "metadata": {},
   "outputs": [],
   "source": [
    "folder_path = r'C:\\Users\\dhers\\Desktop\\Experiment'"
   ]
  },
  {
   "cell_type": "markdown",
   "metadata": {},
   "source": [
    "---\n",
    "If you want to change a word from all filenames in a folder:"
   ]
  },
  {
   "cell_type": "code",
   "execution_count": null,
   "metadata": {},
   "outputs": [],
   "source": [
    "def edit_filenames(folder, before, after):\n",
    "    # Get a list of all files in the specified folder\n",
    "    files = os.listdir(folder)\n",
    "    \n",
    "    for file_name in files:\n",
    "        # Check if 'before' is in the file name\n",
    "        if before in file_name:\n",
    "            # Construct the new file name\n",
    "            new_name = file_name.replace(before, after)\n",
    "            # Construct full file paths\n",
    "            old_file = os.path.join(folder, file_name)\n",
    "            new_file = os.path.join(folder, new_name)\n",
    "            # Rename the file\n",
    "            os.rename(old_file, new_file)\n",
    "            print(f'Renamed: {old_file} to {new_file}')"
   ]
  },
  {
   "cell_type": "code",
   "execution_count": null,
   "metadata": {},
   "outputs": [],
   "source": [
    "before = '_rst'\n",
    "after = ''\n",
    "\n",
    "edit_filenames(folder_path, before, after)"
   ]
  },
  {
   "cell_type": "markdown",
   "metadata": {},
   "source": [
    "---\n",
    "If you want to list the names of the files in a folder into a csv (and eventually rename them):"
   ]
  },
  {
   "cell_type": "code",
   "execution_count": null,
   "metadata": {},
   "outputs": [],
   "source": [
    "def list_files(folder_path: str):\n",
    "    \"\"\"Lists all files in a folder and saves them to a CSV file.\n",
    "\n",
    "    Args:\n",
    "        folder_path (str): Path to the folder.\n",
    "    \"\"\"\n",
    "    # Create a Path object\n",
    "    path = Path(folder_path)\n",
    "\n",
    "    # Get a list of all files in the input folder\n",
    "    files = [os.path.basename(f) for f in path.iterdir() if f.is_file()]\n",
    "\n",
    "    # Sort files alphabetically\n",
    "    files.sort()\n",
    "\n",
    "    # Create a DataFrame for the CSV\n",
    "    df = pd.DataFrame({\n",
    "        'filename': files,\n",
    "    })\n",
    "\n",
    "    # Write DataFrame to CSV\n",
    "    output_csv = path / 'filenames.csv'\n",
    "    df.to_csv(output_csv, index=False)\n",
    "    print(f\"Filenames saved to {output_csv}\")"
   ]
  },
  {
   "cell_type": "code",
   "execution_count": null,
   "metadata": {},
   "outputs": [],
   "source": [
    "list_files(folder_path)"
   ]
  },
  {
   "cell_type": "markdown",
   "metadata": {},
   "source": [
    "To rename the files using the list created above:\n",
    "- Write the new names under a new column called 'rename' in the csv file\n",
    "- Run the function below"
   ]
  },
  {
   "cell_type": "code",
   "execution_count": null,
   "metadata": {},
   "outputs": [],
   "source": [
    "def rename_files_from_list(folder_path: str):\n",
    "    \"\"\"Renames files in a folder based on a CSV file containing a 'filename' and a 'rename' column.\n",
    "\n",
    "    Args:\n",
    "        folder_path (str): Path to the folder.\n",
    "    \"\"\"\n",
    "    # Create a Path object\n",
    "    path = Path(folder_path)\n",
    "    csv_path = path / 'filenames.csv'\n",
    "    \n",
    "    # Check if the CSV file exists\n",
    "    if not csv_path.exists():\n",
    "        print(f\"Error: CSV with filenames not found in the folder.\")\n",
    "        return\n",
    "    \n",
    "    # Read CSV file\n",
    "    df = pd.read_csv(csv_path)\n",
    "    \n",
    "    # Check if the required columns exist\n",
    "    if 'filename' not in df.columns or 'rename' not in df.columns:\n",
    "        print(\"Error: CSV must contain 'filename' and 'rename' columns.\")\n",
    "        return\n",
    "    \n",
    "    # Iterate through each row and rename files\n",
    "    for _, row in df.iterrows():\n",
    "        old_name = row['filename']\n",
    "        new_name = row['rename']\n",
    "        \n",
    "        old_path = path / old_name\n",
    "        new_path = path / new_name\n",
    "        \n",
    "        if old_path.exists():\n",
    "            os.rename(old_path, new_path)\n",
    "            print(f\"Renamed: {old_name} -> {new_name}\")\n",
    "        else:\n",
    "            print(f\"Warning: File '{old_name}' not found, skipping.\")\n",
    "    \n",
    "    print(\"Renaming process completed.\")"
   ]
  },
  {
   "cell_type": "code",
   "execution_count": null,
   "metadata": {},
   "outputs": [],
   "source": [
    "rename_files_from_list(folder_path)"
   ]
  }
 ],
 "metadata": {
  "kernelspec": {
   "display_name": "rainstorm",
   "language": "python",
   "name": "python3"
  },
  "language_info": {
   "codemirror_mode": {
    "name": "ipython",
    "version": 3
   },
   "file_extension": ".py",
   "mimetype": "text/x-python",
   "name": "python",
   "nbconvert_exporter": "python",
   "pygments_lexer": "ipython3",
   "version": "3.9.23"
  }
 },
 "nbformat": 4,
 "nbformat_minor": 2
}
