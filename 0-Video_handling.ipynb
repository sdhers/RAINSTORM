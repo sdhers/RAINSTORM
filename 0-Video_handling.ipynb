{
 "cells": [
  {
   "cell_type": "markdown",
   "metadata": {},
   "source": [
    "RAIN - Real & Artificial Intelligence for Neuroscience\n",
    "\n",
    "## Video handling\n",
    "\n",
    "This notebook is ment to offer a quick and easy way to prepare videos for pose estimation. It allows:\n",
    "- Trimming the video to the desired length.\n",
    "- Cropping the video to the desired size.\n",
    "- Aligning the videos based on two manually selected points (very useful when you want to batch process videos with ROIs).\n",
    "- Drawing ROIs on the video and selecting a distance for scaling."
   ]
  },
  {
   "cell_type": "markdown",
   "metadata": {},
   "source": [
    "---\n",
    "#### Load the necessary modules"
   ]
  },
  {
   "cell_type": "code",
   "execution_count": 1,
   "metadata": {},
   "outputs": [],
   "source": [
    "import rainstorm.video_handling as rst"
   ]
  },
  {
   "cell_type": "markdown",
   "metadata": {},
   "source": [
    "---\n",
    "#### 1. Create the video dictionary, where we can store the parameters to edit each video."
   ]
  },
  {
   "cell_type": "code",
   "execution_count": null,
   "metadata": {},
   "outputs": [],
   "source": [
    "video_dict = rst.create_video_dict()"
   ]
  },
  {
   "cell_type": "markdown",
   "metadata": {},
   "source": [
    "---\n",
    "#### 2. Select the time you want the video to start and end."
   ]
  },
  {
   "cell_type": "code",
   "execution_count": null,
   "metadata": {},
   "outputs": [
    {
     "name": "stdout",
     "output_type": "stream",
     "text": [
      "Trimming settings applied to all videos.\n"
     ]
    }
   ],
   "source": [
    "rst.select_trimming(video_dict)"
   ]
  },
  {
   "cell_type": "markdown",
   "metadata": {},
   "source": [
    "---\n",
    "#### 3. Select the area of the video you want to crop."
   ]
  },
  {
   "cell_type": "code",
   "execution_count": null,
   "metadata": {},
   "outputs": [
    {
     "name": "stdout",
     "output_type": "stream",
     "text": [
      "Original Size: 848x478\n",
      "Cropping settings applied to all videos.\n"
     ]
    }
   ],
   "source": [
    "rst.select_cropping(video_dict)"
   ]
  },
  {
   "cell_type": "markdown",
   "metadata": {},
   "source": [
    "---\n",
    "#### 4. Select the same two points on each video to align them together."
   ]
  },
  {
   "cell_type": "code",
   "execution_count": null,
   "metadata": {},
   "outputs": [
    {
     "name": "stdout",
     "output_type": "stream",
     "text": [
      "Point confirmed: (273, 245)\n",
      "Point confirmed: (503, 185)\n",
      "Point confirmed: (280, 182)\n",
      "Point confirmed: (526, 242)\n",
      "Point confirmed: (317, 222)\n",
      "Point confirmed: (489, 219)\n",
      "Point confirmed: (256, 238)\n",
      "Point confirmed: (507, 235)\n",
      "Alignment settings applied to all videos.\n"
     ]
    }
   ],
   "source": [
    "rst.select_alignment(video_dict)"
   ]
  },
  {
   "cell_type": "markdown",
   "metadata": {},
   "source": [
    "---\n",
    "#### 5. Apply trimming, cropping, and alignment to the selected videos. \n",
    "---\n",
    "Before running the following cell, you can save the video dictionary to a JSON file using the `save_video_dict` function:\n",
    "\n",
    "```python\n",
    "file_path = r'path/to/file.json'\n",
    "rst.save_video_dict(video_dict, file_path)\n",
    "```\n",
    "Once stored, you can edit the JSON file to modify the trimming, cropping, and alignment parameters manually.\n",
    "When you are done editing, you can load the video dictionary from the JSON file using the `load_video_dict` function:\n",
    "\n",
    "```python\n",
    "video_dict = rst.load_video_dict(file_path)\n",
    "```\n",
    "---"
   ]
  },
  {
   "cell_type": "code",
   "execution_count": null,
   "metadata": {},
   "outputs": [
    {
     "name": "stdout",
     "output_type": "stream",
     "text": [
      "Mean points: [[281, 220], [506, 220]]\n",
      "Processed VID-20250303-WA0001.mp4.\n",
      "Processed VID-20250303-WA0002.mp4.\n",
      "Processed VID-20250303-WA0003.mp4.\n",
      "Processed VID-20250303-WA0004.mp4.\n",
      "Trimmed 1.00s - 4.00s.\n",
      "Aligned [281, 220] and [506, 220].\n",
      "Cropped 586x455 from 848x478 pixels.\n",
      "Modified videos saved in 'C:/Users/dhers/Desktop/Video_edit\\modified'.\n"
     ]
    }
   ],
   "source": [
    "# Apply trimming, cropping, and alignment\n",
    "rst.apply_transformations(video_dict, trim = True, crop = True, align = True)"
   ]
  },
  {
   "cell_type": "markdown",
   "metadata": {},
   "source": [
    "---\n",
    "#### 6. Draw ROIs\n",
    "\n",
    "How to use:\n",
    "- Select the videos you want to draw on\n",
    "- Left-click to select a point\n",
    "- Left-click and drag to draw a rectangle\n",
    "  - Right-click and drag to move the rectangle\n",
    "  - Use the scroll wheel to resize the rectangle\n",
    "  - Use Ctrl + scroll wheel to rotate the rectangle\n",
    "- Alt + left-click and drag to draw a scale line\n",
    "- Press 'S' to save the current ROI\n",
    "- Press 'Q' to quit and save all ROIs"
   ]
  },
  {
   "cell_type": "code",
   "execution_count": 2,
   "metadata": {},
   "outputs": [
    {
     "name": "stdout",
     "output_type": "stream",
     "text": [
      "Instructions:\n",
      "1. Left-click once to mark a point.\n",
      "2. Left-click and drag to draw a rectangle.\n",
      "3. Right-click and drag to move the ROI.\n",
      "4. Scroll to resize, Ctrl+Scroll to rotate.\n",
      "5. Alt+Left-click and drag to draw a scale line.\n",
      "6. Press 'S' to save selection or scale.\n",
      "7. Press 'Q' to quit and save all data.\n",
      "Selected 3 videos.\n",
      "ROIs saved to C:/Users/dhers/OneDrive - UBA/Guille/Social (labeled)/aligned/trimmed\\ROIs.json\n"
     ]
    }
   ],
   "source": [
    "rst.draw_rois()"
   ]
  }
 ],
 "metadata": {
  "kernelspec": {
   "display_name": "rainstorm",
   "language": "python",
   "name": "python3"
  },
  "language_info": {
   "codemirror_mode": {
    "name": "ipython",
    "version": 3
   },
   "file_extension": ".py",
   "mimetype": "text/x-python",
   "name": "python",
   "nbconvert_exporter": "python",
   "pygments_lexer": "ipython3",
   "version": "3.9.21"
  }
 },
 "nbformat": 4,
 "nbformat_minor": 2
}
