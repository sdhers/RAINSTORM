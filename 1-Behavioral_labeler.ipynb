{
 "cells": [
  {
   "cell_type": "markdown",
   "metadata": {},
   "source": [
    "RAIN - Real & Artificial Intelligence for Neuroscience\n",
    "\n",
    "## Behavioral Labeler\n",
    "Lets you label videos frame by frame with multiple behaviors\n",
    "\n",
    "How to use:\n",
    "- First, select the video you want to label.\n",
    "- You'll be prompted to say if you want to load a previous labeling csv file, select yes if you want to pick up where you left off labeling the video.\n",
    "- Select (confirm) the behaviors you want to label, and their keys.\n",
    "- After a while (the frames take some time to load), the labeler will open and you'll see:\n",
    "  - The current frame.\n",
    "  - A dark margin on the right, with the video name, frame number, and a brief summary of the navigation instructions.\n",
    "  - A list of the selected behaviors, with their keys, and the total labeled instances for each.\n",
    "- Start navigating the video, and label the behaviors on each frame.\n",
    "- Once you reach the end of the video, or after pressing 'Q', the labeler will exit and ask it you'd like to save the labeled instances to a csv file.\n"
   ]
  },
  {
   "cell_type": "markdown",
   "metadata": {},
   "source": [
    "---\n",
    "#### Load the necessary modules"
   ]
  },
  {
   "cell_type": "code",
   "execution_count": 1,
   "metadata": {},
   "outputs": [],
   "source": [
    "import rainstorm.behavioral_labeler as rst"
   ]
  },
  {
   "cell_type": "markdown",
   "metadata": {},
   "source": [
    "---\n",
    "#### Run the behavioral labeler\n",
    "You can state the behaviors you want to label, and their keys."
   ]
  },
  {
   "cell_type": "code",
   "execution_count": 3,
   "metadata": {},
   "outputs": [],
   "source": [
    "behaviors= ['exp_1', 'exp_2', 'freezing', 'front_grooming', 'back_grooming', 'rearing', 'head_dipping', 'protected_hd']\n",
    "keys= ['4','6','f','g','b','r','h','p'] # One key for each behavior\n",
    "\n",
    "rst.labeler(behaviors, keys)"
   ]
  }
 ],
 "metadata": {
  "kernelspec": {
   "display_name": "rainstorm",
   "language": "python",
   "name": "python3"
  },
  "language_info": {
   "codemirror_mode": {
    "name": "ipython",
    "version": 3
   },
   "file_extension": ".py",
   "mimetype": "text/x-python",
   "name": "python",
   "nbconvert_exporter": "python",
   "pygments_lexer": "ipython3",
   "version": "3.9.21"
  }
 },
 "nbformat": 4,
 "nbformat_minor": 2
}
