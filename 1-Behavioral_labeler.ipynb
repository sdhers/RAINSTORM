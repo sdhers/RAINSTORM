{
 "cells": [
  {
   "cell_type": "markdown",
   "metadata": {},
   "source": [
    "RAIN - Real & Artificial Intelligence for Neuroscience\n",
    "\n",
    "## Behavioral Labeler\n",
    "Tool to label videos frame by frame with multiple behaviors.\n",
    "\n",
    "How to use:\n",
    "- First, select the video you want to label.\n",
    "- You'll be prompted to say if you want to load a previous labeling csv file, select yes if you want to pick up where you left off labeling the video.\n",
    "- Select (confirm) the behaviors you want to label, and their keys (Avoid using 'q' since it's used to exit the labeler).\n",
    "- After a while (the frames take some time to load), the labeler will open and you'll see:\n",
    "  - The current frame.\n",
    "  - A margin with the video name, frame number, and a brief summary of the navigation instructions.\n",
    "  - A list of the selected behaviors, with their keys, and the total labeled instances for each.\n",
    "- Start navigating the video, and label the behaviors on each frame.\n",
    "- Once you reach the end of the video, or after pressing 'Q', the labeler will exit and ask it you'd like to save the labeled instances to a csv file.\n"
   ]
  },
  {
   "cell_type": "markdown",
   "metadata": {},
   "source": [
    "---\n",
    "#### Load the necessary modules"
   ]
  },
  {
   "cell_type": "code",
   "execution_count": 1,
   "metadata": {},
   "outputs": [],
   "source": [
    "from rainstorm.BehavioralLabeler import BehavioralLabeler"
   ]
  },
  {
   "cell_type": "markdown",
   "metadata": {},
   "source": [
    "---\n",
    "#### Run the behavioral labeler"
   ]
  },
  {
   "cell_type": "code",
   "execution_count": 2,
   "metadata": {},
   "outputs": [
    {
     "name": "stderr",
     "output_type": "stream",
     "text": [
      "2025-06-02 17:23:17,481 - root - INFO - Logging setup complete.\n",
      "2025-06-02 17:23:17,482 - rainstorm.BehavioralLabeler.BehavioralLabeler - INFO - BehavioralLabeler application started.\n",
      "2025-06-02 17:23:17,483 - rainstorm.BehavioralLabeler.src.video_processor - INFO - VideoHandler initialized.\n",
      "2025-06-02 17:23:17,483 - rainstorm.BehavioralLabeler.src.app - INFO - LabelingApp initialized.\n",
      "2025-06-02 17:23:17,484 - rainstorm.BehavioralLabeler.src.app - INFO - Starting LabelingApp.run()\n",
      "2025-06-02 17:23:18,824 - rainstorm.BehavioralLabeler.gui.main_menu_window - INFO - Main menu cancelled.\n",
      "2025-06-02 17:23:19,974 - rainstorm.BehavioralLabeler.gui.main_menu_window - INFO - Messagebox 'Configuration Cancelled' displayed. User response: True\n",
      "2025-06-02 17:23:19,976 - rainstorm.BehavioralLabeler.src.app - INFO - Application startup cancelled by user from main menu.\n",
      "2025-06-02 17:23:19,978 - rainstorm.BehavioralLabeler.BehavioralLabeler - INFO - BehavioralLabeler application finished or terminated due to error.\n"
     ]
    }
   ],
   "source": [
    "BehavioralLabeler.run_app()"
   ]
  }
 ],
 "metadata": {
  "kernelspec": {
   "display_name": "rainstorm",
   "language": "python",
   "name": "python3"
  },
  "language_info": {
   "codemirror_mode": {
    "name": "ipython",
    "version": 3
   },
   "file_extension": ".py",
   "mimetype": "text/x-python",
   "name": "python",
   "nbconvert_exporter": "python",
   "pygments_lexer": "ipython3",
   "version": "3.9.21"
  }
 },
 "nbformat": 4,
 "nbformat_minor": 2
}
