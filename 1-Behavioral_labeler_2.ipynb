{
 "cells": [
  {
   "cell_type": "code",
   "execution_count": 1,
   "id": "27cca6a5",
   "metadata": {},
   "outputs": [
    {
     "ename": "TypeError",
     "evalue": "unsupported operand type(s) for |: 'type' and 'NoneType'",
     "output_type": "error",
     "traceback": [
      "\u001b[1;31m---------------------------------------------------------------------------\u001b[0m",
      "\u001b[1;31mTypeError\u001b[0m                                 Traceback (most recent call last)",
      "Cell \u001b[1;32mIn[1], line 23\u001b[0m\n\u001b[0;32m     18\u001b[0m sys\u001b[38;5;241m.\u001b[39mpath\u001b[38;5;241m.\u001b[39mappend(os\u001b[38;5;241m.\u001b[39mgetcwd())\n\u001b[0;32m     20\u001b[0m \u001b[38;5;66;03m# Now you can import the BehavioralLabeler module and call its run_app function.\u001b[39;00m\n\u001b[0;32m     21\u001b[0m \u001b[38;5;66;03m# The import path is 'BehavioralLabeler.BehavioralLabeler' because\u001b[39;00m\n\u001b[0;32m     22\u001b[0m \u001b[38;5;66;03m# 'BehavioralLabeler' is now a package, and 'BehavioralLabeler.py' is a module inside it.\u001b[39;00m\n\u001b[1;32m---> 23\u001b[0m \u001b[38;5;28;01mfrom\u001b[39;00m \u001b[38;5;21;01mrainstorm\u001b[39;00m\u001b[38;5;21;01m.\u001b[39;00m\u001b[38;5;21;01mBehavioralLabeler\u001b[39;00m\u001b[38;5;21;01m.\u001b[39;00m\u001b[38;5;21;01mBehavioralLabeler\u001b[39;00m \u001b[38;5;28;01mimport\u001b[39;00m run_app\n\u001b[0;32m     25\u001b[0m \u001b[38;5;66;03m# Run the application\u001b[39;00m\n\u001b[0;32m     26\u001b[0m \u001b[38;5;28mprint\u001b[39m(\u001b[38;5;124m\"\u001b[39m\u001b[38;5;124mLaunching BehavioralLabeler app...\u001b[39m\u001b[38;5;124m\"\u001b[39m)\n",
      "File \u001b[1;32mc:\\Users\\dhers\\Desktop\\Rainstorm\\rainstorm\\BehavioralLabeler\\BehavioralLabeler.py:11\u001b[0m\n\u001b[0;32m      8\u001b[0m \u001b[38;5;66;03m# --- Conditional Imports ---\u001b[39;00m\n\u001b[0;32m      9\u001b[0m \u001b[38;5;66;03m# Try to import using relative paths first (for when this file is part of a package)\u001b[39;00m\n\u001b[0;32m     10\u001b[0m \u001b[38;5;28;01mtry\u001b[39;00m:\n\u001b[1;32m---> 11\u001b[0m     \u001b[38;5;28;01mfrom\u001b[39;00m \u001b[38;5;21;01m.\u001b[39;00m\u001b[38;5;21;01msrc\u001b[39;00m\u001b[38;5;21;01m.\u001b[39;00m\u001b[38;5;21;01mapp\u001b[39;00m \u001b[38;5;28;01mimport\u001b[39;00m LabelingApp\n\u001b[0;32m     12\u001b[0m     \u001b[38;5;28;01mfrom\u001b[39;00m \u001b[38;5;21;01m.\u001b[39;00m\u001b[38;5;21;01msrc\u001b[39;00m\u001b[38;5;21;01m.\u001b[39;00m\u001b[38;5;21;01mlogger\u001b[39;00m \u001b[38;5;28;01mimport\u001b[39;00m setup_logging\n\u001b[0;32m     13\u001b[0m \u001b[38;5;28;01mexcept\u001b[39;00m \u001b[38;5;167;01mImportError\u001b[39;00m:\n\u001b[0;32m     14\u001b[0m     \u001b[38;5;66;03m# If the relative import fails (meaning it's likely being run directly as a script),\u001b[39;00m\n\u001b[0;32m     15\u001b[0m     \u001b[38;5;66;03m# then adjust sys.path to find 'src' and 'gui' as top-level modules.\u001b[39;00m\n",
      "File \u001b[1;32mc:\\Users\\dhers\\Desktop\\Rainstorm\\rainstorm\\BehavioralLabeler\\src\\app.py:10\u001b[0m\n\u001b[0;32m      6\u001b[0m \u001b[38;5;28;01mfrom\u001b[39;00m \u001b[38;5;21;01mtkinter\u001b[39;00m \u001b[38;5;28;01mimport\u001b[39;00m Tk\n\u001b[0;32m      8\u001b[0m \u001b[38;5;66;03m# Use relative imports for modules within the same package structure\u001b[39;00m\n\u001b[0;32m      9\u001b[0m \u001b[38;5;66;03m# '..' means go up one level from 'src' (to 'BehavioralLabeler'), then into 'gui'\u001b[39;00m\n\u001b[1;32m---> 10\u001b[0m \u001b[38;5;28;01mfrom\u001b[39;00m \u001b[38;5;21;01m.\u001b[39;00m\u001b[38;5;21;01m.\u001b[39;00m\u001b[38;5;21;01mgui\u001b[39;00m \u001b[38;5;28;01mimport\u001b[39;00m main_menu_window \u001b[38;5;28;01mas\u001b[39;00m mmw\n\u001b[0;32m     11\u001b[0m \u001b[38;5;28;01mfrom\u001b[39;00m \u001b[38;5;21;01m.\u001b[39;00m\u001b[38;5;21;01m.\u001b[39;00m\u001b[38;5;21;01mgui\u001b[39;00m \u001b[38;5;28;01mimport\u001b[39;00m frame_display \u001b[38;5;28;01mas\u001b[39;00m fd\n\u001b[0;32m     13\u001b[0m \u001b[38;5;66;03m# '.' means within the current package ('src')\u001b[39;00m\n",
      "File \u001b[1;32mc:\\Users\\dhers\\Desktop\\Rainstorm\\rainstorm\\BehavioralLabeler\\gui\\main_menu_window.py:22\u001b[0m\n\u001b[0;32m     19\u001b[0m \u001b[38;5;28;01mdef\u001b[39;00m \u001b[38;5;21mask_for_input\u001b[39m(title: \u001b[38;5;28mstr\u001b[39m, prompt: \u001b[38;5;28mstr\u001b[39m, initial_value: \u001b[38;5;28mstr\u001b[39m \u001b[38;5;241m=\u001b[39m \u001b[38;5;124m\"\u001b[39m\u001b[38;5;124m\"\u001b[39m) \u001b[38;5;241m-\u001b[39m\u001b[38;5;241m>\u001b[39m \u001b[38;5;28mstr\u001b[39m:\n\u001b[0;32m     20\u001b[0m     root \u001b[38;5;241m=\u001b[39m Tk(); root\u001b[38;5;241m.\u001b[39mwithdraw(); user_input \u001b[38;5;241m=\u001b[39m simpledialog\u001b[38;5;241m.\u001b[39maskstring(title, prompt, initial_value\u001b[38;5;241m=\u001b[39minitial_value); root\u001b[38;5;241m.\u001b[39mdestroy(); logger\u001b[38;5;241m.\u001b[39minfo(\u001b[38;5;124mf\u001b[39m\u001b[38;5;124m\"\u001b[39m\u001b[38;5;124mInput dialog \u001b[39m\u001b[38;5;124m'\u001b[39m\u001b[38;5;132;01m{\u001b[39;00mtitle\u001b[38;5;132;01m}\u001b[39;00m\u001b[38;5;124m'\u001b[39m\u001b[38;5;124m displayed. User input: \u001b[39m\u001b[38;5;132;01m{\u001b[39;00muser_input\u001b[38;5;132;01m}\u001b[39;00m\u001b[38;5;124m\"\u001b[39m); \u001b[38;5;28;01mreturn\u001b[39;00m user_input\n\u001b[1;32m---> 22\u001b[0m \u001b[38;5;28;01mclass\u001b[39;00m \u001b[38;5;21;01mMainMenuWindow\u001b[39;00m:\n\u001b[0;32m     23\u001b[0m     FIXED_CONTROL_KEY_CHARS \u001b[38;5;241m=\u001b[39m \u001b[38;5;28mset\u001b[39m(config\u001b[38;5;241m.\u001b[39mFIXED_CONTROL_KEYS\u001b[38;5;241m.\u001b[39mvalues())\n\u001b[0;32m     25\u001b[0m     \u001b[38;5;28;01mdef\u001b[39;00m \u001b[38;5;21m__init__\u001b[39m(\u001b[38;5;28mself\u001b[39m, master, initial_behaviors: \u001b[38;5;28mlist\u001b[39m, initial_keys: \u001b[38;5;28mlist\u001b[39m, initial_operant_keys: \u001b[38;5;28mdict\u001b[39m):\n",
      "File \u001b[1;32mc:\\Users\\dhers\\Desktop\\Rainstorm\\rainstorm\\BehavioralLabeler\\gui\\main_menu_window.py:165\u001b[0m, in \u001b[0;36mMainMenuWindow\u001b[1;34m()\u001b[0m\n\u001b[0;32m    162\u001b[0m     Button(button_frame, text\u001b[38;5;241m=\u001b[39m\u001b[38;5;124m\"\u001b[39m\u001b[38;5;124mStart Labeling\u001b[39m\u001b[38;5;124m\"\u001b[39m, command\u001b[38;5;241m=\u001b[39m\u001b[38;5;28mself\u001b[39m\u001b[38;5;241m.\u001b[39m_start_labeling)\u001b[38;5;241m.\u001b[39mpack(side\u001b[38;5;241m=\u001b[39m\u001b[38;5;124m'\u001b[39m\u001b[38;5;124mleft\u001b[39m\u001b[38;5;124m'\u001b[39m, padx\u001b[38;5;241m=\u001b[39m\u001b[38;5;241m10\u001b[39m)\n\u001b[0;32m    163\u001b[0m     Button(button_frame, text\u001b[38;5;241m=\u001b[39m\u001b[38;5;124m\"\u001b[39m\u001b[38;5;124mCancel\u001b[39m\u001b[38;5;124m\"\u001b[39m, command\u001b[38;5;241m=\u001b[39m\u001b[38;5;28mself\u001b[39m\u001b[38;5;241m.\u001b[39mon_cancel)\u001b[38;5;241m.\u001b[39mpack(side\u001b[38;5;241m=\u001b[39m\u001b[38;5;124m'\u001b[39m\u001b[38;5;124mleft\u001b[39m\u001b[38;5;124m'\u001b[39m, padx\u001b[38;5;241m=\u001b[39m\u001b[38;5;241m10\u001b[39m)\n\u001b[1;32m--> 165\u001b[0m \u001b[38;5;28;01mdef\u001b[39;00m \u001b[38;5;21m_validate_operant_keys\u001b[39m(\u001b[38;5;28mself\u001b[39m) \u001b[38;5;241m-\u001b[39m\u001b[38;5;241m>\u001b[39m \u001b[38;5;28mtuple\u001b[39m[\u001b[38;5;28mbool\u001b[39m, \u001b[38;5;28;43mdict\u001b[39;49m\u001b[43m \u001b[49m\u001b[38;5;241;43m|\u001b[39;49m\u001b[43m \u001b[49m\u001b[38;5;28;43;01mNone\u001b[39;49;00m]:\n\u001b[0;32m    166\u001b[0m     op_keys_values \u001b[38;5;241m=\u001b[39m {\n\u001b[0;32m    167\u001b[0m         \u001b[38;5;124m'\u001b[39m\u001b[38;5;124mnext\u001b[39m\u001b[38;5;124m'\u001b[39m: \u001b[38;5;28mself\u001b[39m\u001b[38;5;241m.\u001b[39mnext_key_var\u001b[38;5;241m.\u001b[39mget()\u001b[38;5;241m.\u001b[39mstrip()\u001b[38;5;241m.\u001b[39mlower(),\n\u001b[0;32m    168\u001b[0m         \u001b[38;5;124m'\u001b[39m\u001b[38;5;124mprev\u001b[39m\u001b[38;5;124m'\u001b[39m: \u001b[38;5;28mself\u001b[39m\u001b[38;5;241m.\u001b[39mprev_key_var\u001b[38;5;241m.\u001b[39mget()\u001b[38;5;241m.\u001b[39mstrip()\u001b[38;5;241m.\u001b[39mlower(),\n\u001b[0;32m    169\u001b[0m         \u001b[38;5;124m'\u001b[39m\u001b[38;5;124mffw\u001b[39m\u001b[38;5;124m'\u001b[39m: \u001b[38;5;28mself\u001b[39m\u001b[38;5;241m.\u001b[39mffw_key_var\u001b[38;5;241m.\u001b[39mget()\u001b[38;5;241m.\u001b[39mstrip()\u001b[38;5;241m.\u001b[39mlower(),\n\u001b[0;32m    170\u001b[0m         \u001b[38;5;124m'\u001b[39m\u001b[38;5;124merase\u001b[39m\u001b[38;5;124m'\u001b[39m: \u001b[38;5;28mself\u001b[39m\u001b[38;5;241m.\u001b[39merase_key_var\u001b[38;5;241m.\u001b[39mget()\u001b[38;5;241m.\u001b[39mstrip()\u001b[38;5;241m.\u001b[39mlower()\n\u001b[0;32m    171\u001b[0m     }\n\u001b[0;32m    172\u001b[0m     key_names_map \u001b[38;5;241m=\u001b[39m {\u001b[38;5;124m'\u001b[39m\u001b[38;5;124mnext\u001b[39m\u001b[38;5;124m'\u001b[39m: \u001b[38;5;124m\"\u001b[39m\u001b[38;5;124mNext\u001b[39m\u001b[38;5;124m\"\u001b[39m, \u001b[38;5;124m'\u001b[39m\u001b[38;5;124mprev\u001b[39m\u001b[38;5;124m'\u001b[39m: \u001b[38;5;124m\"\u001b[39m\u001b[38;5;124mPrev\u001b[39m\u001b[38;5;124m\"\u001b[39m, \u001b[38;5;124m'\u001b[39m\u001b[38;5;124mffw\u001b[39m\u001b[38;5;124m'\u001b[39m: \u001b[38;5;124m\"\u001b[39m\u001b[38;5;124mFFW\u001b[39m\u001b[38;5;124m\"\u001b[39m, \u001b[38;5;124m'\u001b[39m\u001b[38;5;124merase\u001b[39m\u001b[38;5;124m'\u001b[39m: \u001b[38;5;124m\"\u001b[39m\u001b[38;5;124mErase\u001b[39m\u001b[38;5;124m\"\u001b[39m} \u001b[38;5;66;03m# Shorter for messages\u001b[39;00m\n",
      "\u001b[1;31mTypeError\u001b[0m: unsupported operand type(s) for |: 'type' and 'NoneType'"
     ]
    }
   ],
   "source": [
    "import os\n",
    "import sys\n",
    "\n",
    "# IMPORTANT: Adjust this path based on your notebook's location\n",
    "# If your notebook is in the same directory as the 'BehavioralLabeler' folder:\n",
    "# e.g., my_project/my_notebook.ipynb and my_project/BehavioralLabeler/\n",
    "# Then you need to add the 'my_project' directory to the path.\n",
    "# Assuming your notebook is in the *parent* directory of BehavioralLabeler:\n",
    "# e.g.,\n",
    "#   your_project/\n",
    "#     my_notebook.ipynb\n",
    "#     BehavioralLabeler/\n",
    "#       BehavioralLabeler.py\n",
    "#       ...\n",
    "# In this case, you need to add 'your_project' to sys.path.\n",
    "# The following line assumes the notebook is in the *same* directory as the\n",
    "# 'BehavioralLabeler' folder, so we add the current working directory.\n",
    "sys.path.append(os.getcwd())\n",
    "\n",
    "# Now you can import the BehavioralLabeler module and call its run_app function.\n",
    "# The import path is 'BehavioralLabeler.BehavioralLabeler' because\n",
    "# 'BehavioralLabeler' is now a package, and 'BehavioralLabeler.py' is a module inside it.\n",
    "from rainstorm.BehavioralLabeler.BehavioralLabeler import run_app\n",
    "\n",
    "# Run the application\n",
    "print(\"Launching BehavioralLabeler app...\")\n",
    "run_app()\n",
    "print(\"BehavioralLabeler app launched.\")"
   ]
  }
 ],
 "metadata": {
  "kernelspec": {
   "display_name": "rainstorm",
   "language": "python",
   "name": "python3"
  },
  "language_info": {
   "codemirror_mode": {
    "name": "ipython",
    "version": 3
   },
   "file_extension": ".py",
   "mimetype": "text/x-python",
   "name": "python",
   "nbconvert_exporter": "python",
   "pygments_lexer": "ipython3",
   "version": "3.9.21"
  }
 },
 "nbformat": 4,
 "nbformat_minor": 5
}
