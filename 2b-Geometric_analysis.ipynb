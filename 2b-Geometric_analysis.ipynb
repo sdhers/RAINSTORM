{
 "cells": [
  {
   "cell_type": "markdown",
   "metadata": {},
   "source": [
    "RAIN - Real & Artificial Intelligence for Neuroscience\n",
    "\n",
    "## Geometric analysis\n",
    "- This notebook will take the position.csv files (created using [2a-Prepare_positions](2a-Prepare_positions.ipynb) notebook) and process them using geometric criteria (distance, angle and overall movement).\n",
    "\n",
    "#### Requirements:\n",
    "- The position.csv files.\n",
    "- Geometric thresholds for exploration and freezing (see below)."
   ]
  },
  {
   "cell_type": "markdown",
   "metadata": {},
   "source": [
    "---\n",
    "#### Load the necessary modules"
   ]
  },
  {
   "cell_type": "code",
   "execution_count": null,
   "metadata": {},
   "outputs": [],
   "source": [
    "from pathlib import Path\n",
    "import rainstorm.geometric_analysis as rst"
   ]
  },
  {
   "cell_type": "markdown",
   "metadata": {},
   "source": [
    "---\n",
    "#### 1. State your project path\n",
    "You need to define the path to the same folder used in [2a-Prepare_positions](2a-Prepare_positions.ipynb), and the path to the parameters file (which contains the thresholds for the geometric analysis)."
   ]
  },
  {
   "cell_type": "code",
   "execution_count": null,
   "metadata": {},
   "outputs": [],
   "source": [
    "base = Path.cwd()\n",
    "folder_path = base / r'examples\\NOR' # Path to your experiment folder, now containing the params.yaml file\n",
    "params = folder_path / 'params.yaml'"
   ]
  },
  {
   "cell_type": "markdown",
   "metadata": {},
   "source": [
    "---\n",
    "#### 2. We can open an example file and see what is inside"
   ]
  },
  {
   "cell_type": "code",
   "execution_count": null,
   "metadata": {},
   "outputs": [],
   "source": [
    "# Select an example file\n",
    "example_path = rst.choose_example_positions(params, look_for = 'TS_03')\n",
    "\n",
    "# Plot mouse exploration around multiple targets\n",
    "rst.plot_positions(params, example_path)"
   ]
  },
  {
   "cell_type": "markdown",
   "metadata": {},
   "source": [
    "The plot shows the position of each target, along with the nose tracked and colored according to the angle of approach towards them.\n",
    "\n",
    "The geometric method labels exploration events when the nose is both colored (heading towards the target) and inside the dashed line (close to the target)."
   ]
  },
  {
   "cell_type": "markdown",
   "metadata": {},
   "source": [
    "---\n",
    "#### 3. We can use the positions to measure time spent in each of the drawn ROIs.\n",
    "\n",
    "If ROIs overlap, their order in the params.yaml file is critical. Those that come later in the list will always oclude the ones that come before. If a point is in multiple ROIs, it will be assigned the label of the one that was drawn last."
   ]
  },
  {
   "cell_type": "code",
   "execution_count": null,
   "metadata": {},
   "outputs": [],
   "source": [
    "roi_activity = rst.detect_roi_activity(params, example_path, bodypart = 'body')\n",
    "rst.plot_roi_activity(params, example_path, roi_activity, bodypart = 'body')"
   ]
  },
  {
   "cell_type": "code",
   "execution_count": null,
   "metadata": {},
   "outputs": [],
   "source": [
    "rst.plot_heatmap(params, example_path, bodypart = 'body', colorscale='hot_r')"
   ]
  },
  {
   "cell_type": "markdown",
   "metadata": {},
   "source": [
    "---\n",
    "#### 4.  We can also measure other behaviours, such as freezing"
   ]
  },
  {
   "cell_type": "code",
   "execution_count": null,
   "metadata": {},
   "outputs": [],
   "source": [
    "movement = rst.calculate_movement(params, example_path)\n",
    "rst.plot_freezing_events(params, example_path, movement)"
   ]
  },
  {
   "cell_type": "markdown",
   "metadata": {},
   "source": [
    "The plot shows the movement of the mouse over time, shading over freezing events.\n",
    "\n",
    "By setting a freezing threshold (which we can modify in the params file), we can quantify the time the mouse spent freezing."
   ]
  },
  {
   "cell_type": "markdown",
   "metadata": {},
   "source": [
    "---\n",
    "#### 5. Finally, we can analyze the position files and create:\n",
    "- A movement.csv file containing distance traveled, roi activity, and freezing events.\n",
    "- A geolabels.csv file with the exploration of each object, frame by frame."
   ]
  },
  {
   "cell_type": "code",
   "execution_count": null,
   "metadata": {},
   "outputs": [],
   "source": [
    "rst.batch_process_positions(params)"
   ]
  },
  {
   "cell_type": "markdown",
   "metadata": {},
   "source": [
    "---\n",
    "---\n",
    "#### Two new csv files were created for each video, one for exploration geolabels and the other for movement related scores.\n",
    "We can:\n",
    "- Move on to the next notebook to create an artificial neural network that labels exploratory behavior, [3a-Create_models](3a-Create_models.ipynb).\n",
    "- Lose all patience, go straight to [4-Seize_labels](4-Seize_labels.ipynb) and use the geolabels to plot the results of the experiment.\n",
    "\n",
    "---\n",
    "RAINSTORM - Created on Oct 26, 2023 - @author: Santiago D'hers"
   ]
  }
 ],
 "metadata": {
  "kernelspec": {
   "display_name": "rainstorm",
   "language": "python",
   "name": "python3"
  },
  "language_info": {
   "codemirror_mode": {
    "name": "ipython",
    "version": 3
   },
   "file_extension": ".py",
   "mimetype": "text/x-python",
   "name": "python",
   "nbconvert_exporter": "python",
   "pygments_lexer": "ipython3",
   "version": "3.9.21"
  }
 },
 "nbformat": 4,
 "nbformat_minor": 2
}
