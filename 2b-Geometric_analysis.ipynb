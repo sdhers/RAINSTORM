{
 "cells": [
  {
   "cell_type": "markdown",
   "metadata": {},
   "source": [
    "RAIN - Real & Artificial Intelligence for Neuroscience\n",
    "\n",
    "## Geometric analysis\n",
    "- This notebook will take the position.csv files (created using [2a-Prepare_positions](2a-Prepare_positions.ipynb) notebook) and process them using geometric criteria (distance, angle and overall movement).\n",
    "\n",
    "#### Requirements:\n",
    "- The position.csv files.\n",
    "- Geometric thresholds for exploration and freezing (see below)."
   ]
  },
  {
   "cell_type": "markdown",
   "metadata": {},
   "source": [
    "---\n",
    "#### Load the necessary modules"
   ]
  },
  {
   "cell_type": "code",
   "execution_count": null,
   "metadata": {},
   "outputs": [],
   "source": [
    "from pathlib import Path\n",
    "import rainstorm.geometric_analysis as rst"
   ]
  },
  {
   "cell_type": "markdown",
   "metadata": {},
   "source": [
    "---\n",
    "#### 1. State your project path\n",
    "You need to define the path to the same folder used in [2a-Prepare_positions](2a-Prepare_positions.ipynb), and the path to the parameters file (which contains parameters for the geometric analysis).\n",
    "\n",
    "`base` : The path to the downloaded repository.\n",
    "\n",
    "`folder_path` : The path to the experiment folder.\n",
    "\n",
    "`params` : The path to the parameters file."
   ]
  },
  {
   "cell_type": "code",
   "execution_count": null,
   "metadata": {},
   "outputs": [],
   "source": [
    "base = Path.cwd()\n",
    "folder_path = base / 'examples' / 'NOR'\n",
    "params = folder_path / 'params.yaml'"
   ]
  },
  {
   "cell_type": "markdown",
   "metadata": {},
   "source": [
    "#### Open the params.yaml file and modify (or not) the following parameters:"
   ]
  },
  {
   "cell_type": "code",
   "execution_count": null,
   "metadata": {},
   "outputs": [],
   "source": [
    "rst.open_params_editor(params) # Open the parameters editor"
   ]
  },
  {
   "cell_type": "markdown",
   "metadata": {},
   "source": [
    "#### Geometric Analysis:\n",
    "\n",
    "`roi_data` : Loaded from ROIs.json\n",
    "- frame_shape: Shape of the video frames ([width, height])\n",
    "- scale: Scale of the video in px/cm\n",
    "- rectangles: Rectangular areas in the frames\n",
    "- circles: Circular areas in the frames\n",
    "- points: Key points within the frames\n",
    "\n",
    "`freezing_analysis`:\n",
    "- freezing_threshold: Movement threshold to consider freezing, computed as the mean std of all body parts over a time window\n",
    "- freezing_time_window: Time window in seconds to calculate immobility\n",
    "\n",
    "`target_exploration`:\n",
    "- distance: Maximum nose-target distance to consider exploration\n",
    "- orientation: Set up orientation analysis\n",
    "  - degree: Maximum head-target orientation angle to consider exploration (in degrees)\n",
    "  - front: Ending bodypart of the orientation line\n",
    "  - pivot: Starting bodypart of the orientation line\n",
    "\n",
    "#### Other parameters:\n",
    "\n",
    "`Basic Setup & Processing` : We already used them in the notebook [2a-Prepare_positions](2a-Prepare_positions.ipynb)\n",
    "\n",
    "`Automatic Analysis` : Will be used in the notebook [3a-Create_models](3a-Create_models.ipynb)"
   ]
  },
  {
   "cell_type": "markdown",
   "metadata": {},
   "source": [
    "---\n",
    "#### 2. We can open an example file and see what is inside"
   ]
  },
  {
   "cell_type": "code",
   "execution_count": null,
   "metadata": {},
   "outputs": [],
   "source": [
    "# Select an example file\n",
    "example_path = rst.choose_example_positions(params, look_for = 'TS_03', suffix= '_positions.csv')\n",
    "\n",
    "# Plot mouse exploration around multiple targets\n",
    "rst.plot_positions(params, example_path)"
   ]
  },
  {
   "cell_type": "markdown",
   "metadata": {},
   "source": [
    "The plot shows the position of each target, along with the nose tracked and colored according to the angle of approach towards them.\n",
    "\n",
    "The geometric method labels exploration events when the nose is both colored (heading towards the target) and inside the dashed line (close to the target)."
   ]
  },
  {
   "cell_type": "markdown",
   "metadata": {},
   "source": [
    "---\n",
    "#### 3. We can use the positions to measure time spent in each of the drawn ROIs.\n",
    "\n",
    "If ROIs overlap, their order in the params.yaml file is critical. Those that come later in the list will always oclude the ones that come before. If a point is in multiple ROIs, it will be assigned the label of the one that was drawn last."
   ]
  },
  {
   "cell_type": "code",
   "execution_count": null,
   "metadata": {},
   "outputs": [],
   "source": [
    "roi_activity = rst.detect_roi_activity(params, example_path, bodypart = 'body')\n",
    "rst.plot_roi_activity(params, example_path, roi_activity, bodypart = 'body')"
   ]
  },
  {
   "cell_type": "code",
   "execution_count": null,
   "metadata": {},
   "outputs": [],
   "source": [
    "rst.plot_heatmap(params, example_path, bodypart = 'body', colorscale='hot_r')"
   ]
  },
  {
   "cell_type": "markdown",
   "metadata": {},
   "source": [
    "---\n",
    "#### 4.  We can also measure other behaviours, such as freezing"
   ]
  },
  {
   "cell_type": "code",
   "execution_count": null,
   "metadata": {},
   "outputs": [],
   "source": [
    "movement = rst.calculate_movement(params, example_path)\n",
    "rst.plot_freezing_events(params, example_path, movement)"
   ]
  },
  {
   "cell_type": "markdown",
   "metadata": {},
   "source": [
    "The plot shows the movement of the mouse over time, shading over freezing events.\n",
    "\n",
    "By setting a freezing threshold (which we can modify in the params file), we can quantify the time the mouse spent freezing."
   ]
  },
  {
   "cell_type": "markdown",
   "metadata": {},
   "source": [
    "---\n",
    "#### 5. Finally, we can analyze the position files and create:\n",
    "- A movement.csv file containing distance traveled, roi activity, and freezing events.\n",
    "- A geolabels.csv file with the exploration of each object, frame by frame."
   ]
  },
  {
   "cell_type": "code",
   "execution_count": null,
   "metadata": {},
   "outputs": [],
   "source": [
    "rst.batch_process_positions(params, targetless_trials=['Hab'])"
   ]
  },
  {
   "cell_type": "markdown",
   "metadata": {},
   "source": [
    "---\n",
    "---\n",
    "#### Two new csv files were created for each video, one for exploration geolabels and the other for movement related scores.\n",
    "We can:\n",
    "- Move on to the next notebook to create an artificial neural network that labels exploratory behavior, [3a-Create_models](3a-Create_models.ipynb).\n",
    "- Lose all patience, go straight to [4-Seize_labels](4-Seize_labels.ipynb) and use the geolabels to plot the results of the experiment.\n",
    "\n",
    "---\n",
    "RAINSTORM - Created on Oct 26, 2023 - @author: Santiago D'hers"
   ]
  }
 ],
 "metadata": {
  "kernelspec": {
   "display_name": "rainstorm",
   "language": "python",
   "name": "python3"
  },
  "language_info": {
   "codemirror_mode": {
    "name": "ipython",
    "version": 3
   },
   "file_extension": ".py",
   "mimetype": "text/x-python",
   "name": "python",
   "nbconvert_exporter": "python",
   "pygments_lexer": "ipython3",
   "version": "3.9.23"
  }
 },
 "nbformat": 4,
 "nbformat_minor": 2
}
