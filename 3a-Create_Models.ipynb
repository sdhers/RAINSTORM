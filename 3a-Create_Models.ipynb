{
 "cells": [
  {
   "cell_type": "markdown",
   "metadata": {},
   "source": [
    "Created on Tue Nov  7 16:59:14 2023\n",
    "\n",
    "@author: Santiago D'hers\n",
    "\n",
    "Use:\n",
    "\n",
    "- This script will train AI models to identify exploration using mouse and object position\n",
    "\n",
    "Requirements:\n",
    "\n",
    "- The position.csv files processed by 1-Manage_H5.py\n",
    "- Labeled data for the position files (to train the model)\n",
    "\n",
    "or\n",
    "\n",
    "- Access to the file colabeled_data.csv, where we can find:\n",
    "    - Position and labels for representative exploration events\n",
    "    - It includes the labels of 5 viewers (so far)"
   ]
  },
  {
   "cell_type": "code",
   "execution_count": 99,
   "metadata": {},
   "outputs": [
    {
     "name": "stdout",
     "output_type": "stream",
     "text": [
      "[PhysicalDevice(name='/physical_device:GPU:0', device_type='GPU')]\n"
     ]
    }
   ],
   "source": [
    "import h5py\n",
    "import os\n",
    "import pandas as pd\n",
    "import numpy as np\n",
    "import matplotlib.pyplot as plt\n",
    "\n",
    "import random\n",
    "import datetime\n",
    "\n",
    "import joblib\n",
    "\n",
    "# from sklearn.utils.class_weight import compute_class_weight\n",
    "from sklearn.metrics import accuracy_score, precision_score, classification_report, recall_score, f1_score\n",
    "from sklearn.metrics import mean_squared_error, mean_absolute_error, r2_score\n",
    "from sklearn.ensemble import RandomForestClassifier\n",
    "from sklearn.utils.class_weight import compute_class_weight\n",
    "\n",
    "import tensorflow as tf\n",
    "from tensorflow.keras.layers import LSTM, Dense, Input, Dropout\n",
    "from tensorflow.keras.callbacks import EarlyStopping, LearningRateScheduler\n",
    "\n",
    "print(tf.config.list_physical_devices('GPU'))"
   ]
  },
  {
   "cell_type": "code",
   "execution_count": 100,
   "metadata": {},
   "outputs": [],
   "source": [
    "desktop = 'C:/Users/dhers/Desktop'\n",
    "STORM_folder = os.path.join(desktop, 'STORM/models')\n",
    "\n",
    "colabels_file = os.path.join(STORM_folder, 'colabeled_data.csv')\n",
    "colabels = pd.read_csv(colabels_file)\n",
    "\n",
    "before, after = 3, 3 # Say how many frames into the past the models will see\n",
    "frames = before + after + 1\n",
    "\n",
    "bodyparts = ['nose', 'L_ear', 'R_ear', 'head', 'neck', 'body', 'tail_1', 'tail_2', 'tail_3']\n",
    "objects = ['obj']\n",
    "\n",
    "# Set the number of neurons in each layer\n",
    "param_0 = 128\n",
    "param_H1 = 64\n",
    "param_H2 = 32\n",
    "param_H3 = 16\n",
    "\n",
    "batch_size = 256 # Set the batch size\n",
    "lr = 0.0001 # Set the initial learning rate\n",
    "epochs = 100 # Set the training epochs\n",
    "patience = 10 # Set the wait for the early stopping mechanism\n",
    "\n",
    "train_with_average = True # If False, it trains with all the labels separately\n",
    "make_discrete = False # If False, labels are float (not 0 and 1)\n",
    "save_data = True # if True, the data processed will be saved with today's date\n",
    "\n",
    "use_saved_data = False # if True, we use the dataframe processed previously\n",
    "if use_saved_data:\n",
    "    saved_data = '' # Select the model date you want to rescue\n",
    "\n",
    "# Get the start time\n",
    "start_time = datetime.datetime.now()"
   ]
  },
  {
   "cell_type": "code",
   "execution_count": 101,
   "metadata": {},
   "outputs": [],
   "source": [
    "def recenter(df, point, bodyparts):\n",
    "    # Create a copy of the original dataframe\n",
    "    df_copy = df.copy()\n",
    "    bodypart_columns = []\n",
    "    \n",
    "    for bodypart in bodyparts:\n",
    "        # Subtract point_x from columns ending in _x\n",
    "        x_cols = [col for col in df_copy.columns if col.endswith(f'{bodypart}_x')]\n",
    "        df_copy[x_cols] = df_copy[x_cols].apply(lambda col: col - df_copy[f'{point}_x'])\n",
    "        \n",
    "        # Subtract point_y from columns ending in _y\n",
    "        y_cols = [col for col in df_copy.columns if col.endswith(f'{bodypart}_y')]\n",
    "        df_copy[y_cols] = df_copy[y_cols].apply(lambda col: col - df_copy[f'{point}_y'])\n",
    "        \n",
    "        # Collect bodypart columns\n",
    "        bodypart_columns.extend(x_cols)\n",
    "        bodypart_columns.extend(y_cols)\n",
    "        \n",
    "    return df_copy[bodypart_columns]"
   ]
  },
  {
   "cell_type": "code",
   "execution_count": 102,
   "metadata": {},
   "outputs": [],
   "source": [
    "def reshape(df, back = before, forward = after): # This function reshapes data for LSTM models\n",
    "    \n",
    "    reshaped_df = []\n",
    "    \n",
    "    for i in range(0, back):\n",
    "        reshaped_df.append(df[: 1 + back + forward])\n",
    "            \n",
    "    for i in range(back, len(df) - forward):\n",
    "        reshaped_df.append(df[i - back : 1 + i + forward])\n",
    "    \n",
    "    for i in range(len(df) - forward, len(df)):\n",
    "        reshaped_df.append(df[-(1 + back + forward):])\n",
    "    \n",
    "    return reshaped_df"
   ]
  },
  {
   "cell_type": "code",
   "execution_count": 103,
   "metadata": {},
   "outputs": [],
   "source": [
    "# The labels for left and right exploration are on the rest of the columns, we need to extract them\n",
    "position = colabels.filter(regex='_x|_y').filter(regex='^(?!.*tail)').copy()\n",
    "                         \n",
    "lblr_A = colabels.filter(regex='Marian').copy()\n",
    "lblr_B = colabels.filter(regex='Agus').copy()\n",
    "lblr_C = colabels.filter(regex='Santi').copy()\n",
    "lblr_D = colabels.filter(regex='Guille').copy()\n",
    "lblr_E = colabels.filter(regex='Myself').copy()\n",
    "\n",
    "labelers = [lblr_A, lblr_B, lblr_C, lblr_D, lblr_E]"
   ]
  },
  {
   "cell_type": "code",
   "execution_count": 104,
   "metadata": {},
   "outputs": [],
   "source": [
    "if train_with_average:\n",
    "    # Concatenate the dataframes along the columns axis (axis=1) and calculate the mean of each row\n",
    "    combined_df = pd.concat(labelers, axis=1)\n",
    "    avrg = pd.DataFrame(combined_df.mean(axis=1), columns=['mean'])\n",
    "    ready_data = pd.concat([position, avrg], axis = 1)\n",
    "\n",
    "else:\n",
    "    # Join position with all the labels separately\n",
    "    concatenated_position = pd.concat([position] * len(labelers), ignore_index=True)\n",
    "    concatenated_labelers = pd.concat(labelers, ignore_index=True)\n",
    "    ready_data = pd.concat([concatenated_position, concatenated_labelers], axis = 1)"
   ]
  },
  {
   "cell_type": "code",
   "execution_count": 105,
   "metadata": {},
   "outputs": [],
   "source": [
    "def focus(df, column_index = -1, distance = 25):\n",
    "\n",
    "    # Extract the column of interest\n",
    "    column_of_interest = df.iloc[:, column_index]\n",
    "\n",
    "    # Find the indices of the non-zero rows in the column\n",
    "    non_zero_indices = column_of_interest[column_of_interest != 0].index\n",
    "\n",
    "    print(f\"Number of exploration rows: {len(non_zero_indices)}\")\n",
    "\n",
    "    # Create a boolean mask to keep rows that are within 'distance' rows of a non-zero row\n",
    "    mask = pd.Series(False, index=df.index)\n",
    "\n",
    "    for idx in non_zero_indices:\n",
    "        # Mark rows within 'distance' rows before and after the non-zero row\n",
    "        lower_bound = max(0, idx - distance)\n",
    "        upper_bound = min(len(df) - 1, idx + distance)\n",
    "        mask[lower_bound:upper_bound + 1] = True\n",
    "\n",
    "    # Filter the dataframe using the mask\n",
    "    df_filtered = df[mask]\n",
    "\n",
    "    # Optional: Reset index if you want a clean dataframe without gaps in the indices\n",
    "    df_filtered.reset_index(drop=True, inplace=True)\n",
    "\n",
    "    return df_filtered"
   ]
  },
  {
   "cell_type": "code",
   "execution_count": 106,
   "metadata": {},
   "outputs": [
    {
     "name": "stdout",
     "output_type": "stream",
     "text": [
      "Number of exploration rows: 16982\n",
      "Total rows: 34411\n"
     ]
    }
   ],
   "source": [
    "ready_data = focus(ready_data, distance = 16)\n",
    "print(f'Total rows: {len(ready_data)}')"
   ]
  },
  {
   "cell_type": "code",
   "execution_count": 107,
   "metadata": {},
   "outputs": [],
   "source": [
    "def prepare_training_data(df, obj = 'obj', bodyparts = ['nose', 'L_ear', 'R_ear', 'head', 'neck', 'body'], y_col = 'mean'):\n",
    "    \n",
    "    # Group the DataFrame by the values in the first column\n",
    "    groups = df.groupby(df[f'{obj}_x'])\n",
    "    \n",
    "    # Split the DataFrame into multiple DataFrames and labels\n",
    "    final_dataframes = {}\n",
    "    wide_dataframes = {}\n",
    "    \n",
    "    for category, group in groups:\n",
    "\n",
    "        recentered_data = recenter(group, obj, bodyparts)\n",
    "        labels = group[f'{y_col}']\n",
    "\n",
    "        final_dataframes[category] = {'position': recentered_data, 'labels': labels}\n",
    "\n",
    "        reshaped_data = reshape(recentered_data)\n",
    "        wide_dataframes[category] = {'position': reshaped_data, 'labels': labels}\n",
    "        \n",
    "    # Get a list of the keys (categories)\n",
    "    keys = list(wide_dataframes.keys())\n",
    "    \n",
    "    # Shuffle the keys\n",
    "    np.random.shuffle(keys)\n",
    "    \n",
    "    # Calculate the lengths for each part\n",
    "    len_val = len(keys) * 15 // 100\n",
    "    len_test = len(keys) * 15 // 100\n",
    "    \n",
    "    # Use slicing to divide the list\n",
    "    val_keys = keys[:len_val]\n",
    "    test_keys = keys[len_val:(len_val + len_test)]\n",
    "    train_keys = keys[(len_val + len_test):]\n",
    "    \n",
    "    # Initialize empty lists to collect dataframes\n",
    "    X_train = []\n",
    "    y_train = []\n",
    "    X_test = []\n",
    "    y_test = []\n",
    "    X_val = []\n",
    "    y_val = []\n",
    "    \n",
    "    # first the simple data \n",
    "    for key in train_keys:\n",
    "        X_train.append(final_dataframes[key]['position'])\n",
    "        y_train.append(final_dataframes[key]['labels'])\n",
    "    for key in test_keys:\n",
    "        X_test.append(final_dataframes[key]['position'])\n",
    "        y_test.append(final_dataframes[key]['labels'])\n",
    "    for key in val_keys:\n",
    "        X_val.append(final_dataframes[key]['position'])\n",
    "        y_val.append(final_dataframes[key]['labels'])\n",
    "    \n",
    "    X_train = pd.concat(X_train, ignore_index=True)\n",
    "    X_test = pd.concat(X_test, ignore_index=True)\n",
    "    X_val = pd.concat(X_val, ignore_index=True)\n",
    "        \n",
    "    y_train = pd.concat(y_train, ignore_index=True)\n",
    "    y_test = pd.concat(y_test, ignore_index=True)\n",
    "    y_val = pd.concat(y_val, ignore_index=True)\n",
    "    \n",
    "\n",
    "    X_train_wide = []\n",
    "    X_test_wide = []\n",
    "    X_val_wide = []\n",
    "     \n",
    "    for key in train_keys:\n",
    "        X_train_wide.extend(wide_dataframes[key]['position'])\n",
    "    for key in test_keys:\n",
    "        X_test_wide.extend(wide_dataframes[key]['position'])\n",
    "    for key in val_keys:\n",
    "        X_val_wide.extend(wide_dataframes[key]['position'])\n",
    "\n",
    "    return X_train_wide, X_train, y_train, X_test_wide, X_test, y_test, X_val_wide, X_val, y_val"
   ]
  },
  {
   "cell_type": "code",
   "execution_count": 108,
   "metadata": {},
   "outputs": [
    {
     "name": "stdout",
     "output_type": "stream",
     "text": [
      "Training set size: 23249 samples\n",
      "Validation set size: 6090 samples\n",
      "Testing set size: 5072 samples\n",
      "Total samples: 34411\n",
      "Saved data to training_data_2024-10-16.h5\n"
     ]
    }
   ],
   "source": [
    "if use_saved_data:\n",
    "    # Load arrays\n",
    "    with h5py.File(saved_data, 'r') as hf:\n",
    "        X_test = hf['X_test'][:]\n",
    "        y_test = hf['y_test'][:]\n",
    "        X_val = hf['X_val'][:]\n",
    "        y_val = hf['y_val'][:]\n",
    "        X_train = hf['X_train'][:]\n",
    "        y_train = hf['y_train'][:]\n",
    "        X_test_wide = hf['X_test_wide'][:]\n",
    "        X_val_wide = hf['X_val_wide'][:]\n",
    "        X_train_wide = hf['X_train_wide'][:]\n",
    "        \n",
    "    print(\"Data is ready to train\")\n",
    "\n",
    "else:\n",
    "    X_train_wide, X_train, y_train, X_test_wide, X_test, y_test, X_val_wide, X_val, y_val = prepare_training_data(ready_data)\n",
    "    \n",
    "    # Print the sizes of each set\n",
    "    print(f\"Training set size: {len(X_train)} samples\")\n",
    "    print(f\"Validation set size: {len(X_val)} samples\")\n",
    "    print(f\"Testing set size: {len(X_test)} samples\")\n",
    "    print(f\"Total samples: {len(X_train)+len(X_val)+len(X_test)}\")\n",
    "\n",
    "    if save_data:\n",
    "        # Save arrays\n",
    "        with h5py.File(os.path.join(STORM_folder, f'training_data/training_data_{start_time.date()}.h5'), 'w') as hf:\n",
    "            hf.create_dataset('X_test', data=X_test)\n",
    "            hf.create_dataset('y_test', data=y_test)\n",
    "            hf.create_dataset('X_val', data=X_val)\n",
    "            hf.create_dataset('y_val', data=y_val)\n",
    "            hf.create_dataset('X_train', data=X_train)\n",
    "            hf.create_dataset('y_train', data=y_train)\n",
    "            hf.create_dataset('X_test_wide', data=X_test_wide)\n",
    "            hf.create_dataset('X_val_wide', data=X_val_wide)\n",
    "            hf.create_dataset('X_train_wide', data=X_train_wide)\n",
    "            \n",
    "            print(f'Saved data to training_data_{start_time.date()}.h5')"
   ]
  },
  {
   "cell_type": "code",
   "execution_count": 109,
   "metadata": {},
   "outputs": [
    {
     "data": {
      "image/png": "[encoded data removed]",
      "text/plain": [
       "<Figure size 640x480 with 1 Axes>"
      ]
     },
     "metadata": {},
     "output_type": "display_data"
    }
   ],
   "source": [
    "# Select data to plot\n",
    "position = np.sqrt(X_test['nose_x']**2 + X_test['nose_y']**2).copy()\n",
    "exploration = y_test.copy()\n",
    "\n",
    "# Plotting position\n",
    "plt.plot(position, label='position', color='blue')\n",
    "\n",
    "# Shading exploration regions\n",
    "plt.fill_between(range(len(exploration)), -30, 30, where = exploration > 0.5, label = 'exploration', color='red', alpha=0.3)\n",
    "\n",
    "# Adding labels\n",
    "plt.xlabel('Frames')\n",
    "plt.ylabel('Nose horizontal position (cm)')\n",
    "plt.legend(loc='upper right', fancybox=True, shadow=True, framealpha=1.0)\n",
    "plt.title('Nose position with respect to the object')\n",
    "plt.axhline(y=0, color='black', linestyle='--')\n",
    "\n",
    "# Zoom in on some frames\n",
    "plt.xlim((1000, 2500))\n",
    "plt.ylim((-2, 25))\n",
    "\n",
    "plt.show()"
   ]
  },
  {
   "cell_type": "markdown",
   "metadata": {},
   "source": [
    "Lets get some tools ready for model training:\n",
    "\n",
    "- Early stopping\n",
    "- Scheduled learning rate"
   ]
  },
  {
   "cell_type": "code",
   "execution_count": 110,
   "metadata": {},
   "outputs": [],
   "source": [
    "# Define the EarlyStopping callback\n",
    "early_stopping = EarlyStopping(\n",
    "    monitor='val_loss',\n",
    "    patience=patience,\n",
    "    restore_best_weights=True,\n",
    "    mode='min',\n",
    "    verbose=1,\n",
    ")\n",
    "\n",
    "# Define a learning rate schedule function\n",
    "initial_lr = lr # Set the initial lr\n",
    "def lr_schedule(epoch, lr): # Define a learning rate schedule function\n",
    "    initial_lr = lr  # Initial learning rate\n",
    "    decay_factor = 0.9  # Learning rate decay factor\n",
    "    decay_epochs = 9    # Number of epochs after which to decay the learning rate\n",
    "\n",
    "    # Calculate the new learning rate\n",
    "    lr = initial_lr * (decay_factor ** (epoch // decay_epochs))\n",
    "\n",
    "    return lr\n",
    "\n",
    "# Define the LearningRateScheduler callback\n",
    "lr_scheduler = LearningRateScheduler(lr_schedule)"
   ]
  },
  {
   "cell_type": "code",
   "execution_count": 111,
   "metadata": {},
   "outputs": [],
   "source": [
    "def plot_history(model, model_name):\n",
    "    \n",
    "    plt.figure(figsize=(10, 6))\n",
    "    \n",
    "    plt.plot(model.history['loss'], label='Training loss')\n",
    "    plt.plot(model.history['val_loss'], label='Validation loss')\n",
    "    plt.plot(model.history['accuracy'], label='Training accuracy')\n",
    "    plt.plot(model.history['val_accuracy'], label='Validation accuracy')\n",
    "    \n",
    "    plt.title(f'Training of model {model_name}')\n",
    "    plt.xlabel('Epochs')\n",
    "    plt.ylabel('%')\n",
    "    plt.legend()\n",
    "    plt.show()"
   ]
  },
  {
   "cell_type": "code",
   "execution_count": 112,
   "metadata": {},
   "outputs": [],
   "source": [
    "def evaluate(X, y, model):\n",
    "    \n",
    "    # Evaluate the model on the testing set\n",
    "    y_pred = model.predict(X)\n",
    "    y_pred_binary = (y_pred > 0.5).astype(int)  # Convert probabilities to binary predictions\n",
    "    \n",
    "    if isinstance(y, tf.Tensor):\n",
    "        y = y.numpy()\n",
    "    y_binary = (y > 0.5).astype(int) # Convert average labels to binary labels\n",
    "    \n",
    "    accuracy = accuracy_score(y_binary, y_pred_binary)\n",
    "    precision = precision_score(y_binary, y_pred_binary, average = 'weighted')\n",
    "    recall = recall_score(y_binary, y_pred_binary, average = 'weighted')\n",
    "    f1 = f1_score(y_binary, y_pred_binary, average = 'weighted')\n",
    "    \n",
    "    print(classification_report(y_binary, y_pred_binary))\n",
    "    \n",
    "    return accuracy, precision, recall, f1\n",
    "\n",
    "def evaluate_continuous(X, y, model):\n",
    "    # Ensure X and y are on the same device\n",
    "    if isinstance(X, tf.Tensor):\n",
    "        if '/GPU:' in X.device:\n",
    "            y = tf.convert_to_tensor(y)\n",
    "            y = tf.identity(y)\n",
    "\n",
    "    # Evaluate the model on the testing set\n",
    "    y_pred = model.predict(X)\n",
    "\n",
    "    # Convert y and y_pred to numpy arrays if they are tensors\n",
    "    if isinstance(y_pred, tf.Tensor):\n",
    "        y_pred = y_pred.numpy()\n",
    "    \n",
    "    if isinstance(y, tf.Tensor):\n",
    "        y = y.numpy()\n",
    "    \n",
    "    mse = mean_squared_error(y, y_pred)\n",
    "    mae = mean_absolute_error(y, y_pred)\n",
    "    r2 = r2_score(y, y_pred)\n",
    "    \n",
    "    return mse, mae, r2"
   ]
  },
  {
   "cell_type": "markdown",
   "metadata": {},
   "source": [
    "Now we train the first model"
   ]
  },
  {
   "cell_type": "code",
   "execution_count": 113,
   "metadata": {},
   "outputs": [],
   "source": [
    "# Build a simple neural network\n",
    "model_simple = tf.keras.Sequential([\n",
    "    Input(shape=(X_train.shape[1],)),\n",
    "    Dense(param_0, activation='relu'),\n",
    "    Dropout(0.2),\n",
    "    Dense(param_H1, activation='relu'),\n",
    "    Dropout(0.2),\n",
    "    Dense(param_H2, activation='relu'),\n",
    "    Dropout(0.2),\n",
    "    Dense(param_H3, activation='relu'),\n",
    "    Dropout(0.2),\n",
    "    Dense(1, activation='sigmoid')\n",
    "])\n",
    "\n",
    "# Compile the model\n",
    "model_simple.compile(optimizer=tf.keras.optimizers.Adam(learning_rate=initial_lr),\n",
    "                     loss='binary_crossentropy', metrics=['accuracy'])"
   ]
  },
  {
   "cell_type": "code",
   "execution_count": 114,
   "metadata": {},
   "outputs": [
    {
     "name": "stdout",
     "output_type": "stream",
     "text": [
      "Model: \"sequential_4\"\n",
      "_________________________________________________________________\n",
      " Layer (type)                Output Shape              Param #   \n",
      "=================================================================\n",
      " dense_16 (Dense)            (None, 128)               1664      \n",
      "                                                                 \n",
      " dropout_16 (Dropout)        (None, 128)               0         \n",
      "                                                                 \n",
      " dense_17 (Dense)            (None, 64)                8256      \n",
      "                                                                 \n",
      " dropout_17 (Dropout)        (None, 64)                0         \n",
      "                                                                 \n",
      " dense_18 (Dense)            (None, 32)                2080      \n",
      "                                                                 \n",
      " dropout_18 (Dropout)        (None, 32)                0         \n",
      "                                                                 \n",
      " dense_19 (Dense)            (None, 16)                528       \n",
      "                                                                 \n",
      " dropout_19 (Dropout)        (None, 16)                0         \n",
      "                                                                 \n",
      " dense_20 (Dense)            (None, 1)                 17        \n",
      "                                                                 \n",
      "=================================================================\n",
      "Total params: 12,545\n",
      "Trainable params: 12,545\n",
      "Non-trainable params: 0\n",
      "_________________________________________________________________\n"
     ]
    }
   ],
   "source": [
    "model_simple.summary()"
   ]
  },
  {
   "cell_type": "code",
   "execution_count": 115,
   "metadata": {},
   "outputs": [
    {
     "name": "stdout",
     "output_type": "stream",
     "text": [
      "Epoch 1/100\n",
      "91/91 [==============================] - 1s 10ms/step - loss: 0.6742 - accuracy: 0.4202 - val_loss: 0.5561 - val_accuracy: 0.5023 - lr: 1.0000e-04\n",
      "Epoch 2/100\n",
      "91/91 [==============================] - 1s 7ms/step - loss: 0.5715 - accuracy: 0.4909 - val_loss: 0.5312 - val_accuracy: 0.5023 - lr: 1.0000e-04\n",
      "Epoch 3/100\n",
      "91/91 [==============================] - 1s 7ms/step - loss: 0.5479 - accuracy: 0.5014 - val_loss: 0.5163 - val_accuracy: 0.5023 - lr: 1.0000e-04\n",
      "Epoch 4/100\n",
      "91/91 [==============================] - 1s 7ms/step - loss: 0.5326 - accuracy: 0.5073 - val_loss: 0.5041 - val_accuracy: 0.5023 - lr: 1.0000e-04\n",
      "Epoch 5/100\n",
      "91/91 [==============================] - 1s 7ms/step - loss: 0.5210 - accuracy: 0.5137 - val_loss: 0.4910 - val_accuracy: 0.5026 - lr: 1.0000e-04\n",
      "Epoch 6/100\n",
      "91/91 [==============================] - 1s 7ms/step - loss: 0.5086 - accuracy: 0.5213 - val_loss: 0.4781 - val_accuracy: 0.5227 - lr: 1.0000e-04\n",
      "Epoch 7/100\n",
      "91/91 [==============================] - 1s 7ms/step - loss: 0.4982 - accuracy: 0.5331 - val_loss: 0.4617 - val_accuracy: 0.5450 - lr: 1.0000e-04\n",
      "Epoch 8/100\n",
      "91/91 [==============================] - 1s 7ms/step - loss: 0.4881 - accuracy: 0.5437 - val_loss: 0.4489 - val_accuracy: 0.5778 - lr: 1.0000e-04\n",
      "Epoch 9/100\n",
      "91/91 [==============================] - 1s 7ms/step - loss: 0.4767 - accuracy: 0.5566 - val_loss: 0.4371 - val_accuracy: 0.6062 - lr: 1.0000e-04\n",
      "Epoch 10/100\n",
      "91/91 [==============================] - 1s 7ms/step - loss: 0.4687 - accuracy: 0.5697 - val_loss: 0.4252 - val_accuracy: 0.6240 - lr: 9.0000e-05\n",
      "Epoch 11/100\n",
      "91/91 [==============================] - 1s 7ms/step - loss: 0.4595 - accuracy: 0.5803 - val_loss: 0.4161 - val_accuracy: 0.6305 - lr: 8.1000e-05\n",
      "Epoch 12/100\n",
      "91/91 [==============================] - 1s 7ms/step - loss: 0.4523 - accuracy: 0.5876 - val_loss: 0.4095 - val_accuracy: 0.6335 - lr: 7.2900e-05\n",
      "Epoch 13/100\n",
      "91/91 [==============================] - 1s 7ms/step - loss: 0.4481 - accuracy: 0.5947 - val_loss: 0.4025 - val_accuracy: 0.6351 - lr: 6.5610e-05\n",
      "Epoch 14/100\n",
      "91/91 [==============================] - 1s 7ms/step - loss: 0.4416 - accuracy: 0.6002 - val_loss: 0.3998 - val_accuracy: 0.6384 - lr: 5.9049e-05\n",
      "Epoch 15/100\n",
      "91/91 [==============================] - 1s 7ms/step - loss: 0.4378 - accuracy: 0.6022 - val_loss: 0.3960 - val_accuracy: 0.6388 - lr: 5.3144e-05\n",
      "Epoch 16/100\n",
      "91/91 [==============================] - 1s 7ms/step - loss: 0.4359 - accuracy: 0.6061 - val_loss: 0.3933 - val_accuracy: 0.6396 - lr: 4.7830e-05\n",
      "Epoch 17/100\n",
      "91/91 [==============================] - 1s 7ms/step - loss: 0.4348 - accuracy: 0.6086 - val_loss: 0.3913 - val_accuracy: 0.6415 - lr: 4.3047e-05\n",
      "Epoch 18/100\n",
      "91/91 [==============================] - 1s 7ms/step - loss: 0.4291 - accuracy: 0.6106 - val_loss: 0.3897 - val_accuracy: 0.6414 - lr: 3.8742e-05\n",
      "Epoch 19/100\n",
      "91/91 [==============================] - 1s 7ms/step - loss: 0.4268 - accuracy: 0.6120 - val_loss: 0.3876 - val_accuracy: 0.6415 - lr: 3.1381e-05\n",
      "Epoch 20/100\n",
      "91/91 [==============================] - 1s 7ms/step - loss: 0.4261 - accuracy: 0.6126 - val_loss: 0.3873 - val_accuracy: 0.6415 - lr: 2.5419e-05\n",
      "Epoch 21/100\n",
      "91/91 [==============================] - 1s 7ms/step - loss: 0.4234 - accuracy: 0.6143 - val_loss: 0.3867 - val_accuracy: 0.6419 - lr: 2.0589e-05\n",
      "Epoch 22/100\n",
      "91/91 [==============================] - 1s 7ms/step - loss: 0.4213 - accuracy: 0.6163 - val_loss: 0.3861 - val_accuracy: 0.6420 - lr: 1.6677e-05\n",
      "Epoch 23/100\n",
      "91/91 [==============================] - 1s 7ms/step - loss: 0.4232 - accuracy: 0.6170 - val_loss: 0.3861 - val_accuracy: 0.6424 - lr: 1.3509e-05\n",
      "Epoch 24/100\n",
      "91/91 [==============================] - 1s 7ms/step - loss: 0.4229 - accuracy: 0.6153 - val_loss: 0.3860 - val_accuracy: 0.6427 - lr: 1.0942e-05\n",
      "Epoch 25/100\n",
      "91/91 [==============================] - 1s 7ms/step - loss: 0.4204 - accuracy: 0.6163 - val_loss: 0.3854 - val_accuracy: 0.6427 - lr: 8.8629e-06\n",
      "Epoch 26/100\n",
      "91/91 [==============================] - 1s 7ms/step - loss: 0.4211 - accuracy: 0.6160 - val_loss: 0.3849 - val_accuracy: 0.6430 - lr: 7.1790e-06\n",
      "Epoch 27/100\n",
      "91/91 [==============================] - 1s 7ms/step - loss: 0.4234 - accuracy: 0.6132 - val_loss: 0.3849 - val_accuracy: 0.6430 - lr: 5.8150e-06\n",
      "Epoch 28/100\n",
      "91/91 [==============================] - 1s 7ms/step - loss: 0.4225 - accuracy: 0.6147 - val_loss: 0.3850 - val_accuracy: 0.6429 - lr: 4.2391e-06\n",
      "Epoch 29/100\n",
      "91/91 [==============================] - 1s 7ms/step - loss: 0.4192 - accuracy: 0.6162 - val_loss: 0.3849 - val_accuracy: 0.6429 - lr: 3.0903e-06\n",
      "Epoch 30/100\n",
      "91/91 [==============================] - 1s 7ms/step - loss: 0.4182 - accuracy: 0.6159 - val_loss: 0.3847 - val_accuracy: 0.6430 - lr: 2.2528e-06\n",
      "Epoch 31/100\n",
      "91/91 [==============================] - 1s 7ms/step - loss: 0.4188 - accuracy: 0.6176 - val_loss: 0.3846 - val_accuracy: 0.6430 - lr: 1.6423e-06\n",
      "Epoch 32/100\n",
      "91/91 [==============================] - 1s 7ms/step - loss: 0.4189 - accuracy: 0.6159 - val_loss: 0.3845 - val_accuracy: 0.6430 - lr: 1.1973e-06\n",
      "Epoch 33/100\n",
      "91/91 [==============================] - 1s 7ms/step - loss: 0.4220 - accuracy: 0.6153 - val_loss: 0.3845 - val_accuracy: 0.6430 - lr: 8.7280e-07\n",
      "Epoch 34/100\n",
      "91/91 [==============================] - 1s 7ms/step - loss: 0.4200 - accuracy: 0.6155 - val_loss: 0.3845 - val_accuracy: 0.6430 - lr: 6.3627e-07\n",
      "Epoch 35/100\n",
      "91/91 [==============================] - 1s 7ms/step - loss: 0.4203 - accuracy: 0.6168 - val_loss: 0.3845 - val_accuracy: 0.6430 - lr: 4.6384e-07\n",
      "Epoch 36/100\n",
      "91/91 [==============================] - 1s 7ms/step - loss: 0.4209 - accuracy: 0.6146 - val_loss: 0.3845 - val_accuracy: 0.6430 - lr: 3.3814e-07\n",
      "Epoch 37/100\n",
      "91/91 [==============================] - 1s 7ms/step - loss: 0.4211 - accuracy: 0.6167 - val_loss: 0.3845 - val_accuracy: 0.6430 - lr: 2.2185e-07\n",
      "Epoch 38/100\n",
      "91/91 [==============================] - 1s 7ms/step - loss: 0.4211 - accuracy: 0.6150 - val_loss: 0.3845 - val_accuracy: 0.6430 - lr: 1.4556e-07\n",
      "Epoch 39/100\n",
      "91/91 [==============================] - 1s 7ms/step - loss: 0.4187 - accuracy: 0.6153 - val_loss: 0.3845 - val_accuracy: 0.6430 - lr: 9.5501e-08\n",
      "Epoch 40/100\n",
      "91/91 [==============================] - 1s 7ms/step - loss: 0.4183 - accuracy: 0.6168 - val_loss: 0.3845 - val_accuracy: 0.6430 - lr: 6.2658e-08\n",
      "Epoch 41/100\n",
      "91/91 [==============================] - 1s 7ms/step - loss: 0.4193 - accuracy: 0.6174 - val_loss: 0.3845 - val_accuracy: 0.6430 - lr: 4.1110e-08\n",
      "Epoch 42/100\n",
      "91/91 [==============================] - 1s 7ms/step - loss: 0.4178 - accuracy: 0.6165 - val_loss: 0.3845 - val_accuracy: 0.6430 - lr: 2.6972e-08\n",
      "Epoch 43/100\n",
      "91/91 [==============================] - 1s 7ms/step - loss: 0.4174 - accuracy: 0.6173 - val_loss: 0.3845 - val_accuracy: 0.6430 - lr: 1.7696e-08\n",
      "Epoch 44/100\n",
      "91/91 [==============================] - 1s 7ms/step - loss: 0.4206 - accuracy: 0.6168 - val_loss: 0.3845 - val_accuracy: 0.6430 - lr: 1.1611e-08\n",
      "Epoch 45/100\n",
      "91/91 [==============================] - 1s 7ms/step - loss: 0.4200 - accuracy: 0.6162 - val_loss: 0.3845 - val_accuracy: 0.6430 - lr: 7.6177e-09\n",
      "Epoch 46/100\n",
      "91/91 [==============================] - 1s 7ms/step - loss: 0.4200 - accuracy: 0.6166 - val_loss: 0.3845 - val_accuracy: 0.6430 - lr: 4.4982e-09\n",
      "Epoch 47/100\n",
      "91/91 [==============================] - 1s 7ms/step - loss: 0.4197 - accuracy: 0.6168 - val_loss: 0.3845 - val_accuracy: 0.6430 - lr: 2.6561e-09\n",
      "Epoch 48/100\n",
      "91/91 [==============================] - 1s 7ms/step - loss: 0.4184 - accuracy: 0.6160 - val_loss: 0.3845 - val_accuracy: 0.6430 - lr: 1.5684e-09\n",
      "Epoch 49/100\n",
      "91/91 [==============================] - 1s 7ms/step - loss: 0.4184 - accuracy: 0.6172 - val_loss: 0.3845 - val_accuracy: 0.6430 - lr: 9.2614e-10\n",
      "Epoch 50/100\n",
      "91/91 [==============================] - 1s 7ms/step - loss: 0.4207 - accuracy: 0.6174 - val_loss: 0.3845 - val_accuracy: 0.6430 - lr: 5.4688e-10\n",
      "Epoch 51/100\n",
      "91/91 [==============================] - 1s 7ms/step - loss: 0.4201 - accuracy: 0.6167 - val_loss: 0.3845 - val_accuracy: 0.6430 - lr: 3.2292e-10\n",
      "Epoch 52/100\n",
      "91/91 [==============================] - 1s 7ms/step - loss: 0.4203 - accuracy: 0.6174 - val_loss: 0.3845 - val_accuracy: 0.6430 - lr: 1.9068e-10\n",
      "Epoch 53/100\n",
      "91/91 [==============================] - 1s 7ms/step - loss: 0.4201 - accuracy: 0.6175 - val_loss: 0.3845 - val_accuracy: 0.6430 - lr: 1.1260e-10\n",
      "Epoch 54/100\n",
      "91/91 [==============================] - 1s 7ms/step - loss: 0.4200 - accuracy: 0.6152 - val_loss: 0.3845 - val_accuracy: 0.6430 - lr: 6.6487e-11\n",
      "Epoch 55/100\n",
      "91/91 [==============================] - 1s 6ms/step - loss: 0.4224 - accuracy: 0.6147 - val_loss: 0.3845 - val_accuracy: 0.6430 - lr: 3.5334e-11\n",
      "Epoch 56/100\n",
      "91/91 [==============================] - 0s 4ms/step - loss: 0.4196 - accuracy: 0.6183 - val_loss: 0.3845 - val_accuracy: 0.6430 - lr: 1.8778e-11\n",
      "Epoch 57/100\n",
      "91/91 [==============================] - 0s 5ms/step - loss: 0.4192 - accuracy: 0.6182 - val_loss: 0.3845 - val_accuracy: 0.6430 - lr: 9.9794e-12\n",
      "Epoch 58/100\n",
      "90/91 [============================>.] - ETA: 0s - loss: 0.4192 - accuracy: 0.6155Restoring model weights from the end of the best epoch: 48.\n",
      "91/91 [==============================] - 0s 5ms/step - loss: 0.4192 - accuracy: 0.6153 - val_loss: 0.3845 - val_accuracy: 0.6430 - lr: 5.3035e-12\n",
      "Epoch 58: early stopping\n"
     ]
    }
   ],
   "source": [
    "# Train the model\n",
    "history_simple = model_simple.fit(X_train, y_train,\n",
    "                                  epochs=epochs,\n",
    "                                  batch_size=batch_size,\n",
    "                                  validation_data=(X_val, y_val),\n",
    "                                  callbacks=[early_stopping, lr_scheduler])"
   ]
  },
  {
   "cell_type": "code",
   "execution_count": 116,
   "metadata": {},
   "outputs": [
    {
     "data": {
      "image/png": "[encoded data removed]",
      "text/plain": [
       "<Figure size 1000x600 with 1 Axes>"
      ]
     },
     "metadata": {},
     "output_type": "display_data"
    }
   ],
   "source": [
    "# Plot the training and validation loss\n",
    "plot_history(history_simple, \"Simple\")"
   ]
  },
  {
   "cell_type": "code",
   "execution_count": 117,
   "metadata": {},
   "outputs": [
    {
     "name": "stdout",
     "output_type": "stream",
     "text": [
      "159/159 [==============================] - 0s 909us/step\n",
      "              precision    recall  f1-score   support\n",
      "\n",
      "           0       0.91      0.92      0.91      3383\n",
      "           1       0.83      0.82      0.83      1689\n",
      "\n",
      "    accuracy                           0.89      5072\n",
      "   macro avg       0.87      0.87      0.87      5072\n",
      "weighted avg       0.89      0.89      0.89      5072\n",
      "\n",
      "Accuracy = 0.8854, Precision = 0.8852, Recall = 0.8854, F1 Score = 0.8853 -> simple\n",
      "159/159 [==============================] - 0s 837us/step\n",
      "MSE = 0.0541, MAE = 0.1746, R-squared = 0.6882 -> simple\n"
     ]
    }
   ],
   "source": [
    "# Calculate accuracy and precision of the model\n",
    "accuracy_simple, precision_simple, recall_simple, f1_simple = evaluate(X_test, y_test, model_simple)\n",
    "print(f\"Accuracy = {accuracy_simple:.4f}, Precision = {precision_simple:.4f}, Recall = {recall_simple:.4f}, F1 Score = {f1_simple:.4f} -> simple\")\n",
    "\n",
    "mse_simple, mae_simple, r2_simple = evaluate_continuous(X_test, y_test, model_simple)\n",
    "print(f\"MSE = {mse_simple:.4f}, MAE = {mae_simple:.4f}, R-squared = {r2_simple:.4f} -> simple\")"
   ]
  },
  {
   "cell_type": "code",
   "execution_count": 118,
   "metadata": {},
   "outputs": [],
   "source": [
    "# Save the model\n",
    "model_simple.save(os.path.join(STORM_folder, f'simple/model_simple_{start_time.date()}.keras'))"
   ]
  },
  {
   "cell_type": "markdown",
   "metadata": {},
   "source": [
    "Lets move onto training a Recursive Network (that can see sequences)"
   ]
  },
  {
   "cell_type": "code",
   "execution_count": 119,
   "metadata": {},
   "outputs": [],
   "source": [
    "X_train_seq = np.array([df.values for df in X_train_wide])\n",
    "X_val_seq = np.array([df.values for df in X_val_wide])\n",
    "X_test_seq = np.array([df.values for df in X_test_wide])"
   ]
  },
  {
   "cell_type": "code",
   "execution_count": 120,
   "metadata": {},
   "outputs": [],
   "source": [
    "# Define the LSTM model\n",
    "model_wide = tf.keras.Sequential([\n",
    "    Input(shape=(frames, X_train_seq.shape[2])),\n",
    "    LSTM(param_0, return_sequences=True),\n",
    "    Dropout(0.2),\n",
    "    LSTM(param_H1, return_sequences=True),\n",
    "    Dropout(0.2),\n",
    "    LSTM(param_H2, return_sequences=True),\n",
    "    Dropout(0.2),\n",
    "    LSTM(param_H3),\n",
    "    Dropout(0.2),\n",
    "    Dense(1, activation='sigmoid')\n",
    "])\n",
    "\n",
    "# Compile the model\n",
    "model_wide.compile(optimizer=tf.keras.optimizers.Adam(learning_rate=initial_lr),\n",
    "                     loss='binary_crossentropy', metrics=['accuracy'])"
   ]
  },
  {
   "cell_type": "code",
   "execution_count": 121,
   "metadata": {},
   "outputs": [
    {
     "name": "stdout",
     "output_type": "stream",
     "text": [
      "Model: \"sequential_5\"\n",
      "_________________________________________________________________\n",
      " Layer (type)                Output Shape              Param #   \n",
      "=================================================================\n",
      " lstm_4 (LSTM)               (None, 7, 128)            72192     \n",
      "                                                                 \n",
      " dropout_20 (Dropout)        (None, 7, 128)            0         \n",
      "                                                                 \n",
      " lstm_5 (LSTM)               (None, 7, 64)             49408     \n",
      "                                                                 \n",
      " dropout_21 (Dropout)        (None, 7, 64)             0         \n",
      "                                                                 \n",
      " lstm_6 (LSTM)               (None, 7, 32)             12416     \n",
      "                                                                 \n",
      " dropout_22 (Dropout)        (None, 7, 32)             0         \n",
      "                                                                 \n",
      " lstm_7 (LSTM)               (None, 16)                3136      \n",
      "                                                                 \n",
      " dropout_23 (Dropout)        (None, 16)                0         \n",
      "                                                                 \n",
      " dense_21 (Dense)            (None, 1)                 17        \n",
      "                                                                 \n",
      "=================================================================\n",
      "Total params: 137,169\n",
      "Trainable params: 137,169\n",
      "Non-trainable params: 0\n",
      "_________________________________________________________________\n"
     ]
    }
   ],
   "source": [
    "model_wide.summary()"
   ]
  },
  {
   "cell_type": "code",
   "execution_count": 122,
   "metadata": {},
   "outputs": [
    {
     "name": "stdout",
     "output_type": "stream",
     "text": [
      "Epoch 1/100\n",
      "91/91 [==============================] - 6s 25ms/step - loss: 0.6202 - accuracy: 0.4956 - val_loss: 0.5737 - val_accuracy: 0.5023 - lr: 1.0000e-04\n",
      "Epoch 2/100\n",
      "91/91 [==============================] - 1s 12ms/step - loss: 0.4661 - accuracy: 0.5571 - val_loss: 0.4133 - val_accuracy: 0.6135 - lr: 1.0000e-04\n",
      "Epoch 3/100\n",
      "91/91 [==============================] - 1s 12ms/step - loss: 0.3831 - accuracy: 0.6318 - val_loss: 0.3874 - val_accuracy: 0.6356 - lr: 1.0000e-04\n",
      "Epoch 4/100\n",
      "91/91 [==============================] - 1s 11ms/step - loss: 0.3660 - accuracy: 0.6369 - val_loss: 0.3776 - val_accuracy: 0.6369 - lr: 1.0000e-04\n",
      "Epoch 5/100\n",
      "91/91 [==============================] - 1s 11ms/step - loss: 0.3565 - accuracy: 0.6388 - val_loss: 0.3740 - val_accuracy: 0.6388 - lr: 1.0000e-04\n",
      "Epoch 6/100\n",
      "91/91 [==============================] - 1s 12ms/step - loss: 0.3489 - accuracy: 0.6412 - val_loss: 0.3674 - val_accuracy: 0.6388 - lr: 1.0000e-04\n",
      "Epoch 7/100\n",
      "91/91 [==============================] - 1s 12ms/step - loss: 0.3425 - accuracy: 0.6422 - val_loss: 0.3644 - val_accuracy: 0.6419 - lr: 1.0000e-04\n",
      "Epoch 8/100\n",
      "91/91 [==============================] - 1s 12ms/step - loss: 0.3364 - accuracy: 0.6459 - val_loss: 0.3613 - val_accuracy: 0.6430 - lr: 1.0000e-04\n",
      "Epoch 9/100\n",
      "91/91 [==============================] - 1s 12ms/step - loss: 0.3324 - accuracy: 0.6487 - val_loss: 0.3557 - val_accuracy: 0.6447 - lr: 1.0000e-04\n",
      "Epoch 10/100\n",
      "91/91 [==============================] - 1s 11ms/step - loss: 0.3276 - accuracy: 0.6489 - val_loss: 0.3541 - val_accuracy: 0.6453 - lr: 9.0000e-05\n",
      "Epoch 11/100\n",
      "91/91 [==============================] - 1s 11ms/step - loss: 0.3244 - accuracy: 0.6513 - val_loss: 0.3493 - val_accuracy: 0.6479 - lr: 8.1000e-05\n",
      "Epoch 12/100\n",
      "91/91 [==============================] - 1s 11ms/step - loss: 0.3215 - accuracy: 0.6517 - val_loss: 0.3452 - val_accuracy: 0.6494 - lr: 7.2900e-05\n",
      "Epoch 13/100\n",
      "91/91 [==============================] - 1s 12ms/step - loss: 0.3192 - accuracy: 0.6523 - val_loss: 0.3421 - val_accuracy: 0.6506 - lr: 6.5610e-05\n",
      "Epoch 14/100\n",
      "91/91 [==============================] - 1s 12ms/step - loss: 0.3164 - accuracy: 0.6528 - val_loss: 0.3428 - val_accuracy: 0.6516 - lr: 5.9049e-05\n",
      "Epoch 15/100\n",
      "91/91 [==============================] - 1s 12ms/step - loss: 0.3146 - accuracy: 0.6529 - val_loss: 0.3445 - val_accuracy: 0.6511 - lr: 5.3144e-05\n",
      "Epoch 16/100\n",
      "91/91 [==============================] - 1s 12ms/step - loss: 0.3129 - accuracy: 0.6532 - val_loss: 0.3405 - val_accuracy: 0.6537 - lr: 4.7830e-05\n",
      "Epoch 17/100\n",
      "91/91 [==============================] - 1s 11ms/step - loss: 0.3107 - accuracy: 0.6546 - val_loss: 0.3352 - val_accuracy: 0.6544 - lr: 4.3047e-05\n",
      "Epoch 18/100\n",
      "91/91 [==============================] - 1s 11ms/step - loss: 0.3094 - accuracy: 0.6541 - val_loss: 0.3356 - val_accuracy: 0.6553 - lr: 3.8742e-05\n",
      "Epoch 19/100\n",
      "91/91 [==============================] - 1s 12ms/step - loss: 0.3079 - accuracy: 0.6557 - val_loss: 0.3341 - val_accuracy: 0.6560 - lr: 3.1381e-05\n",
      "Epoch 20/100\n",
      "91/91 [==============================] - 1s 12ms/step - loss: 0.3065 - accuracy: 0.6553 - val_loss: 0.3339 - val_accuracy: 0.6562 - lr: 2.5419e-05\n",
      "Epoch 21/100\n",
      "91/91 [==============================] - 1s 12ms/step - loss: 0.3064 - accuracy: 0.6547 - val_loss: 0.3327 - val_accuracy: 0.6567 - lr: 2.0589e-05\n",
      "Epoch 22/100\n",
      "91/91 [==============================] - 1s 11ms/step - loss: 0.3056 - accuracy: 0.6556 - val_loss: 0.3323 - val_accuracy: 0.6571 - lr: 1.6677e-05\n",
      "Epoch 23/100\n",
      "91/91 [==============================] - 1s 11ms/step - loss: 0.3046 - accuracy: 0.6559 - val_loss: 0.3317 - val_accuracy: 0.6575 - lr: 1.3509e-05\n",
      "Epoch 24/100\n",
      "91/91 [==============================] - 1s 12ms/step - loss: 0.3048 - accuracy: 0.6554 - val_loss: 0.3312 - val_accuracy: 0.6578 - lr: 1.0942e-05\n",
      "Epoch 25/100\n",
      "91/91 [==============================] - 1s 12ms/step - loss: 0.3042 - accuracy: 0.6561 - val_loss: 0.3309 - val_accuracy: 0.6575 - lr: 8.8629e-06\n",
      "Epoch 26/100\n",
      "91/91 [==============================] - 1s 12ms/step - loss: 0.3034 - accuracy: 0.6561 - val_loss: 0.3307 - val_accuracy: 0.6573 - lr: 7.1790e-06\n",
      "Epoch 27/100\n",
      "91/91 [==============================] - 1s 12ms/step - loss: 0.3031 - accuracy: 0.6556 - val_loss: 0.3307 - val_accuracy: 0.6578 - lr: 5.8150e-06\n",
      "Epoch 28/100\n",
      "91/91 [==============================] - 1s 11ms/step - loss: 0.3039 - accuracy: 0.6563 - val_loss: 0.3301 - val_accuracy: 0.6575 - lr: 4.2391e-06\n",
      "Epoch 29/100\n",
      "91/91 [==============================] - 1s 11ms/step - loss: 0.3029 - accuracy: 0.6565 - val_loss: 0.3297 - val_accuracy: 0.6580 - lr: 3.0903e-06\n",
      "Epoch 30/100\n",
      "91/91 [==============================] - 1s 12ms/step - loss: 0.3037 - accuracy: 0.6563 - val_loss: 0.3297 - val_accuracy: 0.6580 - lr: 2.2528e-06\n",
      "Epoch 31/100\n",
      "91/91 [==============================] - 1s 12ms/step - loss: 0.3028 - accuracy: 0.6563 - val_loss: 0.3296 - val_accuracy: 0.6580 - lr: 1.6423e-06\n",
      "Epoch 32/100\n",
      "91/91 [==============================] - 1s 12ms/step - loss: 0.3030 - accuracy: 0.6567 - val_loss: 0.3296 - val_accuracy: 0.6580 - lr: 1.1973e-06\n",
      "Epoch 33/100\n",
      "91/91 [==============================] - 1s 12ms/step - loss: 0.3032 - accuracy: 0.6558 - val_loss: 0.3295 - val_accuracy: 0.6580 - lr: 8.7280e-07\n",
      "Epoch 34/100\n",
      "91/91 [==============================] - 1s 11ms/step - loss: 0.3035 - accuracy: 0.6564 - val_loss: 0.3296 - val_accuracy: 0.6580 - lr: 6.3627e-07\n",
      "Epoch 35/100\n",
      "91/91 [==============================] - 1s 12ms/step - loss: 0.3025 - accuracy: 0.6562 - val_loss: 0.3295 - val_accuracy: 0.6580 - lr: 4.6384e-07\n",
      "Epoch 36/100\n",
      "91/91 [==============================] - 1s 12ms/step - loss: 0.3034 - accuracy: 0.6557 - val_loss: 0.3295 - val_accuracy: 0.6580 - lr: 3.3814e-07\n",
      "Epoch 37/100\n",
      "91/91 [==============================] - 1s 12ms/step - loss: 0.3036 - accuracy: 0.6555 - val_loss: 0.3295 - val_accuracy: 0.6580 - lr: 2.2185e-07\n",
      "Epoch 38/100\n",
      "91/91 [==============================] - 1s 12ms/step - loss: 0.3034 - accuracy: 0.6565 - val_loss: 0.3295 - val_accuracy: 0.6580 - lr: 1.4556e-07\n",
      "Epoch 39/100\n",
      "91/91 [==============================] - 1s 11ms/step - loss: 0.3036 - accuracy: 0.6557 - val_loss: 0.3295 - val_accuracy: 0.6580 - lr: 9.5501e-08\n",
      "Epoch 40/100\n",
      "91/91 [==============================] - 1s 11ms/step - loss: 0.3035 - accuracy: 0.6563 - val_loss: 0.3295 - val_accuracy: 0.6580 - lr: 6.2658e-08\n",
      "Epoch 41/100\n",
      "91/91 [==============================] - 1s 12ms/step - loss: 0.3031 - accuracy: 0.6561 - val_loss: 0.3295 - val_accuracy: 0.6580 - lr: 4.1110e-08\n",
      "Epoch 42/100\n",
      "91/91 [==============================] - 1s 11ms/step - loss: 0.3038 - accuracy: 0.6559 - val_loss: 0.3295 - val_accuracy: 0.6580 - lr: 2.6972e-08\n",
      "Epoch 43/100\n",
      "91/91 [==============================] - 1s 11ms/step - loss: 0.3036 - accuracy: 0.6562 - val_loss: 0.3295 - val_accuracy: 0.6580 - lr: 1.7696e-08\n",
      "Epoch 44/100\n",
      "91/91 [==============================] - 1s 12ms/step - loss: 0.3032 - accuracy: 0.6562 - val_loss: 0.3295 - val_accuracy: 0.6580 - lr: 1.1611e-08\n",
      "Epoch 45/100\n",
      "91/91 [==============================] - 1s 12ms/step - loss: 0.3033 - accuracy: 0.6562 - val_loss: 0.3295 - val_accuracy: 0.6580 - lr: 7.6177e-09\n",
      "Epoch 46/100\n",
      "91/91 [==============================] - ETA: 0s - loss: 0.3023 - accuracy: 0.6568Restoring model weights from the end of the best epoch: 36.\n",
      "91/91 [==============================] - 1s 11ms/step - loss: 0.3023 - accuracy: 0.6568 - val_loss: 0.3295 - val_accuracy: 0.6580 - lr: 4.4982e-09\n",
      "Epoch 46: early stopping\n"
     ]
    }
   ],
   "source": [
    "# Train the model\n",
    "history_wide = model_wide.fit(X_train_seq, y_train,\n",
    "                              epochs = epochs,\n",
    "                              batch_size = batch_size,\n",
    "                              validation_data=(X_val_seq, y_val),\n",
    "                              callbacks=[early_stopping, lr_scheduler])"
   ]
  },
  {
   "cell_type": "code",
   "execution_count": 123,
   "metadata": {},
   "outputs": [
    {
     "data": {
      "image/png": "[encoded data removed]",
      "text/plain": [
       "<Figure size 1000x600 with 1 Axes>"
      ]
     },
     "metadata": {},
     "output_type": "display_data"
    }
   ],
   "source": [
    "# Plot the training and validation loss\n",
    "plot_history(history_wide, \"wide\")"
   ]
  },
  {
   "cell_type": "code",
   "execution_count": 124,
   "metadata": {},
   "outputs": [
    {
     "name": "stdout",
     "output_type": "stream",
     "text": [
      "159/159 [==============================] - 2s 5ms/step\n",
      "              precision    recall  f1-score   support\n",
      "\n",
      "           0       0.96      0.91      0.93      3383\n",
      "           1       0.84      0.92      0.88      1689\n",
      "\n",
      "    accuracy                           0.91      5072\n",
      "   macro avg       0.90      0.92      0.91      5072\n",
      "weighted avg       0.92      0.91      0.92      5072\n",
      "\n",
      "Accuracy = 0.9140, Precision = 0.9185, Recall = 0.9140, F1 Score = 0.9150 -> wide\n",
      "159/159 [==============================] - 1s 5ms/step\n",
      "MSE = 0.0352, MAE = 0.1225, R-squared = 0.7970 -> wide\n"
     ]
    }
   ],
   "source": [
    "# Calculate accuracy and precision of the model\n",
    "accuracy_wide, precision_wide, recall_wide, f1_wide = evaluate(X_test_seq, y_test, model_wide)\n",
    "print(f\"Accuracy = {accuracy_wide:.4f}, Precision = {precision_wide:.4f}, Recall = {recall_wide:.4f}, F1 Score = {f1_wide:.4f} -> wide\")\n",
    "\n",
    "mse_wide, mae_wide, r2_wide = evaluate_continuous(X_test_seq, y_test, model_wide)\n",
    "print(f\"MSE = {mse_wide:.4f}, MAE = {mae_wide:.4f}, R-squared = {r2_wide:.4f} -> wide\")"
   ]
  },
  {
   "cell_type": "code",
   "execution_count": 125,
   "metadata": {},
   "outputs": [],
   "source": [
    "# Save the model\n",
    "model_wide.save(os.path.join(STORM_folder, f'wide/model_wide_{start_time.date()}.keras'))"
   ]
  },
  {
   "cell_type": "markdown",
   "metadata": {},
   "source": [
    "Lets also train a Random Forest model"
   ]
  },
  {
   "cell_type": "code",
   "execution_count": 126,
   "metadata": {},
   "outputs": [
    {
     "data": {
      "text/html": [
       "<style>#sk-container-id-2 {color: black;background-color: white;}#sk-container-id-2 pre{padding: 0;}#sk-container-id-2 div.sk-toggleable {background-color: white;}#sk-container-id-2 label.sk-toggleable__label {cursor: pointer;display: block;width: 100%;margin-bottom: 0;padding: 0.3em;box-sizing: border-box;text-align: center;}#sk-container-id-2 label.sk-toggleable__label-arrow:before {content: \"▸\";float: left;margin-right: 0.25em;color: #696969;}#sk-container-id-2 label.sk-toggleable__label-arrow:hover:before {color: black;}#sk-container-id-2 div.sk-estimator:hover label.sk-toggleable__label-arrow:before {color: black;}#sk-container-id-2 div.sk-toggleable__content {max-height: 0;max-width: 0;overflow: hidden;text-align: left;background-color: #f0f8ff;}#sk-container-id-2 div.sk-toggleable__content pre {margin: 0.2em;color: black;border-radius: 0.25em;background-color: #f0f8ff;}#sk-container-id-2 input.sk-toggleable__control:checked~div.sk-toggleable__content {max-height: 200px;max-width: 100%;overflow: auto;}#sk-container-id-2 input.sk-toggleable__control:checked~label.sk-toggleable__label-arrow:before {content: \"▾\";}#sk-container-id-2 div.sk-estimator input.sk-toggleable__control:checked~label.sk-toggleable__label {background-color: #d4ebff;}#sk-container-id-2 div.sk-label input.sk-toggleable__control:checked~label.sk-toggleable__label {background-color: #d4ebff;}#sk-container-id-2 input.sk-hidden--visually {border: 0;clip: rect(1px 1px 1px 1px);clip: rect(1px, 1px, 1px, 1px);height: 1px;margin: -1px;overflow: hidden;padding: 0;position: absolute;width: 1px;}#sk-container-id-2 div.sk-estimator {font-family: monospace;background-color: #f0f8ff;border: 1px dotted black;border-radius: 0.25em;box-sizing: border-box;margin-bottom: 0.5em;}#sk-container-id-2 div.sk-estimator:hover {background-color: #d4ebff;}#sk-container-id-2 div.sk-parallel-item::after {content: \"\";width: 100%;border-bottom: 1px solid gray;flex-grow: 1;}#sk-container-id-2 div.sk-label:hover label.sk-toggleable__label {background-color: #d4ebff;}#sk-container-id-2 div.sk-serial::before {content: \"\";position: absolute;border-left: 1px solid gray;box-sizing: border-box;top: 0;bottom: 0;left: 50%;z-index: 0;}#sk-container-id-2 div.sk-serial {display: flex;flex-direction: column;align-items: center;background-color: white;padding-right: 0.2em;padding-left: 0.2em;position: relative;}#sk-container-id-2 div.sk-item {position: relative;z-index: 1;}#sk-container-id-2 div.sk-parallel {display: flex;align-items: stretch;justify-content: center;background-color: white;position: relative;}#sk-container-id-2 div.sk-item::before, #sk-container-id-2 div.sk-parallel-item::before {content: \"\";position: absolute;border-left: 1px solid gray;box-sizing: border-box;top: 0;bottom: 0;left: 50%;z-index: -1;}#sk-container-id-2 div.sk-parallel-item {display: flex;flex-direction: column;z-index: 1;position: relative;background-color: white;}#sk-container-id-2 div.sk-parallel-item:first-child::after {align-self: flex-end;width: 50%;}#sk-container-id-2 div.sk-parallel-item:last-child::after {align-self: flex-start;width: 50%;}#sk-container-id-2 div.sk-parallel-item:only-child::after {width: 0;}#sk-container-id-2 div.sk-dashed-wrapped {border: 1px dashed gray;margin: 0 0.4em 0.5em 0.4em;box-sizing: border-box;padding-bottom: 0.4em;background-color: white;}#sk-container-id-2 div.sk-label label {font-family: monospace;font-weight: bold;display: inline-block;line-height: 1.2em;}#sk-container-id-2 div.sk-label-container {text-align: center;}#sk-container-id-2 div.sk-container {/* jupyter's `normalize.less` sets `[hidden] { display: none; }` but bootstrap.min.css set `[hidden] { display: none !important; }` so we also need the `!important` here to be able to override the default hidden behavior on the sphinx rendered scikit-learn.org. See: https://github.com/scikit-learn/scikit-learn/issues/21755 */display: inline-block !important;position: relative;}#sk-container-id-2 div.sk-text-repr-fallback {display: none;}</style><div id=\"sk-container-id-2\" class=\"sk-top-container\"><div class=\"sk-text-repr-fallback\"><pre>RandomForestClassifier(max_depth=12, n_estimators=24)</pre><b>In a Jupyter environment, please rerun this cell to show the HTML representation or trust the notebook. <br />On GitHub, the HTML representation is unable to render, please try loading this page with nbviewer.org.</b></div><div class=\"sk-container\" hidden><div class=\"sk-item\"><div class=\"sk-estimator sk-toggleable\"><input class=\"sk-toggleable__control sk-hidden--visually\" id=\"sk-estimator-id-2\" type=\"checkbox\" checked><label for=\"sk-estimator-id-2\" class=\"sk-toggleable__label sk-toggleable__label-arrow\">RandomForestClassifier</label><div class=\"sk-toggleable__content\"><pre>RandomForestClassifier(max_depth=12, n_estimators=24)</pre></div></div></div></div></div>"
      ],
      "text/plain": [
       "RandomForestClassifier(max_depth=12, n_estimators=24)"
      ]
     },
     "execution_count": 126,
     "metadata": {},
     "output_type": "execute_result"
    }
   ],
   "source": [
    "# We train a RF model with the same data\n",
    "if not make_discrete:\n",
    "    y_train = (y_train > 0.5).astype(int)\n",
    "\n",
    "# Create the Random Forest model (and set the number of estimators (decision trees))\n",
    "RF_model = RandomForestClassifier(n_estimators = 24, max_depth = 12)\n",
    "\n",
    "# Train the MultiOutputClassifier with your data\n",
    "RF_model.fit(X_train, y_train)"
   ]
  },
  {
   "cell_type": "code",
   "execution_count": 127,
   "metadata": {},
   "outputs": [
    {
     "name": "stdout",
     "output_type": "stream",
     "text": [
      "              precision    recall  f1-score   support\n",
      "\n",
      "           0       0.95      0.91      0.93      3383\n",
      "           1       0.84      0.91      0.87      1689\n",
      "\n",
      "    accuracy                           0.91      5072\n",
      "   macro avg       0.89      0.91      0.90      5072\n",
      "weighted avg       0.91      0.91      0.91      5072\n",
      "\n",
      "Accuracy = 0.9097, Precision = 0.9128, Recall = 0.9097, F1 Score = 0.9105 -> RF\n",
      "MSE = 0.0682, MAE = 0.1228, R-squared = 0.6072 -> RF\n"
     ]
    }
   ],
   "source": [
    "# Calculate accuracy and precision of the model\n",
    "accuracy_RF, precision_RF, recall_RF, f1_RF = evaluate(X_test, y_test, RF_model)\n",
    "print(f\"Accuracy = {accuracy_RF:.4f}, Precision = {precision_RF:.4f}, Recall = {recall_RF:.4f}, F1 Score = {f1_RF:.4f} -> RF\")\n",
    "\n",
    "mse_RF, mae_RF, r2_RF = evaluate_continuous(X_test, y_test, RF_model)\n",
    "print(f\"MSE = {mse_RF:.4f}, MAE = {mae_RF:.4f}, R-squared = {r2_RF:.4f} -> RF\")"
   ]
  },
  {
   "cell_type": "code",
   "execution_count": 128,
   "metadata": {},
   "outputs": [
    {
     "data": {
      "text/plain": [
       "['C:/Users/dhers/Desktop\\\\STORM/models\\\\RF/model_RF_2024-10-16.pkl']"
      ]
     },
     "execution_count": 128,
     "metadata": {},
     "output_type": "execute_result"
    }
   ],
   "source": [
    "# Save the model\n",
    "joblib.dump(RF_model, os.path.join(STORM_folder, f'RF/model_RF_{start_time.date()}.pkl'))"
   ]
  },
  {
   "cell_type": "code",
   "execution_count": 129,
   "metadata": {},
   "outputs": [],
   "source": [
    "# Get the end time\n",
    "end_time = datetime.datetime.now()\n",
    "\n",
    "# Calculate elapsed time\n",
    "elapsed_time = end_time - start_time"
   ]
  },
  {
   "cell_type": "code",
   "execution_count": 130,
   "metadata": {},
   "outputs": [
    {
     "name": "stdout",
     "output_type": "stream",
     "text": [
      "Script execution time: 0:01:42.404988).\n",
      "Evaluate model vs testing data\n",
      "VS binary average\n",
      "Accuracy = 0.8854, Precision = 0.8852, Recall = 0.8854, F1 Score = 0.8853 -> simple\n",
      "Accuracy = 0.9140, Precision = 0.9185, Recall = 0.9140, F1 Score = 0.9150 -> wide\n",
      "Accuracy = 0.9097, Precision = 0.9128, Recall = 0.9097, F1 Score = 0.9105 -> RF\n",
      "VS continuous average\n",
      "MSE = 0.0541, MAE = 0.1746, R-squared = 0.6882 -> simple\n",
      "MSE = 0.0352, MAE = 0.1225, R-squared = 0.7970 -> wide\n",
      "MSE = 0.0682, MAE = 0.1228, R-squared = 0.6072 -> RF\n"
     ]
    }
   ],
   "source": [
    "# Print the model results\n",
    "print(f\"Script execution time: {elapsed_time}).\")\n",
    "\n",
    "print(\"Evaluate model vs testing data\")\n",
    "\n",
    "print(\"VS binary average\")\n",
    "print(f\"Accuracy = {accuracy_simple:.4f}, Precision = {precision_simple:.4f}, Recall = {recall_simple:.4f}, F1 Score = {f1_simple:.4f} -> simple\")\n",
    "print(f\"Accuracy = {accuracy_wide:.4f}, Precision = {precision_wide:.4f}, Recall = {recall_wide:.4f}, F1 Score = {f1_wide:.4f} -> wide\")\n",
    "print(f\"Accuracy = {accuracy_RF:.4f}, Precision = {precision_RF:.4f}, Recall = {recall_RF:.4f}, F1 Score = {f1_RF:.4f} -> RF\")\n",
    "\n",
    "print(\"VS continuous average\")\n",
    "print(f\"MSE = {mse_simple:.4f}, MAE = {mae_simple:.4f}, R-squared = {r2_simple:.4f} -> simple\")\n",
    "print(f\"MSE = {mse_wide:.4f}, MAE = {mae_wide:.4f}, R-squared = {r2_wide:.4f} -> wide\")\n",
    "print(f\"MSE = {mse_RF:.4f}, MAE = {mae_RF:.4f}, R-squared = {r2_RF:.4f} -> RF\")"
   ]
  },
  {
   "cell_type": "code",
   "execution_count": 131,
   "metadata": {},
   "outputs": [],
   "source": [
    "# Lets test the accuracy of a random and zero y_test\n",
    "\n",
    "y_zeros = y_test - y_test\n",
    "\n",
    "y_random = y_test.sample(frac=1).reset_index(drop=True)\n",
    "y_random_binary = (y_random > 0.5).astype(int)\n",
    "\n",
    "y_binary = (y_test > 0.5).astype(int)"
   ]
  },
  {
   "cell_type": "code",
   "execution_count": 132,
   "metadata": {},
   "outputs": [
    {
     "name": "stdout",
     "output_type": "stream",
     "text": [
      "              precision    recall  f1-score   support\n",
      "\n",
      "           0       0.67      1.00      0.80      3383\n",
      "           1       0.00      0.00      0.00      1689\n",
      "\n",
      "    accuracy                           0.67      5072\n",
      "   macro avg       0.33      0.50      0.40      5072\n",
      "weighted avg       0.44      0.67      0.53      5072\n",
      "\n",
      "Accuracy = 0.6670, Precision = 0.4449, Recall = 0.6670, F1 Score = 0.5338 -> zeros\n",
      "MSE = 0.2977, MAE = 0.3524, R-squared = -0.7154 -> zeros\n"
     ]
    },
    {
     "name": "stderr",
     "output_type": "stream",
     "text": [
      "c:\\Users\\dhers\\anaconda3\\envs\\GPU\\lib\\site-packages\\sklearn\\metrics\\_classification.py:1344: UndefinedMetricWarning: Precision and F-score are ill-defined and being set to 0.0 in labels with no predicted samples. Use `zero_division` parameter to control this behavior.\n",
      "  _warn_prf(average, modifier, msg_start, len(result))\n",
      "c:\\Users\\dhers\\anaconda3\\envs\\GPU\\lib\\site-packages\\sklearn\\metrics\\_classification.py:1344: UndefinedMetricWarning: Precision and F-score are ill-defined and being set to 0.0 in labels with no predicted samples. Use `zero_division` parameter to control this behavior.\n",
      "  _warn_prf(average, modifier, msg_start, len(result))\n",
      "c:\\Users\\dhers\\anaconda3\\envs\\GPU\\lib\\site-packages\\sklearn\\metrics\\_classification.py:1344: UndefinedMetricWarning: Precision and F-score are ill-defined and being set to 0.0 in labels with no predicted samples. Use `zero_division` parameter to control this behavior.\n",
      "  _warn_prf(average, modifier, msg_start, len(result))\n",
      "c:\\Users\\dhers\\anaconda3\\envs\\GPU\\lib\\site-packages\\sklearn\\metrics\\_classification.py:1344: UndefinedMetricWarning: Precision is ill-defined and being set to 0.0 in labels with no predicted samples. Use `zero_division` parameter to control this behavior.\n",
      "  _warn_prf(average, modifier, msg_start, len(result))\n"
     ]
    }
   ],
   "source": [
    "# zeros\n",
    "print(classification_report(y_binary, y_zeros))\n",
    "\n",
    "accuracy_zeros = accuracy_score(y_binary, y_zeros)\n",
    "precision_zeros = precision_score(y_binary, y_zeros, average = 'weighted')\n",
    "recall_zeros = recall_score(y_binary, y_zeros, average = 'weighted')\n",
    "f1_zeros = f1_score(y_binary, y_zeros, average = 'weighted')\n",
    "print(f\"Accuracy = {accuracy_zeros:.4f}, Precision = {precision_zeros:.4f}, Recall = {recall_zeros:.4f}, F1 Score = {f1_zeros:.4f} -> zeros\")\n",
    "\n",
    "mse_zeros = mean_squared_error(y_test, y_zeros)\n",
    "mae_zeros = mean_absolute_error(y_test, y_zeros)\n",
    "r2_zeros = r2_score(y_test, y_zeros)\n",
    "print(f\"MSE = {mse_zeros:.4f}, MAE = {mae_zeros:.4f}, R-squared = {r2_zeros:.4f} -> zeros\")"
   ]
  },
  {
   "cell_type": "code",
   "execution_count": 133,
   "metadata": {},
   "outputs": [
    {
     "name": "stdout",
     "output_type": "stream",
     "text": [
      "              precision    recall  f1-score   support\n",
      "\n",
      "           0       0.67      0.67      0.67      3383\n",
      "           1       0.34      0.34      0.34      1689\n",
      "\n",
      "    accuracy                           0.56      5072\n",
      "   macro avg       0.51      0.51      0.51      5072\n",
      "weighted avg       0.56      0.56      0.56      5072\n",
      "\n",
      "Accuracy = 0.5615, Precision = 0.5615, Recall = 0.5615, F1 Score = 0.5615 -> random\n",
      "MSE = 0.3458, MAE = 0.4341, R-squared = -0.9922 -> random\n"
     ]
    }
   ],
   "source": [
    "# random\n",
    "print(classification_report(y_binary, y_random_binary))\n",
    "\n",
    "accuracy_random = accuracy_score(y_binary, y_random_binary)\n",
    "precision_random = precision_score(y_binary, y_random_binary, average = 'weighted')\n",
    "recall_random = recall_score(y_binary, y_random_binary, average = 'weighted')\n",
    "f1_random = f1_score(y_binary, y_random_binary, average = 'weighted')\n",
    "print(f\"Accuracy = {accuracy_random:.4f}, Precision = {precision_random:.4f}, Recall = {recall_random:.4f}, F1 Score = {f1_random:.4f} -> random\")\n",
    "\n",
    "mse_random = mean_squared_error(y_test, y_random)\n",
    "mae_random = mean_absolute_error(y_test, y_random)\n",
    "r2_random = r2_score(y_test, y_random)\n",
    "print(f\"MSE = {mse_random:.4f}, MAE = {mae_random:.4f}, R-squared = {r2_random:.4f} -> random\")"
   ]
  },
  {
   "cell_type": "code",
   "execution_count": 134,
   "metadata": {},
   "outputs": [
    {
     "name": "stdout",
     "output_type": "stream",
     "text": [
      "Evaluate model vs testing data\n",
      "VS binary average\n",
      "Accuracy = 0.8854, Precision = 0.8852, Recall = 0.8854, F1 Score = 0.8853 -> simple\n",
      "Accuracy = 0.9140, Precision = 0.9185, Recall = 0.9140, F1 Score = 0.9150 -> wide\n",
      "Accuracy = 0.9097, Precision = 0.9128, Recall = 0.9097, F1 Score = 0.9105 -> RF\n",
      "Accuracy = 0.6670, Precision = 0.4449, Recall = 0.6670, F1 Score = 0.5338 -> zeros\n",
      "Accuracy = 0.5615, Precision = 0.5615, Recall = 0.5615, F1 Score = 0.5615 -> random\n",
      "VS continuous average\n",
      "MSE = 0.0541, MAE = 0.1746, R-squared = 0.6882 -> simple\n",
      "MSE = 0.0352, MAE = 0.1225, R-squared = 0.7970 -> wide\n",
      "MSE = 0.0682, MAE = 0.1228, R-squared = 0.6072 -> RF\n",
      "MSE = 0.2977, MAE = 0.3524, R-squared = -0.7154 -> zeros\n",
      "MSE = 0.3458, MAE = 0.4341, R-squared = -0.9922 -> random\n"
     ]
    }
   ],
   "source": [
    "print(\"Evaluate model vs testing data\")\n",
    "\n",
    "print(\"VS binary average\")\n",
    "print(f\"Accuracy = {accuracy_simple:.4f}, Precision = {precision_simple:.4f}, Recall = {recall_simple:.4f}, F1 Score = {f1_simple:.4f} -> simple\")\n",
    "print(f\"Accuracy = {accuracy_wide:.4f}, Precision = {precision_wide:.4f}, Recall = {recall_wide:.4f}, F1 Score = {f1_wide:.4f} -> wide\")\n",
    "print(f\"Accuracy = {accuracy_RF:.4f}, Precision = {precision_RF:.4f}, Recall = {recall_RF:.4f}, F1 Score = {f1_RF:.4f} -> RF\")\n",
    "print(f\"Accuracy = {accuracy_zeros:.4f}, Precision = {precision_zeros:.4f}, Recall = {recall_zeros:.4f}, F1 Score = {f1_zeros:.4f} -> zeros\")\n",
    "print(f\"Accuracy = {accuracy_random:.4f}, Precision = {precision_random:.4f}, Recall = {recall_random:.4f}, F1 Score = {f1_random:.4f} -> random\")\n",
    "\n",
    "print(\"VS continuous average\")\n",
    "print(f\"MSE = {mse_simple:.4f}, MAE = {mae_simple:.4f}, R-squared = {r2_simple:.4f} -> simple\")\n",
    "print(f\"MSE = {mse_wide:.4f}, MAE = {mae_wide:.4f}, R-squared = {r2_wide:.4f} -> wide\")\n",
    "print(f\"MSE = {mse_RF:.4f}, MAE = {mae_RF:.4f}, R-squared = {r2_RF:.4f} -> RF\")\n",
    "print(f\"MSE = {mse_zeros:.4f}, MAE = {mae_zeros:.4f}, R-squared = {r2_zeros:.4f} -> zeros\")\n",
    "print(f\"MSE = {mse_random:.4f}, MAE = {mae_random:.4f}, R-squared = {r2_random:.4f} -> random\")"
   ]
  }
 ],
 "metadata": {
  "kernelspec": {
   "display_name": "GPU",
   "language": "python",
   "name": "python3"
  },
  "language_info": {
   "codemirror_mode": {
    "name": "ipython",
    "version": 3
   },
   "file_extension": ".py",
   "mimetype": "text/x-python",
   "name": "python",
   "nbconvert_exporter": "python",
   "pygments_lexer": "ipython3",
   "version": "3.9.19"
  }
 },
 "nbformat": 4,
 "nbformat_minor": 2
}
