{
 "cells": [
  {
   "cell_type": "markdown",
   "metadata": {},
   "source": [
    "Created on Tue Nov  7 16:59:14 2023\n",
    "\n",
    "@author: Santiago D'hers\n",
    "\n",
    "Use:\n",
    "\n",
    "- This script will train AI models to identify exploration using mouse and object position\n",
    "\n",
    "Requirements:\n",
    "\n",
    "- The position.csv files processed by 1-Manage_H5.py\n",
    "- Labeled data for the position files (to train the model)\n",
    "\n",
    "or\n",
    "\n",
    "- Access to the file colabeled_data.csv, where we can find:\n",
    "    - Position and labels for representative exploration events\n",
    "    - It includes the labels of 5 viewers (so far)"
   ]
  },
  {
   "cell_type": "code",
   "execution_count": 19,
   "metadata": {},
   "outputs": [
    {
     "name": "stdout",
     "output_type": "stream",
     "text": [
      "[PhysicalDevice(name='/physical_device:GPU:0', device_type='GPU')]\n"
     ]
    }
   ],
   "source": [
    "import h5py\n",
    "import os\n",
    "import pandas as pd\n",
    "import numpy as np\n",
    "import matplotlib.pyplot as plt\n",
    "\n",
    "from scipy import signal\n",
    "import random\n",
    "import datetime\n",
    "\n",
    "import joblib\n",
    "\n",
    "# from sklearn.utils.class_weight import compute_class_weight\n",
    "from sklearn.metrics import accuracy_score, precision_score, classification_report, recall_score, f1_score\n",
    "from sklearn.metrics import mean_squared_error, mean_absolute_error, r2_score\n",
    "from sklearn.ensemble import RandomForestClassifier\n",
    "from sklearn.utils.class_weight import compute_class_weight\n",
    "\n",
    "import tensorflow as tf\n",
    "from tensorflow.keras.layers import LSTM, Dense, Input, Bidirectional, Lambda, Dropout\n",
    "from tensorflow.keras.callbacks import EarlyStopping, LearningRateScheduler\n",
    "from tensorflow.keras.regularizers import l2\n",
    "\n",
    "print(tf.config.list_physical_devices('GPU'))"
   ]
  },
  {
   "cell_type": "code",
   "execution_count": 20,
   "metadata": {},
   "outputs": [],
   "source": [
    "desktop = 'C:/Users/dhers/Desktop'\n",
    "STORM_folder = os.path.join(desktop, 'STORM/models')\n",
    "\n",
    "colabels_file = os.path.join(STORM_folder, 'colabels.csv')\n",
    "colabels = pd.read_csv(colabels_file)\n",
    "\n",
    "bodyparts = ['nose', 'L_ear', 'R_ear', 'head', 'neck', 'body']\n",
    "objects = ['obj']\n",
    "\n",
    "train_with_average = True # If False, it trains with all the labels separately\n",
    "make_discrete = False # If False, labels are float (not 0 and 1)\n",
    "save_data = True # if True, the data processed will be saved with today's date\n",
    "\n",
    "use_saved_data = False # if True, we use the dataframe processed previously\n",
    "if use_saved_data:\n",
    "    saved_data = r'c:\\Users\\dhers\\Desktop\\STORM\\models\\training_data\\training_data_2024-10-22.h5' # Select the model date you want to rescue\n",
    "\n",
    "# Get the start time\n",
    "start_time = datetime.datetime.now()"
   ]
  },
  {
   "cell_type": "code",
   "execution_count": 21,
   "metadata": {},
   "outputs": [],
   "source": [
    "def recenter(df, point, bodyparts):\n",
    "    # Create a copy of the original dataframe\n",
    "    df_copy = df.copy()\n",
    "    bodypart_columns = []\n",
    "    \n",
    "    for bodypart in bodyparts:\n",
    "        # Subtract point_x from columns ending in _x\n",
    "        x_cols = [col for col in df_copy.columns if col.endswith(f'{bodypart}_x')]\n",
    "        df_copy[x_cols] = df_copy[x_cols].apply(lambda col: col - df_copy[f'{point}_x'])\n",
    "        \n",
    "        # Subtract point_y from columns ending in _y\n",
    "        y_cols = [col for col in df_copy.columns if col.endswith(f'{bodypart}_y')]\n",
    "        df_copy[y_cols] = df_copy[y_cols].apply(lambda col: col - df_copy[f'{point}_y'])\n",
    "        \n",
    "        # Collect bodypart columns\n",
    "        bodypart_columns.extend(x_cols)\n",
    "        bodypart_columns.extend(y_cols)\n",
    "        \n",
    "    return df_copy[bodypart_columns]"
   ]
  },
  {
   "cell_type": "code",
   "execution_count": 22,
   "metadata": {},
   "outputs": [],
   "source": [
    "def reshape(df):\n",
    "    reshaped_df = []\n",
    "    \n",
    "    # Iterate over each row index in the DataFrame\n",
    "    for i in range(len(df)):\n",
    "        # Determine which indices to include for reshaping\n",
    "        indices_to_include = [\n",
    "            max(0, i - 6),  # i - 6, ensure it's not negative\n",
    "            max(0, i - 3),  # i - 3, ensure it's not negative\n",
    "            max(0, i - 1),  # i - 1, ensure it's not negative\n",
    "            i,              # current index\n",
    "            min(len(df) - 1, i + 1),  # i + 1, ensure it's not out of bounds\n",
    "            min(len(df) - 1, i + 3),  # i + 3, ensure it's not out of bounds\n",
    "            min(len(df) - 1, i + 6)   # i + 6, ensure it's not out of bounds\n",
    "        ]\n",
    "        \n",
    "        # Append the rows using the calculated indices\n",
    "        reshaped_df.append(df.iloc[indices_to_include])\n",
    "    \n",
    "    return reshaped_df"
   ]
  },
  {
   "cell_type": "code",
   "execution_count": 23,
   "metadata": {},
   "outputs": [],
   "source": [
    "# The labels for left and right exploration are on the rest of the columns, we need to extract them\n",
    "position = colabels.filter(regex='_x|_y').filter(regex='^(?!.*tail)').copy()\n",
    "                         \n",
    "lblr_A = colabels.filter(regex='Marian').copy()\n",
    "lblr_B = colabels.filter(regex='Agus').copy()\n",
    "lblr_C = colabels.filter(regex='Santi').copy()\n",
    "lblr_D = colabels.filter(regex='Guille').copy()\n",
    "lblr_E = colabels.filter(regex='Myself').copy()\n",
    "\n",
    "labelers = [lblr_A, lblr_B, lblr_C, lblr_D, lblr_E]"
   ]
  },
  {
   "cell_type": "code",
   "execution_count": 24,
   "metadata": {},
   "outputs": [],
   "source": [
    "if train_with_average:\n",
    "    # Concatenate the dataframes along the columns axis (axis=1) and calculate the mean of each row\n",
    "    combined_df = pd.concat(labelers, axis=1)\n",
    "    avrg = pd.DataFrame(combined_df.mean(axis=1), columns=['mean'])\n",
    "\n",
    "    # Apply median filter\n",
    "    avrg['med_filt'] = signal.medfilt(avrg['mean'], kernel_size = 3)\n",
    "\n",
    "    # Gaussian kernel\n",
    "    gauss_kernel = signal.windows.gaussian(3, 0.6)\n",
    "    gauss_kernel = gauss_kernel / sum(gauss_kernel)\n",
    "\n",
    "    # Pad the median filtered data to mitigate edge effects\n",
    "    pad_width = (len(gauss_kernel) - 1) // 2\n",
    "    padded = np.pad(avrg['med_filt'], pad_width, mode='edge')\n",
    "\n",
    "    # Apply convolution\n",
    "    smooth = signal.convolve(padded, gauss_kernel, mode='valid')\n",
    "\n",
    "    # Trim the padded edges to restore original length\n",
    "    avrg['smooth'] = smooth[:len(avrg['mean'])]\n",
    "\n",
    "    # Apply sigmoid function to keep values between 0 and 1\n",
    "    avrg['labels'] = round(1 / (1 + np.exp(-12*(avrg['smooth']-0.5))), 2)\n",
    "\n",
    "    ready_data = pd.concat([position, avrg['labels']], axis = 1)\n",
    "\n",
    "else:\n",
    "    # Join position with all the labels separately\n",
    "    concatenated_position = pd.concat([position] * len(labelers), ignore_index=True)\n",
    "    concatenated_labelers = pd.concat(labelers, ignore_index=True)\n",
    "    ready_data = pd.concat([concatenated_position, concatenated_labelers], axis = 1)"
   ]
  },
  {
   "cell_type": "code",
   "execution_count": 25,
   "metadata": {},
   "outputs": [],
   "source": [
    "def focus(df, column_to_filter = 'labels', distance = 25):\n",
    "\n",
    "    # Extract the column of interest\n",
    "    column_of_interest = df.loc[:, column_to_filter]\n",
    "\n",
    "    print(f'Starting with {len(column_of_interest)} rows')\n",
    "\n",
    "    # Find the indices of the non-zero rows in the column\n",
    "    non_zero_indices = column_of_interest[column_of_interest != 0].index\n",
    "\n",
    "    # Create a boolean mask to keep rows that are within 'distance' rows of a non-zero row\n",
    "    mask = pd.Series(False, index=df.index)\n",
    "\n",
    "    for idx in non_zero_indices:\n",
    "        # Mark rows within 'distance' rows before and after the non-zero row\n",
    "        lower_bound = max(0, idx - distance)\n",
    "        upper_bound = min(len(df) - 1, idx + distance)\n",
    "        mask[lower_bound:upper_bound + 1] = True\n",
    "\n",
    "    # Filter the dataframe using the mask\n",
    "    df_filtered = df[mask]\n",
    "\n",
    "    # Optional: Reset index if you want a clean dataframe without gaps in the indices\n",
    "    df_filtered.reset_index(drop=True, inplace=True)\n",
    "    \n",
    "    print(f\"Reduced to {len(df_filtered)} rows. Number of exploration rows: {len(non_zero_indices)}\")\n",
    "\n",
    "    return df_filtered"
   ]
  },
  {
   "cell_type": "code",
   "execution_count": 26,
   "metadata": {},
   "outputs": [
    {
     "name": "stdout",
     "output_type": "stream",
     "text": [
      "Starting with 167012 rows\n",
      "Reduced to 63760 rows. Number of exploration rows: 17195\n"
     ]
    }
   ],
   "source": [
    "ready_data_focus = focus(ready_data, distance = 50)"
   ]
  },
  {
   "cell_type": "code",
   "execution_count": 27,
   "metadata": {},
   "outputs": [],
   "source": [
    "def prepare_training_data(df, obj = 'obj', bodyparts = ['nose', 'L_ear', 'R_ear', 'head', 'neck', 'body'], y_col = 'labels'):\n",
    "    \n",
    "    # Group the DataFrame by the values in the first column\n",
    "    groups = df.groupby(df[f'{obj}_x'])\n",
    "    \n",
    "    # Split the DataFrame into multiple DataFrames and labels\n",
    "    final_dataframes = {}\n",
    "    wide_dataframes = {}\n",
    "    \n",
    "    for category, group in groups:\n",
    "\n",
    "        recentered_data = recenter(group, obj, bodyparts)\n",
    "        labels = group[f'{y_col}']\n",
    "\n",
    "        final_dataframes[category] = {'position': recentered_data, 'labels': labels}\n",
    "\n",
    "        reshaped_data = reshape(recentered_data)\n",
    "        wide_dataframes[category] = {'position': reshaped_data, 'labels': labels}\n",
    "        \n",
    "    # Get a list of the keys (categories)\n",
    "    keys = list(wide_dataframes.keys())\n",
    "    \n",
    "    # Shuffle the keys\n",
    "    np.random.shuffle(keys)\n",
    "    \n",
    "    # Calculate the lengths for each part\n",
    "    len_val = len(keys) * 15 // 100\n",
    "    len_test = len(keys) * 15 // 100\n",
    "    \n",
    "    # Use slicing to divide the list\n",
    "    val_keys = keys[:len_val]\n",
    "    test_keys = keys[len_val:(len_val + len_test)]\n",
    "    train_keys = keys[(len_val + len_test):]\n",
    "    \n",
    "    # Initialize empty lists to collect dataframes\n",
    "    X_train_wide = []\n",
    "    X_test_wide = []\n",
    "    X_val_wide = []\n",
    "\n",
    "    X_train = []\n",
    "    X_test = []\n",
    "    X_val = []\n",
    "\n",
    "    y_train = []\n",
    "    y_test = []\n",
    "    y_val = []\n",
    "    \n",
    "    # first the simple data \n",
    "    for key in train_keys:\n",
    "        X_train_wide.append(wide_dataframes[key]['position'])\n",
    "        X_train.append(final_dataframes[key]['position'])\n",
    "        y_train.append(final_dataframes[key]['labels'])\n",
    "    for key in test_keys:\n",
    "        X_test_wide.append(wide_dataframes[key]['position'])\n",
    "        X_test.append(final_dataframes[key]['position'])\n",
    "        y_test.append(final_dataframes[key]['labels'])\n",
    "    for key in val_keys:\n",
    "        X_val_wide.append(wide_dataframes[key]['position'])\n",
    "        X_val.append(final_dataframes[key]['position'])\n",
    "        y_val.append(final_dataframes[key]['labels'])\n",
    "    \n",
    "    X_train_wide = np.concatenate(X_train_wide, axis=0)\n",
    "    X_test_wide = np.concatenate(X_test_wide, axis=0)\n",
    "    X_val_wide = np.concatenate(X_val_wide, axis=0)\n",
    "\n",
    "    X_train = np.concatenate(X_train, axis=0)\n",
    "    X_test = np.concatenate(X_test, axis=0)\n",
    "    X_val = np.concatenate(X_val, axis=0)\n",
    "        \n",
    "    y_train = np.concatenate(y_train, axis=0)\n",
    "    y_test = np.concatenate(y_test, axis=0)\n",
    "    y_val = np.concatenate(y_val, axis=0)\n",
    "    \n",
    "    return X_train_wide, X_train, y_train, X_test_wide, X_test, y_test, X_val_wide, X_val, y_val"
   ]
  },
  {
   "cell_type": "code",
   "execution_count": 28,
   "metadata": {},
   "outputs": [
    {
     "name": "stdout",
     "output_type": "stream",
     "text": [
      "Training set size: 46166 samples\n",
      "Validation set size: 8490 samples\n",
      "Testing set size: 9104 samples\n",
      "Total samples: 63760\n",
      "Saved data to training_data_2024-10-23.h5\n"
     ]
    }
   ],
   "source": [
    "if use_saved_data:\n",
    "    # Load arrays\n",
    "    with h5py.File(saved_data, 'r') as hf:\n",
    "        X_test = hf['X_test'][:]\n",
    "        y_test = hf['y_test'][:]\n",
    "        X_val = hf['X_val'][:]\n",
    "        y_val = hf['y_val'][:]\n",
    "        X_train = hf['X_train'][:]\n",
    "        y_train = hf['y_train'][:]\n",
    "        X_test_wide = hf['X_test_wide'][:]\n",
    "        X_val_wide = hf['X_val_wide'][:]\n",
    "        X_train_wide = hf['X_train_wide'][:]\n",
    "        \n",
    "    print(\"Data is ready to train\")\n",
    "\n",
    "else:\n",
    "    X_train_wide, X_train, y_train, X_test_wide, X_test, y_test, X_val_wide, X_val, y_val = prepare_training_data(ready_data_focus)\n",
    "    \n",
    "    # Print the sizes of each set\n",
    "    print(f\"Training set size: {len(X_train)} samples\")\n",
    "    print(f\"Validation set size: {len(X_val)} samples\")\n",
    "    print(f\"Testing set size: {len(X_test)} samples\")\n",
    "    print(f\"Total samples: {len(X_train)+len(X_val)+len(X_test)}\")\n",
    "\n",
    "    if save_data:\n",
    "        # Save arrays\n",
    "        with h5py.File(os.path.join(STORM_folder, f'training_data/training_data_{start_time.date()}.h5'), 'w') as hf:\n",
    "            hf.create_dataset('X_test', data=X_test)\n",
    "            hf.create_dataset('y_test', data=y_test)\n",
    "            hf.create_dataset('X_val', data=X_val)\n",
    "            hf.create_dataset('y_val', data=y_val)\n",
    "            hf.create_dataset('X_train', data=X_train)\n",
    "            hf.create_dataset('y_train', data=y_train)\n",
    "            hf.create_dataset('X_test_wide', data=X_test_wide)\n",
    "            hf.create_dataset('X_val_wide', data=X_val_wide)\n",
    "            hf.create_dataset('X_train_wide', data=X_train_wide)\n",
    "            \n",
    "            print(f'Saved data to training_data_{start_time.date()}.h5')"
   ]
  },
  {
   "cell_type": "code",
   "execution_count": 29,
   "metadata": {},
   "outputs": [
    {
     "data": {
      "image/png": "[encoded data removed]",
      "text/plain": [
       "<Figure size 640x480 with 1 Axes>"
      ]
     },
     "metadata": {},
     "output_type": "display_data"
    }
   ],
   "source": [
    "# Select data to plot\n",
    "position = np.sqrt(X_test[:,0]**2 + X_test[:,1]**2).copy()\n",
    "exploration = y_test.copy()\n",
    "\n",
    "# Plotting position\n",
    "plt.plot(position, label='position', color='blue')\n",
    "\n",
    "# Shading exploration regions\n",
    "plt.fill_between(range(len(exploration)), -30, 30, where = exploration > 0, label = 'exploration', color='red', alpha=0.3)\n",
    "\n",
    "# Adding labels\n",
    "plt.xlabel('Frames')\n",
    "plt.ylabel('Nose horizontal position (cm)')\n",
    "plt.legend(loc='upper right', fancybox=True, shadow=True, framealpha=1.0)\n",
    "plt.title('Nose position with respect to the object')\n",
    "plt.axhline(y=0, color='black', linestyle='--')\n",
    "\n",
    "# Zoom in on some frames\n",
    "# plt.xlim((1000, 2500))\n",
    "plt.ylim((-2, 25))\n",
    "\n",
    "plt.show()"
   ]
  },
  {
   "cell_type": "markdown",
   "metadata": {},
   "source": [
    "Lets get some tools ready for model training:\n",
    "\n",
    "- Early stopping\n",
    "- Scheduled learning rate"
   ]
  },
  {
   "cell_type": "code",
   "execution_count": 50,
   "metadata": {},
   "outputs": [],
   "source": [
    "# Set the number of neurons in each layer\n",
    "param_0 = 128\n",
    "param_H1 = 96\n",
    "param_H2 = 48\n",
    "param_H3 = 24\n",
    "param_H4 = 12\n",
    "\n",
    "batch_size = 32 # Set the batch size\n",
    "lr = 0.0002 # Set the initial learning rate\n",
    "epochs = 100 # Set the training epochs\n",
    "patience = 16 # Set the wait for the early stopping mechanism"
   ]
  },
  {
   "cell_type": "code",
   "execution_count": 51,
   "metadata": {},
   "outputs": [],
   "source": [
    "# Define the EarlyStopping callback\n",
    "early_stopping = EarlyStopping(\n",
    "    monitor='val_loss',\n",
    "    patience=patience,\n",
    "    restore_best_weights=True,\n",
    "    mode='min',\n",
    "    verbose=1,\n",
    ")\n",
    "\n",
    "# Define a learning rate schedule function\n",
    "initial_lr = lr # Set the initial lr\n",
    "def lr_schedule(epoch, lr): # Define a learning rate schedule function\n",
    "    initial_lr = lr  # Initial learning rate\n",
    "    decay_factor = 0.8  # Learning rate decay factor\n",
    "    decay_epochs = 8   # Number of epochs after which to decay the learning rate\n",
    "\n",
    "    # Calculate the new learning rate\n",
    "    lr = initial_lr * (decay_factor ** (epoch // decay_epochs))\n",
    "\n",
    "    return lr\n",
    "\n",
    "# Define the LearningRateScheduler callback\n",
    "lr_scheduler = LearningRateScheduler(lr_schedule)"
   ]
  },
  {
   "cell_type": "code",
   "execution_count": 52,
   "metadata": {},
   "outputs": [],
   "source": [
    "def plot_history(model, model_name):\n",
    "    \n",
    "    plt.figure(figsize=(10, 6))\n",
    "    \n",
    "    plt.plot(model.history['loss'], label='Training loss')\n",
    "    plt.plot(model.history['val_loss'], label='Validation loss')\n",
    "    plt.plot(model.history['accuracy'], label='Training accuracy')\n",
    "    plt.plot(model.history['val_accuracy'], label='Validation accuracy')\n",
    "    \n",
    "    plt.title(f'Training of model {model_name}')\n",
    "    plt.xlabel('Epochs')\n",
    "    plt.ylabel('%')\n",
    "    plt.legend()\n",
    "    plt.show()"
   ]
  },
  {
   "cell_type": "code",
   "execution_count": 53,
   "metadata": {},
   "outputs": [],
   "source": [
    "def evaluate(X, y, model):\n",
    "    \n",
    "    # Evaluate the model on the testing set\n",
    "    y_pred = model.predict(X)\n",
    "    y_pred_binary = (y_pred > 0.5).astype(int)  # Convert probabilities to binary predictions\n",
    "    \n",
    "    if isinstance(y, tf.Tensor):\n",
    "        y = y.numpy()\n",
    "    y_binary = (y > 0.5).astype(int) # Convert average labels to binary labels\n",
    "    \n",
    "    accuracy = accuracy_score(y_binary, y_pred_binary)\n",
    "    precision = precision_score(y_binary, y_pred_binary, average = 'weighted')\n",
    "    recall = recall_score(y_binary, y_pred_binary, average = 'weighted')\n",
    "    f1 = f1_score(y_binary, y_pred_binary, average = 'weighted')\n",
    "    \n",
    "    print(classification_report(y_binary, y_pred_binary))\n",
    "    \n",
    "    return accuracy, precision, recall, f1\n",
    "\n",
    "def evaluate_continuous(X, y, model):\n",
    "    # Ensure X and y are on the same device\n",
    "    if isinstance(X, tf.Tensor):\n",
    "        if '/GPU:' in X.device:\n",
    "            y = tf.convert_to_tensor(y)\n",
    "            y = tf.identity(y)\n",
    "\n",
    "    # Evaluate the model on the testing set\n",
    "    y_pred = model.predict(X)\n",
    "\n",
    "    # Convert y and y_pred to numpy arrays if they are tensors\n",
    "    if isinstance(y_pred, tf.Tensor):\n",
    "        y_pred = y_pred.numpy()\n",
    "    \n",
    "    if isinstance(y, tf.Tensor):\n",
    "        y = y.numpy()\n",
    "    \n",
    "    mse = mean_squared_error(y, y_pred)\n",
    "    mae = mean_absolute_error(y, y_pred)\n",
    "    r2 = r2_score(y, y_pred)\n",
    "    \n",
    "    return mse, mae, r2"
   ]
  },
  {
   "cell_type": "markdown",
   "metadata": {},
   "source": [
    "Now we train the first model"
   ]
  },
  {
   "cell_type": "code",
   "execution_count": 54,
   "metadata": {},
   "outputs": [],
   "source": [
    "# Build a simple neural network\n",
    "model_simple = tf.keras.Sequential([\n",
    "    Input(shape=(X_train.shape[1],)),\n",
    "    Dense(param_0, activation='relu'),\n",
    "    Dropout(0.4),\n",
    "    Dense(param_H1, activation='relu'),\n",
    "    Dropout(0.3),\n",
    "    Dense(param_H2, activation='relu'),\n",
    "    Dropout(0.2),\n",
    "    Dense(param_H3, activation='relu'),\n",
    "    Dropout(0.1),\n",
    "    Dense(param_H4, activation='relu'),\n",
    "    Dense(1, activation='sigmoid')\n",
    "])\n",
    "\n",
    "# Compile the model\n",
    "model_simple.compile(optimizer=tf.keras.optimizers.Adam(learning_rate=initial_lr),\n",
    "                     loss='binary_crossentropy', metrics=['accuracy'])"
   ]
  },
  {
   "cell_type": "code",
   "execution_count": 55,
   "metadata": {},
   "outputs": [
    {
     "name": "stdout",
     "output_type": "stream",
     "text": [
      "Model: \"sequential_4\"\n",
      "_________________________________________________________________\n",
      " Layer (type)                Output Shape              Param #   \n",
      "=================================================================\n",
      " dense_19 (Dense)            (None, 128)               1664      \n",
      "                                                                 \n",
      " dropout_16 (Dropout)        (None, 128)               0         \n",
      "                                                                 \n",
      " dense_20 (Dense)            (None, 96)                12384     \n",
      "                                                                 \n",
      " dropout_17 (Dropout)        (None, 96)                0         \n",
      "                                                                 \n",
      " dense_21 (Dense)            (None, 48)                4656      \n",
      "                                                                 \n",
      " dropout_18 (Dropout)        (None, 48)                0         \n",
      "                                                                 \n",
      " dense_22 (Dense)            (None, 24)                1176      \n",
      "                                                                 \n",
      " dropout_19 (Dropout)        (None, 24)                0         \n",
      "                                                                 \n",
      " dense_23 (Dense)            (None, 12)                300       \n",
      "                                                                 \n",
      " dense_24 (Dense)            (None, 1)                 13        \n",
      "                                                                 \n",
      "=================================================================\n",
      "Total params: 20,193\n",
      "Trainable params: 20,193\n",
      "Non-trainable params: 0\n",
      "_________________________________________________________________\n"
     ]
    }
   ],
   "source": [
    "model_simple.summary()"
   ]
  },
  {
   "cell_type": "code",
   "execution_count": 56,
   "metadata": {},
   "outputs": [
    {
     "name": "stdout",
     "output_type": "stream",
     "text": [
      "Epoch 1/100\n",
      "1443/1443 [==============================] - 10s 7ms/step - loss: 0.2946 - accuracy: 0.7288 - val_loss: 0.1698 - val_accuracy: 0.8238 - lr: 2.0000e-04\n",
      "Epoch 2/100\n",
      "1443/1443 [==============================] - 9s 6ms/step - loss: 0.2008 - accuracy: 0.7798 - val_loss: 0.1294 - val_accuracy: 0.8286 - lr: 2.0000e-04\n",
      "Epoch 3/100\n",
      "1443/1443 [==============================] - 9s 6ms/step - loss: 0.1786 - accuracy: 0.7880 - val_loss: 0.1309 - val_accuracy: 0.8279 - lr: 2.0000e-04\n",
      "Epoch 4/100\n",
      "1443/1443 [==============================] - 9s 6ms/step - loss: 0.1662 - accuracy: 0.7921 - val_loss: 0.1210 - val_accuracy: 0.8286 - lr: 2.0000e-04\n",
      "Epoch 5/100\n",
      "1443/1443 [==============================] - 9s 6ms/step - loss: 0.1619 - accuracy: 0.7932 - val_loss: 0.1246 - val_accuracy: 0.8285 - lr: 2.0000e-04\n",
      "Epoch 6/100\n",
      "1443/1443 [==============================] - 9s 6ms/step - loss: 0.1565 - accuracy: 0.7951 - val_loss: 0.1211 - val_accuracy: 0.8306 - lr: 2.0000e-04\n",
      "Epoch 7/100\n",
      "1443/1443 [==============================] - 9s 6ms/step - loss: 0.1544 - accuracy: 0.7956 - val_loss: 0.1235 - val_accuracy: 0.8300 - lr: 2.0000e-04\n",
      "Epoch 8/100\n",
      "1443/1443 [==============================] - 9s 6ms/step - loss: 0.1485 - accuracy: 0.7974 - val_loss: 0.1160 - val_accuracy: 0.8337 - lr: 2.0000e-04\n",
      "Epoch 9/100\n",
      "1443/1443 [==============================] - 9s 6ms/step - loss: 0.1447 - accuracy: 0.7979 - val_loss: 0.1190 - val_accuracy: 0.8340 - lr: 1.6000e-04\n",
      "Epoch 10/100\n",
      "1443/1443 [==============================] - 9s 6ms/step - loss: 0.1432 - accuracy: 0.7991 - val_loss: 0.1185 - val_accuracy: 0.8338 - lr: 1.2800e-04\n",
      "Epoch 11/100\n",
      "1443/1443 [==============================] - 9s 6ms/step - loss: 0.1421 - accuracy: 0.7987 - val_loss: 0.1199 - val_accuracy: 0.8333 - lr: 1.0240e-04\n",
      "Epoch 12/100\n",
      "1443/1443 [==============================] - 9s 6ms/step - loss: 0.1404 - accuracy: 0.7990 - val_loss: 0.1174 - val_accuracy: 0.8332 - lr: 8.1920e-05\n",
      "Epoch 13/100\n",
      "1443/1443 [==============================] - 9s 6ms/step - loss: 0.1391 - accuracy: 0.7995 - val_loss: 0.1210 - val_accuracy: 0.8339 - lr: 6.5536e-05\n",
      "Epoch 14/100\n",
      "1443/1443 [==============================] - 9s 6ms/step - loss: 0.1377 - accuracy: 0.8002 - val_loss: 0.1193 - val_accuracy: 0.8335 - lr: 5.2429e-05\n",
      "Epoch 15/100\n",
      "1443/1443 [==============================] - 9s 6ms/step - loss: 0.1371 - accuracy: 0.8000 - val_loss: 0.1196 - val_accuracy: 0.8333 - lr: 4.1943e-05\n",
      "Epoch 16/100\n",
      "1443/1443 [==============================] - 9s 6ms/step - loss: 0.1364 - accuracy: 0.8001 - val_loss: 0.1203 - val_accuracy: 0.8335 - lr: 3.3554e-05\n",
      "Epoch 17/100\n",
      "1443/1443 [==============================] - 9s 6ms/step - loss: 0.1375 - accuracy: 0.8005 - val_loss: 0.1201 - val_accuracy: 0.8337 - lr: 2.1475e-05\n",
      "Epoch 18/100\n",
      "1443/1443 [==============================] - 9s 6ms/step - loss: 0.1370 - accuracy: 0.8002 - val_loss: 0.1182 - val_accuracy: 0.8337 - lr: 1.3744e-05\n",
      "Epoch 19/100\n",
      "1443/1443 [==============================] - 9s 6ms/step - loss: 0.1365 - accuracy: 0.8006 - val_loss: 0.1180 - val_accuracy: 0.8337 - lr: 8.7961e-06\n",
      "Epoch 20/100\n",
      "1443/1443 [==============================] - 9s 6ms/step - loss: 0.1361 - accuracy: 0.8002 - val_loss: 0.1184 - val_accuracy: 0.8337 - lr: 5.6295e-06\n",
      "Epoch 21/100\n",
      "1443/1443 [==============================] - 9s 6ms/step - loss: 0.1357 - accuracy: 0.8004 - val_loss: 0.1180 - val_accuracy: 0.8337 - lr: 3.6029e-06\n",
      "Epoch 22/100\n",
      "1443/1443 [==============================] - 9s 6ms/step - loss: 0.1361 - accuracy: 0.8001 - val_loss: 0.1184 - val_accuracy: 0.8337 - lr: 2.3058e-06\n",
      "Epoch 23/100\n",
      "1443/1443 [==============================] - 9s 6ms/step - loss: 0.1352 - accuracy: 0.8004 - val_loss: 0.1183 - val_accuracy: 0.8337 - lr: 1.4757e-06\n",
      "Epoch 24/100\n",
      "1442/1443 [============================>.] - ETA: 0s - loss: 0.1365 - accuracy: 0.8001Restoring model weights from the end of the best epoch: 8.\n",
      "1443/1443 [==============================] - 9s 6ms/step - loss: 0.1365 - accuracy: 0.8001 - val_loss: 0.1184 - val_accuracy: 0.8337 - lr: 9.4447e-07\n",
      "Epoch 24: early stopping\n"
     ]
    }
   ],
   "source": [
    "# Train the model\n",
    "history_simple = model_simple.fit(X_train, y_train,\n",
    "                                  epochs=epochs,\n",
    "                                  batch_size=batch_size,\n",
    "                                  validation_data=(X_val, y_val),\n",
    "                                  callbacks=[early_stopping, lr_scheduler])"
   ]
  },
  {
   "cell_type": "code",
   "execution_count": 57,
   "metadata": {},
   "outputs": [
    {
     "data": {
      "image/png": "[encoded data removed]",
      "text/plain": [
       "<Figure size 1000x600 with 1 Axes>"
      ]
     },
     "metadata": {},
     "output_type": "display_data"
    }
   ],
   "source": [
    "# Plot the training and validation loss\n",
    "plot_history(history_simple, \"Simple\")"
   ]
  },
  {
   "cell_type": "code",
   "execution_count": 58,
   "metadata": {},
   "outputs": [
    {
     "name": "stdout",
     "output_type": "stream",
     "text": [
      "285/285 [==============================] - 0s 1ms/step\n",
      "              precision    recall  f1-score   support\n",
      "\n",
      "           0       0.98      0.97      0.97      7755\n",
      "           1       0.82      0.88      0.85      1349\n",
      "\n",
      "    accuracy                           0.95      9104\n",
      "   macro avg       0.90      0.92      0.91      9104\n",
      "weighted avg       0.96      0.95      0.95      9104\n",
      "\n",
      "Accuracy = 0.9538, Precision = 0.9556, Recall = 0.9538, F1 Score = 0.9545 -> simple\n",
      "285/285 [==============================] - 0s 1ms/step\n",
      "MSE = 0.0238, MAE = 0.0659, R-squared = 0.7902 -> simple\n"
     ]
    }
   ],
   "source": [
    "# Calculate accuracy and precision of the model\n",
    "accuracy_simple, precision_simple, recall_simple, f1_simple = evaluate(X_test, y_test, model_simple)\n",
    "print(f\"Accuracy = {accuracy_simple:.4f}, Precision = {precision_simple:.4f}, Recall = {recall_simple:.4f}, F1 Score = {f1_simple:.4f} -> simple\")\n",
    "\n",
    "mse_simple, mae_simple, r2_simple = evaluate_continuous(X_test, y_test, model_simple)\n",
    "print(f\"MSE = {mse_simple:.4f}, MAE = {mae_simple:.4f}, R-squared = {r2_simple:.4f} -> simple\")"
   ]
  },
  {
   "cell_type": "code",
   "execution_count": 59,
   "metadata": {},
   "outputs": [],
   "source": [
    "# Save the model\n",
    "model_simple.save(os.path.join(STORM_folder, f'simple/model_simple_{start_time.date()}.keras'))"
   ]
  },
  {
   "cell_type": "markdown",
   "metadata": {},
   "source": [
    "Lets move onto training a Recursive Network (that can see sequences)"
   ]
  },
  {
   "cell_type": "code",
   "execution_count": 60,
   "metadata": {},
   "outputs": [],
   "source": [
    "frames = 7\n",
    "\n",
    "# Define the LSTM model\n",
    "model_wide = tf.keras.Sequential([\n",
    "    Input(shape=(frames, X_train_wide.shape[2])),\n",
    "    LSTM(param_0, return_sequences=True),\n",
    "    Dropout(0.4),\n",
    "    LSTM(param_H1, return_sequences=True),\n",
    "    Dropout(0.3),\n",
    "    LSTM(param_H2, return_sequences=True),\n",
    "    Dropout(0.2),\n",
    "    LSTM(param_H3, return_sequences=True),\n",
    "    Dropout(0.1),\n",
    "    LSTM(param_H4),\n",
    "    Dense(1, activation='sigmoid')\n",
    "])\n",
    "\n",
    "# Compile the model\n",
    "model_wide.compile(optimizer=tf.keras.optimizers.Adam(learning_rate=initial_lr),\n",
    "                     loss='binary_crossentropy', metrics=['accuracy'])"
   ]
  },
  {
   "cell_type": "code",
   "execution_count": 61,
   "metadata": {},
   "outputs": [
    {
     "name": "stdout",
     "output_type": "stream",
     "text": [
      "Model: \"sequential_5\"\n",
      "_________________________________________________________________\n",
      " Layer (type)                Output Shape              Param #   \n",
      "=================================================================\n",
      " lstm_5 (LSTM)               (None, 7, 128)            72192     \n",
      "                                                                 \n",
      " dropout_20 (Dropout)        (None, 7, 128)            0         \n",
      "                                                                 \n",
      " lstm_6 (LSTM)               (None, 7, 96)             86400     \n",
      "                                                                 \n",
      " dropout_21 (Dropout)        (None, 7, 96)             0         \n",
      "                                                                 \n",
      " lstm_7 (LSTM)               (None, 7, 48)             27840     \n",
      "                                                                 \n",
      " dropout_22 (Dropout)        (None, 7, 48)             0         \n",
      "                                                                 \n",
      " lstm_8 (LSTM)               (None, 7, 24)             7008      \n",
      "                                                                 \n",
      " dropout_23 (Dropout)        (None, 7, 24)             0         \n",
      "                                                                 \n",
      " lstm_9 (LSTM)               (None, 12)                1776      \n",
      "                                                                 \n",
      " dense_25 (Dense)            (None, 1)                 13        \n",
      "                                                                 \n",
      "=================================================================\n",
      "Total params: 195,229\n",
      "Trainable params: 195,229\n",
      "Non-trainable params: 0\n",
      "_________________________________________________________________\n"
     ]
    }
   ],
   "source": [
    "model_wide.summary()"
   ]
  },
  {
   "cell_type": "code",
   "execution_count": 62,
   "metadata": {},
   "outputs": [
    {
     "name": "stdout",
     "output_type": "stream",
     "text": [
      "Epoch 1/100\n",
      "1443/1443 [==============================] - 25s 14ms/step - loss: 0.2191 - accuracy: 0.7800 - val_loss: 0.1282 - val_accuracy: 0.8292 - lr: 2.0000e-04\n",
      "Epoch 2/100\n",
      "1443/1443 [==============================] - 20s 14ms/step - loss: 0.1413 - accuracy: 0.7980 - val_loss: 0.1097 - val_accuracy: 0.8344 - lr: 2.0000e-04\n",
      "Epoch 3/100\n",
      "1443/1443 [==============================] - 19s 13ms/step - loss: 0.1267 - accuracy: 0.8014 - val_loss: 0.0992 - val_accuracy: 0.8380 - lr: 2.0000e-04\n",
      "Epoch 4/100\n",
      "1443/1443 [==============================] - 19s 13ms/step - loss: 0.1198 - accuracy: 0.8028 - val_loss: 0.1047 - val_accuracy: 0.8372 - lr: 2.0000e-04\n",
      "Epoch 5/100\n",
      "1443/1443 [==============================] - 19s 13ms/step - loss: 0.1162 - accuracy: 0.8025 - val_loss: 0.1005 - val_accuracy: 0.8351 - lr: 2.0000e-04\n",
      "Epoch 6/100\n",
      "1443/1443 [==============================] - 19s 13ms/step - loss: 0.1119 - accuracy: 0.8034 - val_loss: 0.1026 - val_accuracy: 0.8372 - lr: 2.0000e-04\n",
      "Epoch 7/100\n",
      "1443/1443 [==============================] - 19s 13ms/step - loss: 0.1088 - accuracy: 0.8042 - val_loss: 0.1003 - val_accuracy: 0.8366 - lr: 2.0000e-04\n",
      "Epoch 8/100\n",
      "1443/1443 [==============================] - 19s 13ms/step - loss: 0.1054 - accuracy: 0.8052 - val_loss: 0.1069 - val_accuracy: 0.8325 - lr: 2.0000e-04\n",
      "Epoch 9/100\n",
      "1443/1443 [==============================] - 19s 14ms/step - loss: 0.1021 - accuracy: 0.8055 - val_loss: 0.1120 - val_accuracy: 0.8299 - lr: 1.6000e-04\n",
      "Epoch 10/100\n",
      "1443/1443 [==============================] - 19s 13ms/step - loss: 0.0986 - accuracy: 0.8062 - val_loss: 0.1077 - val_accuracy: 0.8323 - lr: 1.2800e-04\n",
      "Epoch 11/100\n",
      "1443/1443 [==============================] - 19s 13ms/step - loss: 0.0968 - accuracy: 0.8065 - val_loss: 0.1082 - val_accuracy: 0.8312 - lr: 1.0240e-04\n",
      "Epoch 12/100\n",
      "1443/1443 [==============================] - 20s 14ms/step - loss: 0.0947 - accuracy: 0.8070 - val_loss: 0.1052 - val_accuracy: 0.8329 - lr: 8.1920e-05\n",
      "Epoch 13/100\n",
      "1443/1443 [==============================] - 19s 14ms/step - loss: 0.0939 - accuracy: 0.8069 - val_loss: 0.1119 - val_accuracy: 0.8300 - lr: 6.5536e-05\n",
      "Epoch 14/100\n",
      "1443/1443 [==============================] - 20s 14ms/step - loss: 0.0918 - accuracy: 0.8070 - val_loss: 0.1070 - val_accuracy: 0.8322 - lr: 5.2429e-05\n",
      "Epoch 15/100\n",
      "1443/1443 [==============================] - 20s 14ms/step - loss: 0.0914 - accuracy: 0.8072 - val_loss: 0.1053 - val_accuracy: 0.8329 - lr: 4.1943e-05\n",
      "Epoch 16/100\n",
      "1443/1443 [==============================] - 20s 14ms/step - loss: 0.0905 - accuracy: 0.8073 - val_loss: 0.1056 - val_accuracy: 0.8325 - lr: 3.3554e-05\n",
      "Epoch 17/100\n",
      "1443/1443 [==============================] - 20s 14ms/step - loss: 0.0894 - accuracy: 0.8076 - val_loss: 0.1073 - val_accuracy: 0.8324 - lr: 2.1475e-05\n",
      "Epoch 18/100\n",
      "1443/1443 [==============================] - 19s 13ms/step - loss: 0.0891 - accuracy: 0.8075 - val_loss: 0.1085 - val_accuracy: 0.8323 - lr: 1.3744e-05\n",
      "Epoch 19/100\n",
      "1439/1443 [============================>.] - ETA: 0s - loss: 0.0888 - accuracy: 0.8072Restoring model weights from the end of the best epoch: 3.\n",
      "1443/1443 [==============================] - 19s 13ms/step - loss: 0.0887 - accuracy: 0.8073 - val_loss: 0.1087 - val_accuracy: 0.8322 - lr: 8.7961e-06\n",
      "Epoch 19: early stopping\n"
     ]
    }
   ],
   "source": [
    "# Train the model\n",
    "history_wide = model_wide.fit(X_train_wide, y_train,\n",
    "                              epochs = epochs,\n",
    "                              batch_size = batch_size,\n",
    "                              validation_data=(X_val_wide, y_val),\n",
    "                              callbacks=[early_stopping, lr_scheduler])"
   ]
  },
  {
   "cell_type": "code",
   "execution_count": 63,
   "metadata": {},
   "outputs": [
    {
     "data": {
      "image/png": "[encoded data removed]",
      "text/plain": [
       "<Figure size 1000x600 with 1 Axes>"
      ]
     },
     "metadata": {},
     "output_type": "display_data"
    }
   ],
   "source": [
    "# Plot the training and validation loss\n",
    "plot_history(history_wide, \"wide\")"
   ]
  },
  {
   "cell_type": "code",
   "execution_count": 64,
   "metadata": {},
   "outputs": [
    {
     "name": "stdout",
     "output_type": "stream",
     "text": [
      "285/285 [==============================] - 3s 6ms/step\n",
      "              precision    recall  f1-score   support\n",
      "\n",
      "           0       0.97      0.97      0.97      7755\n",
      "           1       0.84      0.84      0.84      1349\n",
      "\n",
      "    accuracy                           0.95      9104\n",
      "   macro avg       0.90      0.91      0.91      9104\n",
      "weighted avg       0.95      0.95      0.95      9104\n",
      "\n",
      "Accuracy = 0.9524, Precision = 0.9526, Recall = 0.9524, F1 Score = 0.9525 -> wide\n",
      "285/285 [==============================] - 2s 5ms/step\n",
      "MSE = 0.0234, MAE = 0.0585, R-squared = 0.7941 -> wide\n"
     ]
    }
   ],
   "source": [
    "# Calculate accuracy and precision of the model\n",
    "accuracy_wide, precision_wide, recall_wide, f1_wide = evaluate(X_test_wide, y_test, model_wide)\n",
    "print(f\"Accuracy = {accuracy_wide:.4f}, Precision = {precision_wide:.4f}, Recall = {recall_wide:.4f}, F1 Score = {f1_wide:.4f} -> wide\")\n",
    "\n",
    "mse_wide, mae_wide, r2_wide = evaluate_continuous(X_test_wide, y_test, model_wide)\n",
    "print(f\"MSE = {mse_wide:.4f}, MAE = {mae_wide:.4f}, R-squared = {r2_wide:.4f} -> wide\")"
   ]
  },
  {
   "cell_type": "code",
   "execution_count": 65,
   "metadata": {},
   "outputs": [],
   "source": [
    "# Save the model\n",
    "model_wide.save(os.path.join(STORM_folder, f'wide/model_wide_{start_time.date()}.keras'))"
   ]
  },
  {
   "cell_type": "code",
   "execution_count": 66,
   "metadata": {},
   "outputs": [],
   "source": [
    "# Define the sequential LSTM model\n",
    "model_seq = tf.keras.Sequential([\n",
    "    Input(shape=(frames, X_train_wide.shape[2])),\n",
    "    Bidirectional(LSTM(param_0, return_sequences=True)),\n",
    "    Dropout(0.4),\n",
    "    Bidirectional(LSTM(param_H1, return_sequences=True)),\n",
    "    Dropout(0.3),\n",
    "    Bidirectional(LSTM(param_H2, return_sequences=True)),\n",
    "    Dropout(0.2),\n",
    "    Bidirectional(LSTM(param_H3, return_sequences=True)),\n",
    "    Dropout(0.1),\n",
    "    Bidirectional(LSTM(param_H4, return_sequences=True)),\n",
    "    Lambda(lambda x: x[:, 3, :]),\n",
    "    Dense(1, activation='sigmoid')\n",
    "])\n",
    "\n",
    "# Compile the model\n",
    "model_seq.compile(optimizer=tf.keras.optimizers.Adam(learning_rate=initial_lr),\n",
    "                     loss='binary_crossentropy', metrics=['accuracy'])"
   ]
  },
  {
   "cell_type": "code",
   "execution_count": 67,
   "metadata": {},
   "outputs": [
    {
     "name": "stdout",
     "output_type": "stream",
     "text": [
      "Model: \"sequential_6\"\n",
      "_________________________________________________________________\n",
      " Layer (type)                Output Shape              Param #   \n",
      "=================================================================\n",
      " bidirectional (Bidirectiona  (None, 7, 256)           144384    \n",
      " l)                                                              \n",
      "                                                                 \n",
      " dropout_24 (Dropout)        (None, 7, 256)            0         \n",
      "                                                                 \n",
      " bidirectional_1 (Bidirectio  (None, 7, 192)           271104    \n",
      " nal)                                                            \n",
      "                                                                 \n",
      " dropout_25 (Dropout)        (None, 7, 192)            0         \n",
      "                                                                 \n",
      " bidirectional_2 (Bidirectio  (None, 7, 96)            92544     \n",
      " nal)                                                            \n",
      "                                                                 \n",
      " dropout_26 (Dropout)        (None, 7, 96)             0         \n",
      "                                                                 \n",
      " bidirectional_3 (Bidirectio  (None, 7, 48)            23232     \n",
      " nal)                                                            \n",
      "                                                                 \n",
      " dropout_27 (Dropout)        (None, 7, 48)             0         \n",
      "                                                                 \n",
      " bidirectional_4 (Bidirectio  (None, 7, 24)            5856      \n",
      " nal)                                                            \n",
      "                                                                 \n",
      " lambda (Lambda)             (None, 24)                0         \n",
      "                                                                 \n",
      " dense_26 (Dense)            (None, 1)                 25        \n",
      "                                                                 \n",
      "=================================================================\n",
      "Total params: 537,145\n",
      "Trainable params: 537,145\n",
      "Non-trainable params: 0\n",
      "_________________________________________________________________\n"
     ]
    }
   ],
   "source": [
    "model_seq.summary()"
   ]
  },
  {
   "cell_type": "code",
   "execution_count": 68,
   "metadata": {},
   "outputs": [
    {
     "name": "stdout",
     "output_type": "stream",
     "text": [
      "Epoch 1/100\n",
      "1443/1443 [==============================] - 44s 25ms/step - loss: 0.1782 - accuracy: 0.7883 - val_loss: 0.1155 - val_accuracy: 0.8304 - lr: 2.0000e-04\n",
      "Epoch 2/100\n",
      "1443/1443 [==============================] - 34s 23ms/step - loss: 0.1316 - accuracy: 0.7999 - val_loss: 0.0975 - val_accuracy: 0.8369 - lr: 2.0000e-04\n",
      "Epoch 3/100\n",
      "1443/1443 [==============================] - 34s 23ms/step - loss: 0.1195 - accuracy: 0.8024 - val_loss: 0.1011 - val_accuracy: 0.8371 - lr: 2.0000e-04\n",
      "Epoch 4/100\n",
      "1443/1443 [==============================] - 34s 23ms/step - loss: 0.1150 - accuracy: 0.8036 - val_loss: 0.1051 - val_accuracy: 0.8373 - lr: 2.0000e-04\n",
      "Epoch 5/100\n",
      "1443/1443 [==============================] - 33s 23ms/step - loss: 0.1085 - accuracy: 0.8043 - val_loss: 0.0978 - val_accuracy: 0.8367 - lr: 2.0000e-04\n",
      "Epoch 6/100\n",
      "1443/1443 [==============================] - 34s 23ms/step - loss: 0.1049 - accuracy: 0.8049 - val_loss: 0.1078 - val_accuracy: 0.8323 - lr: 2.0000e-04\n",
      "Epoch 7/100\n",
      "1443/1443 [==============================] - 34s 23ms/step - loss: 0.1021 - accuracy: 0.8057 - val_loss: 0.0958 - val_accuracy: 0.8380 - lr: 2.0000e-04\n",
      "Epoch 8/100\n",
      "1443/1443 [==============================] - 34s 23ms/step - loss: 0.0978 - accuracy: 0.8061 - val_loss: 0.1044 - val_accuracy: 0.8383 - lr: 2.0000e-04\n",
      "Epoch 9/100\n",
      "1443/1443 [==============================] - 34s 24ms/step - loss: 0.0934 - accuracy: 0.8066 - val_loss: 0.0975 - val_accuracy: 0.8385 - lr: 1.6000e-04\n",
      "Epoch 10/100\n",
      "1443/1443 [==============================] - 40s 28ms/step - loss: 0.0892 - accuracy: 0.8072 - val_loss: 0.1008 - val_accuracy: 0.8378 - lr: 1.2800e-04\n",
      "Epoch 11/100\n",
      "1443/1443 [==============================] - 34s 23ms/step - loss: 0.0862 - accuracy: 0.8077 - val_loss: 0.0982 - val_accuracy: 0.8376 - lr: 1.0240e-04\n",
      "Epoch 12/100\n",
      "1443/1443 [==============================] - 34s 23ms/step - loss: 0.0840 - accuracy: 0.8078 - val_loss: 0.0998 - val_accuracy: 0.8383 - lr: 8.1920e-05\n",
      "Epoch 13/100\n",
      "1443/1443 [==============================] - 34s 23ms/step - loss: 0.0823 - accuracy: 0.8079 - val_loss: 0.0987 - val_accuracy: 0.8385 - lr: 6.5536e-05\n",
      "Epoch 14/100\n",
      "1443/1443 [==============================] - 34s 24ms/step - loss: 0.0807 - accuracy: 0.8080 - val_loss: 0.0965 - val_accuracy: 0.8386 - lr: 5.2429e-05\n",
      "Epoch 15/100\n",
      "1443/1443 [==============================] - 34s 24ms/step - loss: 0.0794 - accuracy: 0.8081 - val_loss: 0.1009 - val_accuracy: 0.8382 - lr: 4.1943e-05\n",
      "Epoch 16/100\n",
      "1443/1443 [==============================] - 34s 23ms/step - loss: 0.0788 - accuracy: 0.8081 - val_loss: 0.0983 - val_accuracy: 0.8389 - lr: 3.3554e-05\n",
      "Epoch 17/100\n",
      "1443/1443 [==============================] - 34s 23ms/step - loss: 0.0778 - accuracy: 0.8081 - val_loss: 0.0991 - val_accuracy: 0.8380 - lr: 2.1475e-05\n",
      "Epoch 18/100\n",
      "1443/1443 [==============================] - 34s 24ms/step - loss: 0.0770 - accuracy: 0.8083 - val_loss: 0.0996 - val_accuracy: 0.8379 - lr: 1.3744e-05\n",
      "Epoch 19/100\n",
      "1443/1443 [==============================] - 34s 23ms/step - loss: 0.0768 - accuracy: 0.8083 - val_loss: 0.0999 - val_accuracy: 0.8383 - lr: 8.7961e-06\n",
      "Epoch 20/100\n",
      "1443/1443 [==============================] - 34s 24ms/step - loss: 0.0766 - accuracy: 0.8083 - val_loss: 0.0994 - val_accuracy: 0.8384 - lr: 5.6295e-06\n",
      "Epoch 21/100\n",
      "1443/1443 [==============================] - 34s 23ms/step - loss: 0.0765 - accuracy: 0.8084 - val_loss: 0.0993 - val_accuracy: 0.8384 - lr: 3.6029e-06\n",
      "Epoch 22/100\n",
      "1443/1443 [==============================] - 34s 23ms/step - loss: 0.0761 - accuracy: 0.8083 - val_loss: 0.0995 - val_accuracy: 0.8383 - lr: 2.3058e-06\n",
      "Epoch 23/100\n",
      "1443/1443 [==============================] - ETA: 0s - loss: 0.0758 - accuracy: 0.8084Restoring model weights from the end of the best epoch: 7.\n",
      "1443/1443 [==============================] - 34s 23ms/step - loss: 0.0758 - accuracy: 0.8084 - val_loss: 0.0999 - val_accuracy: 0.8384 - lr: 1.4757e-06\n",
      "Epoch 23: early stopping\n"
     ]
    }
   ],
   "source": [
    "# Train the model\n",
    "history_seq = model_seq.fit(X_train_wide, y_train,\n",
    "                              epochs = epochs,\n",
    "                              batch_size = batch_size,\n",
    "                              validation_data=(X_val_wide, y_val),\n",
    "                              callbacks=[early_stopping, lr_scheduler])"
   ]
  },
  {
   "cell_type": "code",
   "execution_count": 69,
   "metadata": {},
   "outputs": [
    {
     "data": {
      "image/png": "[encoded data removed]",
      "text/plain": [
       "<Figure size 1000x600 with 1 Axes>"
      ]
     },
     "metadata": {},
     "output_type": "display_data"
    }
   ],
   "source": [
    "# Plot the training and validation loss\n",
    "plot_history(history_seq, \"sequential\")"
   ]
  },
  {
   "cell_type": "code",
   "execution_count": 70,
   "metadata": {},
   "outputs": [
    {
     "name": "stdout",
     "output_type": "stream",
     "text": [
      "285/285 [==============================] - 5s 11ms/step\n",
      "              precision    recall  f1-score   support\n",
      "\n",
      "           0       0.97      0.97      0.97      7755\n",
      "           1       0.82      0.83      0.83      1349\n",
      "\n",
      "    accuracy                           0.95      9104\n",
      "   macro avg       0.90      0.90      0.90      9104\n",
      "weighted avg       0.95      0.95      0.95      9104\n",
      "\n",
      "Accuracy = 0.9489, Precision = 0.9491, Recall = 0.9489, F1 Score = 0.9490 -> seqirectional\n",
      "285/285 [==============================] - 3s 10ms/step\n",
      "MSE = 0.0252, MAE = 0.0550, R-squared = 0.7782 -> seqirectional\n"
     ]
    }
   ],
   "source": [
    "# Calculate accuracy and precision of the model\n",
    "accuracy_seq, precision_seq, recall_seq, f1_seq = evaluate(X_test_wide, y_test, model_seq)\n",
    "print(f\"Accuracy = {accuracy_seq:.4f}, Precision = {precision_seq:.4f}, Recall = {recall_seq:.4f}, F1 Score = {f1_seq:.4f} -> seqirectional\")\n",
    "\n",
    "mse_seq, mae_seq, r2_seq = evaluate_continuous(X_test_wide, y_test, model_seq)\n",
    "print(f\"MSE = {mse_seq:.4f}, MAE = {mae_seq:.4f}, R-squared = {r2_seq:.4f} -> seqirectional\")"
   ]
  },
  {
   "cell_type": "code",
   "execution_count": 71,
   "metadata": {},
   "outputs": [],
   "source": [
    "# Save the model\n",
    "model_seq.save(os.path.join(STORM_folder, f'seq/model_seq_{start_time.date()}.keras'))"
   ]
  },
  {
   "cell_type": "markdown",
   "metadata": {},
   "source": [
    "Lets also train a Random Forest model"
   ]
  },
  {
   "cell_type": "code",
   "execution_count": 72,
   "metadata": {},
   "outputs": [
    {
     "data": {
      "text/html": [
       "<style>#sk-container-id-1 {color: black;background-color: white;}#sk-container-id-1 pre{padding: 0;}#sk-container-id-1 div.sk-toggleable {background-color: white;}#sk-container-id-1 label.sk-toggleable__label {cursor: pointer;display: block;width: 100%;margin-bottom: 0;padding: 0.3em;box-sizing: border-box;text-align: center;}#sk-container-id-1 label.sk-toggleable__label-arrow:before {content: \"▸\";float: left;margin-right: 0.25em;color: #696969;}#sk-container-id-1 label.sk-toggleable__label-arrow:hover:before {color: black;}#sk-container-id-1 div.sk-estimator:hover label.sk-toggleable__label-arrow:before {color: black;}#sk-container-id-1 div.sk-toggleable__content {max-height: 0;max-width: 0;overflow: hidden;text-align: left;background-color: #f0f8ff;}#sk-container-id-1 div.sk-toggleable__content pre {margin: 0.2em;color: black;border-radius: 0.25em;background-color: #f0f8ff;}#sk-container-id-1 input.sk-toggleable__control:checked~div.sk-toggleable__content {max-height: 200px;max-width: 100%;overflow: auto;}#sk-container-id-1 input.sk-toggleable__control:checked~label.sk-toggleable__label-arrow:before {content: \"▾\";}#sk-container-id-1 div.sk-estimator input.sk-toggleable__control:checked~label.sk-toggleable__label {background-color: #d4ebff;}#sk-container-id-1 div.sk-label input.sk-toggleable__control:checked~label.sk-toggleable__label {background-color: #d4ebff;}#sk-container-id-1 input.sk-hidden--visually {border: 0;clip: rect(1px 1px 1px 1px);clip: rect(1px, 1px, 1px, 1px);height: 1px;margin: -1px;overflow: hidden;padding: 0;position: absolute;width: 1px;}#sk-container-id-1 div.sk-estimator {font-family: monospace;background-color: #f0f8ff;border: 1px dotted black;border-radius: 0.25em;box-sizing: border-box;margin-bottom: 0.5em;}#sk-container-id-1 div.sk-estimator:hover {background-color: #d4ebff;}#sk-container-id-1 div.sk-parallel-item::after {content: \"\";width: 100%;border-bottom: 1px solid gray;flex-grow: 1;}#sk-container-id-1 div.sk-label:hover label.sk-toggleable__label {background-color: #d4ebff;}#sk-container-id-1 div.sk-serial::before {content: \"\";position: absolute;border-left: 1px solid gray;box-sizing: border-box;top: 0;bottom: 0;left: 50%;z-index: 0;}#sk-container-id-1 div.sk-serial {display: flex;flex-direction: column;align-items: center;background-color: white;padding-right: 0.2em;padding-left: 0.2em;position: relative;}#sk-container-id-1 div.sk-item {position: relative;z-index: 1;}#sk-container-id-1 div.sk-parallel {display: flex;align-items: stretch;justify-content: center;background-color: white;position: relative;}#sk-container-id-1 div.sk-item::before, #sk-container-id-1 div.sk-parallel-item::before {content: \"\";position: absolute;border-left: 1px solid gray;box-sizing: border-box;top: 0;bottom: 0;left: 50%;z-index: -1;}#sk-container-id-1 div.sk-parallel-item {display: flex;flex-direction: column;z-index: 1;position: relative;background-color: white;}#sk-container-id-1 div.sk-parallel-item:first-child::after {align-self: flex-end;width: 50%;}#sk-container-id-1 div.sk-parallel-item:last-child::after {align-self: flex-start;width: 50%;}#sk-container-id-1 div.sk-parallel-item:only-child::after {width: 0;}#sk-container-id-1 div.sk-dashed-wrapped {border: 1px dashed gray;margin: 0 0.4em 0.5em 0.4em;box-sizing: border-box;padding-bottom: 0.4em;background-color: white;}#sk-container-id-1 div.sk-label label {font-family: monospace;font-weight: bold;display: inline-block;line-height: 1.2em;}#sk-container-id-1 div.sk-label-container {text-align: center;}#sk-container-id-1 div.sk-container {/* jupyter's `normalize.less` sets `[hidden] { display: none; }` but bootstrap.min.css set `[hidden] { display: none !important; }` so we also need the `!important` here to be able to override the default hidden behavior on the sphinx rendered scikit-learn.org. See: https://github.com/scikit-learn/scikit-learn/issues/21755 */display: inline-block !important;position: relative;}#sk-container-id-1 div.sk-text-repr-fallback {display: none;}</style><div id=\"sk-container-id-1\" class=\"sk-top-container\"><div class=\"sk-text-repr-fallback\"><pre>RandomForestClassifier(max_depth=12, n_estimators=24)</pre><b>In a Jupyter environment, please rerun this cell to show the HTML representation or trust the notebook. <br />On GitHub, the HTML representation is unable to render, please try loading this page with nbviewer.org.</b></div><div class=\"sk-container\" hidden><div class=\"sk-item\"><div class=\"sk-estimator sk-toggleable\"><input class=\"sk-toggleable__control sk-hidden--visually\" id=\"sk-estimator-id-1\" type=\"checkbox\" checked><label for=\"sk-estimator-id-1\" class=\"sk-toggleable__label sk-toggleable__label-arrow\">RandomForestClassifier</label><div class=\"sk-toggleable__content\"><pre>RandomForestClassifier(max_depth=12, n_estimators=24)</pre></div></div></div></div></div>"
      ],
      "text/plain": [
       "RandomForestClassifier(max_depth=12, n_estimators=24)"
      ]
     },
     "execution_count": 72,
     "metadata": {},
     "output_type": "execute_result"
    }
   ],
   "source": [
    "# We train a RF model with the same data\n",
    "if not make_discrete:\n",
    "    y_train = (y_train > 0.5).astype(int)\n",
    "\n",
    "# Create the Random Forest model (and set the number of estimators (decision trees))\n",
    "RF_model = RandomForestClassifier(n_estimators = 24, max_depth = 12)\n",
    "\n",
    "# Train the MultiOutputClassifier with your data\n",
    "RF_model.fit(X_train, y_train)"
   ]
  },
  {
   "cell_type": "code",
   "execution_count": 73,
   "metadata": {},
   "outputs": [
    {
     "name": "stdout",
     "output_type": "stream",
     "text": [
      "              precision    recall  f1-score   support\n",
      "\n",
      "           0       0.97      0.96      0.97      7755\n",
      "           1       0.79      0.83      0.81      1349\n",
      "\n",
      "    accuracy                           0.94      9104\n",
      "   macro avg       0.88      0.90      0.89      9104\n",
      "weighted avg       0.94      0.94      0.94      9104\n",
      "\n",
      "Accuracy = 0.9420, Precision = 0.9437, Recall = 0.9420, F1 Score = 0.9427 -> RF\n",
      "MSE = 0.0469, MAE = 0.0621, R-squared = 0.5869 -> RF\n"
     ]
    }
   ],
   "source": [
    "# Calculate accuracy and precision of the model\n",
    "accuracy_RF, precision_RF, recall_RF, f1_RF = evaluate(X_test, y_test, RF_model)\n",
    "print(f\"Accuracy = {accuracy_RF:.4f}, Precision = {precision_RF:.4f}, Recall = {recall_RF:.4f}, F1 Score = {f1_RF:.4f} -> RF\")\n",
    "\n",
    "mse_RF, mae_RF, r2_RF = evaluate_continuous(X_test, y_test, RF_model)\n",
    "print(f\"MSE = {mse_RF:.4f}, MAE = {mae_RF:.4f}, R-squared = {r2_RF:.4f} -> RF\")"
   ]
  },
  {
   "cell_type": "code",
   "execution_count": 74,
   "metadata": {},
   "outputs": [
    {
     "data": {
      "text/plain": [
       "['C:/Users/dhers/Desktop\\\\STORM/models\\\\RF/model_RF_2024-10-23.pkl']"
      ]
     },
     "execution_count": 74,
     "metadata": {},
     "output_type": "execute_result"
    }
   ],
   "source": [
    "# Save the model\n",
    "joblib.dump(RF_model, os.path.join(STORM_folder, f'RF/model_RF_{start_time.date()}.pkl'))"
   ]
  },
  {
   "cell_type": "code",
   "execution_count": 75,
   "metadata": {},
   "outputs": [],
   "source": [
    "# Get the end time\n",
    "end_time = datetime.datetime.now()\n",
    "\n",
    "# Calculate elapsed time\n",
    "elapsed_time = end_time - start_time"
   ]
  },
  {
   "cell_type": "code",
   "execution_count": 81,
   "metadata": {},
   "outputs": [
    {
     "name": "stdout",
     "output_type": "stream",
     "text": [
      "Script execution time: 0:29:30.108748).\n",
      "Evaluate model vs testing data\n",
      "VS binary average\n",
      "Accuracy = 0.9538, Precision = 0.9556, Recall = 0.9538, F1 Score = 0.9545 -> simple\n",
      "Accuracy = 0.9524, Precision = 0.9526, Recall = 0.9524, F1 Score = 0.9525 -> wide\n",
      "Accuracy = 0.9420, Precision = 0.9437, Recall = 0.9420, F1 Score = 0.9427 -> RF\n",
      "Accuracy = 0.9489, Precision = 0.9491, Recall = 0.9489, F1 Score = 0.9490 -> sequential\n",
      "VS continuous average\n",
      "MSE = 0.0238, MAE = 0.0659, R-squared = 0.7902 -> simple\n",
      "MSE = 0.0234, MAE = 0.0585, R-squared = 0.7941 -> wide\n",
      "MSE = 0.0469, MAE = 0.0621, R-squared = 0.5869 -> RF\n",
      "MSE = 0.0252, MAE = 0.0550, R-squared = 0.7782 -> sequential\n"
     ]
    }
   ],
   "source": [
    "# Print the model results\n",
    "print(f\"Script execution time: {elapsed_time}).\")\n",
    "\n",
    "print(\"Evaluate model vs testing data\")\n",
    "\n",
    "print(\"VS binary average\")\n",
    "print(f\"Accuracy = {accuracy_simple:.4f}, Precision = {precision_simple:.4f}, Recall = {recall_simple:.4f}, F1 Score = {f1_simple:.4f} -> simple\")\n",
    "print(f\"Accuracy = {accuracy_wide:.4f}, Precision = {precision_wide:.4f}, Recall = {recall_wide:.4f}, F1 Score = {f1_wide:.4f} -> wide\")\n",
    "print(f\"Accuracy = {accuracy_RF:.4f}, Precision = {precision_RF:.4f}, Recall = {recall_RF:.4f}, F1 Score = {f1_RF:.4f} -> RF\")\n",
    "print(f\"Accuracy = {accuracy_seq:.4f}, Precision = {precision_seq:.4f}, Recall = {recall_seq:.4f}, F1 Score = {f1_seq:.4f} -> sequential\")\n",
    "\n",
    "print(\"VS continuous average\")\n",
    "print(f\"MSE = {mse_simple:.4f}, MAE = {mae_simple:.4f}, R-squared = {r2_simple:.4f} -> simple\")\n",
    "print(f\"MSE = {mse_wide:.4f}, MAE = {mae_wide:.4f}, R-squared = {r2_wide:.4f} -> wide\")\n",
    "print(f\"MSE = {mse_RF:.4f}, MAE = {mae_RF:.4f}, R-squared = {r2_RF:.4f} -> RF\")\n",
    "print(f\"MSE = {mse_seq:.4f}, MAE = {mae_seq:.4f}, R-squared = {r2_seq:.4f} -> sequential\")"
   ]
  },
  {
   "cell_type": "code",
   "execution_count": 77,
   "metadata": {},
   "outputs": [],
   "source": [
    "# Lets test the accuracy of a random and zero y_test\n",
    "\n",
    "y_zeros = y_test - y_test\n",
    "\n",
    "y_random = np.random.permutation(y_test)\n",
    "y_random_binary = (y_random > 0.5).astype(int)\n",
    "\n",
    "y_binary = (y_test > 0.5).astype(int)"
   ]
  },
  {
   "cell_type": "code",
   "execution_count": 78,
   "metadata": {},
   "outputs": [
    {
     "name": "stdout",
     "output_type": "stream",
     "text": [
      "              precision    recall  f1-score   support\n",
      "\n",
      "           0       0.85      1.00      0.92      7755\n",
      "           1       0.00      0.00      0.00      1349\n",
      "\n",
      "    accuracy                           0.85      9104\n",
      "   macro avg       0.43      0.50      0.46      9104\n",
      "weighted avg       0.73      0.85      0.78      9104\n",
      "\n",
      "Accuracy = 0.8518, Precision = 0.7256, Recall = 0.8518, F1 Score = 0.7837 -> zeros\n",
      "MSE = 0.1365, MAE = 0.1517, R-squared = -0.2029 -> zeros\n"
     ]
    },
    {
     "name": "stderr",
     "output_type": "stream",
     "text": [
      "c:\\Users\\dhers\\anaconda3\\envs\\GPU\\lib\\site-packages\\sklearn\\metrics\\_classification.py:1344: UndefinedMetricWarning: Precision and F-score are ill-defined and being set to 0.0 in labels with no predicted samples. Use `zero_division` parameter to control this behavior.\n",
      "  _warn_prf(average, modifier, msg_start, len(result))\n",
      "c:\\Users\\dhers\\anaconda3\\envs\\GPU\\lib\\site-packages\\sklearn\\metrics\\_classification.py:1344: UndefinedMetricWarning: Precision and F-score are ill-defined and being set to 0.0 in labels with no predicted samples. Use `zero_division` parameter to control this behavior.\n",
      "  _warn_prf(average, modifier, msg_start, len(result))\n",
      "c:\\Users\\dhers\\anaconda3\\envs\\GPU\\lib\\site-packages\\sklearn\\metrics\\_classification.py:1344: UndefinedMetricWarning: Precision and F-score are ill-defined and being set to 0.0 in labels with no predicted samples. Use `zero_division` parameter to control this behavior.\n",
      "  _warn_prf(average, modifier, msg_start, len(result))\n",
      "c:\\Users\\dhers\\anaconda3\\envs\\GPU\\lib\\site-packages\\sklearn\\metrics\\_classification.py:1344: UndefinedMetricWarning: Precision is ill-defined and being set to 0.0 in labels with no predicted samples. Use `zero_division` parameter to control this behavior.\n",
      "  _warn_prf(average, modifier, msg_start, len(result))\n"
     ]
    }
   ],
   "source": [
    "# zeros\n",
    "print(classification_report(y_binary, y_zeros))\n",
    "\n",
    "accuracy_zeros = accuracy_score(y_binary, y_zeros)\n",
    "precision_zeros = precision_score(y_binary, y_zeros, average = 'weighted')\n",
    "recall_zeros = recall_score(y_binary, y_zeros, average = 'weighted')\n",
    "f1_zeros = f1_score(y_binary, y_zeros, average = 'weighted')\n",
    "print(f\"Accuracy = {accuracy_zeros:.4f}, Precision = {precision_zeros:.4f}, Recall = {recall_zeros:.4f}, F1 Score = {f1_zeros:.4f} -> zeros\")\n",
    "\n",
    "mse_zeros = mean_squared_error(y_test, y_zeros)\n",
    "mae_zeros = mean_absolute_error(y_test, y_zeros)\n",
    "r2_zeros = r2_score(y_test, y_zeros)\n",
    "print(f\"MSE = {mse_zeros:.4f}, MAE = {mae_zeros:.4f}, R-squared = {r2_zeros:.4f} -> zeros\")"
   ]
  },
  {
   "cell_type": "code",
   "execution_count": 79,
   "metadata": {},
   "outputs": [
    {
     "name": "stdout",
     "output_type": "stream",
     "text": [
      "              precision    recall  f1-score   support\n",
      "\n",
      "           0       0.85      0.85      0.85      7755\n",
      "           1       0.16      0.16      0.16      1349\n",
      "\n",
      "    accuracy                           0.75      9104\n",
      "   macro avg       0.51      0.51      0.51      9104\n",
      "weighted avg       0.75      0.75      0.75      9104\n",
      "\n",
      "Accuracy = 0.7511, Precision = 0.7511, Recall = 0.7511, F1 Score = 0.7511 -> random\n",
      "MSE = 0.2229, MAE = 0.2518, R-squared = -0.9643 -> random\n"
     ]
    }
   ],
   "source": [
    "# random\n",
    "print(classification_report(y_binary, y_random_binary))\n",
    "\n",
    "accuracy_random = accuracy_score(y_binary, y_random_binary)\n",
    "precision_random = precision_score(y_binary, y_random_binary, average = 'weighted')\n",
    "recall_random = recall_score(y_binary, y_random_binary, average = 'weighted')\n",
    "f1_random = f1_score(y_binary, y_random_binary, average = 'weighted')\n",
    "print(f\"Accuracy = {accuracy_random:.4f}, Precision = {precision_random:.4f}, Recall = {recall_random:.4f}, F1 Score = {f1_random:.4f} -> random\")\n",
    "\n",
    "mse_random = mean_squared_error(y_test, y_random)\n",
    "mae_random = mean_absolute_error(y_test, y_random)\n",
    "r2_random = r2_score(y_test, y_random)\n",
    "print(f\"MSE = {mse_random:.4f}, MAE = {mae_random:.4f}, R-squared = {r2_random:.4f} -> random\")"
   ]
  },
  {
   "cell_type": "code",
   "execution_count": 80,
   "metadata": {},
   "outputs": [
    {
     "name": "stdout",
     "output_type": "stream",
     "text": [
      "Evaluate model vs testing data\n",
      "VS binary average\n",
      "Accuracy = 0.9538, Precision = 0.9556, Recall = 0.9538, F1 Score = 0.9545 -> simple\n",
      "Accuracy = 0.9524, Precision = 0.9526, Recall = 0.9524, F1 Score = 0.9525 -> wide\n",
      "Accuracy = 0.9420, Precision = 0.9437, Recall = 0.9420, F1 Score = 0.9427 -> RF\n",
      "Accuracy = 0.9489, Precision = 0.9491, Recall = 0.9489, F1 Score = 0.9490 -> sequential\n",
      "Accuracy = 0.8518, Precision = 0.7256, Recall = 0.8518, F1 Score = 0.7837 -> zeros\n",
      "Accuracy = 0.7511, Precision = 0.7511, Recall = 0.7511, F1 Score = 0.7511 -> random\n",
      "VS continuous average\n",
      "MSE = 0.0238, MAE = 0.0659, R-squared = 0.7902 -> simple\n",
      "MSE = 0.0234, MAE = 0.0585, R-squared = 0.7941 -> wide\n",
      "MSE = 0.0469, MAE = 0.0621, R-squared = 0.5869 -> RF\n",
      "MSE = 0.0252, MAE = 0.0550, R-squared = 0.7782 -> sequential\n",
      "MSE = 0.1365, MAE = 0.1517, R-squared = -0.2029 -> zeros\n",
      "MSE = 0.2229, MAE = 0.2518, R-squared = -0.9643 -> random\n"
     ]
    }
   ],
   "source": [
    "print(\"Evaluate model vs testing data\")\n",
    "\n",
    "print(\"VS binary average\")\n",
    "print(f\"Accuracy = {accuracy_simple:.4f}, Precision = {precision_simple:.4f}, Recall = {recall_simple:.4f}, F1 Score = {f1_simple:.4f} -> simple\")\n",
    "print(f\"Accuracy = {accuracy_wide:.4f}, Precision = {precision_wide:.4f}, Recall = {recall_wide:.4f}, F1 Score = {f1_wide:.4f} -> wide\")\n",
    "print(f\"Accuracy = {accuracy_RF:.4f}, Precision = {precision_RF:.4f}, Recall = {recall_RF:.4f}, F1 Score = {f1_RF:.4f} -> RF\")\n",
    "print(f\"Accuracy = {accuracy_seq:.4f}, Precision = {precision_seq:.4f}, Recall = {recall_seq:.4f}, F1 Score = {f1_seq:.4f} -> sequential\")\n",
    "print(f\"Accuracy = {accuracy_zeros:.4f}, Precision = {precision_zeros:.4f}, Recall = {recall_zeros:.4f}, F1 Score = {f1_zeros:.4f} -> zeros\")\n",
    "print(f\"Accuracy = {accuracy_random:.4f}, Precision = {precision_random:.4f}, Recall = {recall_random:.4f}, F1 Score = {f1_random:.4f} -> random\")\n",
    "\n",
    "print(\"VS continuous average\")\n",
    "print(f\"MSE = {mse_simple:.4f}, MAE = {mae_simple:.4f}, R-squared = {r2_simple:.4f} -> simple\")\n",
    "print(f\"MSE = {mse_wide:.4f}, MAE = {mae_wide:.4f}, R-squared = {r2_wide:.4f} -> wide\")\n",
    "print(f\"MSE = {mse_RF:.4f}, MAE = {mae_RF:.4f}, R-squared = {r2_RF:.4f} -> RF\")\n",
    "print(f\"MSE = {mse_seq:.4f}, MAE = {mae_seq:.4f}, R-squared = {r2_seq:.4f} -> sequential\")\n",
    "print(f\"MSE = {mse_zeros:.4f}, MAE = {mae_zeros:.4f}, R-squared = {r2_zeros:.4f} -> zeros\")\n",
    "print(f\"MSE = {mse_random:.4f}, MAE = {mae_random:.4f}, R-squared = {r2_random:.4f} -> random\")"
   ]
  }
 ],
 "metadata": {
  "kernelspec": {
   "display_name": "GPU",
   "language": "python",
   "name": "python3"
  },
  "language_info": {
   "codemirror_mode": {
    "name": "ipython",
    "version": 3
   },
   "file_extension": ".py",
   "mimetype": "text/x-python",
   "name": "python",
   "nbconvert_exporter": "python",
   "pygments_lexer": "ipython3",
   "version": "3.9.19"
  }
 },
 "nbformat": 4,
 "nbformat_minor": 2
}
