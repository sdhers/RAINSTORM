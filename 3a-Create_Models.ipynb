{
 "cells": [
  {
   "cell_type": "markdown",
   "metadata": {},
   "source": [
    "Created on Tue Nov  7 16:59:14 2023\n",
    "\n",
    "@author: Santiago D'hers\n",
    "\n",
    "Use:\n",
    "\n",
    "- This script will train AI models to identify exploration using mouse and object position\n",
    "\n",
    "Requirements:\n",
    "\n",
    "- The position.csv files processed by 1-Manage_H5.py\n",
    "- Labeled data for the position files (to train the model)\n",
    "\n",
    "or\n",
    "\n",
    "- Access to the file colabeled_data.csv, where we can find:\n",
    "    - Position and labels for representative exploration events\n",
    "    - It includes the labels of 5 viewers (so far)"
   ]
  },
  {
   "cell_type": "code",
   "execution_count": 1,
   "metadata": {},
   "outputs": [
    {
     "name": "stdout",
     "output_type": "stream",
     "text": [
      "[PhysicalDevice(name='/physical_device:GPU:0', device_type='GPU')]\n"
     ]
    }
   ],
   "source": [
    "import h5py\n",
    "import os\n",
    "import pandas as pd\n",
    "import numpy as np\n",
    "import matplotlib.pyplot as plt\n",
    "\n",
    "from scipy import signal\n",
    "import random\n",
    "import datetime\n",
    "\n",
    "import joblib\n",
    "\n",
    "# from sklearn.utils.class_weight import compute_class_weight\n",
    "from sklearn.metrics import accuracy_score, precision_score, classification_report, recall_score, f1_score\n",
    "from sklearn.metrics import mean_squared_error, mean_absolute_error, r2_score\n",
    "from sklearn.ensemble import RandomForestClassifier\n",
    "from sklearn.utils.class_weight import compute_class_weight\n",
    "\n",
    "import tensorflow as tf\n",
    "from tensorflow.keras.layers import LSTM, Dense, Input, Dropout\n",
    "from tensorflow.keras.callbacks import EarlyStopping, LearningRateScheduler\n",
    "\n",
    "print(tf.config.list_physical_devices('GPU'))"
   ]
  },
  {
   "cell_type": "code",
   "execution_count": 2,
   "metadata": {},
   "outputs": [],
   "source": [
    "desktop = 'C:/Users/dhers/Desktop'\n",
    "STORM_folder = os.path.join(desktop, 'STORM/models')\n",
    "\n",
    "colabels_file = os.path.join(STORM_folder, 'colabels.csv')\n",
    "colabels = pd.read_csv(colabels_file)\n",
    "\n",
    "bodyparts = ['nose', 'L_ear', 'R_ear', 'head', 'neck', 'body']\n",
    "objects = ['obj']\n",
    "\n",
    "train_with_average = True # If False, it trains with all the labels separately\n",
    "make_discrete = False # If False, labels are float (not 0 and 1)\n",
    "save_data = True # if True, the data processed will be saved with today's date\n",
    "\n",
    "use_saved_data = False # if True, we use the dataframe processed previously\n",
    "if use_saved_data:\n",
    "    saved_data = '' # Select the model date you want to rescue\n",
    "\n",
    "# Get the start time\n",
    "start_time = datetime.datetime.now()"
   ]
  },
  {
   "cell_type": "code",
   "execution_count": 3,
   "metadata": {},
   "outputs": [],
   "source": [
    "def recenter(df, point, bodyparts):\n",
    "    # Create a copy of the original dataframe\n",
    "    df_copy = df.copy()\n",
    "    bodypart_columns = []\n",
    "    \n",
    "    for bodypart in bodyparts:\n",
    "        # Subtract point_x from columns ending in _x\n",
    "        x_cols = [col for col in df_copy.columns if col.endswith(f'{bodypart}_x')]\n",
    "        df_copy[x_cols] = df_copy[x_cols].apply(lambda col: col - df_copy[f'{point}_x'])\n",
    "        \n",
    "        # Subtract point_y from columns ending in _y\n",
    "        y_cols = [col for col in df_copy.columns if col.endswith(f'{bodypart}_y')]\n",
    "        df_copy[y_cols] = df_copy[y_cols].apply(lambda col: col - df_copy[f'{point}_y'])\n",
    "        \n",
    "        # Collect bodypart columns\n",
    "        bodypart_columns.extend(x_cols)\n",
    "        bodypart_columns.extend(y_cols)\n",
    "        \n",
    "    return df_copy[bodypart_columns]"
   ]
  },
  {
   "cell_type": "code",
   "execution_count": 4,
   "metadata": {},
   "outputs": [],
   "source": [
    "def reshape(df):\n",
    "    reshaped_df = []\n",
    "    \n",
    "    # Iterate over each row index in the DataFrame\n",
    "    for i in range(len(df)):\n",
    "        # Determine which indices to include for reshaping\n",
    "        indices_to_include = [\n",
    "            max(0, i - 6),  # i - 6, ensure it's not negative\n",
    "            max(0, i - 3),  # i - 3, ensure it's not negative\n",
    "            max(0, i - 1),  # i - 1, ensure it's not negative\n",
    "            i,              # current index\n",
    "            min(len(df) - 1, i + 1),  # i + 1, ensure it's not out of bounds\n",
    "            min(len(df) - 1, i + 3),  # i + 3, ensure it's not out of bounds\n",
    "            min(len(df) - 1, i + 6)   # i + 6, ensure it's not out of bounds\n",
    "        ]\n",
    "        \n",
    "        # Append the rows using the calculated indices\n",
    "        reshaped_df.append(df.iloc[indices_to_include])\n",
    "    \n",
    "    return reshaped_df"
   ]
  },
  {
   "cell_type": "code",
   "execution_count": 5,
   "metadata": {},
   "outputs": [],
   "source": [
    "# The labels for left and right exploration are on the rest of the columns, we need to extract them\n",
    "position = colabels.filter(regex='_x|_y').filter(regex='^(?!.*tail)').copy()\n",
    "                         \n",
    "lblr_A = colabels.filter(regex='Marian').copy()\n",
    "lblr_B = colabels.filter(regex='Agus').copy()\n",
    "lblr_C = colabels.filter(regex='Santi').copy()\n",
    "lblr_D = colabels.filter(regex='Guille').copy()\n",
    "lblr_E = colabels.filter(regex='Myself').copy()\n",
    "\n",
    "labelers = [lblr_A, lblr_B, lblr_C, lblr_D, lblr_E]"
   ]
  },
  {
   "cell_type": "code",
   "execution_count": 6,
   "metadata": {},
   "outputs": [],
   "source": [
    "if train_with_average:\n",
    "    # Concatenate the dataframes along the columns axis (axis=1) and calculate the mean of each row\n",
    "    combined_df = pd.concat(labelers, axis=1)\n",
    "    avrg = pd.DataFrame(combined_df.mean(axis=1), columns=['mean'])\n",
    "\n",
    "    # Apply median filter\n",
    "    avrg['med_filt'] = signal.medfilt(avrg['mean'], kernel_size = 3)\n",
    "\n",
    "    # Gaussian kernel\n",
    "    gauss_kernel = signal.windows.gaussian(3, 0.6)\n",
    "    gauss_kernel = gauss_kernel / sum(gauss_kernel)\n",
    "\n",
    "    # Pad the median filtered data to mitigate edge effects\n",
    "    pad_width = (len(gauss_kernel) - 1) // 2\n",
    "    padded = np.pad(avrg['med_filt'], pad_width, mode='edge')\n",
    "\n",
    "    # Apply convolution\n",
    "    smooth = signal.convolve(padded, gauss_kernel, mode='valid')\n",
    "\n",
    "    # Trim the padded edges to restore original length\n",
    "    avrg['smooth'] = smooth[:len(avrg['mean'])]\n",
    "\n",
    "    # Apply sigmoid function to keep values between 0 and 1\n",
    "    avrg['labels'] = round(1 / (1 + np.exp(-12*(avrg['smooth']-0.5))), 2)\n",
    "\n",
    "    ready_data = pd.concat([position, avrg['labels']], axis = 1)\n",
    "\n",
    "else:\n",
    "    # Join position with all the labels separately\n",
    "    concatenated_position = pd.concat([position] * len(labelers), ignore_index=True)\n",
    "    concatenated_labelers = pd.concat(labelers, ignore_index=True)\n",
    "    ready_data = pd.concat([concatenated_position, concatenated_labelers], axis = 1)"
   ]
  },
  {
   "cell_type": "code",
   "execution_count": 7,
   "metadata": {},
   "outputs": [],
   "source": [
    "def focus(df, column_to_filter = 'labels', distance = 25):\n",
    "\n",
    "    # Extract the column of interest\n",
    "    column_of_interest = df.loc[:, column_to_filter]\n",
    "\n",
    "    print(f'Starting with {len(column_of_interest)} rows')\n",
    "\n",
    "    # Find the indices of the non-zero rows in the column\n",
    "    non_zero_indices = column_of_interest[column_of_interest != 0].index\n",
    "\n",
    "    # Create a boolean mask to keep rows that are within 'distance' rows of a non-zero row\n",
    "    mask = pd.Series(False, index=df.index)\n",
    "\n",
    "    for idx in non_zero_indices:\n",
    "        # Mark rows within 'distance' rows before and after the non-zero row\n",
    "        lower_bound = max(0, idx - distance)\n",
    "        upper_bound = min(len(df) - 1, idx + distance)\n",
    "        mask[lower_bound:upper_bound + 1] = True\n",
    "\n",
    "    # Filter the dataframe using the mask\n",
    "    df_filtered = df[mask]\n",
    "\n",
    "    # Optional: Reset index if you want a clean dataframe without gaps in the indices\n",
    "    df_filtered.reset_index(drop=True, inplace=True)\n",
    "    \n",
    "    print(f\"Reduced to {len(df_filtered)} rows. Number of exploration rows: {len(non_zero_indices)}\")\n",
    "\n",
    "    return df_filtered"
   ]
  },
  {
   "cell_type": "code",
   "execution_count": 8,
   "metadata": {},
   "outputs": [
    {
     "name": "stdout",
     "output_type": "stream",
     "text": [
      "Starting with 167012 rows\n",
      "Reduced to 63760 rows. Number of exploration rows: 17195\n"
     ]
    }
   ],
   "source": [
    "ready_data_focus = focus(ready_data, distance = 50)"
   ]
  },
  {
   "cell_type": "code",
   "execution_count": 9,
   "metadata": {},
   "outputs": [],
   "source": [
    "def prepare_training_data(df, obj = 'obj', bodyparts = ['nose', 'L_ear', 'R_ear', 'head', 'neck', 'body'], y_col = 'labels'):\n",
    "    \n",
    "    # Group the DataFrame by the values in the first column\n",
    "    groups = df.groupby(df[f'{obj}_x'])\n",
    "    \n",
    "    # Split the DataFrame into multiple DataFrames and labels\n",
    "    final_dataframes = {}\n",
    "    wide_dataframes = {}\n",
    "    \n",
    "    for category, group in groups:\n",
    "\n",
    "        recentered_data = recenter(group, obj, bodyparts)\n",
    "        labels = group[f'{y_col}']\n",
    "\n",
    "        final_dataframes[category] = {'position': recentered_data, 'labels': labels}\n",
    "\n",
    "        reshaped_data = reshape(recentered_data)\n",
    "        wide_dataframes[category] = {'position': reshaped_data, 'labels': labels}\n",
    "        \n",
    "    # Get a list of the keys (categories)\n",
    "    keys = list(wide_dataframes.keys())\n",
    "    \n",
    "    # Shuffle the keys\n",
    "    np.random.shuffle(keys)\n",
    "    \n",
    "    # Calculate the lengths for each part\n",
    "    len_val = len(keys) * 15 // 100\n",
    "    len_test = len(keys) * 15 // 100\n",
    "    \n",
    "    # Use slicing to divide the list\n",
    "    val_keys = keys[:len_val]\n",
    "    test_keys = keys[len_val:(len_val + len_test)]\n",
    "    train_keys = keys[(len_val + len_test):]\n",
    "    \n",
    "    # Initialize empty lists to collect dataframes\n",
    "    X_train_wide = []\n",
    "    X_test_wide = []\n",
    "    X_val_wide = []\n",
    "\n",
    "    X_train = []\n",
    "    X_test = []\n",
    "    X_val = []\n",
    "\n",
    "    y_train = []\n",
    "    y_test = []\n",
    "    y_val = []\n",
    "    \n",
    "    # first the simple data \n",
    "    for key in train_keys:\n",
    "        X_train_wide.append(wide_dataframes[key]['position'])\n",
    "        X_train.append(final_dataframes[key]['position'])\n",
    "        y_train.append(final_dataframes[key]['labels'])\n",
    "    for key in test_keys:\n",
    "        X_test_wide.append(wide_dataframes[key]['position'])\n",
    "        X_test.append(final_dataframes[key]['position'])\n",
    "        y_test.append(final_dataframes[key]['labels'])\n",
    "    for key in val_keys:\n",
    "        X_val_wide.append(wide_dataframes[key]['position'])\n",
    "        X_val.append(final_dataframes[key]['position'])\n",
    "        y_val.append(final_dataframes[key]['labels'])\n",
    "    \n",
    "    X_train_wide = np.concatenate(X_train_wide, axis=0)\n",
    "    X_test_wide = np.concatenate(X_test_wide, axis=0)\n",
    "    X_val_wide = np.concatenate(X_val_wide, axis=0)\n",
    "\n",
    "    X_train = pd.concat(X_train, ignore_index=True)\n",
    "    X_test = pd.concat(X_test, ignore_index=True)\n",
    "    X_val = pd.concat(X_val, ignore_index=True)\n",
    "        \n",
    "    y_train = pd.concat(y_train, ignore_index=True)\n",
    "    y_test = pd.concat(y_test, ignore_index=True)\n",
    "    y_val = pd.concat(y_val, ignore_index=True)\n",
    "    \n",
    "    return X_train_wide, X_train, y_train, X_test_wide, X_test, y_test, X_val_wide, X_val, y_val"
   ]
  },
  {
   "cell_type": "code",
   "execution_count": 10,
   "metadata": {},
   "outputs": [
    {
     "name": "stdout",
     "output_type": "stream",
     "text": [
      "Training set size: 44344 samples\n",
      "Validation set size: 9004 samples\n",
      "Testing set size: 10412 samples\n",
      "Total samples: 63760\n",
      "Saved data to training_data_2024-10-22.h5\n"
     ]
    }
   ],
   "source": [
    "if use_saved_data:\n",
    "    # Load arrays\n",
    "    with h5py.File(saved_data, 'r') as hf:\n",
    "        X_test = hf['X_test'][:]\n",
    "        y_test = hf['y_test'][:]\n",
    "        X_val = hf['X_val'][:]\n",
    "        y_val = hf['y_val'][:]\n",
    "        X_train = hf['X_train'][:]\n",
    "        y_train = hf['y_train'][:]\n",
    "        X_test_wide = hf['X_test_wide'][:]\n",
    "        X_val_wide = hf['X_val_wide'][:]\n",
    "        X_train_wide = hf['X_train_wide'][:]\n",
    "        \n",
    "    print(\"Data is ready to train\")\n",
    "\n",
    "else:\n",
    "    X_train_wide, X_train, y_train, X_test_wide, X_test, y_test, X_val_wide, X_val, y_val = prepare_training_data(ready_data_focus)\n",
    "    \n",
    "    # Print the sizes of each set\n",
    "    print(f\"Training set size: {len(X_train)} samples\")\n",
    "    print(f\"Validation set size: {len(X_val)} samples\")\n",
    "    print(f\"Testing set size: {len(X_test)} samples\")\n",
    "    print(f\"Total samples: {len(X_train)+len(X_val)+len(X_test)}\")\n",
    "\n",
    "    if save_data:\n",
    "        # Save arrays\n",
    "        with h5py.File(os.path.join(STORM_folder, f'training_data/training_data_{start_time.date()}.h5'), 'w') as hf:\n",
    "            hf.create_dataset('X_test', data=X_test)\n",
    "            hf.create_dataset('y_test', data=y_test)\n",
    "            hf.create_dataset('X_val', data=X_val)\n",
    "            hf.create_dataset('y_val', data=y_val)\n",
    "            hf.create_dataset('X_train', data=X_train)\n",
    "            hf.create_dataset('y_train', data=y_train)\n",
    "            hf.create_dataset('X_test_wide', data=X_test_wide)\n",
    "            hf.create_dataset('X_val_wide', data=X_val_wide)\n",
    "            hf.create_dataset('X_train_wide', data=X_train_wide)\n",
    "            \n",
    "            print(f'Saved data to training_data_{start_time.date()}.h5')"
   ]
  },
  {
   "cell_type": "code",
   "execution_count": 11,
   "metadata": {},
   "outputs": [
    {
     "data": {
      "image/png": "[encoded data removed]",
      "text/plain": [
       "<Figure size 640x480 with 1 Axes>"
      ]
     },
     "metadata": {},
     "output_type": "display_data"
    }
   ],
   "source": [
    "# Select data to plot\n",
    "position = np.sqrt(X_test['nose_x']**2 + X_test['nose_y']**2).copy()\n",
    "exploration = y_test.copy()\n",
    "\n",
    "# Plotting position\n",
    "plt.plot(position, label='position', color='blue')\n",
    "\n",
    "# Shading exploration regions\n",
    "plt.fill_between(range(len(exploration)), -30, 30, where = exploration > 0.5, label = 'exploration', color='red', alpha=0.3)\n",
    "\n",
    "# Adding labels\n",
    "plt.xlabel('Frames')\n",
    "plt.ylabel('Nose horizontal position (cm)')\n",
    "plt.legend(loc='upper right', fancybox=True, shadow=True, framealpha=1.0)\n",
    "plt.title('Nose position with respect to the object')\n",
    "plt.axhline(y=0, color='black', linestyle='--')\n",
    "\n",
    "# Zoom in on some frames\n",
    "# plt.xlim((1000, 2500))\n",
    "plt.ylim((-2, 25))\n",
    "\n",
    "plt.show()"
   ]
  },
  {
   "cell_type": "markdown",
   "metadata": {},
   "source": [
    "Lets get some tools ready for model training:\n",
    "\n",
    "- Early stopping\n",
    "- Scheduled learning rate"
   ]
  },
  {
   "cell_type": "code",
   "execution_count": 12,
   "metadata": {},
   "outputs": [],
   "source": [
    "# Set the number of neurons in each layer\n",
    "param_0 = 128\n",
    "param_H1 = 64\n",
    "param_H2 = 32\n",
    "param_H3 = 16\n",
    "\n",
    "batch_size = 256 # Set the batch size\n",
    "lr = 0.0002 # Set the initial learning rate\n",
    "epochs = 80 # Set the training epochs\n",
    "patience = 16 # Set the wait for the early stopping mechanism"
   ]
  },
  {
   "cell_type": "code",
   "execution_count": 13,
   "metadata": {},
   "outputs": [],
   "source": [
    "# Define the EarlyStopping callback\n",
    "early_stopping = EarlyStopping(\n",
    "    monitor='val_loss',\n",
    "    patience=patience,\n",
    "    restore_best_weights=True,\n",
    "    mode='min',\n",
    "    verbose=1,\n",
    ")\n",
    "\n",
    "# Define a learning rate schedule function\n",
    "initial_lr = lr # Set the initial lr\n",
    "def lr_schedule(epoch, lr): # Define a learning rate schedule function\n",
    "    initial_lr = lr  # Initial learning rate\n",
    "    decay_factor = 0.8  # Learning rate decay factor\n",
    "    decay_epochs = 16    # Number of epochs after which to decay the learning rate\n",
    "\n",
    "    # Calculate the new learning rate\n",
    "    lr = initial_lr * (decay_factor ** (epoch // decay_epochs))\n",
    "\n",
    "    return lr\n",
    "\n",
    "# Define the LearningRateScheduler callback\n",
    "lr_scheduler = LearningRateScheduler(lr_schedule)"
   ]
  },
  {
   "cell_type": "code",
   "execution_count": 14,
   "metadata": {},
   "outputs": [],
   "source": [
    "def plot_history(model, model_name):\n",
    "    \n",
    "    plt.figure(figsize=(10, 6))\n",
    "    \n",
    "    plt.plot(model.history['loss'], label='Training loss')\n",
    "    plt.plot(model.history['val_loss'], label='Validation loss')\n",
    "    plt.plot(model.history['accuracy'], label='Training accuracy')\n",
    "    plt.plot(model.history['val_accuracy'], label='Validation accuracy')\n",
    "    \n",
    "    plt.title(f'Training of model {model_name}')\n",
    "    plt.xlabel('Epochs')\n",
    "    plt.ylabel('%')\n",
    "    plt.legend()\n",
    "    plt.show()"
   ]
  },
  {
   "cell_type": "code",
   "execution_count": 15,
   "metadata": {},
   "outputs": [],
   "source": [
    "def evaluate(X, y, model):\n",
    "    \n",
    "    # Evaluate the model on the testing set\n",
    "    y_pred = model.predict(X)\n",
    "    y_pred_binary = (y_pred > 0.5).astype(int)  # Convert probabilities to binary predictions\n",
    "    \n",
    "    if isinstance(y, tf.Tensor):\n",
    "        y = y.numpy()\n",
    "    y_binary = (y > 0.5).astype(int) # Convert average labels to binary labels\n",
    "    \n",
    "    accuracy = accuracy_score(y_binary, y_pred_binary)\n",
    "    precision = precision_score(y_binary, y_pred_binary, average = 'weighted')\n",
    "    recall = recall_score(y_binary, y_pred_binary, average = 'weighted')\n",
    "    f1 = f1_score(y_binary, y_pred_binary, average = 'weighted')\n",
    "    \n",
    "    print(classification_report(y_binary, y_pred_binary))\n",
    "    \n",
    "    return accuracy, precision, recall, f1\n",
    "\n",
    "def evaluate_continuous(X, y, model):\n",
    "    # Ensure X and y are on the same device\n",
    "    if isinstance(X, tf.Tensor):\n",
    "        if '/GPU:' in X.device:\n",
    "            y = tf.convert_to_tensor(y)\n",
    "            y = tf.identity(y)\n",
    "\n",
    "    # Evaluate the model on the testing set\n",
    "    y_pred = model.predict(X)\n",
    "\n",
    "    # Convert y and y_pred to numpy arrays if they are tensors\n",
    "    if isinstance(y_pred, tf.Tensor):\n",
    "        y_pred = y_pred.numpy()\n",
    "    \n",
    "    if isinstance(y, tf.Tensor):\n",
    "        y = y.numpy()\n",
    "    \n",
    "    mse = mean_squared_error(y, y_pred)\n",
    "    mae = mean_absolute_error(y, y_pred)\n",
    "    r2 = r2_score(y, y_pred)\n",
    "    \n",
    "    return mse, mae, r2"
   ]
  },
  {
   "cell_type": "markdown",
   "metadata": {},
   "source": [
    "Now we train the first model"
   ]
  },
  {
   "cell_type": "code",
   "execution_count": 16,
   "metadata": {},
   "outputs": [],
   "source": [
    "# Build a simple neural network\n",
    "model_simple = tf.keras.Sequential([\n",
    "    Input(shape=(X_train.shape[1],)),\n",
    "    Dense(param_0, activation='relu'),\n",
    "    Dropout(0.2),\n",
    "    Dense(param_H1, activation='relu'),\n",
    "    Dropout(0.2),\n",
    "    Dense(param_H2, activation='relu'),\n",
    "    Dropout(0.2),\n",
    "    Dense(param_H3, activation='relu'),\n",
    "    Dropout(0.2),\n",
    "    Dense(1, activation='sigmoid')\n",
    "])\n",
    "\n",
    "# Compile the model\n",
    "model_simple.compile(optimizer=tf.keras.optimizers.Adam(learning_rate=initial_lr),\n",
    "                     loss='binary_crossentropy', metrics=['accuracy'])"
   ]
  },
  {
   "cell_type": "code",
   "execution_count": 17,
   "metadata": {},
   "outputs": [
    {
     "name": "stdout",
     "output_type": "stream",
     "text": [
      "Model: \"sequential\"\n",
      "_________________________________________________________________\n",
      " Layer (type)                Output Shape              Param #   \n",
      "=================================================================\n",
      " dense (Dense)               (None, 128)               1664      \n",
      "                                                                 \n",
      " dropout (Dropout)           (None, 128)               0         \n",
      "                                                                 \n",
      " dense_1 (Dense)             (None, 64)                8256      \n",
      "                                                                 \n",
      " dropout_1 (Dropout)         (None, 64)                0         \n",
      "                                                                 \n",
      " dense_2 (Dense)             (None, 32)                2080      \n",
      "                                                                 \n",
      " dropout_2 (Dropout)         (None, 32)                0         \n",
      "                                                                 \n",
      " dense_3 (Dense)             (None, 16)                528       \n",
      "                                                                 \n",
      " dropout_3 (Dropout)         (None, 16)                0         \n",
      "                                                                 \n",
      " dense_4 (Dense)             (None, 1)                 17        \n",
      "                                                                 \n",
      "=================================================================\n",
      "Total params: 12,545\n",
      "Trainable params: 12,545\n",
      "Non-trainable params: 0\n",
      "_________________________________________________________________\n"
     ]
    }
   ],
   "source": [
    "model_simple.summary()"
   ]
  },
  {
   "cell_type": "code",
   "execution_count": 18,
   "metadata": {},
   "outputs": [
    {
     "name": "stdout",
     "output_type": "stream",
     "text": [
      "Epoch 1/80\n",
      "174/174 [==============================] - 1s 5ms/step - loss: 0.4868 - accuracy: 0.6489 - val_loss: 0.2811 - val_accuracy: 0.7671 - lr: 2.0000e-04\n",
      "Epoch 2/80\n",
      "174/174 [==============================] - 1s 4ms/step - loss: 0.3348 - accuracy: 0.7350 - val_loss: 0.2422 - val_accuracy: 0.7671 - lr: 2.0000e-04\n",
      "Epoch 3/80\n",
      "174/174 [==============================] - 1s 4ms/step - loss: 0.2828 - accuracy: 0.7413 - val_loss: 0.1930 - val_accuracy: 0.7690 - lr: 2.0000e-04\n",
      "Epoch 4/80\n",
      "174/174 [==============================] - 1s 4ms/step - loss: 0.2410 - accuracy: 0.7672 - val_loss: 0.1652 - val_accuracy: 0.8145 - lr: 2.0000e-04\n",
      "Epoch 5/80\n",
      "174/174 [==============================] - 1s 4ms/step - loss: 0.2091 - accuracy: 0.7942 - val_loss: 0.1396 - val_accuracy: 0.8233 - lr: 2.0000e-04\n",
      "Epoch 6/80\n",
      "174/174 [==============================] - 1s 4ms/step - loss: 0.1901 - accuracy: 0.8036 - val_loss: 0.1325 - val_accuracy: 0.8245 - lr: 2.0000e-04\n",
      "Epoch 7/80\n",
      "174/174 [==============================] - 1s 5ms/step - loss: 0.1794 - accuracy: 0.8089 - val_loss: 0.1282 - val_accuracy: 0.8264 - lr: 2.0000e-04\n",
      "Epoch 8/80\n",
      "174/174 [==============================] - 1s 6ms/step - loss: 0.1705 - accuracy: 0.8106 - val_loss: 0.1232 - val_accuracy: 0.8276 - lr: 2.0000e-04\n",
      "Epoch 9/80\n",
      "174/174 [==============================] - 1s 6ms/step - loss: 0.1650 - accuracy: 0.8125 - val_loss: 0.1218 - val_accuracy: 0.8281 - lr: 2.0000e-04\n",
      "Epoch 10/80\n",
      "174/174 [==============================] - 1s 6ms/step - loss: 0.1620 - accuracy: 0.8135 - val_loss: 0.1196 - val_accuracy: 0.8281 - lr: 2.0000e-04\n",
      "Epoch 11/80\n",
      "174/174 [==============================] - 1s 6ms/step - loss: 0.1580 - accuracy: 0.8150 - val_loss: 0.1180 - val_accuracy: 0.8289 - lr: 2.0000e-04\n",
      "Epoch 12/80\n",
      "174/174 [==============================] - 1s 6ms/step - loss: 0.1552 - accuracy: 0.8160 - val_loss: 0.1177 - val_accuracy: 0.8283 - lr: 2.0000e-04\n",
      "Epoch 13/80\n",
      "174/174 [==============================] - 1s 6ms/step - loss: 0.1517 - accuracy: 0.8166 - val_loss: 0.1139 - val_accuracy: 0.8296 - lr: 2.0000e-04\n",
      "Epoch 14/80\n",
      "174/174 [==============================] - 1s 6ms/step - loss: 0.1512 - accuracy: 0.8175 - val_loss: 0.1147 - val_accuracy: 0.8296 - lr: 2.0000e-04\n",
      "Epoch 15/80\n",
      "174/174 [==============================] - 1s 6ms/step - loss: 0.1478 - accuracy: 0.8183 - val_loss: 0.1134 - val_accuracy: 0.8291 - lr: 2.0000e-04\n",
      "Epoch 16/80\n",
      "174/174 [==============================] - 1s 6ms/step - loss: 0.1458 - accuracy: 0.8196 - val_loss: 0.1115 - val_accuracy: 0.8296 - lr: 2.0000e-04\n",
      "Epoch 17/80\n",
      "174/174 [==============================] - 1s 6ms/step - loss: 0.1435 - accuracy: 0.8192 - val_loss: 0.1106 - val_accuracy: 0.8302 - lr: 1.6000e-04\n",
      "Epoch 18/80\n",
      "174/174 [==============================] - 1s 6ms/step - loss: 0.1414 - accuracy: 0.8207 - val_loss: 0.1106 - val_accuracy: 0.8295 - lr: 1.2800e-04\n",
      "Epoch 19/80\n",
      "174/174 [==============================] - 1s 6ms/step - loss: 0.1397 - accuracy: 0.8209 - val_loss: 0.1103 - val_accuracy: 0.8299 - lr: 1.0240e-04\n",
      "Epoch 20/80\n",
      "174/174 [==============================] - 1s 6ms/step - loss: 0.1391 - accuracy: 0.8211 - val_loss: 0.1097 - val_accuracy: 0.8297 - lr: 8.1920e-05\n",
      "Epoch 21/80\n",
      "174/174 [==============================] - 1s 6ms/step - loss: 0.1396 - accuracy: 0.8207 - val_loss: 0.1092 - val_accuracy: 0.8299 - lr: 6.5536e-05\n",
      "Epoch 22/80\n",
      "174/174 [==============================] - 1s 6ms/step - loss: 0.1386 - accuracy: 0.8211 - val_loss: 0.1085 - val_accuracy: 0.8300 - lr: 5.2429e-05\n",
      "Epoch 23/80\n",
      "174/174 [==============================] - 1s 6ms/step - loss: 0.1381 - accuracy: 0.8204 - val_loss: 0.1092 - val_accuracy: 0.8299 - lr: 4.1943e-05\n",
      "Epoch 24/80\n",
      "174/174 [==============================] - 1s 6ms/step - loss: 0.1375 - accuracy: 0.8210 - val_loss: 0.1086 - val_accuracy: 0.8295 - lr: 3.3554e-05\n",
      "Epoch 25/80\n",
      "174/174 [==============================] - 1s 6ms/step - loss: 0.1372 - accuracy: 0.8218 - val_loss: 0.1088 - val_accuracy: 0.8296 - lr: 2.6844e-05\n",
      "Epoch 26/80\n",
      "174/174 [==============================] - 1s 6ms/step - loss: 0.1375 - accuracy: 0.8210 - val_loss: 0.1084 - val_accuracy: 0.8297 - lr: 2.1475e-05\n",
      "Epoch 27/80\n",
      "174/174 [==============================] - 1s 6ms/step - loss: 0.1365 - accuracy: 0.8213 - val_loss: 0.1087 - val_accuracy: 0.8299 - lr: 1.7180e-05\n",
      "Epoch 28/80\n",
      "174/174 [==============================] - 1s 6ms/step - loss: 0.1367 - accuracy: 0.8218 - val_loss: 0.1086 - val_accuracy: 0.8297 - lr: 1.3744e-05\n",
      "Epoch 29/80\n",
      "174/174 [==============================] - 1s 6ms/step - loss: 0.1360 - accuracy: 0.8219 - val_loss: 0.1088 - val_accuracy: 0.8295 - lr: 1.0995e-05\n",
      "Epoch 30/80\n",
      "174/174 [==============================] - 1s 6ms/step - loss: 0.1355 - accuracy: 0.8218 - val_loss: 0.1087 - val_accuracy: 0.8296 - lr: 8.7961e-06\n",
      "Epoch 31/80\n",
      "174/174 [==============================] - 1s 6ms/step - loss: 0.1366 - accuracy: 0.8212 - val_loss: 0.1086 - val_accuracy: 0.8296 - lr: 7.0369e-06\n",
      "Epoch 32/80\n",
      "174/174 [==============================] - 1s 6ms/step - loss: 0.1368 - accuracy: 0.8212 - val_loss: 0.1087 - val_accuracy: 0.8300 - lr: 5.6295e-06\n",
      "Epoch 33/80\n",
      "174/174 [==============================] - 1s 6ms/step - loss: 0.1370 - accuracy: 0.8217 - val_loss: 0.1087 - val_accuracy: 0.8300 - lr: 3.6029e-06\n",
      "Epoch 34/80\n",
      "174/174 [==============================] - 1s 6ms/step - loss: 0.1366 - accuracy: 0.8214 - val_loss: 0.1087 - val_accuracy: 0.8300 - lr: 2.3058e-06\n",
      "Epoch 35/80\n",
      "174/174 [==============================] - 1s 6ms/step - loss: 0.1366 - accuracy: 0.8216 - val_loss: 0.1086 - val_accuracy: 0.8297 - lr: 1.4757e-06\n",
      "Epoch 36/80\n",
      "174/174 [==============================] - 1s 6ms/step - loss: 0.1366 - accuracy: 0.8216 - val_loss: 0.1086 - val_accuracy: 0.8297 - lr: 9.4447e-07\n",
      "Epoch 37/80\n",
      "174/174 [==============================] - 1s 6ms/step - loss: 0.1368 - accuracy: 0.8216 - val_loss: 0.1086 - val_accuracy: 0.8296 - lr: 6.0446e-07\n",
      "Epoch 38/80\n",
      "174/174 [==============================] - 1s 6ms/step - loss: 0.1376 - accuracy: 0.8218 - val_loss: 0.1086 - val_accuracy: 0.8296 - lr: 3.8686e-07\n",
      "Epoch 39/80\n",
      "174/174 [==============================] - 1s 6ms/step - loss: 0.1363 - accuracy: 0.8218 - val_loss: 0.1086 - val_accuracy: 0.8296 - lr: 2.4759e-07\n",
      "Epoch 40/80\n",
      "174/174 [==============================] - 1s 6ms/step - loss: 0.1361 - accuracy: 0.8218 - val_loss: 0.1086 - val_accuracy: 0.8296 - lr: 1.5846e-07\n",
      "Epoch 41/80\n",
      "174/174 [==============================] - 1s 6ms/step - loss: 0.1358 - accuracy: 0.8220 - val_loss: 0.1086 - val_accuracy: 0.8296 - lr: 1.0141e-07\n",
      "Epoch 42/80\n",
      "173/174 [============================>.] - ETA: 0s - loss: 0.1374 - accuracy: 0.8213Restoring model weights from the end of the best epoch: 26.\n",
      "174/174 [==============================] - 1s 6ms/step - loss: 0.1376 - accuracy: 0.8211 - val_loss: 0.1086 - val_accuracy: 0.8296 - lr: 6.4904e-08\n",
      "Epoch 42: early stopping\n"
     ]
    }
   ],
   "source": [
    "# Train the model\n",
    "history_simple = model_simple.fit(X_train, y_train,\n",
    "                                  epochs=epochs,\n",
    "                                  batch_size=batch_size,\n",
    "                                  validation_data=(X_val, y_val),\n",
    "                                  callbacks=[early_stopping, lr_scheduler])"
   ]
  },
  {
   "cell_type": "code",
   "execution_count": 19,
   "metadata": {},
   "outputs": [
    {
     "data": {
      "image/png": "[encoded data removed]",
      "text/plain": [
       "<Figure size 1000x600 with 1 Axes>"
      ]
     },
     "metadata": {},
     "output_type": "display_data"
    }
   ],
   "source": [
    "# Plot the training and validation loss\n",
    "plot_history(history_simple, \"Simple\")"
   ]
  },
  {
   "cell_type": "code",
   "execution_count": 20,
   "metadata": {},
   "outputs": [
    {
     "name": "stdout",
     "output_type": "stream",
     "text": [
      "326/326 [==============================] - 0s 1ms/step\n",
      "              precision    recall  f1-score   support\n",
      "\n",
      "           0       0.97      0.96      0.96      8682\n",
      "           1       0.82      0.83      0.82      1730\n",
      "\n",
      "    accuracy                           0.94     10412\n",
      "   macro avg       0.89      0.90      0.89     10412\n",
      "weighted avg       0.94      0.94      0.94     10412\n",
      "\n",
      "Accuracy = 0.9406, Precision = 0.9409, Recall = 0.9406, F1 Score = 0.9408 -> simple\n",
      "326/326 [==============================] - 0s 1ms/step\n",
      "MSE = 0.0298, MAE = 0.0718, R-squared = 0.7651 -> simple\n"
     ]
    }
   ],
   "source": [
    "# Calculate accuracy and precision of the model\n",
    "accuracy_simple, precision_simple, recall_simple, f1_simple = evaluate(X_test, y_test, model_simple)\n",
    "print(f\"Accuracy = {accuracy_simple:.4f}, Precision = {precision_simple:.4f}, Recall = {recall_simple:.4f}, F1 Score = {f1_simple:.4f} -> simple\")\n",
    "\n",
    "mse_simple, mae_simple, r2_simple = evaluate_continuous(X_test, y_test, model_simple)\n",
    "print(f\"MSE = {mse_simple:.4f}, MAE = {mae_simple:.4f}, R-squared = {r2_simple:.4f} -> simple\")"
   ]
  },
  {
   "cell_type": "code",
   "execution_count": 21,
   "metadata": {},
   "outputs": [],
   "source": [
    "# Save the model\n",
    "model_simple.save(os.path.join(STORM_folder, f'simple/model_simple_{start_time.date()}.keras'))"
   ]
  },
  {
   "cell_type": "markdown",
   "metadata": {},
   "source": [
    "Lets move onto training a Recursive Network (that can see sequences)"
   ]
  },
  {
   "cell_type": "code",
   "execution_count": 22,
   "metadata": {},
   "outputs": [],
   "source": [
    "frames = 7\n",
    "\n",
    "# Define the LSTM model\n",
    "model_wide = tf.keras.Sequential([\n",
    "    Input(shape=(frames, X_train_wide.shape[2])),\n",
    "    LSTM(param_0, return_sequences=True),\n",
    "    Dropout(0.2),\n",
    "    LSTM(param_H1, return_sequences=True),\n",
    "    Dropout(0.2),\n",
    "    LSTM(param_H2, return_sequences=True),\n",
    "    Dropout(0.2),\n",
    "    LSTM(param_H3),\n",
    "    Dropout(0.2),\n",
    "    Dense(1, activation='sigmoid')\n",
    "])\n",
    "\n",
    "# Compile the model\n",
    "model_wide.compile(optimizer=tf.keras.optimizers.Adam(learning_rate=initial_lr),\n",
    "                     loss='binary_crossentropy', metrics=['accuracy'])"
   ]
  },
  {
   "cell_type": "code",
   "execution_count": 23,
   "metadata": {},
   "outputs": [
    {
     "name": "stdout",
     "output_type": "stream",
     "text": [
      "Model: \"sequential_1\"\n",
      "_________________________________________________________________\n",
      " Layer (type)                Output Shape              Param #   \n",
      "=================================================================\n",
      " lstm (LSTM)                 (None, 7, 128)            72192     \n",
      "                                                                 \n",
      " dropout_4 (Dropout)         (None, 7, 128)            0         \n",
      "                                                                 \n",
      " lstm_1 (LSTM)               (None, 7, 64)             49408     \n",
      "                                                                 \n",
      " dropout_5 (Dropout)         (None, 7, 64)             0         \n",
      "                                                                 \n",
      " lstm_2 (LSTM)               (None, 7, 32)             12416     \n",
      "                                                                 \n",
      " dropout_6 (Dropout)         (None, 7, 32)             0         \n",
      "                                                                 \n",
      " lstm_3 (LSTM)               (None, 16)                3136      \n",
      "                                                                 \n",
      " dropout_7 (Dropout)         (None, 16)                0         \n",
      "                                                                 \n",
      " dense_5 (Dense)             (None, 1)                 17        \n",
      "                                                                 \n",
      "=================================================================\n",
      "Total params: 137,169\n",
      "Trainable params: 137,169\n",
      "Non-trainable params: 0\n",
      "_________________________________________________________________\n"
     ]
    }
   ],
   "source": [
    "model_wide.summary()"
   ]
  },
  {
   "cell_type": "code",
   "execution_count": 24,
   "metadata": {},
   "outputs": [
    {
     "name": "stdout",
     "output_type": "stream",
     "text": [
      "Epoch 1/80\n",
      "174/174 [==============================] - 7s 20ms/step - loss: 0.3564 - accuracy: 0.7577 - val_loss: 0.1847 - val_accuracy: 0.8174 - lr: 2.0000e-04\n",
      "Epoch 2/80\n",
      "174/174 [==============================] - 3s 16ms/step - loss: 0.1935 - accuracy: 0.8100 - val_loss: 0.1657 - val_accuracy: 0.8193 - lr: 2.0000e-04\n",
      "Epoch 3/80\n",
      "174/174 [==============================] - 3s 16ms/step - loss: 0.1708 - accuracy: 0.8145 - val_loss: 0.1428 - val_accuracy: 0.8236 - lr: 2.0000e-04\n",
      "Epoch 4/80\n",
      "174/174 [==============================] - 3s 16ms/step - loss: 0.1506 - accuracy: 0.8191 - val_loss: 0.1243 - val_accuracy: 0.8280 - lr: 2.0000e-04\n",
      "Epoch 5/80\n",
      "174/174 [==============================] - 3s 16ms/step - loss: 0.1364 - accuracy: 0.8219 - val_loss: 0.1208 - val_accuracy: 0.8276 - lr: 2.0000e-04\n",
      "Epoch 6/80\n",
      "174/174 [==============================] - 3s 16ms/step - loss: 0.1274 - accuracy: 0.8241 - val_loss: 0.1140 - val_accuracy: 0.8286 - lr: 2.0000e-04\n",
      "Epoch 7/80\n",
      "174/174 [==============================] - 3s 17ms/step - loss: 0.1227 - accuracy: 0.8249 - val_loss: 0.1114 - val_accuracy: 0.8310 - lr: 2.0000e-04\n",
      "Epoch 8/80\n",
      "174/174 [==============================] - 3s 16ms/step - loss: 0.1188 - accuracy: 0.8252 - val_loss: 0.1094 - val_accuracy: 0.8311 - lr: 2.0000e-04\n",
      "Epoch 9/80\n",
      "174/174 [==============================] - 3s 16ms/step - loss: 0.1155 - accuracy: 0.8254 - val_loss: 0.1080 - val_accuracy: 0.8303 - lr: 2.0000e-04\n",
      "Epoch 10/80\n",
      "174/174 [==============================] - 3s 16ms/step - loss: 0.1145 - accuracy: 0.8257 - val_loss: 0.1098 - val_accuracy: 0.8294 - lr: 2.0000e-04\n",
      "Epoch 11/80\n",
      "174/174 [==============================] - 3s 16ms/step - loss: 0.1112 - accuracy: 0.8261 - val_loss: 0.1054 - val_accuracy: 0.8310 - lr: 2.0000e-04\n",
      "Epoch 12/80\n",
      "174/174 [==============================] - 3s 16ms/step - loss: 0.1089 - accuracy: 0.8260 - val_loss: 0.1071 - val_accuracy: 0.8310 - lr: 2.0000e-04\n",
      "Epoch 13/80\n",
      "174/174 [==============================] - 3s 16ms/step - loss: 0.1079 - accuracy: 0.8266 - val_loss: 0.1147 - val_accuracy: 0.8284 - lr: 2.0000e-04\n",
      "Epoch 14/80\n",
      "174/174 [==============================] - 3s 16ms/step - loss: 0.1065 - accuracy: 0.8269 - val_loss: 0.1053 - val_accuracy: 0.8317 - lr: 2.0000e-04\n",
      "Epoch 15/80\n",
      "174/174 [==============================] - 3s 16ms/step - loss: 0.1055 - accuracy: 0.8268 - val_loss: 0.1080 - val_accuracy: 0.8293 - lr: 2.0000e-04\n",
      "Epoch 16/80\n",
      "174/174 [==============================] - 3s 16ms/step - loss: 0.1043 - accuracy: 0.8270 - val_loss: 0.1091 - val_accuracy: 0.8297 - lr: 2.0000e-04\n",
      "Epoch 17/80\n",
      "174/174 [==============================] - 3s 16ms/step - loss: 0.1029 - accuracy: 0.8275 - val_loss: 0.1099 - val_accuracy: 0.8290 - lr: 1.6000e-04\n",
      "Epoch 18/80\n",
      "174/174 [==============================] - 3s 16ms/step - loss: 0.1016 - accuracy: 0.8271 - val_loss: 0.1046 - val_accuracy: 0.8314 - lr: 1.2800e-04\n",
      "Epoch 19/80\n",
      "174/174 [==============================] - 3s 16ms/step - loss: 0.1007 - accuracy: 0.8279 - val_loss: 0.1074 - val_accuracy: 0.8302 - lr: 1.0240e-04\n",
      "Epoch 20/80\n",
      "174/174 [==============================] - 3s 16ms/step - loss: 0.0993 - accuracy: 0.8279 - val_loss: 0.1059 - val_accuracy: 0.8303 - lr: 8.1920e-05\n",
      "Epoch 21/80\n",
      "174/174 [==============================] - 3s 16ms/step - loss: 0.0990 - accuracy: 0.8277 - val_loss: 0.1080 - val_accuracy: 0.8291 - lr: 6.5536e-05\n",
      "Epoch 22/80\n",
      "174/174 [==============================] - 3s 16ms/step - loss: 0.0982 - accuracy: 0.8280 - val_loss: 0.1079 - val_accuracy: 0.8300 - lr: 5.2429e-05\n",
      "Epoch 23/80\n",
      "174/174 [==============================] - 3s 16ms/step - loss: 0.0976 - accuracy: 0.8282 - val_loss: 0.1058 - val_accuracy: 0.8309 - lr: 4.1943e-05\n",
      "Epoch 24/80\n",
      "174/174 [==============================] - 3s 16ms/step - loss: 0.0983 - accuracy: 0.8281 - val_loss: 0.1060 - val_accuracy: 0.8307 - lr: 3.3554e-05\n",
      "Epoch 25/80\n",
      "174/174 [==============================] - 3s 16ms/step - loss: 0.0971 - accuracy: 0.8279 - val_loss: 0.1059 - val_accuracy: 0.8300 - lr: 2.6844e-05\n",
      "Epoch 26/80\n",
      "174/174 [==============================] - 3s 16ms/step - loss: 0.0966 - accuracy: 0.8284 - val_loss: 0.1074 - val_accuracy: 0.8303 - lr: 2.1475e-05\n",
      "Epoch 27/80\n",
      "174/174 [==============================] - 3s 16ms/step - loss: 0.0972 - accuracy: 0.8282 - val_loss: 0.1063 - val_accuracy: 0.8304 - lr: 1.7180e-05\n",
      "Epoch 28/80\n",
      "174/174 [==============================] - 3s 16ms/step - loss: 0.0964 - accuracy: 0.8282 - val_loss: 0.1072 - val_accuracy: 0.8303 - lr: 1.3744e-05\n",
      "Epoch 29/80\n",
      "174/174 [==============================] - 3s 16ms/step - loss: 0.0964 - accuracy: 0.8280 - val_loss: 0.1064 - val_accuracy: 0.8303 - lr: 1.0995e-05\n",
      "Epoch 30/80\n",
      "174/174 [==============================] - 3s 16ms/step - loss: 0.0963 - accuracy: 0.8284 - val_loss: 0.1062 - val_accuracy: 0.8304 - lr: 8.7961e-06\n",
      "Epoch 31/80\n",
      "174/174 [==============================] - 3s 16ms/step - loss: 0.0964 - accuracy: 0.8279 - val_loss: 0.1068 - val_accuracy: 0.8302 - lr: 7.0369e-06\n",
      "Epoch 32/80\n",
      "174/174 [==============================] - 3s 16ms/step - loss: 0.0967 - accuracy: 0.8282 - val_loss: 0.1064 - val_accuracy: 0.8304 - lr: 5.6295e-06\n",
      "Epoch 33/80\n",
      "174/174 [==============================] - 3s 16ms/step - loss: 0.0966 - accuracy: 0.8282 - val_loss: 0.1064 - val_accuracy: 0.8303 - lr: 3.6029e-06\n",
      "Epoch 34/80\n",
      "172/174 [============================>.] - ETA: 0s - loss: 0.0959 - accuracy: 0.8286Restoring model weights from the end of the best epoch: 18.\n",
      "174/174 [==============================] - 3s 16ms/step - loss: 0.0959 - accuracy: 0.8283 - val_loss: 0.1064 - val_accuracy: 0.8303 - lr: 2.3058e-06\n",
      "Epoch 34: early stopping\n"
     ]
    }
   ],
   "source": [
    "# Train the model\n",
    "history_wide = model_wide.fit(X_train_wide, y_train,\n",
    "                              epochs = epochs,\n",
    "                              batch_size = batch_size,\n",
    "                              validation_data=(X_val_wide, y_val),\n",
    "                              callbacks=[early_stopping, lr_scheduler])"
   ]
  },
  {
   "cell_type": "code",
   "execution_count": 25,
   "metadata": {},
   "outputs": [
    {
     "data": {
      "image/png": "[encoded data removed]",
      "text/plain": [
       "<Figure size 1000x600 with 1 Axes>"
      ]
     },
     "metadata": {},
     "output_type": "display_data"
    }
   ],
   "source": [
    "# Plot the training and validation loss\n",
    "plot_history(history_wide, \"wide\")"
   ]
  },
  {
   "cell_type": "code",
   "execution_count": 26,
   "metadata": {},
   "outputs": [
    {
     "name": "stdout",
     "output_type": "stream",
     "text": [
      "326/326 [==============================] - 3s 6ms/step\n",
      "              precision    recall  f1-score   support\n",
      "\n",
      "           0       0.98      0.96      0.97      8682\n",
      "           1       0.83      0.88      0.85      1730\n",
      "\n",
      "    accuracy                           0.95     10412\n",
      "   macro avg       0.90      0.92      0.91     10412\n",
      "weighted avg       0.95      0.95      0.95     10412\n",
      "\n",
      "Accuracy = 0.9491, Precision = 0.9507, Recall = 0.9491, F1 Score = 0.9497 -> wide\n",
      "326/326 [==============================] - 2s 6ms/step\n",
      "MSE = 0.0292, MAE = 0.0627, R-squared = 0.7700 -> wide\n"
     ]
    }
   ],
   "source": [
    "# Calculate accuracy and precision of the model\n",
    "accuracy_wide, precision_wide, recall_wide, f1_wide = evaluate(X_test_wide, y_test, model_wide)\n",
    "print(f\"Accuracy = {accuracy_wide:.4f}, Precision = {precision_wide:.4f}, Recall = {recall_wide:.4f}, F1 Score = {f1_wide:.4f} -> wide\")\n",
    "\n",
    "mse_wide, mae_wide, r2_wide = evaluate_continuous(X_test_wide, y_test, model_wide)\n",
    "print(f\"MSE = {mse_wide:.4f}, MAE = {mae_wide:.4f}, R-squared = {r2_wide:.4f} -> wide\")"
   ]
  },
  {
   "cell_type": "code",
   "execution_count": 27,
   "metadata": {},
   "outputs": [],
   "source": [
    "# Save the model\n",
    "model_wide.save(os.path.join(STORM_folder, f'wide/model_wide_{start_time.date()}.keras'))"
   ]
  },
  {
   "cell_type": "markdown",
   "metadata": {},
   "source": [
    "Lets also train a Random Forest model"
   ]
  },
  {
   "cell_type": "code",
   "execution_count": 28,
   "metadata": {},
   "outputs": [
    {
     "data": {
      "text/html": [
       "<style>#sk-container-id-1 {color: black;background-color: white;}#sk-container-id-1 pre{padding: 0;}#sk-container-id-1 div.sk-toggleable {background-color: white;}#sk-container-id-1 label.sk-toggleable__label {cursor: pointer;display: block;width: 100%;margin-bottom: 0;padding: 0.3em;box-sizing: border-box;text-align: center;}#sk-container-id-1 label.sk-toggleable__label-arrow:before {content: \"▸\";float: left;margin-right: 0.25em;color: #696969;}#sk-container-id-1 label.sk-toggleable__label-arrow:hover:before {color: black;}#sk-container-id-1 div.sk-estimator:hover label.sk-toggleable__label-arrow:before {color: black;}#sk-container-id-1 div.sk-toggleable__content {max-height: 0;max-width: 0;overflow: hidden;text-align: left;background-color: #f0f8ff;}#sk-container-id-1 div.sk-toggleable__content pre {margin: 0.2em;color: black;border-radius: 0.25em;background-color: #f0f8ff;}#sk-container-id-1 input.sk-toggleable__control:checked~div.sk-toggleable__content {max-height: 200px;max-width: 100%;overflow: auto;}#sk-container-id-1 input.sk-toggleable__control:checked~label.sk-toggleable__label-arrow:before {content: \"▾\";}#sk-container-id-1 div.sk-estimator input.sk-toggleable__control:checked~label.sk-toggleable__label {background-color: #d4ebff;}#sk-container-id-1 div.sk-label input.sk-toggleable__control:checked~label.sk-toggleable__label {background-color: #d4ebff;}#sk-container-id-1 input.sk-hidden--visually {border: 0;clip: rect(1px 1px 1px 1px);clip: rect(1px, 1px, 1px, 1px);height: 1px;margin: -1px;overflow: hidden;padding: 0;position: absolute;width: 1px;}#sk-container-id-1 div.sk-estimator {font-family: monospace;background-color: #f0f8ff;border: 1px dotted black;border-radius: 0.25em;box-sizing: border-box;margin-bottom: 0.5em;}#sk-container-id-1 div.sk-estimator:hover {background-color: #d4ebff;}#sk-container-id-1 div.sk-parallel-item::after {content: \"\";width: 100%;border-bottom: 1px solid gray;flex-grow: 1;}#sk-container-id-1 div.sk-label:hover label.sk-toggleable__label {background-color: #d4ebff;}#sk-container-id-1 div.sk-serial::before {content: \"\";position: absolute;border-left: 1px solid gray;box-sizing: border-box;top: 0;bottom: 0;left: 50%;z-index: 0;}#sk-container-id-1 div.sk-serial {display: flex;flex-direction: column;align-items: center;background-color: white;padding-right: 0.2em;padding-left: 0.2em;position: relative;}#sk-container-id-1 div.sk-item {position: relative;z-index: 1;}#sk-container-id-1 div.sk-parallel {display: flex;align-items: stretch;justify-content: center;background-color: white;position: relative;}#sk-container-id-1 div.sk-item::before, #sk-container-id-1 div.sk-parallel-item::before {content: \"\";position: absolute;border-left: 1px solid gray;box-sizing: border-box;top: 0;bottom: 0;left: 50%;z-index: -1;}#sk-container-id-1 div.sk-parallel-item {display: flex;flex-direction: column;z-index: 1;position: relative;background-color: white;}#sk-container-id-1 div.sk-parallel-item:first-child::after {align-self: flex-end;width: 50%;}#sk-container-id-1 div.sk-parallel-item:last-child::after {align-self: flex-start;width: 50%;}#sk-container-id-1 div.sk-parallel-item:only-child::after {width: 0;}#sk-container-id-1 div.sk-dashed-wrapped {border: 1px dashed gray;margin: 0 0.4em 0.5em 0.4em;box-sizing: border-box;padding-bottom: 0.4em;background-color: white;}#sk-container-id-1 div.sk-label label {font-family: monospace;font-weight: bold;display: inline-block;line-height: 1.2em;}#sk-container-id-1 div.sk-label-container {text-align: center;}#sk-container-id-1 div.sk-container {/* jupyter's `normalize.less` sets `[hidden] { display: none; }` but bootstrap.min.css set `[hidden] { display: none !important; }` so we also need the `!important` here to be able to override the default hidden behavior on the sphinx rendered scikit-learn.org. See: https://github.com/scikit-learn/scikit-learn/issues/21755 */display: inline-block !important;position: relative;}#sk-container-id-1 div.sk-text-repr-fallback {display: none;}</style><div id=\"sk-container-id-1\" class=\"sk-top-container\"><div class=\"sk-text-repr-fallback\"><pre>RandomForestClassifier(max_depth=12, n_estimators=24)</pre><b>In a Jupyter environment, please rerun this cell to show the HTML representation or trust the notebook. <br />On GitHub, the HTML representation is unable to render, please try loading this page with nbviewer.org.</b></div><div class=\"sk-container\" hidden><div class=\"sk-item\"><div class=\"sk-estimator sk-toggleable\"><input class=\"sk-toggleable__control sk-hidden--visually\" id=\"sk-estimator-id-1\" type=\"checkbox\" checked><label for=\"sk-estimator-id-1\" class=\"sk-toggleable__label sk-toggleable__label-arrow\">RandomForestClassifier</label><div class=\"sk-toggleable__content\"><pre>RandomForestClassifier(max_depth=12, n_estimators=24)</pre></div></div></div></div></div>"
      ],
      "text/plain": [
       "RandomForestClassifier(max_depth=12, n_estimators=24)"
      ]
     },
     "execution_count": 28,
     "metadata": {},
     "output_type": "execute_result"
    }
   ],
   "source": [
    "# We train a RF model with the same data\n",
    "if not make_discrete:\n",
    "    y_train = (y_train > 0.5).astype(int)\n",
    "\n",
    "# Create the Random Forest model (and set the number of estimators (decision trees))\n",
    "RF_model = RandomForestClassifier(n_estimators = 24, max_depth = 12)\n",
    "\n",
    "# Train the MultiOutputClassifier with your data\n",
    "RF_model.fit(X_train, y_train)"
   ]
  },
  {
   "cell_type": "code",
   "execution_count": 29,
   "metadata": {},
   "outputs": [
    {
     "name": "stdout",
     "output_type": "stream",
     "text": [
      "              precision    recall  f1-score   support\n",
      "\n",
      "           0       0.97      0.96      0.96      8682\n",
      "           1       0.81      0.85      0.83      1730\n",
      "\n",
      "    accuracy                           0.94     10412\n",
      "   macro avg       0.89      0.91      0.90     10412\n",
      "weighted avg       0.94      0.94      0.94     10412\n",
      "\n",
      "Accuracy = 0.9417, Precision = 0.9433, Recall = 0.9417, F1 Score = 0.9424 -> RF\n",
      "MSE = 0.0512, MAE = 0.0670, R-squared = 0.5971 -> RF\n"
     ]
    }
   ],
   "source": [
    "# Calculate accuracy and precision of the model\n",
    "accuracy_RF, precision_RF, recall_RF, f1_RF = evaluate(X_test, y_test, RF_model)\n",
    "print(f\"Accuracy = {accuracy_RF:.4f}, Precision = {precision_RF:.4f}, Recall = {recall_RF:.4f}, F1 Score = {f1_RF:.4f} -> RF\")\n",
    "\n",
    "mse_RF, mae_RF, r2_RF = evaluate_continuous(X_test, y_test, RF_model)\n",
    "print(f\"MSE = {mse_RF:.4f}, MAE = {mae_RF:.4f}, R-squared = {r2_RF:.4f} -> RF\")"
   ]
  },
  {
   "cell_type": "code",
   "execution_count": 30,
   "metadata": {},
   "outputs": [
    {
     "data": {
      "text/plain": [
       "['C:/Users/dhers/Desktop\\\\STORM/models\\\\RF/model_RF_2024-10-22.pkl']"
      ]
     },
     "execution_count": 30,
     "metadata": {},
     "output_type": "execute_result"
    }
   ],
   "source": [
    "# Save the model\n",
    "joblib.dump(RF_model, os.path.join(STORM_folder, f'RF/model_RF_{start_time.date()}.pkl'))"
   ]
  },
  {
   "cell_type": "code",
   "execution_count": 31,
   "metadata": {},
   "outputs": [],
   "source": [
    "# Get the end time\n",
    "end_time = datetime.datetime.now()\n",
    "\n",
    "# Calculate elapsed time\n",
    "elapsed_time = end_time - start_time"
   ]
  },
  {
   "cell_type": "code",
   "execution_count": 32,
   "metadata": {},
   "outputs": [
    {
     "name": "stdout",
     "output_type": "stream",
     "text": [
      "Script execution time: 0:02:49.760663).\n",
      "Evaluate model vs testing data\n",
      "VS binary average\n",
      "Accuracy = 0.9406, Precision = 0.9409, Recall = 0.9406, F1 Score = 0.9408 -> simple\n",
      "Accuracy = 0.9491, Precision = 0.9507, Recall = 0.9491, F1 Score = 0.9497 -> wide\n",
      "Accuracy = 0.9417, Precision = 0.9433, Recall = 0.9417, F1 Score = 0.9424 -> RF\n",
      "VS continuous average\n",
      "MSE = 0.0298, MAE = 0.0718, R-squared = 0.7651 -> simple\n",
      "MSE = 0.0292, MAE = 0.0627, R-squared = 0.7700 -> wide\n",
      "MSE = 0.0512, MAE = 0.0670, R-squared = 0.5971 -> RF\n"
     ]
    }
   ],
   "source": [
    "# Print the model results\n",
    "print(f\"Script execution time: {elapsed_time}).\")\n",
    "\n",
    "print(\"Evaluate model vs testing data\")\n",
    "\n",
    "print(\"VS binary average\")\n",
    "print(f\"Accuracy = {accuracy_simple:.4f}, Precision = {precision_simple:.4f}, Recall = {recall_simple:.4f}, F1 Score = {f1_simple:.4f} -> simple\")\n",
    "print(f\"Accuracy = {accuracy_wide:.4f}, Precision = {precision_wide:.4f}, Recall = {recall_wide:.4f}, F1 Score = {f1_wide:.4f} -> wide\")\n",
    "print(f\"Accuracy = {accuracy_RF:.4f}, Precision = {precision_RF:.4f}, Recall = {recall_RF:.4f}, F1 Score = {f1_RF:.4f} -> RF\")\n",
    "\n",
    "print(\"VS continuous average\")\n",
    "print(f\"MSE = {mse_simple:.4f}, MAE = {mae_simple:.4f}, R-squared = {r2_simple:.4f} -> simple\")\n",
    "print(f\"MSE = {mse_wide:.4f}, MAE = {mae_wide:.4f}, R-squared = {r2_wide:.4f} -> wide\")\n",
    "print(f\"MSE = {mse_RF:.4f}, MAE = {mae_RF:.4f}, R-squared = {r2_RF:.4f} -> RF\")"
   ]
  },
  {
   "cell_type": "code",
   "execution_count": 33,
   "metadata": {},
   "outputs": [],
   "source": [
    "# Lets test the accuracy of a random and zero y_test\n",
    "\n",
    "y_zeros = y_test - y_test\n",
    "\n",
    "y_random = y_test.sample(frac=1).reset_index(drop=True)\n",
    "y_random_binary = (y_random > 0.5).astype(int)\n",
    "\n",
    "y_binary = (y_test > 0.5).astype(int)"
   ]
  },
  {
   "cell_type": "code",
   "execution_count": 34,
   "metadata": {},
   "outputs": [
    {
     "name": "stdout",
     "output_type": "stream",
     "text": [
      "              precision    recall  f1-score   support\n",
      "\n",
      "           0       0.83      1.00      0.91      8682\n",
      "           1       0.00      0.00      0.00      1730\n",
      "\n",
      "    accuracy                           0.83     10412\n",
      "   macro avg       0.42      0.50      0.45     10412\n",
      "weighted avg       0.70      0.83      0.76     10412\n",
      "\n",
      "Accuracy = 0.8338, Precision = 0.6953, Recall = 0.8338, F1 Score = 0.7583 -> zeros\n",
      "MSE = 0.1568, MAE = 0.1727, R-squared = -0.2348 -> zeros\n"
     ]
    },
    {
     "name": "stderr",
     "output_type": "stream",
     "text": [
      "c:\\Users\\dhers\\anaconda3\\envs\\GPU\\lib\\site-packages\\sklearn\\metrics\\_classification.py:1344: UndefinedMetricWarning: Precision and F-score are ill-defined and being set to 0.0 in labels with no predicted samples. Use `zero_division` parameter to control this behavior.\n",
      "  _warn_prf(average, modifier, msg_start, len(result))\n",
      "c:\\Users\\dhers\\anaconda3\\envs\\GPU\\lib\\site-packages\\sklearn\\metrics\\_classification.py:1344: UndefinedMetricWarning: Precision and F-score are ill-defined and being set to 0.0 in labels with no predicted samples. Use `zero_division` parameter to control this behavior.\n",
      "  _warn_prf(average, modifier, msg_start, len(result))\n",
      "c:\\Users\\dhers\\anaconda3\\envs\\GPU\\lib\\site-packages\\sklearn\\metrics\\_classification.py:1344: UndefinedMetricWarning: Precision and F-score are ill-defined and being set to 0.0 in labels with no predicted samples. Use `zero_division` parameter to control this behavior.\n",
      "  _warn_prf(average, modifier, msg_start, len(result))\n",
      "c:\\Users\\dhers\\anaconda3\\envs\\GPU\\lib\\site-packages\\sklearn\\metrics\\_classification.py:1344: UndefinedMetricWarning: Precision is ill-defined and being set to 0.0 in labels with no predicted samples. Use `zero_division` parameter to control this behavior.\n",
      "  _warn_prf(average, modifier, msg_start, len(result))\n"
     ]
    }
   ],
   "source": [
    "# zeros\n",
    "print(classification_report(y_binary, y_zeros))\n",
    "\n",
    "accuracy_zeros = accuracy_score(y_binary, y_zeros)\n",
    "precision_zeros = precision_score(y_binary, y_zeros, average = 'weighted')\n",
    "recall_zeros = recall_score(y_binary, y_zeros, average = 'weighted')\n",
    "f1_zeros = f1_score(y_binary, y_zeros, average = 'weighted')\n",
    "print(f\"Accuracy = {accuracy_zeros:.4f}, Precision = {precision_zeros:.4f}, Recall = {recall_zeros:.4f}, F1 Score = {f1_zeros:.4f} -> zeros\")\n",
    "\n",
    "mse_zeros = mean_squared_error(y_test, y_zeros)\n",
    "mae_zeros = mean_absolute_error(y_test, y_zeros)\n",
    "r2_zeros = r2_score(y_test, y_zeros)\n",
    "print(f\"MSE = {mse_zeros:.4f}, MAE = {mae_zeros:.4f}, R-squared = {r2_zeros:.4f} -> zeros\")"
   ]
  },
  {
   "cell_type": "code",
   "execution_count": 35,
   "metadata": {},
   "outputs": [
    {
     "name": "stdout",
     "output_type": "stream",
     "text": [
      "              precision    recall  f1-score   support\n",
      "\n",
      "           0       0.83      0.83      0.83      8682\n",
      "           1       0.16      0.16      0.16      1730\n",
      "\n",
      "    accuracy                           0.72     10412\n",
      "   macro avg       0.50      0.50      0.50     10412\n",
      "weighted avg       0.72      0.72      0.72     10412\n",
      "\n",
      "Accuracy = 0.7221, Precision = 0.7221, Recall = 0.7221, F1 Score = 0.7221 -> random\n",
      "MSE = 0.2547, MAE = 0.2840, R-squared = -1.0055 -> random\n"
     ]
    }
   ],
   "source": [
    "# random\n",
    "print(classification_report(y_binary, y_random_binary))\n",
    "\n",
    "accuracy_random = accuracy_score(y_binary, y_random_binary)\n",
    "precision_random = precision_score(y_binary, y_random_binary, average = 'weighted')\n",
    "recall_random = recall_score(y_binary, y_random_binary, average = 'weighted')\n",
    "f1_random = f1_score(y_binary, y_random_binary, average = 'weighted')\n",
    "print(f\"Accuracy = {accuracy_random:.4f}, Precision = {precision_random:.4f}, Recall = {recall_random:.4f}, F1 Score = {f1_random:.4f} -> random\")\n",
    "\n",
    "mse_random = mean_squared_error(y_test, y_random)\n",
    "mae_random = mean_absolute_error(y_test, y_random)\n",
    "r2_random = r2_score(y_test, y_random)\n",
    "print(f\"MSE = {mse_random:.4f}, MAE = {mae_random:.4f}, R-squared = {r2_random:.4f} -> random\")"
   ]
  },
  {
   "cell_type": "code",
   "execution_count": 36,
   "metadata": {},
   "outputs": [
    {
     "name": "stdout",
     "output_type": "stream",
     "text": [
      "Evaluate model vs testing data\n",
      "VS binary average\n",
      "Accuracy = 0.9406, Precision = 0.9409, Recall = 0.9406, F1 Score = 0.9408 -> simple\n",
      "Accuracy = 0.9491, Precision = 0.9507, Recall = 0.9491, F1 Score = 0.9497 -> wide\n",
      "Accuracy = 0.9417, Precision = 0.9433, Recall = 0.9417, F1 Score = 0.9424 -> RF\n",
      "Accuracy = 0.8338, Precision = 0.6953, Recall = 0.8338, F1 Score = 0.7583 -> zeros\n",
      "Accuracy = 0.7221, Precision = 0.7221, Recall = 0.7221, F1 Score = 0.7221 -> random\n",
      "VS continuous average\n",
      "MSE = 0.0298, MAE = 0.0718, R-squared = 0.7651 -> simple\n",
      "MSE = 0.0292, MAE = 0.0627, R-squared = 0.7700 -> wide\n",
      "MSE = 0.0512, MAE = 0.0670, R-squared = 0.5971 -> RF\n",
      "MSE = 0.1568, MAE = 0.1727, R-squared = -0.2348 -> zeros\n",
      "MSE = 0.2547, MAE = 0.2840, R-squared = -1.0055 -> random\n"
     ]
    }
   ],
   "source": [
    "print(\"Evaluate model vs testing data\")\n",
    "\n",
    "print(\"VS binary average\")\n",
    "print(f\"Accuracy = {accuracy_simple:.4f}, Precision = {precision_simple:.4f}, Recall = {recall_simple:.4f}, F1 Score = {f1_simple:.4f} -> simple\")\n",
    "print(f\"Accuracy = {accuracy_wide:.4f}, Precision = {precision_wide:.4f}, Recall = {recall_wide:.4f}, F1 Score = {f1_wide:.4f} -> wide\")\n",
    "print(f\"Accuracy = {accuracy_RF:.4f}, Precision = {precision_RF:.4f}, Recall = {recall_RF:.4f}, F1 Score = {f1_RF:.4f} -> RF\")\n",
    "print(f\"Accuracy = {accuracy_zeros:.4f}, Precision = {precision_zeros:.4f}, Recall = {recall_zeros:.4f}, F1 Score = {f1_zeros:.4f} -> zeros\")\n",
    "print(f\"Accuracy = {accuracy_random:.4f}, Precision = {precision_random:.4f}, Recall = {recall_random:.4f}, F1 Score = {f1_random:.4f} -> random\")\n",
    "\n",
    "print(\"VS continuous average\")\n",
    "print(f\"MSE = {mse_simple:.4f}, MAE = {mae_simple:.4f}, R-squared = {r2_simple:.4f} -> simple\")\n",
    "print(f\"MSE = {mse_wide:.4f}, MAE = {mae_wide:.4f}, R-squared = {r2_wide:.4f} -> wide\")\n",
    "print(f\"MSE = {mse_RF:.4f}, MAE = {mae_RF:.4f}, R-squared = {r2_RF:.4f} -> RF\")\n",
    "print(f\"MSE = {mse_zeros:.4f}, MAE = {mae_zeros:.4f}, R-squared = {r2_zeros:.4f} -> zeros\")\n",
    "print(f\"MSE = {mse_random:.4f}, MAE = {mae_random:.4f}, R-squared = {r2_random:.4f} -> random\")"
   ]
  }
 ],
 "metadata": {
  "kernelspec": {
   "display_name": "GPU",
   "language": "python",
   "name": "python3"
  },
  "language_info": {
   "codemirror_mode": {
    "name": "ipython",
    "version": 3
   },
   "file_extension": ".py",
   "mimetype": "text/x-python",
   "name": "python",
   "nbconvert_exporter": "python",
   "pygments_lexer": "ipython3",
   "version": "3.9.19"
  }
 },
 "nbformat": 4,
 "nbformat_minor": 2
}
