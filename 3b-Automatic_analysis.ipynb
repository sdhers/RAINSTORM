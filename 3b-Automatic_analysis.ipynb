{
 "cells": [
  {
   "cell_type": "markdown",
   "metadata": {},
   "source": [
    "RAIN - Real & Artificial Intelligence for Neuroscience\n",
    "\n",
    "## Automatic analysis\n",
    "- Use a trained model from `3a-Create_models` to automatically label exploratory behaviour in position files.\n",
    "\n",
    "#### Requirements:\n",
    "- The position.csv files.\n",
    "- A trained model."
   ]
  },
  {
   "cell_type": "markdown",
   "metadata": {},
   "source": [
    "---\n",
    "#### Load the necessary modules"
   ]
  },
  {
   "cell_type": "code",
   "execution_count": 1,
   "metadata": {},
   "outputs": [
    {
     "name": "stdout",
     "output_type": "stream",
     "text": [
      "rainstorm.modeling successfully imported. GPU devices detected: []\n"
     ]
    }
   ],
   "source": [
    "import os\n",
    "import rainstorm.automatic_analysis as rst"
   ]
  },
  {
   "cell_type": "markdown",
   "metadata": {},
   "source": [
    "---\n",
    "#### 1. State your project path\n",
    "You need to define the path to the same folder used in `2a-Prepare_positions`, and the path to the parameters file (which contains the parameters for automatic analysis).\n",
    "\n",
    "On the params.yaml file, **change the model_path for the path to the trained model** created in `3a-Create_models`."
   ]
  },
  {
   "cell_type": "code",
   "execution_count": 2,
   "metadata": {},
   "outputs": [],
   "source": [
    "# State your path:\n",
    "base = r'C:\\Users\\dhers\\Desktop\\RAINSTORM'\n",
    "\n",
    "# folder_path = os.path.join(base, r'docs\\examples\\PD')\n",
    "folder_path = r'C:\\Users\\dhers\\OneDrive\\Doctorado\\Experimentos\\BCI\\positions'\n",
    "params = os.path.join(folder_path, 'params.yaml')"
   ]
  },
  {
   "cell_type": "markdown",
   "metadata": {},
   "source": [
    "---\n",
    "#### 2. Run the model on all the data selected"
   ]
  },
  {
   "cell_type": "code",
   "execution_count": 3,
   "metadata": {},
   "outputs": [
    {
     "name": "stdout",
     "output_type": "stream",
     "text": [
      "1688/1688 [==============================] - 10s 5ms/step\n",
      "Saved autolabels to 2025_04-BCI-TR1-R01_C2n_autolabels.csv\n",
      "1682/1682 [==============================] - 7s 4ms/step\n",
      "Saved autolabels to 2025_04-BCI-TR1-R02_C2i_autolabels.csv\n",
      "1688/1688 [==============================] - 5s 3ms/step\n",
      "Saved autolabels to 2025_04-BCI-TR1-R03_C2d_autolabels.csv\n",
      "1681/1681 [==============================] - 5s 3ms/step\n",
      "Saved autolabels to 2025_04-BCI-TR1-R04_C2a_autolabels.csv\n",
      "1688/1688 [==============================] - 5s 3ms/step\n",
      "Saved autolabels to 2025_04-BCI-TR1-R05_C3n_autolabels.csv\n",
      "1686/1686 [==============================] - 5s 3ms/step\n",
      "Saved autolabels to 2025_04-BCI-TR1-R06_C3i_autolabels.csv\n",
      "1677/1677 [==============================] - 5s 3ms/step\n",
      "Saved autolabels to 2025_04-BCI-TR1-R07_C3d_autolabels.csv\n",
      "1687/1687 [==============================] - 5s 3ms/step\n",
      "Saved autolabels to 2025_04-BCI-TR1-R08_C4i_autolabels.csv\n",
      "1682/1682 [==============================] - 5s 3ms/step\n",
      "Saved autolabels to 2025_04-BCI-TR1-R09_C4d_autolabels.csv\n",
      "1684/1684 [==============================] - 5s 3ms/step\n",
      "Saved autolabels to 2025_04-BCI-TR1-R10_C5n_autolabels.csv\n",
      "1640/1640 [==============================] - 5s 3ms/step\n",
      "Saved autolabels to 2025_04-BCI-TR1-R11_C5i_autolabels.csv\n",
      "1682/1682 [==============================] - 5s 3ms/step\n",
      "Saved autolabels to 2025_04-BCI-TR1-R12_C5d_autolabels.csv\n",
      "1637/1637 [==============================] - 5s 3ms/step\n",
      "Saved autolabels to 2025_04-BCI-TR1-R13_C6n_autolabels.csv\n",
      "1686/1686 [==============================] - 5s 3ms/step\n",
      "Saved autolabels to 2025_04-BCI-TR1-R14_C6i_autolabels.csv\n",
      "1682/1682 [==============================] - 5s 3ms/step\n",
      "Saved autolabels to 2025_04-BCI-TR1-R15_C6d_autolabels.csv\n",
      "1685/1685 [==============================] - 5s 3ms/step\n",
      "Saved autolabels to 2025_04-BCI-TR1-R16_C7i_autolabels.csv\n",
      "1680/1680 [==============================] - 5s 3ms/step\n",
      "Saved autolabels to 2025_04-BCI-TR1-R17_C7d_autolabels.csv\n",
      "1687/1687 [==============================] - 4s 3ms/step\n",
      "Saved autolabels to 2025_04-BCI-TR2-R01_C2n_autolabels.csv\n",
      "1663/1663 [==============================] - 5s 3ms/step\n",
      "Saved autolabels to 2025_04-BCI-TR2-R02_C2i_autolabels.csv\n",
      "1688/1688 [==============================] - 5s 3ms/step\n",
      "Saved autolabels to 2025_04-BCI-TR2-R03_C2d_autolabels.csv\n",
      "1672/1672 [==============================] - 5s 3ms/step\n",
      "Saved autolabels to 2025_04-BCI-TR2-R04_C2a_autolabels.csv\n",
      "1687/1687 [==============================] - 5s 3ms/step\n",
      "Saved autolabels to 2025_04-BCI-TR2-R05_C3n_autolabels.csv\n",
      "1684/1684 [==============================] - 5s 3ms/step\n",
      "Saved autolabels to 2025_04-BCI-TR2-R06_C3i_autolabels.csv\n",
      "1680/1680 [==============================] - 5s 3ms/step\n",
      "Saved autolabels to 2025_04-BCI-TR2-R07_C3d_autolabels.csv\n",
      "1685/1685 [==============================] - 6s 3ms/step\n",
      "Saved autolabels to 2025_04-BCI-TR2-R08_C4i_autolabels.csv\n",
      "1673/1673 [==============================] - 5s 3ms/step\n",
      "Saved autolabels to 2025_04-BCI-TR2-R09_C4d_autolabels.csv\n",
      "1683/1683 [==============================] - 5s 3ms/step\n",
      "Saved autolabels to 2025_04-BCI-TR2-R10_C5n_autolabels.csv\n",
      "1685/1685 [==============================] - 5s 3ms/step\n",
      "Saved autolabels to 2025_04-BCI-TR2-R11_C5i_autolabels.csv\n",
      "1683/1683 [==============================] - 5s 3ms/step\n",
      "Saved autolabels to 2025_04-BCI-TR2-R12_C5d_autolabels.csv\n",
      "1677/1677 [==============================] - 5s 3ms/step\n",
      "Saved autolabels to 2025_04-BCI-TR2-R13_C6n_autolabels.csv\n",
      "1684/1684 [==============================] - 5s 3ms/step\n",
      "Saved autolabels to 2025_04-BCI-TR2-R14_C6i_autolabels.csv\n",
      "1675/1675 [==============================] - 5s 3ms/step\n",
      "Saved autolabels to 2025_04-BCI-TR2-R15_C6d_autolabels.csv\n",
      "1685/1685 [==============================] - 5s 3ms/step\n",
      "Saved autolabels to 2025_04-BCI-TR2-R16_C7i_autolabels.csv\n",
      "1680/1680 [==============================] - 6s 4ms/step\n",
      "Saved autolabels to 2025_04-BCI-TR2-R17_C7d_autolabels.csv\n",
      "1123/1123 [==============================] - 3s 3ms/step\n",
      "Saved autolabels to 2025_04-BCI-TS1-R01_C2n_autolabels.csv\n",
      "1116/1116 [==============================] - 4s 3ms/step\n",
      "Saved autolabels to 2025_04-BCI-TS1-R02_C2i_autolabels.csv\n",
      "1124/1124 [==============================] - 4s 4ms/step\n",
      "Saved autolabels to 2025_04-BCI-TS1-R03_C2d_autolabels.csv\n",
      "1118/1118 [==============================] - 4s 4ms/step\n",
      "Saved autolabels to 2025_04-BCI-TS1-R04_C2a_autolabels.csv\n",
      "1122/1122 [==============================] - 4s 3ms/step\n",
      "Saved autolabels to 2025_04-BCI-TS1-R05_C3n_autolabels.csv\n",
      "1123/1123 [==============================] - 4s 4ms/step\n",
      "Saved autolabels to 2025_04-BCI-TS1-R06_C3i_autolabels.csv\n",
      "1122/1122 [==============================] - 4s 4ms/step\n",
      "Saved autolabels to 2025_04-BCI-TS1-R07_C3d_autolabels.csv\n",
      "1124/1124 [==============================] - 4s 4ms/step\n",
      "Saved autolabels to 2025_04-BCI-TS1-R08_C4i_autolabels.csv\n",
      "1123/1123 [==============================] - 3s 3ms/step\n",
      "Saved autolabels to 2025_04-BCI-TS1-R09_C4d_autolabels.csv\n",
      "1121/1121 [==============================] - 4s 3ms/step\n",
      "Saved autolabels to 2025_04-BCI-TS1-R10_C5n_autolabels.csv\n",
      "1119/1119 [==============================] - 4s 3ms/step\n",
      "Saved autolabels to 2025_04-BCI-TS1-R11_C5i_autolabels.csv\n",
      "1119/1119 [==============================] - 4s 3ms/step\n",
      "Saved autolabels to 2025_04-BCI-TS1-R12_C5d_autolabels.csv\n",
      "1117/1117 [==============================] - 3s 3ms/step\n",
      "Saved autolabels to 2025_04-BCI-TS1-R13_C6n_autolabels.csv\n",
      "1121/1121 [==============================] - 4s 3ms/step\n",
      "Saved autolabels to 2025_04-BCI-TS1-R14_C6i_autolabels.csv\n",
      "1120/1120 [==============================] - 3s 3ms/step\n",
      "Saved autolabels to 2025_04-BCI-TS1-R15_C6d_autolabels.csv\n",
      "1122/1122 [==============================] - 5s 4ms/step\n",
      "Saved autolabels to 2025_04-BCI-TS1-R16_C7i_autolabels.csv\n",
      "1118/1118 [==============================] - 4s 3ms/step\n",
      "Saved autolabels to 2025_04-BCI-TS1-R17_C7d_autolabels.csv\n",
      "1123/1123 [==============================] - 4s 3ms/step\n",
      "Saved autolabels to 2025_04-BCI-TS2-R01_C2n_autolabels.csv\n",
      "1125/1125 [==============================] - 4s 4ms/step\n",
      "Saved autolabels to 2025_04-BCI-TS2-R02_C2i_autolabels.csv\n",
      "1123/1123 [==============================] - 4s 4ms/step\n",
      "Saved autolabels to 2025_04-BCI-TS2-R03_C2d_autolabels.csv\n",
      "1125/1125 [==============================] - 4s 4ms/step\n",
      "Saved autolabels to 2025_04-BCI-TS2-R04_C2a_autolabels.csv\n",
      "1124/1124 [==============================] - 4s 4ms/step\n",
      "Saved autolabels to 2025_04-BCI-TS2-R05_C3n_autolabels.csv\n",
      "1122/1122 [==============================] - 4s 4ms/step\n",
      "Saved autolabels to 2025_04-BCI-TS2-R06_C3i_autolabels.csv\n",
      "1125/1125 [==============================] - 4s 4ms/step\n",
      "Saved autolabels to 2025_04-BCI-TS2-R07_C3d_autolabels.csv\n",
      "1125/1125 [==============================] - 4s 4ms/step\n",
      "Saved autolabels to 2025_04-BCI-TS2-R08_C4i_autolabels.csv\n",
      "1123/1123 [==============================] - 4s 3ms/step\n",
      "Saved autolabels to 2025_04-BCI-TS2-R09_C4d_autolabels.csv\n",
      "1122/1122 [==============================] - 4s 3ms/step\n",
      "Saved autolabels to 2025_04-BCI-TS2-R10_C5n_autolabels.csv\n",
      "1122/1122 [==============================] - 3s 3ms/step\n",
      "Saved autolabels to 2025_04-BCI-TS2-R11_C5i_autolabels.csv\n",
      "1123/1123 [==============================] - 4s 3ms/step\n",
      "Saved autolabels to 2025_04-BCI-TS2-R12_C5d_autolabels.csv\n",
      "1120/1120 [==============================] - 4s 3ms/step\n",
      "Saved autolabels to 2025_04-BCI-TS2-R13_C6n_autolabels.csv\n",
      "1124/1124 [==============================] - 4s 3ms/step\n",
      "Saved autolabels to 2025_04-BCI-TS2-R14_C6i_autolabels.csv\n",
      "1124/1124 [==============================] - 4s 3ms/step\n",
      "Saved autolabels to 2025_04-BCI-TS2-R15_C6d_autolabels.csv\n",
      "1123/1123 [==============================] - 4s 3ms/step\n",
      "Saved autolabels to 2025_04-BCI-TS2-R16_C7i_autolabels.csv\n",
      "1122/1122 [==============================] - 3s 3ms/step\n",
      "Saved autolabels to 2025_04-BCI-TS2-R17_C7d_autolabels.csv\n"
     ]
    }
   ],
   "source": [
    "rst.create_autolabels(params)"
   ]
  },
  {
   "cell_type": "markdown",
   "metadata": {},
   "source": [
    "---\n",
    "---\n",
    "#### A new csv file was created for each video, containing the autolabels.\n",
    "\n",
    "We can:\n",
    "- Continue on this notebook and compare the results of the manual, geometric & automatic methods on our example files\n",
    "- Skip the methods comparison, go straight to `4-Seize_labels` and use the autolabels to plot the results of the experiment\n",
    "---"
   ]
  },
  {
   "cell_type": "markdown",
   "metadata": {},
   "source": [
    "## Compare labels\n",
    "Lets do a quick recap of what we have done so far...\n",
    "\n",
    "- Recorded mice exploring objects.\n",
    "- Analyzed the videos using DeepLabCut, a pose estimation toolkit.\n",
    "- **Manually labeled** the positions of the mice using the Rainstorm Behavioral Tagger.\n",
    "- Processed the positions on 1-Prepare_positions.ipynb.\n",
    "- **Geometrically labeled** the positions on 2-Geometric_labeling.ipynb.\n",
    "- Trained some Artificial Neural Networks on 3-Create_models.ipynb.\n",
    "- **Automatically labeled** the positions on 4-Automatic_analysis.ipynb.\n",
    "\n",
    "And here we are! Now, we can compare between manual labels, geolabels & autolabels.\n",
    "\n",
    "I have labeled the example videos myself using the RAINSTORM labeler tool, and left those manual labels available on the example folder.\n",
    "\n",
    "All you need to do is to **move the *labels* folder into the *TS* folder**, and run the notebook.\n",
    "\n",
    "If you want to see the original videos and label them to compare yourself with the machine, feel free to write: sdhers@fbmc.fcen.uba.ar"
   ]
  },
  {
   "cell_type": "markdown",
   "metadata": {},
   "source": [
    "---\n",
    "#### 3. Polar graph \n",
    "A great way of visualizing the distance and angle of approach to an object is to use a polar graph. The distance is represented in the radius of the circle, and the circumference represents the angle of the vector from the head to the nose.\n",
    "\n",
    "Since the graph is symmetrical, we will use the left side to color the automatic labels in red, and the right side to color the manual labels in blue. The graph will also show the geometric labels as all the points that fit inside the dashed line."
   ]
  },
  {
   "cell_type": "code",
   "execution_count": null,
   "metadata": {},
   "outputs": [],
   "source": [
    "# We can open a single example file and it's labels\n",
    "positions, manual_labels, geolabels, autolabels = rst.compare_labels(folder_path, include_all=False)\n",
    "\n",
    "rst.polar_graph(params, positions, autolabels, manual_labels)"
   ]
  },
  {
   "cell_type": "markdown",
   "metadata": {},
   "source": [
    "#### We can load all the data from all the available files and plot the polar graph again"
   ]
  },
  {
   "cell_type": "code",
   "execution_count": null,
   "metadata": {},
   "outputs": [],
   "source": [
    "# This time we set 'include_all' to True\n",
    "all_positions, all_manual_labels, all_geolabels, all_autolabels = rst.compare_labels(folder_path, include_all=True)\n",
    "\n",
    "# This time it might take a few seconds\n",
    "rst.polar_graph(params, all_positions, all_autolabels, all_manual_labels)"
   ]
  },
  {
   "cell_type": "markdown",
   "metadata": {},
   "source": [
    "---\n",
    "#### 4. Evaluate accuracy of predictions\n",
    "Finally, we can evaluate the accuracy of the predictions by comparing the geometric and automatic labels to the manual labels."
   ]
  },
  {
   "cell_type": "code",
   "execution_count": null,
   "metadata": {},
   "outputs": [],
   "source": [
    "# For geolabels\n",
    "rst.accuracy_scores(all_manual_labels, all_geolabels, \"geometric\")"
   ]
  },
  {
   "cell_type": "code",
   "execution_count": null,
   "metadata": {},
   "outputs": [],
   "source": [
    "# For autolabels\n",
    "rst.accuracy_scores(all_manual_labels, all_autolabels, \"automatic\")"
   ]
  },
  {
   "cell_type": "markdown",
   "metadata": {},
   "source": [
    "---\n",
    "---\n",
    "#### Both geometric and automatic methods are flawed when compared to human labeling.\n",
    "#### However, as the only human responsible for the example manual labels provided, let me tell you that I am flawed too.\n",
    "#### Probably if more people labeled these videos and we compare against the average labels, we would have less error.\n",
    "\n",
    "We can:\n",
    "- Go to `4-Seize_labels` and use your favorite labels (geo, auto or manual) to plot the results of the experiment.\n",
    "\n",
    "---\n",
    "RAINSTORM - Created on Apr 18, 2024 - @author: Santiago D'hers"
   ]
  }
 ],
 "metadata": {
  "kernelspec": {
   "display_name": "rainstorm",
   "language": "python",
   "name": "python3"
  },
  "language_info": {
   "codemirror_mode": {
    "name": "ipython",
    "version": 3
   },
   "file_extension": ".py",
   "mimetype": "text/x-python",
   "name": "python",
   "nbconvert_exporter": "python",
   "pygments_lexer": "ipython3",
   "version": "3.9.21"
  }
 },
 "nbformat": 4,
 "nbformat_minor": 2
}
