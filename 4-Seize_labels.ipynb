{
 "cells": [
  {
   "cell_type": "markdown",
   "metadata": {},
   "source": [
    "RAINSTORM\n",
    "\n",
    "## Seize labels\n",
    "\n",
    "- This notebook will help us visualize the results from labeled videos of an experiment\n",
    "\n",
    "#### Requirements:\n",
    "\n",
    "- The position files (processed by [2a-Prepare_positions](2a-Prepare_positions.ipynb))\n",
    "- The movement files (processed by [2b-Geometric_analysis](2b-Geometric_analysis.ipynb))\n",
    "- The labels, geolabels or autolabels files (labeled by [1-Behavioral_labeler](1-Behavioral_labeler.ipynb), [2b-Geometric_analysis](2b-Geometric_analysis.ipynb) or [3b-Automatic_analysis](3b-Automatic_analysis.ipynb))"
   ]
  },
  {
   "cell_type": "markdown",
   "metadata": {},
   "source": [
    "---\n",
    "#### Load the necessary modules"
   ]
  },
  {
   "cell_type": "code",
   "execution_count": 1,
   "metadata": {},
   "outputs": [
    {
     "name": "stdout",
     "output_type": "stream",
     "text": [
      "rainstorm.modeling successfully imported. GPU devices detected: []\n"
     ]
    }
   ],
   "source": [
    "from pathlib import Path\n",
    "import rainstorm.seize_labels as rst"
   ]
  },
  {
   "cell_type": "markdown",
   "metadata": {},
   "source": [
    "---\n",
    "#### 1. State your project path and experiment details in the params file\n",
    "Define the path to the experiment folder, and the path to the parameters file.\n",
    "\n",
    "Choose in `label_type` if you want to use the automatic labels or the geometric labels for target exploration analysis."
   ]
  },
  {
   "cell_type": "code",
   "execution_count": 2,
   "metadata": {},
   "outputs": [],
   "source": [
    "base = Path.cwd()\n",
    "folder_path = base / 'examples' / 'NOR'\n",
    "params = folder_path / 'params.yaml'\n",
    "\n",
    "label_type = 'geolabels'  # choose between 'autolabels' and 'geolabels' (or just 'labels' if you labeled manually)"
   ]
  },
  {
   "cell_type": "markdown",
   "metadata": {},
   "source": [
    "---\n",
    "#### 2. Visualize the behavioral labels on a video\n",
    "\n",
    "The following function combines the position data, the behavioral labels, and the original video recording to create a video with the labels overlaid.\n",
    "\n",
    "The video can be built both using the original video file or not... try removing the `video_path` argument from the function call to see the difference."
   ]
  },
  {
   "cell_type": "code",
   "execution_count": 3,
   "metadata": {},
   "outputs": [
    {
     "name": "stderr",
     "output_type": "stream",
     "text": [
      "WARNING:rainstorm.utils:No filenames found in the params file: 'c:\\Users\\dhers\\Desktop\\RAINSTORM\\examples\\NOR\\params.yaml'\n"
     ]
    },
    {
     "name": "stdout",
     "output_type": "stream",
     "text": [
      "Warning: No filenames listed in 'c:\\Users\\dhers\\Desktop\\RAINSTORM\\examples\\NOR\\params.yaml'. Cannot select a file.\n"
     ]
    }
   ],
   "source": [
    "example_path = rst.choose_example_positions(params, look_for = 'TS_03', suffix='_positions.csv')"
   ]
  },
  {
   "cell_type": "code",
   "execution_count": 4,
   "metadata": {},
   "outputs": [
    {
     "ename": "AttributeError",
     "evalue": "'NoneType' object has no attribute 'name'",
     "output_type": "error",
     "traceback": [
      "\u001b[1;31m---------------------------------------------------------------------------\u001b[0m",
      "\u001b[1;31mAttributeError\u001b[0m                            Traceback (most recent call last)",
      "Cell \u001b[1;32mIn[4], line 1\u001b[0m\n\u001b[1;32m----> 1\u001b[0m video_name \u001b[38;5;241m=\u001b[39m \u001b[43mexample_path\u001b[49m\u001b[38;5;241;43m.\u001b[39;49m\u001b[43mname\u001b[49m\u001b[38;5;241m.\u001b[39mreplace(\u001b[38;5;124m'\u001b[39m\u001b[38;5;124m_positions.csv\u001b[39m\u001b[38;5;124m'\u001b[39m, \u001b[38;5;124m'\u001b[39m\u001b[38;5;124m.mp4\u001b[39m\u001b[38;5;124m'\u001b[39m)\n\u001b[0;32m      2\u001b[0m video_path \u001b[38;5;241m=\u001b[39m folder_path \u001b[38;5;241m/\u001b[39m \u001b[38;5;124m'\u001b[39m\u001b[38;5;124mvideos\u001b[39m\u001b[38;5;124m'\u001b[39m \u001b[38;5;241m/\u001b[39m video_name\n\u001b[0;32m      3\u001b[0m \u001b[38;5;66;03m# rst.create_video(params, example_path, video_path, label_type=label_type)\u001b[39;00m\n",
      "\u001b[1;31mAttributeError\u001b[0m: 'NoneType' object has no attribute 'name'"
     ]
    }
   ],
   "source": [
    "video_name = example_path.name.replace('_positions.csv', '.mp4')\n",
    "video_path = folder_path / 'videos' / video_name\n",
    "# rst.create_video(params, example_path, video_path, label_type=label_type)"
   ]
  },
  {
   "cell_type": "markdown",
   "metadata": {},
   "source": [
    "---\n",
    "#### 3. Plot individual exploration\n"
   ]
  },
  {
   "cell_type": "markdown",
   "metadata": {},
   "source": [
    "Exploration is a dynamic behavior, and experiment results can change a lot depending on the timeframe chosen for analysis. A first step to understanding the exploration dynamics is to plot the evolution of the cumulative exploration time."
   ]
  },
  {
   "cell_type": "code",
   "execution_count": 5,
   "metadata": {},
   "outputs": [
    {
     "ename": "TypeError",
     "evalue": "expected str, bytes or os.PathLike object, not NoneType",
     "output_type": "error",
     "traceback": [
      "\u001b[1;31m---------------------------------------------------------------------------\u001b[0m",
      "\u001b[1;31mTypeError\u001b[0m                                 Traceback (most recent call last)",
      "Cell \u001b[1;32mIn[5], line 1\u001b[0m\n\u001b[1;32m----> 1\u001b[0m \u001b[43mrst\u001b[49m\u001b[38;5;241;43m.\u001b[39;49m\u001b[43mplot_mouse_exploration\u001b[49m\u001b[43m(\u001b[49m\u001b[43mparams\u001b[49m\u001b[43m,\u001b[49m\u001b[43m \u001b[49m\u001b[43mexample_path\u001b[49m\u001b[43m,\u001b[49m\u001b[43m \u001b[49m\u001b[43mlabel_type\u001b[49m\u001b[38;5;241;43m=\u001b[39;49m\u001b[43mlabel_type\u001b[49m\u001b[43m)\u001b[49m\n",
      "File \u001b[1;32mc:\\Users\\dhers\\Desktop\\RAINSTORM\\rainstorm\\seize_labels\\plotting_example.py:447\u001b[0m, in \u001b[0;36mplot_mouse_exploration\u001b[1;34m(params_path, position_file, label_type, save)\u001b[0m\n\u001b[0;32m    445\u001b[0m \u001b[38;5;66;03m# Ensure all path inputs are Path objects for consistent handling\u001b[39;00m\n\u001b[0;32m    446\u001b[0m params_path \u001b[38;5;241m=\u001b[39m Path(params_path)\n\u001b[1;32m--> 447\u001b[0m position_file_path \u001b[38;5;241m=\u001b[39m \u001b[43mPath\u001b[49m\u001b[43m(\u001b[49m\u001b[43mposition_file\u001b[49m\u001b[43m)\u001b[49m\n\u001b[0;32m    449\u001b[0m logger\u001b[38;5;241m.\u001b[39minfo(\u001b[38;5;124mf\u001b[39m\u001b[38;5;124m\"\u001b[39m\u001b[38;5;124mStarting mouse exploration plotting for: \u001b[39m\u001b[38;5;132;01m{\u001b[39;00mposition_file_path\u001b[38;5;241m.\u001b[39mname\u001b[38;5;132;01m}\u001b[39;00m\u001b[38;5;124m\"\u001b[39m)\n\u001b[0;32m    451\u001b[0m \u001b[38;5;66;03m# --- Load parameters ---\u001b[39;00m\n",
      "File \u001b[1;32mc:\\Users\\dhers\\miniconda3\\envs\\rainstorm\\lib\\pathlib.py:1000\u001b[0m, in \u001b[0;36mPath.__new__\u001b[1;34m(cls, *args, **kwargs)\u001b[0m\n\u001b[0;32m    998\u001b[0m \u001b[38;5;28;01mif\u001b[39;00m \u001b[38;5;28mcls\u001b[39m \u001b[38;5;129;01mis\u001b[39;00m Path:\n\u001b[0;32m    999\u001b[0m     \u001b[38;5;28mcls\u001b[39m \u001b[38;5;241m=\u001b[39m WindowsPath \u001b[38;5;28;01mif\u001b[39;00m os\u001b[38;5;241m.\u001b[39mname \u001b[38;5;241m==\u001b[39m \u001b[38;5;124m'\u001b[39m\u001b[38;5;124mnt\u001b[39m\u001b[38;5;124m'\u001b[39m \u001b[38;5;28;01melse\u001b[39;00m PosixPath\n\u001b[1;32m-> 1000\u001b[0m \u001b[38;5;28mself\u001b[39m \u001b[38;5;241m=\u001b[39m \u001b[38;5;28;43mcls\u001b[39;49m\u001b[38;5;241;43m.\u001b[39;49m\u001b[43m_from_parts\u001b[49m\u001b[43m(\u001b[49m\u001b[43margs\u001b[49m\u001b[43m,\u001b[49m\u001b[43m \u001b[49m\u001b[43minit\u001b[49m\u001b[38;5;241;43m=\u001b[39;49m\u001b[38;5;28;43;01mFalse\u001b[39;49;00m\u001b[43m)\u001b[49m\n\u001b[0;32m   1001\u001b[0m \u001b[38;5;28;01mif\u001b[39;00m \u001b[38;5;129;01mnot\u001b[39;00m \u001b[38;5;28mself\u001b[39m\u001b[38;5;241m.\u001b[39m_flavour\u001b[38;5;241m.\u001b[39mis_supported:\n\u001b[0;32m   1002\u001b[0m     \u001b[38;5;28;01mraise\u001b[39;00m \u001b[38;5;167;01mNotImplementedError\u001b[39;00m(\u001b[38;5;124m\"\u001b[39m\u001b[38;5;124mcannot instantiate \u001b[39m\u001b[38;5;132;01m%r\u001b[39;00m\u001b[38;5;124m on your system\u001b[39m\u001b[38;5;124m\"\u001b[39m\n\u001b[0;32m   1003\u001b[0m                               \u001b[38;5;241m%\u001b[39m (\u001b[38;5;28mcls\u001b[39m\u001b[38;5;241m.\u001b[39m\u001b[38;5;18m__name__\u001b[39m,))\n",
      "File \u001b[1;32mc:\\Users\\dhers\\miniconda3\\envs\\rainstorm\\lib\\pathlib.py:625\u001b[0m, in \u001b[0;36mPurePath._from_parts\u001b[1;34m(cls, args, init)\u001b[0m\n\u001b[0;32m    620\u001b[0m \u001b[38;5;129m@classmethod\u001b[39m\n\u001b[0;32m    621\u001b[0m \u001b[38;5;28;01mdef\u001b[39;00m\u001b[38;5;250m \u001b[39m\u001b[38;5;21m_from_parts\u001b[39m(\u001b[38;5;28mcls\u001b[39m, args, init\u001b[38;5;241m=\u001b[39m\u001b[38;5;28;01mTrue\u001b[39;00m):\n\u001b[0;32m    622\u001b[0m     \u001b[38;5;66;03m# We need to call _parse_args on the instance, so as to get the\u001b[39;00m\n\u001b[0;32m    623\u001b[0m     \u001b[38;5;66;03m# right flavour.\u001b[39;00m\n\u001b[0;32m    624\u001b[0m     \u001b[38;5;28mself\u001b[39m \u001b[38;5;241m=\u001b[39m \u001b[38;5;28mobject\u001b[39m\u001b[38;5;241m.\u001b[39m\u001b[38;5;21m__new__\u001b[39m(\u001b[38;5;28mcls\u001b[39m)\n\u001b[1;32m--> 625\u001b[0m     drv, root, parts \u001b[38;5;241m=\u001b[39m \u001b[38;5;28;43mself\u001b[39;49m\u001b[38;5;241;43m.\u001b[39;49m\u001b[43m_parse_args\u001b[49m\u001b[43m(\u001b[49m\u001b[43margs\u001b[49m\u001b[43m)\u001b[49m\n\u001b[0;32m    626\u001b[0m     \u001b[38;5;28mself\u001b[39m\u001b[38;5;241m.\u001b[39m_drv \u001b[38;5;241m=\u001b[39m drv\n\u001b[0;32m    627\u001b[0m     \u001b[38;5;28mself\u001b[39m\u001b[38;5;241m.\u001b[39m_root \u001b[38;5;241m=\u001b[39m root\n",
      "File \u001b[1;32mc:\\Users\\dhers\\miniconda3\\envs\\rainstorm\\lib\\pathlib.py:609\u001b[0m, in \u001b[0;36mPurePath._parse_args\u001b[1;34m(cls, args)\u001b[0m\n\u001b[0;32m    607\u001b[0m     parts \u001b[38;5;241m+\u001b[39m\u001b[38;5;241m=\u001b[39m a\u001b[38;5;241m.\u001b[39m_parts\n\u001b[0;32m    608\u001b[0m \u001b[38;5;28;01melse\u001b[39;00m:\n\u001b[1;32m--> 609\u001b[0m     a \u001b[38;5;241m=\u001b[39m \u001b[43mos\u001b[49m\u001b[38;5;241;43m.\u001b[39;49m\u001b[43mfspath\u001b[49m\u001b[43m(\u001b[49m\u001b[43ma\u001b[49m\u001b[43m)\u001b[49m\n\u001b[0;32m    610\u001b[0m     \u001b[38;5;28;01mif\u001b[39;00m \u001b[38;5;28misinstance\u001b[39m(a, \u001b[38;5;28mstr\u001b[39m):\n\u001b[0;32m    611\u001b[0m         \u001b[38;5;66;03m# Force-cast str subclasses to str (issue #21127)\u001b[39;00m\n\u001b[0;32m    612\u001b[0m         parts\u001b[38;5;241m.\u001b[39mappend(\u001b[38;5;28mstr\u001b[39m(a))\n",
      "\u001b[1;31mTypeError\u001b[0m: expected str, bytes or os.PathLike object, not NoneType"
     ]
    }
   ],
   "source": [
    "rst.plot_mouse_exploration(params, example_path, label_type=label_type)"
   ]
  },
  {
   "cell_type": "markdown",
   "metadata": {},
   "source": [
    "This plot shows the behavior of a single subject, and does not take into account the role of each exploratory target. To build more elaborate plots, we need to inform the groups and target roles for each mice and trial."
   ]
  },
  {
   "cell_type": "markdown",
   "metadata": {},
   "source": [
    "---\n",
    "#### 4. Create a ‘reference’ file on our experiment folder.\n",
    "This function will create a ‘reference.json’ file that will be used to organize the files and plot the experiment results."
   ]
  },
  {
   "cell_type": "code",
   "execution_count": 6,
   "metadata": {},
   "outputs": [
    {
     "name": "stderr",
     "output_type": "stream",
     "text": [
      "WARNING:rainstorm.seize_labels.summary_files:No filenames found in params. The 'files' section in reference.json will be empty.\n"
     ]
    },
    {
     "name": "stdout",
     "output_type": "stream",
     "text": [
      "Reference file created at c:\\Users\\dhers\\Desktop\\RAINSTORM\\examples\\NOR\\reference.json\n"
     ]
    }
   ],
   "source": [
    "reference_path = rst.create_reference_file(params, overwrite=True)"
   ]
  },
  {
   "cell_type": "markdown",
   "metadata": {},
   "source": [
    "#### Use the Reference Editor GUI\n",
    "Instead of manually editing the file, you can now use the new Reference Editor GUI to:\n",
    "- Configure target roles for each trial\n",
    "- Define groups for your experiment  \n",
    "- Assign groups, target roles, and ROI roles to each video file\n"
   ]
  },
  {
   "cell_type": "code",
   "execution_count": 7,
   "metadata": {},
   "outputs": [],
   "source": [
    "rst.open_reference_editor(reference_path)"
   ]
  },
  {
   "cell_type": "markdown",
   "metadata": {},
   "source": [
    "If you are using the NOR example folder to try out rainstorm, you will find a copy of the ‘reference.csv’ file **already completed** in the experiment folder.\n",
    "\n",
    "With the ‘reference.csv’ file complete, you can proceed to the next step where it will be used to create the 'summary' folder."
   ]
  },
  {
   "cell_type": "markdown",
   "metadata": {},
   "source": [
    "---\n",
    "#### 5. Create the 'Summary' folder\n",
    "This new folder will contain files for each video recording, which will be used to hold all the labels and geometric information.\n",
    "\n",
    "The groups and objects on the ‘reference.csv’ file will be used to organize the files into subfolders, and the target columns will be renamed according to their role (e.g. Novel and Known)."
   ]
  },
  {
   "cell_type": "code",
   "execution_count": null,
   "metadata": {},
   "outputs": [],
   "source": [
    "summary_path = rst.create_summary_files(params, label_type=label_type, overwrite=True)"
   ]
  },
  {
   "cell_type": "markdown",
   "metadata": {},
   "source": [
    "---\n",
    "#### 6. With our files ready, all is left to do is to run the analysis and plot the results.\n",
    "\n",
    "We can plot...\n",
    "\n",
    "For all trials:\n",
    "- lineplot_cumulative_distance\n",
    "- lineplot_cumulative_freezing_time\n",
    "\n",
    "For trials with targets:\n",
    "- lineplot_cumulative_exploration_time\n",
    "- boxplot_total_exploration_time\n",
    "\n",
    "Some calculated index:\n",
    "- lineplot_DI\n",
    "- lineplot_diff\n",
    "- boxplot_DI_auc (Area under the curve of the lineplot_DI)\n",
    "- boxplot_avg_time_bias (An \"average rate of bias\" obtained by dividing the diff AUC by the total session duration)\n",
    "\n",
    "And finally, some ROIs realted plots:\n",
    "- boxplot_roi_time\n",
    "- boxplot_roi_distance\n",
    "- boxplot_alternation_proportion"
   ]
  },
  {
   "cell_type": "code",
   "execution_count": null,
   "metadata": {},
   "outputs": [],
   "source": [
    "outliers = [] # List of video names to exclude from analysis (e.g., 'TS_09', or just '09' to remove that subject from all trials)\n",
    "\n",
    "rst.plot_multiple_analyses(params, trial='Hab', plots=[rst.lineplot_cumulative_distance, rst.lineplot_cumulative_freezing_time], label_type=label_type, outliers=outliers)\n",
    "rst.plot_multiple_analyses(params, trial='TR', plots=[rst.boxplot_total_exploration_time, rst.boxplot_roi_distance], label_type=label_type, outliers=outliers)\n",
    "rst.plot_multiple_analyses(params, trial='TS', plots=[rst.lineplot_cumulative_exploration_time, rst.lineplot_DI, rst.boxplot_avg_time_bias], label_type=label_type, outliers=outliers)"
   ]
  },
  {
   "cell_type": "markdown",
   "metadata": {},
   "source": [
    "#### These modular graphs are intended to show the dynamic behavior of mice, providing a deeper insight into what happens during learning and memory.\n"
   ]
  },
  {
   "cell_type": "markdown",
   "metadata": {},
   "source": [
    "---\n",
    "#### 7. Make a csv file with the results of the experiment\n",
    "\n",
    "The results.csv file will be stored in the experiment folder, and will contain columns for each of the variables plotted above. It is meant to be used for further statistical analysis."
   ]
  },
  {
   "cell_type": "code",
   "execution_count": null,
   "metadata": {},
   "outputs": [],
   "source": [
    "rst.create_results_file(params, label_type=label_type, overwrite=True)"
   ]
  },
  {
   "cell_type": "markdown",
   "metadata": {},
   "source": [
    "---\n",
    "#### 8. Bonus track... For each mouse, create individual plots\n",
    "\n",
    "This function is thought particularly for experiments like Novel Object Recognition, since it only works properly if we have two targets on the arena.\n",
    "The individual plots give us the chance to evaluate if something is off, and spot any behavioral outliers on both training and testing sessions.\n",
    "\n",
    "You can test it with the demo data without problems, the plots will be stored in the example folder."
   ]
  },
  {
   "cell_type": "code",
   "execution_count": null,
   "metadata": {},
   "outputs": [],
   "source": [
    "rst.run_individual_analysis(params, label_type=label_type, show=False)"
   ]
  },
  {
   "cell_type": "markdown",
   "metadata": {},
   "source": [
    "\n",
    "We have reached the end of this project. If you have read and followed the code up to this point, I want to thank you for your time and attention.\n",
    "\n",
    "If you have any questions and/or suggestions, do not hesitate to write: sdhers@fbmc.fcen.uba.ar\n",
    "\n",
    "\n",
    "---\n",
    "RAINSTORM - Created on Jun 25, 2024 - @author: Santiago D'hers"
   ]
  }
 ],
 "metadata": {
  "kernelspec": {
   "display_name": "rainstorm",
   "language": "python",
   "name": "python3"
  },
  "language_info": {
   "codemirror_mode": {
    "name": "ipython",
    "version": 3
   },
   "file_extension": ".py",
   "mimetype": "text/x-python",
   "name": "python",
   "nbconvert_exporter": "python",
   "pygments_lexer": "ipython3",
   "version": "3.9.23"
  }
 },
 "nbformat": 4,
 "nbformat_minor": 2
}
