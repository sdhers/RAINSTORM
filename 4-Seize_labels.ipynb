{
 "cells": [
  {
   "cell_type": "markdown",
   "metadata": {},
   "source": [
    "RAINSTORM\n",
    "\n",
    "## Seize labels\n",
    "\n",
    "- This notebook will help us visualize the results from labeled videos of an experiment\n",
    "\n",
    "#### Requirements:\n",
    "\n",
    "- The position files (processed by [2a-Prepare_positions](2a-Prepare_positions.ipynb))\n",
    "- The movement files (processed by [2b-Geometric_analysis](2b-Geometric_analysis.ipynb))\n",
    "- The labels, geolabels or autolabels files (labeled by [1-Behavioral_labeler](1-Behavioral_labeler.ipynb), [2b-Geometric_analysis](2b-Geometric_analysis.ipynb) or [3b-Automatic_analysis](3b-Automatic_analysis.ipynb))"
   ]
  },
  {
   "cell_type": "markdown",
   "metadata": {},
   "source": [
    "---\n",
    "#### Load the necessary modules"
   ]
  },
  {
   "cell_type": "code",
   "execution_count": 1,
   "metadata": {},
   "outputs": [],
   "source": [
    "from pathlib import Path\n",
    "import rainstorm.seize_labels as rst"
   ]
  },
  {
   "cell_type": "markdown",
   "metadata": {},
   "source": [
    "---\n",
    "#### 1. State your project path and experiment details in the params file\n",
    "Define the path to the experiment folder, and the path to the parameters file.\n",
    "\n",
    "Choose in `label_type` if you want to use the automatic labels or the geometric labels for target exploration analysis."
   ]
  },
  {
   "cell_type": "code",
   "execution_count": null,
   "metadata": {},
   "outputs": [],
   "source": [
    "base = Path.cwd()\n",
    "folder_path = base / 'examples' / 'NOR'\n",
    "params = folder_path / 'params.yaml'\n",
    "\n",
    "label_type = 'autolabels'  # choose between 'autolabels' and 'geolabels' (or just 'labels' if you labeled manually)"
   ]
  },
  {
   "cell_type": "markdown",
   "metadata": {},
   "source": [
    "---\n",
    "#### 2. Visualize the behavioral labels on a video\n",
    "\n",
    "The following function combines the position data, the behavioral labels, and the original video recording to create a video with the labels overlaid.\n",
    "\n",
    "The video can be built both using the original video file or not... try removing the `video_path` argument from the function call to see the difference."
   ]
  },
  {
   "cell_type": "code",
   "execution_count": null,
   "metadata": {},
   "outputs": [],
   "source": [
    "example_path = rst.choose_example_positions(params, look_for = 'TS_03', suffix='_positions.csv')"
   ]
  },
  {
   "cell_type": "code",
   "execution_count": null,
   "metadata": {},
   "outputs": [],
   "source": [
    "video_name = example_path.name.replace('_positions.csv', '.mp4')\n",
    "video_path = folder_path / 'videos' / video_name\n",
    "# rst.create_video(params, example_path, video_path, label_type=label_type)"
   ]
  },
  {
   "cell_type": "markdown",
   "metadata": {},
   "source": [
    "---\n",
    "#### 3. Plot individual exploration\n"
   ]
  },
  {
   "cell_type": "markdown",
   "metadata": {},
   "source": [
    "Exploration is a dynamic behavior, and experiment results can change a lot depending on the timeframe chosen for analysis. A first step to understanding the exploration dynamics is to plot the evolution of the cumulative exploration time."
   ]
  },
  {
   "cell_type": "code",
   "execution_count": null,
   "metadata": {},
   "outputs": [],
   "source": [
    "rst.plot_mouse_exploration(params, example_path, label_type=label_type)"
   ]
  },
  {
   "cell_type": "markdown",
   "metadata": {},
   "source": [
    "This plot shows the behavior of a single subject, and does not take into account the role of each exploratory target. To build more elaborate plots, we need to inform the groups and target roles for each mice and trial."
   ]
  },
  {
   "cell_type": "markdown",
   "metadata": {},
   "source": [
    "---\n",
    "#### 4. Create a ‘reference’ file on our experiment folder.\n",
    "This function will create a ‘reference.json’ file that will be used to organize the files and plot the experiment results."
   ]
  },
  {
   "cell_type": "code",
   "execution_count": null,
   "metadata": {},
   "outputs": [],
   "source": [
    "reference_path = rst.create_reference_file(params, overwrite=False)"
   ]
  },
  {
   "cell_type": "markdown",
   "metadata": {},
   "source": [
    "#### Use the Reference Editor GUI\n",
    "Instead of manually editing the file, you can now use the new Reference Editor GUI to:\n",
    "- Define groups for your experiment  \n",
    "- Configure target roles for each trial\n",
    "- Assign groups, target roles, and ROI roles to each video file"
   ]
  },
  {
   "cell_type": "code",
   "execution_count": null,
   "metadata": {},
   "outputs": [],
   "source": [
    "rst.open_reference_editor(reference_path)"
   ]
  },
  {
   "cell_type": "markdown",
   "metadata": {},
   "source": [
    "If you are using the NOR example folder to try out rainstorm, you will find that **the reference file is already complete** (no need to change anything).\n",
    "\n",
    "Once the reference.json file is complete, you can proceed to the next step where it will be used to create the 'summary' folder."
   ]
  },
  {
   "cell_type": "markdown",
   "metadata": {},
   "source": [
    "---\n",
    "#### 5. Create the 'Summary' folder\n",
    "This new folder will contain files for each video recording, which will be used to hold all the labels and geometric information.\n",
    "\n",
    "The groups and objects on the ‘reference.json’ file will be used to organize the files into subfolders, and the target columns will be renamed according to their role (e.g. Novel and Known)."
   ]
  },
  {
   "cell_type": "code",
   "execution_count": null,
   "metadata": {},
   "outputs": [],
   "source": [
    "summary_path = rst.create_summary_files(params, label_type=label_type, overwrite=True)"
   ]
  },
  {
   "cell_type": "markdown",
   "metadata": {},
   "source": [
    "---\n",
    "#### 6. With our files ready, all is left to do is to run the analysis and plot the results.\n",
    "\n",
    "We can plot...\n",
    "\n",
    "For all trials:\n",
    "- lineplot_cumulative_distance\n",
    "- lineplot_cumulative_freezing_time\n",
    "\n",
    "For trials with targets:\n",
    "- lineplot_cumulative_exploration_time\n",
    "- boxplot_total_exploration_time\n",
    "\n",
    "Some calculated index:\n",
    "- lineplot_DI\n",
    "- lineplot_diff\n",
    "- boxplot_DI_auc (Area under the curve of the lineplot_DI)\n",
    "- boxplot_avg_time_bias (An \"average rate of bias\" obtained by dividing the diff AUC by the total session duration)\n",
    "\n",
    "And finally, some ROIs realted plots:\n",
    "- boxplot_roi_time\n",
    "- boxplot_roi_distance\n",
    "- boxplot_alternation_proportion"
   ]
  },
  {
   "cell_type": "code",
   "execution_count": null,
   "metadata": {},
   "outputs": [],
   "source": [
    "outliers = [] # List of video names to exclude from analysis (e.g., 'TS_09', or just '09' to remove that subject from all trials)\n",
    "\n",
    "rst.plot_multiple_analyses(params, trial='Hab', plots=[rst.lineplot_cumulative_distance, rst.lineplot_cumulative_freezing_time], label_type=label_type, outliers=outliers)\n",
    "rst.plot_multiple_analyses(params, trial='TR', plots=[rst.boxplot_total_exploration_time, rst.boxplot_roi_distance], label_type=label_type, outliers=outliers)\n",
    "rst.plot_multiple_analyses(params, trial='TS', plots=[rst.lineplot_cumulative_exploration_time, rst.lineplot_DI, rst.boxplot_avg_time_bias], label_type=label_type, outliers=outliers)"
   ]
  },
  {
   "cell_type": "markdown",
   "metadata": {},
   "source": [
    "#### These modular graphs are intended to show the dynamic behavior of mice, providing a deeper insight into what happens during learning and memory.\n"
   ]
  },
  {
   "cell_type": "markdown",
   "metadata": {},
   "source": [
    "---\n",
    "#### 7. Make a csv file with the results of the experiment\n",
    "\n",
    "The results.csv file will be stored in the experiment folder, and will contain columns for each of the variables plotted above. It is meant to be used for further statistical analysis."
   ]
  },
  {
   "cell_type": "code",
   "execution_count": null,
   "metadata": {},
   "outputs": [],
   "source": [
    "rst.create_results_file(params, label_type=label_type, overwrite=True)"
   ]
  },
  {
   "cell_type": "markdown",
   "metadata": {},
   "source": [
    "---\n",
    "#### 8. Bonus track... For each mouse, create individual plots\n",
    "\n",
    "This function is thought particularly for experiments like Novel Object Recognition, since it works better if we have two targets on the arena.\n",
    "The individual plots give us the chance to evaluate if something is off, and spot any behavioral outliers on both training and testing sessions.\n",
    "\n",
    "You can test it with the demo data without problems, the plots will be stored in the example folder."
   ]
  },
  {
   "cell_type": "code",
   "execution_count": null,
   "metadata": {},
   "outputs": [],
   "source": [
    "rst.run_individual_analysis(params, label_type=label_type, show=False)"
   ]
  },
  {
   "cell_type": "markdown",
   "metadata": {},
   "source": [
    "\n",
    "We have reached the end of this project. If you have read and followed the code up to this point, I want to thank you for your time and attention.\n",
    "\n",
    "If you have any questions and/or suggestions, do not hesitate to write: sdhers@fbmc.fcen.uba.ar\n",
    "\n",
    "\n",
    "---\n",
    "RAINSTORM - Created on Jun 25, 2024 - @author: Santiago D'hers"
   ]
  }
 ],
 "metadata": {
  "kernelspec": {
   "display_name": "rainstorm",
   "language": "python",
   "name": "python3"
  },
  "language_info": {
   "codemirror_mode": {
    "name": "ipython",
    "version": 3
   },
   "file_extension": ".py",
   "mimetype": "text/x-python",
   "name": "python",
   "nbconvert_exporter": "python",
   "pygments_lexer": "ipython3",
   "version": "3.9.23"
  }
 },
 "nbformat": 4,
 "nbformat_minor": 2
}
