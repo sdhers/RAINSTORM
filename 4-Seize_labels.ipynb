{
 "cells": [
  {
   "cell_type": "markdown",
   "metadata": {},
   "source": [
    "RAINSTORM\n",
    "\n",
    "## Seize labels\n",
    "\n",
    "- This notebook will help us visualize the results from labeled videos of an experiment\n",
    "\n",
    "#### Requirements:\n",
    "\n",
    "- The position files (processed by ``2a-Prepare_positions``)\n",
    "- The labels, geolabels or autolabels files (labeled by ``1-Behavioral_labeler``, ``2b-Geometric_analysis`` or ``3b-Automatic_analysis``)\n",
    "- The movement files (processed by ``2b-Geometric_analysis``)"
   ]
  },
  {
   "cell_type": "markdown",
   "metadata": {},
   "source": [
    "---\n",
    "#### Load the necessary modules"
   ]
  },
  {
   "cell_type": "code",
   "execution_count": null,
   "metadata": {},
   "outputs": [],
   "source": [
    "import os\n",
    "import rainstorm.seize_labels as rst"
   ]
  },
  {
   "cell_type": "markdown",
   "metadata": {},
   "source": [
    "---\n",
    "#### 1. State your project path and experiment details in the params file\n",
    "Define the path to the same folder used in `2-Prepare_positions`, and the path to the parameters file.\n",
    "\n",
    "Go to the params.yaml file and specify the parameters in the *seize_labels* section."
   ]
  },
  {
   "cell_type": "code",
   "execution_count": null,
   "metadata": {},
   "outputs": [],
   "source": [
    "base = r'C:\\Users\\dhers\\Desktop\\Rainstorm'\n",
    "\n",
    "folder_path = os.path.join(base, r'docs\\examples\\NOR')\n",
    "params = os.path.join(folder_path, 'params.yaml')"
   ]
  },
  {
   "cell_type": "markdown",
   "metadata": {},
   "source": [
    "---\n",
    "#### 2. Visualize the behavioral labels on a video\n",
    "\n",
    "The following function combines the position data, the behavioral labels, and the original video recording to create a video with the labels overlaid.\n",
    "\n",
    "The video can be built both using the original video file or not... try removing the `video_path` argument from the function call to see the difference."
   ]
  },
  {
   "cell_type": "code",
   "execution_count": null,
   "metadata": {},
   "outputs": [],
   "source": [
    "example_path = rst.choose_example_position(params, look_for = 'TS')\n",
    "video_path = example_path.replace(r'TS\\position', 'TS_videos').replace('_position.csv', '.mp4')\n",
    "\n",
    "rst.create_video(params, example_path, video_path)"
   ]
  },
  {
   "cell_type": "markdown",
   "metadata": {},
   "source": [
    "---\n",
    "#### 3. Plot individual exploration\n"
   ]
  },
  {
   "cell_type": "markdown",
   "metadata": {},
   "source": [
    "Exploration is a dynamic behavior, and experiment results can change a lot depending on the timeframe chosen for analysis. A first step to understanding the exploration dynamics is to plot the evolution of the cumulative exploration time."
   ]
  },
  {
   "cell_type": "code",
   "execution_count": null,
   "metadata": {},
   "outputs": [],
   "source": [
    "rst.plot_mouse_exploration(params, example_path)"
   ]
  },
  {
   "cell_type": "markdown",
   "metadata": {},
   "source": [
    "This plot shows the behavior of a single subject, and does not take into account the role of each exploratory target. To build more elaborate plots, we need to inform the groups and target roles for each subject."
   ]
  },
  {
   "cell_type": "markdown",
   "metadata": {},
   "source": [
    "---\n",
    "#### 4. Create a ‘reference.csv’ file on our experiment folder.\n",
    "This function will use the groups, trials and target roles we state on the params file to create a ‘reference.csv’ file that will be used to organize the files and plot the experiment results."
   ]
  },
  {
   "cell_type": "code",
   "execution_count": null,
   "metadata": {},
   "outputs": [],
   "source": [
    "reference_path = rst.create_reference_file(params)"
   ]
  },
  {
   "cell_type": "markdown",
   "metadata": {},
   "source": [
    "#### Go to the experiment folder and complete the 'reference.csv' file\n",
    "If you are using the NOR example folder to try out rainstorm, you will find a copy of the ‘reference.csv’ file **already completed** in the experiment folder.\n",
    "\n",
    "With the ‘reference.csv’ file complete, you can proceed to the next step where it will be used to create the 'summary' folder."
   ]
  },
  {
   "cell_type": "markdown",
   "metadata": {},
   "source": [
    "---\n",
    "#### 5. Create the 'Summary' folder\n",
    "This new folder will contain files for each video recording, which will be used to hold all the labels and geometric information.\n",
    "\n",
    "The groups and objects on the ‘reference.csv’ file will be used to organize the files into subfolders, and the target columns will be renamed according to their role (e.g. Novel and Known)."
   ]
  },
  {
   "cell_type": "code",
   "execution_count": null,
   "metadata": {},
   "outputs": [],
   "source": [
    "summary_path = rst.create_summary(params)"
   ]
  },
  {
   "cell_type": "markdown",
   "metadata": {},
   "source": [
    "---\n",
    "#### 6. With our files ready, all is left to do is to run the analysis and plot the results.\n",
    "\n",
    "We can plot:\n",
    "- For any given trial:\n",
    "    - plot_distance\n",
    "    - plot_freezing\n",
    "    - plot_freezing_boxplot\n",
    "    - plot_freezing_histogram\n",
    "\n",
    "- For trials involving target exploration:\n",
    "    - plot_exploration_time\n",
    "    - plot_exploration_boxplot\n",
    "\n",
    "- For trials with **two** targets:\n",
    "    - plot_DI\n",
    "    - plot_exploration_scatterplot\n",
    "\n",
    "- For trials involving time spent in areas:\n",
    "    - plot_alternations\n",
    "    - plot_roi_time (for Y Maze mostly)"
   ]
  },
  {
   "cell_type": "code",
   "execution_count": null,
   "metadata": {},
   "outputs": [],
   "source": [
    "rst.plot_multiple_analyses(params, trial='Hab', plots=[rst.plot_distance, rst.plot_freezing, rst.plot_freezing_boxplot, rst.plot_freezing_histogram])\n",
    "rst.plot_multiple_analyses(params, trial='TR', plots=[rst.plot_exploration_time, rst.plot_exploration_boxplot, rst.plot_DI, rst.plot_exploration_scatterplot])\n",
    "rst.plot_multiple_analyses(params, trial='TS', plots=[rst.plot_exploration_time, rst.plot_exploration_boxplot, rst.plot_DI, rst.plot_exploration_scatterplot])"
   ]
  },
  {
   "cell_type": "markdown",
   "metadata": {},
   "source": [
    "---\n",
    "#### 7. For each mouse, create individual plots\n",
    "\n",
    "This function is thought particularly for experiments like Novel Object Recognition, since it only works properly if we have two targets on the arena.\n",
    "The individual plots give us the chance to evaluate if something is off, and spot any behavioral outliers on both training and testing sessions.\n",
    "\n",
    "You can test it with the demo data without problems, the plots will be stored in the example folder."
   ]
  },
  {
   "cell_type": "code",
   "execution_count": null,
   "metadata": {},
   "outputs": [],
   "source": [
    "rst.plot_all_individual_exploration(params)"
   ]
  },
  {
   "cell_type": "markdown",
   "metadata": {},
   "source": [
    "---\n",
    "---\n",
    "#### These modular graphs are intended to show the dynamic behavior of mice, providing a deeper insight into what happens during learning and memory.\n",
    "\n",
    "We have reached the end of this project. If you have read and followed the code up to this point, I want to thank you for your time and attention.\n",
    "\n",
    "If you have any questions and/or suggestions, do not hesitate to write: sdhers@fbmc.fcen.uba.ar\n",
    "\n",
    "\n",
    "---\n",
    "RAINSTORM - Created on Jun 25, 2024 - @author: Santiago D'hers"
   ]
  }
 ],
 "metadata": {
  "kernelspec": {
   "display_name": "rainstorm",
   "language": "python",
   "name": "python3"
  },
  "language_info": {
   "codemirror_mode": {
    "name": "ipython",
    "version": 3
   },
   "file_extension": ".py",
   "mimetype": "text/x-python",
   "name": "python",
   "nbconvert_exporter": "python",
   "pygments_lexer": "ipython3",
   "version": "3.9.21"
  }
 },
 "nbformat": 4,
 "nbformat_minor": 2
}
