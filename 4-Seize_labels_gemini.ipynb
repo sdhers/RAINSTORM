{
 "cells": [
  {
   "cell_type": "markdown",
   "metadata": {},
   "source": [
    "RAINSTORM\n",
    "\n",
    "## Seize labels\n",
    "\n",
    "- This notebook will help us visualize the results from labeled videos of an experiment\n",
    "\n",
    "#### Requirements:\n",
    "\n",
    "- The position files (processed by ``2a-Prepare_positions``)\n",
    "- The labels, geolabels or autolabels files (labeled by ``1-Behavioral_labeler``, ``2b-Geometric_analysis`` or ``3b-Automatic_analysis``)\n",
    "- The movement files (processed by ``2b-Geometric_analysis``)"
   ]
  },
  {
   "cell_type": "markdown",
   "metadata": {},
   "source": [
    "---\n",
    "#### Load the necessary modules"
   ]
  },
  {
   "cell_type": "code",
   "execution_count": 1,
   "metadata": {},
   "outputs": [],
   "source": [
    "from pathlib import Path\n",
    "import rainstorm.seize_labels as rst"
   ]
  },
  {
   "cell_type": "markdown",
   "metadata": {},
   "source": [
    "---\n",
    "#### 1. State your project path and experiment details in the params file\n",
    "Define the path to the same folder used in `2-Prepare_positions`, and the path to the parameters file.\n",
    "\n",
    "Go to the params.yaml file and specify the parameters in the *seize_labels* section."
   ]
  },
  {
   "cell_type": "code",
   "execution_count": 2,
   "metadata": {},
   "outputs": [],
   "source": [
    "base = Path(r'C:\\Users\\dhers\\Desktop\\Rainstorm')\n",
    "folder_path = base / r'examples\\NOR'\n",
    "params_file = folder_path / 'params.yaml'"
   ]
  },
  {
   "cell_type": "markdown",
   "metadata": {},
   "source": [
    "---\n",
    "#### 2. Create a ‘reference.csv’ file on our experiment folder.\n",
    "This function will use the groups, trials and target roles we state on the params file to create a ‘reference.csv’ file that will be used to organize the files and plot the experiment results."
   ]
  },
  {
   "cell_type": "code",
   "execution_count": 3,
   "metadata": {},
   "outputs": [
    {
     "name": "stdout",
     "output_type": "stream",
     "text": [
      "Reference file already exists at C:\\Users\\dhers\\Desktop\\Rainstorm\\examples\\NOR\\reference.csv. Use overwrite=True to recreate it.\n"
     ]
    }
   ],
   "source": [
    "reference_path = rst.create_reference_file(params_file)"
   ]
  },
  {
   "cell_type": "markdown",
   "metadata": {},
   "source": [
    "#### Go to the experiment folder and complete the 'reference.csv' file\n",
    "If you are using the NOR example folder to try out rainstorm, you will find a copy of the ‘reference.csv’ file **already completed** in the experiment folder.\n",
    "\n",
    "With the ‘reference.csv’ file complete, you can proceed to the next step where it will be used to create the 'summary' folder."
   ]
  },
  {
   "cell_type": "markdown",
   "metadata": {},
   "source": [
    "---\n",
    "#### 3. Create the 'Summary' folder\n",
    "This new folder will contain files for each video recording, which will be used to hold all the labels and geometric information.\n",
    "\n",
    "The groups and objects on the ‘reference.csv’ file will be used to organize the files into subfolders, and the target columns will be renamed according to their role (e.g. Novel and Known)."
   ]
  },
  {
   "cell_type": "code",
   "execution_count": 4,
   "metadata": {},
   "outputs": [
    {
     "name": "stdout",
     "output_type": "stream",
     "text": [
      "Summary file already exists at C:\\Users\\dhers\\Desktop\\Rainstorm\\examples\\NOR\\summary\\Group_1\\Hab\\NOR_Hab_01_summary.csv. Use overwrite=True to recreate it.\n",
      "Summary file already exists at C:\\Users\\dhers\\Desktop\\Rainstorm\\examples\\NOR\\summary\\Group_1\\Hab\\NOR_Hab_02_summary.csv. Use overwrite=True to recreate it.\n",
      "Summary file already exists at C:\\Users\\dhers\\Desktop\\Rainstorm\\examples\\NOR\\summary\\Group_2\\Hab\\NOR_Hab_03_summary.csv. Use overwrite=True to recreate it.\n",
      "Summary file already exists at C:\\Users\\dhers\\Desktop\\Rainstorm\\examples\\NOR\\summary\\Group_2\\Hab\\NOR_Hab_04_summary.csv. Use overwrite=True to recreate it.\n",
      "Summary file already exists at C:\\Users\\dhers\\Desktop\\Rainstorm\\examples\\NOR\\summary\\Group_1\\Hab\\NOR_Hab_05_summary.csv. Use overwrite=True to recreate it.\n",
      "Summary file already exists at C:\\Users\\dhers\\Desktop\\Rainstorm\\examples\\NOR\\summary\\Group_1\\Hab\\NOR_Hab_06_summary.csv. Use overwrite=True to recreate it.\n",
      "Summary file already exists at C:\\Users\\dhers\\Desktop\\Rainstorm\\examples\\NOR\\summary\\Group_2\\Hab\\NOR_Hab_07_summary.csv. Use overwrite=True to recreate it.\n",
      "Summary file already exists at C:\\Users\\dhers\\Desktop\\Rainstorm\\examples\\NOR\\summary\\Group_1\\Hab\\NOR_Hab_08_summary.csv. Use overwrite=True to recreate it.\n",
      "Summary file already exists at C:\\Users\\dhers\\Desktop\\Rainstorm\\examples\\NOR\\summary\\Group_2\\Hab\\NOR_Hab_09_summary.csv. Use overwrite=True to recreate it.\n",
      "Summary file already exists at C:\\Users\\dhers\\Desktop\\Rainstorm\\examples\\NOR\\summary\\Group_2\\Hab\\NOR_Hab_10_summary.csv. Use overwrite=True to recreate it.\n",
      "Summary file already exists at C:\\Users\\dhers\\Desktop\\Rainstorm\\examples\\NOR\\summary\\Group_1\\TR\\NOR_TR_01_summary.csv. Use overwrite=True to recreate it.\n",
      "Summary file already exists at C:\\Users\\dhers\\Desktop\\Rainstorm\\examples\\NOR\\summary\\Group_1\\TR\\NOR_TR_02_summary.csv. Use overwrite=True to recreate it.\n",
      "Summary file already exists at C:\\Users\\dhers\\Desktop\\Rainstorm\\examples\\NOR\\summary\\Group_2\\TR\\NOR_TR_03_summary.csv. Use overwrite=True to recreate it.\n",
      "Summary file already exists at C:\\Users\\dhers\\Desktop\\Rainstorm\\examples\\NOR\\summary\\Group_2\\TR\\NOR_TR_04_summary.csv. Use overwrite=True to recreate it.\n",
      "Summary file already exists at C:\\Users\\dhers\\Desktop\\Rainstorm\\examples\\NOR\\summary\\Group_1\\TR\\NOR_TR_05_summary.csv. Use overwrite=True to recreate it.\n",
      "Summary file already exists at C:\\Users\\dhers\\Desktop\\Rainstorm\\examples\\NOR\\summary\\Group_1\\TR\\NOR_TR_06_summary.csv. Use overwrite=True to recreate it.\n",
      "Summary file already exists at C:\\Users\\dhers\\Desktop\\Rainstorm\\examples\\NOR\\summary\\Group_2\\TR\\NOR_TR_07_summary.csv. Use overwrite=True to recreate it.\n",
      "Summary file already exists at C:\\Users\\dhers\\Desktop\\Rainstorm\\examples\\NOR\\summary\\Group_1\\TR\\NOR_TR_08_summary.csv. Use overwrite=True to recreate it.\n",
      "Summary file already exists at C:\\Users\\dhers\\Desktop\\Rainstorm\\examples\\NOR\\summary\\Group_2\\TR\\NOR_TR_09_summary.csv. Use overwrite=True to recreate it.\n",
      "Summary file already exists at C:\\Users\\dhers\\Desktop\\Rainstorm\\examples\\NOR\\summary\\Group_2\\TR\\NOR_TR_10_summary.csv. Use overwrite=True to recreate it.\n",
      "Summary file already exists at C:\\Users\\dhers\\Desktop\\Rainstorm\\examples\\NOR\\summary\\Group_1\\TS\\NOR_TS_01_summary.csv. Use overwrite=True to recreate it.\n",
      "Summary file already exists at C:\\Users\\dhers\\Desktop\\Rainstorm\\examples\\NOR\\summary\\Group_1\\TS\\NOR_TS_02_summary.csv. Use overwrite=True to recreate it.\n",
      "Summary file already exists at C:\\Users\\dhers\\Desktop\\Rainstorm\\examples\\NOR\\summary\\Group_2\\TS\\NOR_TS_03_summary.csv. Use overwrite=True to recreate it.\n",
      "Summary file already exists at C:\\Users\\dhers\\Desktop\\Rainstorm\\examples\\NOR\\summary\\Group_2\\TS\\NOR_TS_04_summary.csv. Use overwrite=True to recreate it.\n",
      "Summary file already exists at C:\\Users\\dhers\\Desktop\\Rainstorm\\examples\\NOR\\summary\\Group_1\\TS\\NOR_TS_05_summary.csv. Use overwrite=True to recreate it.\n",
      "Summary file already exists at C:\\Users\\dhers\\Desktop\\Rainstorm\\examples\\NOR\\summary\\Group_1\\TS\\NOR_TS_06_summary.csv. Use overwrite=True to recreate it.\n",
      "Summary file already exists at C:\\Users\\dhers\\Desktop\\Rainstorm\\examples\\NOR\\summary\\Group_2\\TS\\NOR_TS_07_summary.csv. Use overwrite=True to recreate it.\n",
      "Summary file already exists at C:\\Users\\dhers\\Desktop\\Rainstorm\\examples\\NOR\\summary\\Group_1\\TS\\NOR_TS_08_summary.csv. Use overwrite=True to recreate it.\n",
      "Summary file already exists at C:\\Users\\dhers\\Desktop\\Rainstorm\\examples\\NOR\\summary\\Group_2\\TS\\NOR_TS_09_summary.csv. Use overwrite=True to recreate it.\n",
      "Summary file already exists at C:\\Users\\dhers\\Desktop\\Rainstorm\\examples\\NOR\\summary\\Group_2\\TS\\NOR_TS_10_summary.csv. Use overwrite=True to recreate it.\n",
      "Summary folder created at C:\\Users\\dhers\\Desktop\\Rainstorm\\examples\\NOR\\summary\n"
     ]
    }
   ],
   "source": [
    "summary_path = rst.create_summary(params_file)"
   ]
  },
  {
   "cell_type": "markdown",
   "metadata": {},
   "source": [
    "---\n",
    "#### 4. With our files ready, all is left to do is to run the analysis and plot the results.\n",
    "\n",
    "We can plot:\n",
    "\n",
    "    - lineplot_cumulative_distance\n",
    "    - lineplot_freezing_cumulative_time\n",
    "    - plot_freezing_boxplot\n",
    "    - plot_freezing_histogram\n",
    "\n",
    "    - lineplot_exploration_time\n",
    "    - plot_binned_exploration_time\n",
    "    - histogram_exploration_time\n",
    "\n",
    "    - lineplot_exploration_cumulative_time\n",
    "    - boxplot_exploration_cumulative_time\n",
    "    - boxplot_exploration_proportion\n",
    "\n",
    "    - plot_DI\n",
    "    - boxplot_DI_area\n",
    "    - plot_diff\n",
    "    - boxplot_diff_area\n",
    "\n",
    "    - scatterplot_exploration_cumulative_time\n",
    "    - plot_roi_time\n",
    "    - plot_alternations"
   ]
  },
  {
   "cell_type": "code",
   "execution_count": 6,
   "metadata": {},
   "outputs": [],
   "source": [
    "# rst.plot_multiple_analyses(params_file, trial='TS', plots=[rst.lineplot_exploration_cumulative_time, rst.plot_DI, rst.lineplot_roi_status_time])"
   ]
  },
  {
   "cell_type": "code",
   "execution_count": 5,
   "metadata": {},
   "outputs": [
    {
     "name": "stderr",
     "output_type": "stream",
     "text": [
      "WARNING:rainstorm.seize_labels.results_file:No novelty targets defined for trial 'Hab'. Skipping target-based calculations for video 'NOR_Hab_01'.\n",
      "WARNING:rainstorm.seize_labels.results_file:No novelty targets defined for trial 'Hab'. Skipping target-based calculations for video 'NOR_Hab_02'.\n",
      "WARNING:rainstorm.seize_labels.results_file:No novelty targets defined for trial 'Hab'. Skipping target-based calculations for video 'NOR_Hab_05'.\n",
      "WARNING:rainstorm.seize_labels.results_file:No novelty targets defined for trial 'Hab'. Skipping target-based calculations for video 'NOR_Hab_06'.\n",
      "WARNING:rainstorm.seize_labels.results_file:No novelty targets defined for trial 'Hab'. Skipping target-based calculations for video 'NOR_Hab_08'.\n",
      "WARNING:rainstorm.seize_labels.results_file:No novelty targets defined for trial 'Hab'. Skipping target-based calculations for video 'NOR_Hab_03'.\n",
      "WARNING:rainstorm.seize_labels.results_file:No novelty targets defined for trial 'Hab'. Skipping target-based calculations for video 'NOR_Hab_04'.\n",
      "WARNING:rainstorm.seize_labels.results_file:No novelty targets defined for trial 'Hab'. Skipping target-based calculations for video 'NOR_Hab_07'.\n",
      "WARNING:rainstorm.seize_labels.results_file:No novelty targets defined for trial 'Hab'. Skipping target-based calculations for video 'NOR_Hab_09'.\n",
      "WARNING:rainstorm.seize_labels.results_file:No novelty targets defined for trial 'Hab'. Skipping target-based calculations for video 'NOR_Hab_10'.\n"
     ]
    },
    {
     "name": "stdout",
     "output_type": "stream",
     "text": [
      "Results file saved at C:\\Users\\dhers\\Desktop\\Rainstorm\\examples\\NOR\\results.csv\n"
     ]
    },
    {
     "data": {
      "text/plain": [
       "WindowsPath('C:/Users/dhers/Desktop/Rainstorm/examples/NOR/results.csv')"
      ]
     },
     "execution_count": 5,
     "metadata": {},
     "output_type": "execute_result"
    }
   ],
   "source": [
    "rst.create_results_file(params_file, end_time=100)"
   ]
  }
 ],
 "metadata": {
  "kernelspec": {
   "display_name": "rainstorm",
   "language": "python",
   "name": "python3"
  },
  "language_info": {
   "codemirror_mode": {
    "name": "ipython",
    "version": 3
   },
   "file_extension": ".py",
   "mimetype": "text/x-python",
   "name": "python",
   "nbconvert_exporter": "python",
   "pygments_lexer": "ipython3",
   "version": "3.9.21"
  }
 },
 "nbformat": 4,
 "nbformat_minor": 2
}
