{
 "cells": [
  {
   "cell_type": "markdown",
   "metadata": {},
   "source": [
    "RAINSTORM\n",
    "\n",
    "## Automatic analysis\n",
    "- We are finally able to choose our favourite model and use it to label our data\n",
    "\n",
    "#### Requirements:\n",
    "\n",
    "- A model previously trained using RAINSTORM 3-Create_models.ipynb\n",
    "- The position files you'd like to label automatically"
   ]
  },
  {
   "cell_type": "markdown",
   "metadata": {},
   "source": [
    "---\n",
    "#### 1. Load the necessary modules"
   ]
  },
  {
   "cell_type": "code",
   "execution_count": 1,
   "metadata": {},
   "outputs": [
    {
     "name": "stdout",
     "output_type": "stream",
     "text": [
      "rainstorm.create_models successfully imported. GPU devices detected: []\n"
     ]
    }
   ],
   "source": [
    "import os\n",
    "from glob import glob\n",
    "import rainstorm.modeling as rst"
   ]
  },
  {
   "cell_type": "markdown",
   "metadata": {},
   "source": [
    "---\n",
    "#### 2. State your project path & thresholds\n",
    "`base` : The path to the downloaded repository.\n",
    "\n",
    "`objects` : Name the stationary objects that appear on your data.\n",
    "\n",
    "`bodyparts` : Name the bodyparts you used for training.\n",
    "\n",
    "`past` & `future` : If you use a LSTM model, you can set the window size by saying how many frames into the past and how many into the future you want to see.\n",
    "\n",
    "`broad` : Once you have your window size, we can broaden the window by skipping some frames as we stray further from the present."
   ]
  },
  {
   "cell_type": "code",
   "execution_count": 2,
   "metadata": {},
   "outputs": [
    {
     "name": "stdout",
     "output_type": "stream",
     "text": [
      "LSTM frame window: [-6, -3, -1, 0, 1, 3, 6]\n"
     ]
    }
   ],
   "source": [
    "# State your path:\n",
    "base = r'C:\\Users\\dhers\\Desktop\\RAINSTORM'\n",
    "folder_path = os.path.join(base, r'docs\\examples\\NOR_example_copy')\n",
    "\n",
    "all_position = glob(os.path.join(folder_path,\"T*/position/*position.csv\")) # Notice that I added a 'T' on the folder name to avoid trying to label habituation files\n",
    "\n",
    "# Set the parameters to evaluate behaviours\n",
    "objects = ['obj_1', 'obj_2']\n",
    "bodyparts = ['nose', 'L_ear', 'R_ear', 'head', 'neck', 'body']\n",
    "\n",
    "past, future = 3, 3 # if you use a LSTM model, you can set the window size here\n",
    "broad = 1.7 # using the same amount of frames, set how broad the window is (skipping frames)\n",
    "broad_frames = rst.broaden(past, future, broad)\n",
    "print(f'LSTM frame window: {broad_frames}')"
   ]
  },
  {
   "cell_type": "markdown",
   "metadata": {},
   "source": [
    "---\n",
    "#### 3. Load the chosen model\n",
    "We need to modify our `model_path` according to what model we want to use"
   ]
  },
  {
   "cell_type": "code",
   "execution_count": 3,
   "metadata": {},
   "outputs": [],
   "source": [
    "model_path = os.path.join(base, r'docs\\models\\m_wide\\wide_example_7w.keras')\n",
    "\n",
    "from keras.models import load_model\n",
    "model = load_model(model_path)\n",
    "\n",
    "# If you choose a LSTM model, set the reshape variable to True:\n",
    "reshape = True "
   ]
  },
  {
   "cell_type": "markdown",
   "metadata": {},
   "source": [
    "---\n",
    "#### 4. Run the model on all the data selected"
   ]
  },
  {
   "cell_type": "code",
   "execution_count": 4,
   "metadata": {},
   "outputs": [
    {
     "name": "stdout",
     "output_type": "stream",
     "text": [
      "461/461 [==============================] - 3s 3ms/step\n",
      "Saved autolabels to NOR_TR_C1_A_autolabels.csv\n",
      "460/460 [==============================] - 1s 3ms/step\n",
      "Saved autolabels to NOR_TR_C1_B_autolabels.csv\n",
      "462/462 [==============================] - 1s 3ms/step\n",
      "Saved autolabels to NOR_TR_C1_C_autolabels.csv\n",
      "467/467 [==============================] - 1s 3ms/step\n",
      "Saved autolabels to NOR_TR_C1_D_autolabels.csv\n",
      "464/464 [==============================] - 1s 3ms/step\n",
      "Saved autolabels to NOR_TR_C2_A_autolabels.csv\n",
      "466/466 [==============================] - 1s 3ms/step\n",
      "Saved autolabels to NOR_TR_C2_B_autolabels.csv\n",
      "466/466 [==============================] - 1s 3ms/step\n",
      "Saved autolabels to NOR_TR_C2_C_autolabels.csv\n",
      "469/469 [==============================] - 1s 3ms/step\n",
      "Saved autolabels to NOR_TR_C2_D_autolabels.csv\n",
      "454/454 [==============================] - 1s 3ms/step\n",
      "Saved autolabels to NOR_TR_C3_A_autolabels.csv\n",
      "445/445 [==============================] - 2s 4ms/step\n",
      "Saved autolabels to NOR_TR_C3_B_autolabels.csv\n",
      "459/459 [==============================] - 1s 3ms/step\n",
      "Saved autolabels to NOR_TR_C3_C_autolabels.csv\n",
      "466/466 [==============================] - 2s 3ms/step\n",
      "Saved autolabels to NOR_TR_C3_D_autolabels.csv\n",
      "464/464 [==============================] - 1s 3ms/step\n",
      "Saved autolabels to NOR_TR_C4_A_autolabels.csv\n",
      "459/459 [==============================] - 1s 3ms/step\n",
      "Saved autolabels to NOR_TR_C4_B_autolabels.csv\n",
      "451/451 [==============================] - 2s 4ms/step\n",
      "Saved autolabels to NOR_TR_C4_C_autolabels.csv\n",
      "456/456 [==============================] - 2s 4ms/step\n",
      "Saved autolabels to NOR_TR_C4_D_autolabels.csv\n",
      "466/466 [==============================] - 2s 5ms/step\n",
      "Saved autolabels to NOR_TR_C5_A_autolabels.csv\n",
      "463/463 [==============================] - 2s 4ms/step\n",
      "Saved autolabels to NOR_TR_C5_B_autolabels.csv\n",
      "453/453 [==============================] - 2s 4ms/step\n",
      "Saved autolabels to NOR_TR_C5_C_autolabels.csv\n",
      "454/454 [==============================] - 2s 4ms/step\n",
      "Saved autolabels to NOR_TR_C5_D_autolabels.csv\n",
      "464/464 [==============================] - 2s 4ms/step\n",
      "Saved autolabels to NOR_TS_C1_A_autolabels.csv\n",
      "462/462 [==============================] - 2s 4ms/step\n",
      "Saved autolabels to NOR_TS_C1_B_autolabels.csv\n",
      "457/457 [==============================] - 2s 4ms/step\n",
      "Saved autolabels to NOR_TS_C1_C_autolabels.csv\n",
      "459/459 [==============================] - 2s 4ms/step\n",
      "Saved autolabels to NOR_TS_C1_D_autolabels.csv\n",
      "465/465 [==============================] - 2s 4ms/step\n",
      "Saved autolabels to NOR_TS_C2_A_autolabels.csv\n",
      "460/460 [==============================] - 2s 4ms/step\n",
      "Saved autolabels to NOR_TS_C2_B_autolabels.csv\n",
      "455/455 [==============================] - 2s 4ms/step\n",
      "Saved autolabels to NOR_TS_C2_C_autolabels.csv\n",
      "454/454 [==============================] - 2s 4ms/step\n",
      "Saved autolabels to NOR_TS_C2_D_autolabels.csv\n",
      "465/465 [==============================] - 2s 4ms/step\n",
      "Saved autolabels to NOR_TS_C3_A_autolabels.csv\n",
      "468/468 [==============================] - 2s 4ms/step\n",
      "Saved autolabels to NOR_TS_C3_B_autolabels.csv\n",
      "460/460 [==============================] - 2s 4ms/step\n",
      "Saved autolabels to NOR_TS_C3_C_autolabels.csv\n",
      "464/464 [==============================] - 2s 4ms/step\n",
      "Saved autolabels to NOR_TS_C3_D_autolabels.csv\n",
      "464/464 [==============================] - 2s 4ms/step\n",
      "Saved autolabels to NOR_TS_C4_A_autolabels.csv\n",
      "457/457 [==============================] - 2s 4ms/step\n",
      "Saved autolabels to NOR_TS_C4_B_autolabels.csv\n",
      "460/460 [==============================] - 2s 4ms/step\n",
      "Saved autolabels to NOR_TS_C4_C_autolabels.csv\n",
      "468/468 [==============================] - 2s 3ms/step\n",
      "Saved autolabels to NOR_TS_C4_D_autolabels.csv\n",
      "466/466 [==============================] - 2s 4ms/step\n",
      "Saved autolabels to NOR_TS_C5_A_autolabels.csv\n",
      "466/466 [==============================] - 1s 3ms/step\n",
      "Saved autolabels to NOR_TS_C5_B_autolabels.csv\n",
      "460/460 [==============================] - 2s 4ms/step\n",
      "Saved autolabels to NOR_TS_C5_C_autolabels.csv\n",
      "463/463 [==============================] - 2s 4ms/step\n",
      "Saved autolabels to NOR_TS_C5_D_autolabels.csv\n"
     ]
    }
   ],
   "source": [
    "rst.create_autolabels(all_position, model, objects, bodyparts, reshaping = reshape, past = past, future = future, broad = broad)"
   ]
  },
  {
   "cell_type": "markdown",
   "metadata": {},
   "source": [
    "---\n",
    "---\n",
    "#### A new csv file was created for each video, containing the autolabels.\n",
    "We can:\n",
    "- Move on to the next notebook, 6-Compare_labels.ipynb, to compare manual, geometric and automatic methods on our example files\n",
    "- Loose all patience again, go straight to 7-Seize_labels.ipynb and use the autolabels to plot the results of the experiment\n",
    "\n",
    "---\n",
    "RAINSTORM - Created on Apr 18, 2024 - @author: Santiago D'hers"
   ]
  }
 ],
 "metadata": {
  "kernelspec": {
   "display_name": "rainstorm",
   "language": "python",
   "name": "python3"
  },
  "language_info": {
   "codemirror_mode": {
    "name": "ipython",
    "version": 3
   },
   "file_extension": ".py",
   "mimetype": "text/x-python",
   "name": "python",
   "nbconvert_exporter": "python",
   "pygments_lexer": "ipython3",
   "version": "3.9.21"
  }
 },
 "nbformat": 4,
 "nbformat_minor": 2
}
