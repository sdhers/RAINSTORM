{
 "cells": [
  {
   "cell_type": "markdown",
   "metadata": {},
   "source": [
    "RAINSTORM - Created on Apr 18, 2024 - @author: Santiago D'hers\n",
    "\n",
    "@author: Santiago D'hers\n",
    "\n",
    "## Automatic analysis\n",
    "- We are finally able to choose our favourite model and use it to label our data\n",
    "\n",
    "#### Requirements:\n",
    "\n",
    "- A model previously trained using RAINSTORM 3-Create_models.ipynb\n",
    "- The position files you'd like to label automatically"
   ]
  },
  {
   "cell_type": "markdown",
   "metadata": {},
   "source": [
    "---\n",
    "#### 1. Load the necessary modules"
   ]
  },
  {
   "cell_type": "code",
   "execution_count": null,
   "metadata": {},
   "outputs": [],
   "source": [
    "import os\n",
    "from glob import glob\n",
    "import rainstorm.modeling as rst"
   ]
  },
  {
   "cell_type": "markdown",
   "metadata": {},
   "source": [
    "---\n",
    "#### 2. State your project path & thresholds\n",
    "`base` : The path to the downloaded repository.\n",
    "\n",
    "`objects` : Name the stationary objects that appear on your data.\n",
    "\n",
    "`bodyparts` : Name the bodyparts you used for training.\n",
    "\n",
    "`past` & `future` : If you use a LSTM model, you can set the window size by saying how many frames into the past and how many into the future you want to see.\n",
    "\n",
    "`broad` : Once you have your window size, we can broaden the window by skipping some frames as we stray further from the present."
   ]
  },
  {
   "cell_type": "code",
   "execution_count": null,
   "metadata": {},
   "outputs": [],
   "source": [
    "# State your path:\n",
    "base = r'C:\\Users\\dhers\\Desktop\\RAINSTORM'\n",
    "folder_path = os.path.join(base, r'docs\\examples\\NOR_example_copy')\n",
    "\n",
    "all_position = glob(os.path.join(folder_path,\"T*/position/*position.csv\")) # Notice that I added a 'T' on the folder name to avoid trying to label habituation files\n",
    "\n",
    "# Set the parameters to evaluate behaviours\n",
    "objects = ['obj_1', 'obj_2']\n",
    "bodyparts = ['nose', 'L_ear', 'R_ear', 'head', 'neck', 'body']\n",
    "\n",
    "past, future = 3, 3 # if you use a LSTM model, you can set the window size here\n",
    "broad = 1.7 # using the same amount of frames, set how broad the window is (skipping frames)\n",
    "broad_frames = rst.broaden(past, future, broad)\n",
    "print(f'LSTM frame window: {broad_frames}')"
   ]
  },
  {
   "cell_type": "markdown",
   "metadata": {},
   "source": [
    "---\n",
    "#### 3. Load the wanted model\n",
    "We need to modify our `model_path` according to what model we want to use"
   ]
  },
  {
   "cell_type": "code",
   "execution_count": null,
   "metadata": {},
   "outputs": [],
   "source": [
    "model_path = os.path.join(base, r'docs\\models\\m_wide\\wide_example_7w.keras')\n",
    "\n",
    "from keras.models import load_model\n",
    "model = load_model(model_path)\n",
    "\n",
    "# If you choose a LSTM model, set the reshape variable to True:\n",
    "reshape = True "
   ]
  },
  {
   "cell_type": "markdown",
   "metadata": {},
   "source": [
    "---\n",
    "#### 4. Run the model on all the data selected"
   ]
  },
  {
   "cell_type": "code",
   "execution_count": null,
   "metadata": {},
   "outputs": [],
   "source": [
    "rst.create_autolabels(all_position, model, objects, bodyparts, reshaping = reshape, past = past, future = future, broad = broad)"
   ]
  }
 ],
 "metadata": {
  "language_info": {
   "name": "python"
  }
 },
 "nbformat": 4,
 "nbformat_minor": 2
}
