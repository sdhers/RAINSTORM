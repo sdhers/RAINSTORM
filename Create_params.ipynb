{
 "cells": [
  {
   "cell_type": "code",
   "execution_count": 1,
   "id": "7d54de7e",
   "metadata": {},
   "outputs": [],
   "source": [
    "from pathlib import Path\n",
    "import rainstorm.prepare_positions as rst"
   ]
  },
  {
   "cell_type": "code",
   "execution_count": 2,
   "id": "d108ff82",
   "metadata": {},
   "outputs": [],
   "source": [
    "# Define your base path (e.g., to the Rainstorm repository)\n",
    "base = Path.cwd() # On my end, this is equivalent to Path(r'C:\\Users\\dhers\\Desktop\\Rainstorm') \n",
    "\n",
    "# Define the path to your experiment folder containing the pose estimation files\n",
    "folder_path = base / 'examples' / 'NOR' # To use the demo data, set folder_path to: base / 'examples' / 'NOR'\n",
    "\n",
    "# Define the path to your ROIs.json file (optional)\n",
    "ROIs_path = folder_path / 'ROIs.json' "
   ]
  },
  {
   "cell_type": "code",
   "execution_count": 3,
   "id": "be023338",
   "metadata": {},
   "outputs": [
    {
     "name": "stderr",
     "output_type": "stream",
     "text": [
      "WARNING:rainstorm.prepare_positions.params_builder:Overwriting existing params.yaml at c:\\Users\\dhers\\Desktop\\RAINSTORM\\examples\\NOR\\params.yaml (backup saved at c:\\Users\\dhers\\Desktop\\RAINSTORM\\examples\\NOR\\params.yaml.bak)\n"
     ]
    },
    {
     "name": "stdout",
     "output_type": "stream",
     "text": [
      "Parameters file created successfully at c:\\Users\\dhers\\Desktop\\RAINSTORM\\examples\\NOR\\params.yaml\n"
     ]
    }
   ],
   "source": [
    "params_path = rst.create_params(\n",
    "        folder_path=folder_path,\n",
    "        ROIs_path=ROIs_path,\n",
    "        targets_present=True,\n",
    "        geometric_labels=True,\n",
    "        automatic_labels=True,\n",
    "        overwrite=True\n",
    "    )"
   ]
  },
  {
   "cell_type": "code",
   "execution_count": 4,
   "id": "039ff130",
   "metadata": {},
   "outputs": [],
   "source": [
    "rst.open_params_editor(params_path)"
   ]
  }
 ],
 "metadata": {
  "kernelspec": {
   "display_name": "rainstorm",
   "language": "python",
   "name": "python3"
  },
  "language_info": {
   "codemirror_mode": {
    "name": "ipython",
    "version": 3
   },
   "file_extension": ".py",
   "mimetype": "text/x-python",
   "name": "python",
   "nbconvert_exporter": "python",
   "pygments_lexer": "ipython3",
   "version": "3.9.23"
  }
 },
 "nbformat": 4,
 "nbformat_minor": 5
}
