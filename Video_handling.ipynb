{
 "cells": [
  {
   "cell_type": "code",
   "execution_count": 1,
   "metadata": {},
   "outputs": [],
   "source": [
    "import rainstorm.video_handling as rst"
   ]
  },
  {
   "cell_type": "code",
   "execution_count": 7,
   "metadata": {},
   "outputs": [
    {
     "name": "stdout",
     "output_type": "stream",
     "text": [
      "Selected 3 videos.\n"
     ]
    }
   ],
   "source": [
    "video_dict = rst.create_video_dict()"
   ]
  },
  {
   "cell_type": "code",
   "execution_count": 8,
   "metadata": {},
   "outputs": [
    {
     "name": "stdout",
     "output_type": "stream",
     "text": [
      "Trimming settings applied to all videos.\n"
     ]
    }
   ],
   "source": [
    "rst.select_trimming(video_dict)"
   ]
  },
  {
   "cell_type": "code",
   "execution_count": 9,
   "metadata": {},
   "outputs": [
    {
     "name": "stdout",
     "output_type": "stream",
     "text": [
      "Point confirmed: (180, 380)\n",
      "Point confirmed: (289, 326)\n",
      "Point confirmed: (171, 355)\n",
      "Point confirmed: (259, 313)\n",
      "Point confirmed: (148, 377)\n",
      "Point confirmed: (283, 313)\n",
      "Alignment settings applied to all videos.\n"
     ]
    }
   ],
   "source": [
    "rst.select_alignment(video_dict)"
   ]
  },
  {
   "cell_type": "code",
   "execution_count": 10,
   "metadata": {},
   "outputs": [
    {
     "name": "stdout",
     "output_type": "stream",
     "text": [
      "Original Size: 478x850\n",
      "Cropping settings applied to all videos.\n"
     ]
    }
   ],
   "source": [
    "rst.select_cropping(video_dict)"
   ]
  },
  {
   "cell_type": "code",
   "execution_count": null,
   "metadata": {},
   "outputs": [],
   "source": [
    "# Save the video dictionary\n",
    "video_dict_path = r'C:\\Users\\dhers\\Desktop\\Video_edit\\video_dict.json'\n",
    "rst.save_video_dict(video_dict, video_dict_path)"
   ]
  },
  {
   "cell_type": "code",
   "execution_count": null,
   "metadata": {},
   "outputs": [
    {
     "name": "stdout",
     "output_type": "stream",
     "text": [
      "Mean points: [[166, 370], [277, 317]]\n",
      "Processed Video de WhatsApp 2025-03-04 a las 20.53.02_84d4ec14.mp4.\n",
      "Processed Video de WhatsApp 2025-03-04 a las 20.53.07_2f563858.mp4.\n",
      "Processed Video de WhatsApp 2025-03-04 a las 20.53.11_c9599da3.mp4.\n",
      "Trimmed 0.00s - 5.00s.\n",
      "Aligned [166, 370] and [277, 317].\n",
      "Cropped 283x202 from 478x850 pixels.\n",
      "Modified videos saved in 'C:/Users/dhers/Desktop/Video_edit\\modified'.\n"
     ]
    }
   ],
   "source": [
    "# Load the video dictionary\n",
    "video_dict = rst.load_video_dict(video_dict_path)\n",
    "\n",
    "# Apply trimming, cropping, and alignment\n",
    "rst.apply_transformations(video_dict, trim = True, crop = True, align = True)"
   ]
  }
 ],
 "metadata": {
  "kernelspec": {
   "display_name": "rainstorm",
   "language": "python",
   "name": "python3"
  },
  "language_info": {
   "codemirror_mode": {
    "name": "ipython",
    "version": 3
   },
   "file_extension": ".py",
   "mimetype": "text/x-python",
   "name": "python",
   "nbconvert_exporter": "python",
   "pygments_lexer": "ipython3",
   "version": "3.9.21"
  }
 },
 "nbformat": 4,
 "nbformat_minor": 2
}
