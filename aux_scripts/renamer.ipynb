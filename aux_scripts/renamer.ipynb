{
 "cells": [
  {
   "cell_type": "markdown",
   "metadata": {},
   "source": [
    "@author: Santiago D'hers\n",
    "\n",
    "Use:\n",
    "\n",
    "- This notebook helps me rename file names, or its content"
   ]
  },
  {
   "cell_type": "code",
   "execution_count": 3,
   "metadata": {},
   "outputs": [],
   "source": [
    "import os\n",
    "\n",
    "def rename_files(folder, before, after):\n",
    "    # Get a list of all files in the specified folder\n",
    "    files = os.listdir(folder)\n",
    "    \n",
    "    for file_name in files:\n",
    "        # Check if 'before' is in the file name\n",
    "        if before in file_name:\n",
    "            # Construct the new file name\n",
    "            new_name = file_name.replace(before, after)\n",
    "            # Construct full file paths\n",
    "            old_file = os.path.join(folder, file_name)\n",
    "            new_file = os.path.join(folder, new_name)\n",
    "            # Rename the file\n",
    "            os.rename(old_file, new_file)\n",
    "            print(f'Renamed: {old_file} to {new_file}')"
   ]
  },
  {
   "cell_type": "code",
   "execution_count": null,
   "metadata": {},
   "outputs": [
    {
     "name": "stdout",
     "output_type": "stream",
     "text": [
      "Renamed: C:\\Users\\dhers\\OneDrive - UBA\\workshop\\2024-11_TORM-Tg-9m\\TS\\position\\2024-11_TORM-Tg-9m_TS_C1_A_L.csv to C:\\Users\\dhers\\OneDrive - UBA\\workshop\\2024-11_TORM-Tg-9m\\TS\\position\\2024-11_TORM-Tg-9m_TS_C1_A_L_position.csv\n",
      "Renamed: C:\\Users\\dhers\\OneDrive - UBA\\workshop\\2024-11_TORM-Tg-9m\\TS\\position\\2024-11_TORM-Tg-9m_TS_C1_A_R.csv to C:\\Users\\dhers\\OneDrive - UBA\\workshop\\2024-11_TORM-Tg-9m\\TS\\position\\2024-11_TORM-Tg-9m_TS_C1_A_R_position.csv\n",
      "Renamed: C:\\Users\\dhers\\OneDrive - UBA\\workshop\\2024-11_TORM-Tg-9m\\TS\\position\\2024-11_TORM-Tg-9m_TS_C1_B_L.csv to C:\\Users\\dhers\\OneDrive - UBA\\workshop\\2024-11_TORM-Tg-9m\\TS\\position\\2024-11_TORM-Tg-9m_TS_C1_B_L_position.csv\n",
      "Renamed: C:\\Users\\dhers\\OneDrive - UBA\\workshop\\2024-11_TORM-Tg-9m\\TS\\position\\2024-11_TORM-Tg-9m_TS_C2_A_L.csv to C:\\Users\\dhers\\OneDrive - UBA\\workshop\\2024-11_TORM-Tg-9m\\TS\\position\\2024-11_TORM-Tg-9m_TS_C2_A_L_position.csv\n",
      "Renamed: C:\\Users\\dhers\\OneDrive - UBA\\workshop\\2024-11_TORM-Tg-9m\\TS\\position\\2024-11_TORM-Tg-9m_TS_C2_A_R.csv to C:\\Users\\dhers\\OneDrive - UBA\\workshop\\2024-11_TORM-Tg-9m\\TS\\position\\2024-11_TORM-Tg-9m_TS_C2_A_R_position.csv\n",
      "Renamed: C:\\Users\\dhers\\OneDrive - UBA\\workshop\\2024-11_TORM-Tg-9m\\TS\\position\\2024-11_TORM-Tg-9m_TS_C2_B_L.csv to C:\\Users\\dhers\\OneDrive - UBA\\workshop\\2024-11_TORM-Tg-9m\\TS\\position\\2024-11_TORM-Tg-9m_TS_C2_B_L_position.csv\n",
      "Renamed: C:\\Users\\dhers\\OneDrive - UBA\\workshop\\2024-11_TORM-Tg-9m\\TS\\position\\2024-11_TORM-Tg-9m_TS_C3_A_L.csv to C:\\Users\\dhers\\OneDrive - UBA\\workshop\\2024-11_TORM-Tg-9m\\TS\\position\\2024-11_TORM-Tg-9m_TS_C3_A_L_position.csv\n",
      "Renamed: C:\\Users\\dhers\\OneDrive - UBA\\workshop\\2024-11_TORM-Tg-9m\\TS\\position\\2024-11_TORM-Tg-9m_TS_C3_A_R.csv to C:\\Users\\dhers\\OneDrive - UBA\\workshop\\2024-11_TORM-Tg-9m\\TS\\position\\2024-11_TORM-Tg-9m_TS_C3_A_R_position.csv\n",
      "Renamed: C:\\Users\\dhers\\OneDrive - UBA\\workshop\\2024-11_TORM-Tg-9m\\TS\\position\\2024-11_TORM-Tg-9m_TS_C3_B_L.csv to C:\\Users\\dhers\\OneDrive - UBA\\workshop\\2024-11_TORM-Tg-9m\\TS\\position\\2024-11_TORM-Tg-9m_TS_C3_B_L_position.csv\n",
      "Renamed: C:\\Users\\dhers\\OneDrive - UBA\\workshop\\2024-11_TORM-Tg-9m\\TS\\position\\2024-11_TORM-Tg-9m_TS_C4_B_L.csv to C:\\Users\\dhers\\OneDrive - UBA\\workshop\\2024-11_TORM-Tg-9m\\TS\\position\\2024-11_TORM-Tg-9m_TS_C4_B_L_position.csv\n",
      "Renamed: C:\\Users\\dhers\\OneDrive - UBA\\workshop\\2024-11_TORM-Tg-9m\\TS\\position\\2024-11_TORM-Tg-9m_TS_C4_B_R.csv to C:\\Users\\dhers\\OneDrive - UBA\\workshop\\2024-11_TORM-Tg-9m\\TS\\position\\2024-11_TORM-Tg-9m_TS_C4_B_R_position.csv\n",
      "Renamed: C:\\Users\\dhers\\OneDrive - UBA\\workshop\\2024-11_TORM-Tg-9m\\TS\\position\\2024-11_TORM-Tg-9m_TS_C5_A_L.csv to C:\\Users\\dhers\\OneDrive - UBA\\workshop\\2024-11_TORM-Tg-9m\\TS\\position\\2024-11_TORM-Tg-9m_TS_C5_A_L_position.csv\n",
      "Renamed: C:\\Users\\dhers\\OneDrive - UBA\\workshop\\2024-11_TORM-Tg-9m\\TS\\position\\2024-11_TORM-Tg-9m_TS_C5_A_R.csv to C:\\Users\\dhers\\OneDrive - UBA\\workshop\\2024-11_TORM-Tg-9m\\TS\\position\\2024-11_TORM-Tg-9m_TS_C5_A_R_position.csv\n",
      "Renamed: C:\\Users\\dhers\\OneDrive - UBA\\workshop\\2024-11_TORM-Tg-9m\\TS\\position\\2024-11_TORM-Tg-9m_TS_C5_B_L.csv to C:\\Users\\dhers\\OneDrive - UBA\\workshop\\2024-11_TORM-Tg-9m\\TS\\position\\2024-11_TORM-Tg-9m_TS_C5_B_L_position.csv\n",
      "Renamed: C:\\Users\\dhers\\OneDrive - UBA\\workshop\\2024-11_TORM-Tg-9m\\TS\\position\\2024-11_TORM-Tg-9m_TS_C6_A_L.csv to C:\\Users\\dhers\\OneDrive - UBA\\workshop\\2024-11_TORM-Tg-9m\\TS\\position\\2024-11_TORM-Tg-9m_TS_C6_A_L_position.csv\n",
      "Renamed: C:\\Users\\dhers\\OneDrive - UBA\\workshop\\2024-11_TORM-Tg-9m\\TS\\position\\2024-11_TORM-Tg-9m_TS_C6_A_R.csv to C:\\Users\\dhers\\OneDrive - UBA\\workshop\\2024-11_TORM-Tg-9m\\TS\\position\\2024-11_TORM-Tg-9m_TS_C6_A_R_position.csv\n",
      "Renamed: C:\\Users\\dhers\\OneDrive - UBA\\workshop\\2024-11_TORM-Tg-9m\\TS\\position\\2024-11_TORM-Tg-9m_TS_C6_B_R.csv to C:\\Users\\dhers\\OneDrive - UBA\\workshop\\2024-11_TORM-Tg-9m\\TS\\position\\2024-11_TORM-Tg-9m_TS_C6_B_R_position.csv\n"
     ]
    }
   ],
   "source": [
    "folder_path = r'C:\\Users\\dhers\\OneDrive - UBA\\workshop\\2024-11_TORM-Tg-9m\\TS\\position'\n",
    "before = '.csv'\n",
    "after = '_position.csv'\n",
    "\n",
    "rename_files(folder_path, before, after)"
   ]
  },
  {
   "cell_type": "code",
   "execution_count": null,
   "metadata": {},
   "outputs": [],
   "source": [
    "import pandas as pd\n",
    "\n",
    "def replace_word_in_csv(folder_path, old_word, new_word):\n",
    "    # Iterate through all files in the folder\n",
    "    for filename in os.listdir(folder_path):\n",
    "        if filename.endswith(\".csv\"):  # Process only CSV files\n",
    "            file_path = os.path.join(folder_path, filename)\n",
    "            \n",
    "            try:\n",
    "                # Load the CSV file into a DataFrame\n",
    "                df = pd.read_csv(file_path, header=None)\n",
    "                \n",
    "                # Replace occurrences of the old word with the new word\n",
    "                df.replace(old_word, new_word, inplace=True)\n",
    "                \n",
    "                # Save the modified DataFrame back to the same file\n",
    "                df.to_csv(file_path, index=False, header=False)\n",
    "                \n",
    "                print(f\"Processed file: {filename}\")\n",
    "            except Exception as e:\n",
    "                print(f\"Failed to process file: {filename}. Error: {e}\")"
   ]
  },
  {
   "cell_type": "code",
   "execution_count": null,
   "metadata": {},
   "outputs": [],
   "source": [
    "folder_path = r\"C:\\Users\\dhers\\OneDrive - UBA\\workshop\\Interferencia\\TS\\labels\"  # Replace with your folder path\n",
    "old_word = \"Right\"\n",
    "new_word = \"obj_2\"\n",
    "\n",
    "replace_word_in_csv(folder_path, old_word, new_word)"
   ]
  }
 ],
 "metadata": {
  "kernelspec": {
   "display_name": "storm",
   "language": "python",
   "name": "python3"
  },
  "language_info": {
   "codemirror_mode": {
    "name": "ipython",
    "version": 3
   },
   "file_extension": ".py",
   "mimetype": "text/x-python",
   "name": "python",
   "nbconvert_exporter": "python",
   "pygments_lexer": "ipython3",
   "version": "3.10.15"
  }
 },
 "nbformat": 4,
 "nbformat_minor": 2
}
