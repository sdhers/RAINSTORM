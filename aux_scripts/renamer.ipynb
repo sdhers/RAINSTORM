{
 "cells": [
  {
   "cell_type": "markdown",
   "metadata": {},
   "source": [
    "@author: Santiago D'hers\n",
    "\n",
    "Use:\n",
    "\n",
    "- This notebook helps me rename file names, or its content"
   ]
  },
  {
   "cell_type": "code",
   "execution_count": 17,
   "metadata": {},
   "outputs": [],
   "source": [
    "import os\n",
    "\n",
    "def rename_files(folder, before, after):\n",
    "    # Get a list of all files in the specified folder\n",
    "    files = os.listdir(folder)\n",
    "    \n",
    "    for file_name in files:\n",
    "        # Check if 'before' is in the file name\n",
    "        if before in file_name:\n",
    "            # Construct the new file name\n",
    "            new_name = file_name.replace(before, after)\n",
    "            # Construct full file paths\n",
    "            old_file = os.path.join(folder, file_name)\n",
    "            new_file = os.path.join(folder, new_name)\n",
    "            # Rename the file\n",
    "            os.rename(old_file, new_file)\n",
    "            print(f'Renamed: {old_file} to {new_file}')"
   ]
  },
  {
   "cell_type": "code",
   "execution_count": null,
   "metadata": {},
   "outputs": [
    {
     "name": "stdout",
     "output_type": "stream",
     "text": [
      "Renamed: C:\\Users\\dhers\\Desktop\\RAINSTORM\\docs\\examples\\position_files\\2024-09_NOR_Hab_C1_A_RDLC_resnet50_shuffle2_200000.h5 to C:\\Users\\dhers\\Desktop\\RAINSTORM\\docs\\examples\\position_files\\2024-09_NOR_Hab_C1_BDLC_resnet50_shuffle2_200000.h5\n",
      "Renamed: C:\\Users\\dhers\\Desktop\\RAINSTORM\\docs\\examples\\position_files\\2024-09_NOR_Hab_C3_A_RDLC_resnet50_shuffle2_200000.h5 to C:\\Users\\dhers\\Desktop\\RAINSTORM\\docs\\examples\\position_files\\2024-09_NOR_Hab_C3_BDLC_resnet50_shuffle2_200000.h5\n",
      "Renamed: C:\\Users\\dhers\\Desktop\\RAINSTORM\\docs\\examples\\position_files\\2024-09_NOR_Hab_C5_A_RDLC_resnet50_shuffle2_200000.h5 to C:\\Users\\dhers\\Desktop\\RAINSTORM\\docs\\examples\\position_files\\2024-09_NOR_Hab_C5_BDLC_resnet50_shuffle2_200000.h5\n",
      "Renamed: C:\\Users\\dhers\\Desktop\\RAINSTORM\\docs\\examples\\position_files\\2024-09_NOR_TR_C1_A_RDLC_resnet50_shuffle2_200000.h5 to C:\\Users\\dhers\\Desktop\\RAINSTORM\\docs\\examples\\position_files\\2024-09_NOR_TR_C1_BDLC_resnet50_shuffle2_200000.h5\n",
      "Renamed: C:\\Users\\dhers\\Desktop\\RAINSTORM\\docs\\examples\\position_files\\2024-09_NOR_TR_C3_A_RDLC_resnet50_shuffle2_200000.h5 to C:\\Users\\dhers\\Desktop\\RAINSTORM\\docs\\examples\\position_files\\2024-09_NOR_TR_C3_BDLC_resnet50_shuffle2_200000.h5\n",
      "Renamed: C:\\Users\\dhers\\Desktop\\RAINSTORM\\docs\\examples\\position_files\\2024-09_NOR_TR_C5_A_RDLC_resnet50_shuffle2_200000.h5 to C:\\Users\\dhers\\Desktop\\RAINSTORM\\docs\\examples\\position_files\\2024-09_NOR_TR_C5_BDLC_resnet50_shuffle2_200000.h5\n",
      "Renamed: C:\\Users\\dhers\\Desktop\\RAINSTORM\\docs\\examples\\position_files\\2024-09_NOR_TS_C1_A_RDLC_resnet50_shuffle2_200000.h5 to C:\\Users\\dhers\\Desktop\\RAINSTORM\\docs\\examples\\position_files\\2024-09_NOR_TS_C1_BDLC_resnet50_shuffle2_200000.h5\n",
      "Renamed: C:\\Users\\dhers\\Desktop\\RAINSTORM\\docs\\examples\\position_files\\2024-09_NOR_TS_C3_A_RDLC_resnet50_shuffle2_200000.h5 to C:\\Users\\dhers\\Desktop\\RAINSTORM\\docs\\examples\\position_files\\2024-09_NOR_TS_C3_BDLC_resnet50_shuffle2_200000.h5\n",
      "Renamed: C:\\Users\\dhers\\Desktop\\RAINSTORM\\docs\\examples\\position_files\\2024-09_NOR_TS_C5_A_RDLC_resnet50_shuffle2_200000.h5 to C:\\Users\\dhers\\Desktop\\RAINSTORM\\docs\\examples\\position_files\\2024-09_NOR_TS_C5_BDLC_resnet50_shuffle2_200000.h5\n"
     ]
    }
   ],
   "source": [
    "folder_path = r'C:\\Users\\dhers\\Desktop\\RAINSTORM\\docs\\examples\\position_files'\n",
    "before = 'DLC_resnet50_VaderDec1shuffle1_200000'\n",
    "after = '_position'\n",
    "\n",
    "rename_files(folder_path, before, after)"
   ]
  },
  {
   "cell_type": "code",
   "execution_count": 19,
   "metadata": {},
   "outputs": [],
   "source": [
    "import pandas as pd\n",
    "\n",
    "def replace_word_in_csv(folder_path, old_word, new_word):\n",
    "    # Iterate through all files in the folder\n",
    "    for filename in os.listdir(folder_path):\n",
    "        if filename.endswith(\".csv\"):  # Process only CSV files\n",
    "            file_path = os.path.join(folder_path, filename)\n",
    "            \n",
    "            try:\n",
    "                # Load the CSV file into a DataFrame\n",
    "                df = pd.read_csv(file_path, header=None)\n",
    "                \n",
    "                # Replace occurrences of the old word with the new word\n",
    "                df.replace(old_word, new_word, inplace=True)\n",
    "                \n",
    "                # Save the modified DataFrame back to the same file\n",
    "                df.to_csv(file_path, index=False, header=False)\n",
    "                \n",
    "                print(f\"Processed file: {filename}\")\n",
    "            except Exception as e:\n",
    "                print(f\"Failed to process file: {filename}. Error: {e}\")"
   ]
  },
  {
   "cell_type": "code",
   "execution_count": 20,
   "metadata": {},
   "outputs": [
    {
     "name": "stdout",
     "output_type": "stream",
     "text": [
      "Processed file: 2023-11_Interferencia_TS_R01_C01_A_L_labels.csv\n",
      "Processed file: 2023-11_Interferencia_TS_R02_C01_A_R_labels.csv\n",
      "Processed file: 2023-11_Interferencia_TS_R03_C01_B_L_labels.csv\n",
      "Processed file: 2023-11_Interferencia_TS_R04_C01_B_R_labels.csv\n",
      "Processed file: 2023-11_Interferencia_TS_R05_C02_A_L_labels.csv\n",
      "Processed file: 2023-11_Interferencia_TS_R06_C02_A_R_labels.csv\n",
      "Processed file: 2023-11_Interferencia_TS_R07_C02_B_L_labels.csv\n",
      "Processed file: 2023-11_Interferencia_TS_R08_C03_B_R_labels.csv\n",
      "Processed file: 2023-11_Interferencia_TS_R09_C03_A_L_labels.csv\n",
      "Processed file: 2023-11_Interferencia_TS_R10_C03_A_R_labels.csv\n",
      "Processed file: 2023-11_Interferencia_TS_R11_C04_B_L_labels.csv\n",
      "Processed file: 2023-11_Interferencia_TS_R12_C04_B_R_labels.csv\n",
      "Processed file: 2023-11_Interferencia_TS_R13_C04_B_L_labels.csv\n",
      "Processed file: 2023-11_Interferencia_TS_R14_C05_B_R_labels.csv\n",
      "Processed file: 2023-11_Interferencia_TS_R15_C05_A_L_labels.csv\n",
      "Processed file: 2023-11_Interferencia_TS_R16_C05_A_R_labels.csv\n",
      "Processed file: 2023-11_Interferencia_TS_R17_C06_B_L_labels.csv\n",
      "Processed file: 2023-11_Interferencia_TS_R18_C06_B_R_labels.csv\n",
      "Processed file: 2023-11_Interferencia_TS_R19_C06_A_L_labels.csv\n",
      "Processed file: 2023-11_Interferencia_TS_R20_C06_A_R_labels.csv\n",
      "Processed file: 2023-11_Interferencia_TS_R21_C07_B_L_labels.csv\n",
      "Processed file: 2023-11_Interferencia_TS_R22_C07_B_R_labels.csv\n",
      "Processed file: 2023-11_Interferencia_TS_R23_C07_B_L_labels.csv\n",
      "Processed file: 2023-11_Interferencia_TS_R24_C07_B_R_labels.csv\n",
      "Processed file: 2023-11_Interferencia_TS_R25_C08_A_L_labels.csv\n",
      "Processed file: 2023-11_Interferencia_TS_R26_C08_A_R_labels.csv\n",
      "Processed file: 2023-11_Interferencia_TS_R27_C08_A_L_labels.csv\n",
      "Processed file: 2023-11_Interferencia_TS_R28_C17_A_L_labels.csv\n",
      "Processed file: 2023-11_Interferencia_TS_R29_C17_A_R_labels.csv\n",
      "Processed file: 2023-11_Interferencia_TS_R30_C17_B_L_labels.csv\n",
      "Processed file: 2023-11_Interferencia_TS_R31_C17_B_R_labels.csv\n",
      "Processed file: 2023-11_Interferencia_TS_R32_C18_A_L_labels.csv\n",
      "Processed file: 2023-11_Interferencia_TS_R33_C18_A_R_labels.csv\n",
      "Processed file: 2023-11_Interferencia_TS_R34_C18_B_L_labels.csv\n",
      "Processed file: 2023-11_Interferencia_TS_R35_C18_B_R_labels.csv\n",
      "Processed file: 2023-11_Interferencia_TS_R36_C19_A_L_labels.csv\n",
      "Processed file: 2023-11_Interferencia_TS_R37_C19_A_R_labels.csv\n",
      "Processed file: 2023-11_Interferencia_TS_R38_C20_B_L_labels.csv\n",
      "Processed file: 2023-11_Interferencia_TS_R39_C20_B_R_labels.csv\n",
      "Processed file: 2023-11_Interferencia_TS_R40_C21_B_L_labels.csv\n",
      "Processed file: 2023-11_Interferencia_TS_R41_C21_B_R_labels.csv\n",
      "Processed file: 2023-11_Interferencia_TS_R42_C21_A_R_labels.csv\n",
      "Processed file: 2023-11_Interferencia_TS_R43_C22_A_L_labels.csv\n",
      "Processed file: 2023-11_Interferencia_TS_R44_C22_A_R_labels.csv\n",
      "Processed file: 2023-11_Interferencia_TS_R45_C22_B_L_labels.csv\n",
      "Processed file: 2023-11_Interferencia_TS_R46_C22_B_R_labels.csv\n",
      "Processed file: 2023-11_Interferencia_TS_R47_C23_A_L_labels.csv\n",
      "Processed file: 2023-11_Interferencia_TS_R48_C23_A_R_labels.csv\n"
     ]
    }
   ],
   "source": [
    "folder_path = r\"C:\\Users\\dhers\\OneDrive - UBA\\workshop\\Interferencia\\TS\\labels\"  # Replace with your folder path\n",
    "old_word = \"Right\"\n",
    "new_word = \"obj_2\"\n",
    "\n",
    "replace_word_in_csv(folder_path, old_word, new_word)"
   ]
  }
 ],
 "metadata": {
  "kernelspec": {
   "display_name": "storm",
   "language": "python",
   "name": "python3"
  },
  "language_info": {
   "codemirror_mode": {
    "name": "ipython",
    "version": 3
   },
   "file_extension": ".py",
   "mimetype": "text/x-python",
   "name": "python",
   "nbconvert_exporter": "python",
   "pygments_lexer": "ipython3",
   "version": "3.10.15"
  }
 },
 "nbformat": 4,
 "nbformat_minor": 2
}
