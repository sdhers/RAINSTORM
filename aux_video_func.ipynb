{
 "cells": [
  {
   "cell_type": "code",
   "execution_count": null,
   "metadata": {},
   "outputs": [
    {
     "name": "stdout",
     "output_type": "stream",
     "text": [
      "The video has been resized from 800x600 to 960x720 and saved as c:\\Users\\dhers\\Desktop\\resized\\Hab_10_A2024-12-16T14_56_13.avi.\n"
     ]
    }
   ],
   "source": [
    "import cv2\n",
    "\n",
    "# Function to resize the video\n",
    "def resize_video(input_path, output_path, width, height):\n",
    "    # Capture the input video\n",
    "    cap = cv2.VideoCapture(input_path)\n",
    "    \n",
    "    # Get the original video's width and height\n",
    "    original_width = int(cap.get(cv2.CAP_PROP_FRAME_WIDTH))\n",
    "    original_height = int(cap.get(cv2.CAP_PROP_FRAME_HEIGHT))\n",
    "    \n",
    "    # Define the codec and create VideoWriter object\n",
    "    fourcc = cv2.VideoWriter_fourcc(*'mp4v')\n",
    "    out = cv2.VideoWriter(output_path, fourcc, 30.0, (width, height))\n",
    "    \n",
    "    while cap.isOpened():\n",
    "        ret, frame = cap.read()\n",
    "        if not ret:\n",
    "            break\n",
    "        \n",
    "        # Resize the frame\n",
    "        resized_frame = cv2.resize(frame, (width, height))\n",
    "        \n",
    "        # Write the resized frame to the output video\n",
    "        out.write(resized_frame)\n",
    "    \n",
    "    # Release everything if job is finished\n",
    "    cap.release()\n",
    "    out.release()\n",
    "\n",
    "# Example usage\n",
    "input_video_path = r'c:\\Users\\dhers\\Desktop\\Hab_10_A2024-12-16T14_56_13.avi'\n",
    "output_video_path = r'c:\\Users\\dhers\\Desktop\\resized\\Hab_10_A2024-12-16T14_56_13.avi'\n",
    "new_width = 960\n",
    "new_height = 720\n",
    "\n",
    "resize_video(input_video_path, output_video_path, new_width, new_height)\n",
    "\n",
    "print(f\"The video has been resized from 800x600 to {new_width}x{new_height} and saved as {output_video_path}.\")"
   ]
  },
  {
   "cell_type": "code",
   "execution_count": 11,
   "metadata": {},
   "outputs": [
    {
     "name": "stdout",
     "output_type": "stream",
     "text": [
      "The video has 4958 frames.\n"
     ]
    }
   ],
   "source": [
    "import cv2\n",
    "\n",
    "# Function to get the number of frames in a video\n",
    "def get_frame_count(video_path):\n",
    "    # Capture the video\n",
    "    cap = cv2.VideoCapture(video_path)\n",
    "    \n",
    "    # Get the frame count\n",
    "    frame_count = int(cap.get(cv2.CAP_PROP_FRAME_COUNT))\n",
    "    \n",
    "    # Release the video capture object\n",
    "    cap.release()\n",
    "    \n",
    "    return frame_count\n",
    "\n",
    "# Example usage\n",
    "video_path = r'e:\\Guille\\Social\\Hab_10_A2024-12-17T19_14_44.avi'\n",
    "frame_count = get_frame_count(video_path)\n",
    "\n",
    "print(f\"The video has {frame_count} frames.\")"
   ]
  },
  {
   "cell_type": "code",
   "execution_count": 15,
   "metadata": {},
   "outputs": [],
   "source": [
    "import cv2\n",
    "import os\n",
    "\n",
    "# Function to resize the video\n",
    "def reframe_video(input_path, output_path, fps):\n",
    "    # Capture the input video\n",
    "    cap = cv2.VideoCapture(input_path)\n",
    "\n",
    "    # Get the original video's width and height\n",
    "    width = int(cap.get(cv2.CAP_PROP_FRAME_WIDTH))\n",
    "    height = int(cap.get(cv2.CAP_PROP_FRAME_HEIGHT))\n",
    "    \n",
    "    # Define the codec and create VideoWriter object\n",
    "    fourcc = cv2.VideoWriter_fourcc(*'mp4v')\n",
    "    out = cv2.VideoWriter(output_path, fourcc, fps, (width, height))\n",
    "\n",
    "    while cap.isOpened():\n",
    "        ret, frame = cap.read()\n",
    "        if not ret:\n",
    "            break\n",
    "        \n",
    "        # Write the resized frame to the output video\n",
    "        out.write(frame)\n",
    "    \n",
    "    # Release everything if job is finished\n",
    "    cap.release()\n",
    "    out.release()\n",
    "\n",
    "video_folder = r'c:\\Users\\dhers\\Desktop\\resized'\n",
    "for file in os.listdir(video_folder):\n",
    "    input_path = os.path.join(video_folder, file)\n",
    "    output_path = os.path.join(video_folder, f\"reframed_{file}\")\n",
    "\n",
    "    reframe_video(input_path, output_path, fps = 15.0)\n"
   ]
  }
 ],
 "metadata": {
  "kernelspec": {
   "display_name": "rainstorm",
   "language": "python",
   "name": "python3"
  },
  "language_info": {
   "codemirror_mode": {
    "name": "ipython",
    "version": 3
   },
   "file_extension": ".py",
   "mimetype": "text/x-python",
   "name": "python",
   "nbconvert_exporter": "python",
   "pygments_lexer": "ipython3",
   "version": "3.9.21"
  }
 },
 "nbformat": 4,
 "nbformat_minor": 2
}
