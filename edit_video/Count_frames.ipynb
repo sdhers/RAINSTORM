{
 "cells": [
  {
   "cell_type": "code",
   "execution_count": 1,
   "metadata": {},
   "outputs": [],
   "source": [
    "import cv2\n",
    "import os\n",
    "\n",
    "def get_video_info(video_path):\n",
    "    cap = cv2.VideoCapture(video_path)\n",
    "    if not cap.isOpened():\n",
    "        print(f\"Error: Could not open video file {video_path}\")\n",
    "        return -1, None, None, None\n",
    "    \n",
    "    total_frames = int(cap.get(cv2.CAP_PROP_FRAME_COUNT))\n",
    "    width = int(cap.get(cv2.CAP_PROP_FRAME_WIDTH))\n",
    "    height = int(cap.get(cv2.CAP_PROP_FRAME_HEIGHT))\n",
    "    file_size = os.path.getsize(video_path)\n",
    "    \n",
    "    cap.release()\n",
    "    \n",
    "    return total_frames, (width, height), file_size"
   ]
  },
  {
   "cell_type": "code",
   "execution_count": 4,
   "metadata": {},
   "outputs": [
    {
     "name": "stdout",
     "output_type": "stream",
     "text": [
      "2024-09_Tg-1y_Hab1_R01_C03-i_A_L.mp4 has 9000 frames, is 480x320 and 6.486433 Mb\n",
      "2024-09_Tg-1y_Hab1_R02_C03-d_A_R.mp4 has 9000 frames, is 480x320 and 6.395111 Mb\n",
      "2024-09_Tg-1y_Hab1_R03_C03-a_B_R.mp4 has 9000 frames, is 480x320 and 6.418608 Mb\n",
      "2024-09_Tg-1y_Hab1_R04_C04-i_A_L.mp4 has 9000 frames, is 480x320 and 6.487402 Mb\n",
      "2024-09_Tg-1y_Hab1_R05_C04-d_A_R.mp4 has 9000 frames, is 480x320 and 6.525096 Mb\n",
      "2024-09_Tg-1y_Hab1_R07_C05-i_B_L.mp4 has 9000 frames, is 480x320 and 5.515069 Mb\n",
      "2024-09_Tg-1y_Hab1_R08_C05-a_B_R.mp4 has 9000 frames, is 480x320 and 5.384901 Mb\n",
      "2024-09_Tg-1y_Hab1_R09_C06-i_A_L.mp4 has 9000 frames, is 480x320 and 6.607619 Mb\n",
      "2024-09_Tg-1y_Hab2_R01_C03-i_A_L.mp4 has 27000 frames, is 480x320 and 19.722503 Mb\n",
      "2024-09_Tg-1y_Hab2_R02_C03-d_A_R.mp4 has 27000 frames, is 480x320 and 19.293655 Mb\n",
      "2024-09_Tg-1y_Hab2_R03_C03-a_B_R.mp4 has 27000 frames, is 480x320 and 20.242524 Mb\n",
      "2024-09_Tg-1y_Hab2_R04_C04-i_A_L.mp4 has 27000 frames, is 480x320 and 18.819263 Mb\n",
      "2024-09_Tg-1y_Hab2_R05_C04-d_A_R.mp4 has 27000 frames, is 480x320 and 18.590457 Mb\n",
      "2024-09_Tg-1y_Hab2_R07_C05-i_B_L.mp4 has 27000 frames, is 480x320 and 17.567066 Mb\n",
      "2024-09_Tg-1y_Hab2_R08_C05-a_B_R.mp4 has 27000 frames, is 480x320 and 16.765555 Mb\n",
      "2024-09_Tg-1y_Hab2_R09_C06-i_A_L.mp4 has 27000 frames, is 480x320 and 17.367934 Mb\n",
      "2024-09_Tg-1y_TR1_R01_C03-i_A_L.mp4 has 27000 frames, is 720x480 and 54.793635 Mb\n",
      "2024-09_Tg-1y_TR1_R02_C03-d_A_R.mp4 has 27000 frames, is 720x480 and 56.501633 Mb\n",
      "2024-09_Tg-1y_TR1_R03_C03-a_B_R.mp4 has 27000 frames, is 720x480 and 48.48592 Mb\n",
      "2024-09_Tg-1y_TR1_R04_C04-i_A_L.mp4 has 27000 frames, is 720x480 and 53.85504 Mb\n",
      "2024-09_Tg-1y_TR1_R05_C04-d_A_R.mp4 has 27000 frames, is 720x480 and 57.143269 Mb\n",
      "2024-09_Tg-1y_TR1_R07_C05-i_B_L.mp4 has 27000 frames, is 720x480 and 47.05607 Mb\n",
      "2024-09_Tg-1y_TR1_R08_C05-a_B_R.mp4 has 27000 frames, is 720x480 and 44.216687 Mb\n",
      "2024-09_Tg-1y_TR1_R09_C06-i_A_L.mp4 has 27000 frames, is 720x480 and 52.873091 Mb\n",
      "2024-09_Tg-1y_TR2_R01_C03-i_A_L.mp4 has 27000 frames, is 720x480 and 52.599723 Mb\n",
      "2024-09_Tg-1y_TR2_R02_C03-d_A_R.mp4 has 27000 frames, is 720x480 and 54.657868 Mb\n",
      "2024-09_Tg-1y_TR2_R03_C03-a_B_R.mp4 has 27000 frames, is 720x480 and 49.70512 Mb\n",
      "2024-09_Tg-1y_TR2_R04_C04-i_A_L.mp4 has 27000 frames, is 720x480 and 53.824454 Mb\n",
      "2024-09_Tg-1y_TR2_R05_C04-d_A_R.mp4 has 27000 frames, is 720x480 and 52.924365 Mb\n",
      "2024-09_Tg-1y_TR2_R07_C05-i_B_L.mp4 has 27000 frames, is 720x480 and 49.027715 Mb\n",
      "2024-09_Tg-1y_TR2_R08_C05-a_B_R.mp4 has 27000 frames, is 720x480 and 46.29111 Mb\n",
      "2024-09_Tg-1y_TR2_R09_C06-i_A_L.mp4 has 27000 frames, is 720x480 and 55.254057 Mb\n",
      "2024-09_Tg-1y_TS_R01_C03-i_A_L.mp4 has 9000 frames, is 720x480 and 17.079638 Mb\n",
      "2024-09_Tg-1y_TS_R02_C03-d_A_R.mp4 has 9000 frames, is 720x480 and 17.241496 Mb\n",
      "2024-09_Tg-1y_TS_R03_C03-a_B_R.mp4 has 9000 frames, is 720x480 and 17.043106 Mb\n",
      "2024-09_Tg-1y_TS_R04_C04-i_A_L.mp4 has 9000 frames, is 720x480 and 17.984978 Mb\n",
      "2024-09_Tg-1y_TS_R05_C04-d_A_R.mp4 has 9000 frames, is 720x480 and 17.499347 Mb\n",
      "2024-09_Tg-1y_TS_R07_C05-i_B_L.mp4 has 9000 frames, is 720x480 and 14.230458 Mb\n",
      "2024-09_Tg-1y_TS_R08_C05-a_B_R.mp4 has 9000 frames, is 720x480 and 14.269424 Mb\n",
      "2024-09_Tg-1y_TS_R09_C06-i_A_L.mp4 has 9000 frames, is 720x480 and 17.26755 Mb\n"
     ]
    }
   ],
   "source": [
    "video_directory = r'C:\\Users\\dhers\\OneDrive - UBA\\NOR videos\\3xTg\\1st_batch\\2024-09_Tg-1y'\n",
    "\n",
    "for file in os.listdir(video_directory):\n",
    "    video_path = os.path.join(video_directory, file)\n",
    "    if os.path.isfile(video_path) and file.lower().endswith(('.mp4', '.avi', '.mov', '.mkv')):\n",
    "        frames, resolution, size = get_video_info(video_path)\n",
    "        print(f'{file} has {frames} frames, is {resolution[0]}x{resolution[1]} and {size/1000000} Mb')\n",
    "    else:\n",
    "        print(f'{file} is not a video file.')"
   ]
  },
  {
   "cell_type": "code",
   "execution_count": null,
   "metadata": {},
   "outputs": [],
   "source": []
  }
 ],
 "metadata": {
  "kernelspec": {
   "display_name": "TBNSS",
   "language": "python",
   "name": "python3"
  },
  "language_info": {
   "codemirror_mode": {
    "name": "ipython",
    "version": 3
   },
   "file_extension": ".py",
   "mimetype": "text/x-python",
   "name": "python",
   "nbconvert_exporter": "python",
   "pygments_lexer": "ipython3",
   "version": "3.10.14"
  }
 },
 "nbformat": 4,
 "nbformat_minor": 2
}
