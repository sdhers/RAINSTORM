{
 "cells": [
  {
   "cell_type": "code",
   "execution_count": 2,
   "metadata": {},
   "outputs": [],
   "source": [
    "import cv2\n",
    "import os\n",
    "\n",
    "def get_video_info(video_path):\n",
    "    cap = cv2.VideoCapture(video_path)\n",
    "    if not cap.isOpened():\n",
    "        print(f\"Error: Could not open video file {video_path}\")\n",
    "        return -1, None, None, None\n",
    "    \n",
    "    total_frames = int(cap.get(cv2.CAP_PROP_FRAME_COUNT))\n",
    "    width = int(cap.get(cv2.CAP_PROP_FRAME_WIDTH))\n",
    "    height = int(cap.get(cv2.CAP_PROP_FRAME_HEIGHT))\n",
    "    file_size = os.path.getsize(video_path)\n",
    "    \n",
    "    cap.release()\n",
    "    \n",
    "    return total_frames, (width, height), file_size"
   ]
  },
  {
   "cell_type": "code",
   "execution_count": 4,
   "metadata": {},
   "outputs": [
    {
     "name": "stdout",
     "output_type": "stream",
     "text": [
      "2024-09_Tg-1y_TS_C03_A.avi has 10909 frames, is 960x720 and 120.610928 Mb\n",
      "2024-09_Tg-1y_TS_C03_B.avi has 10909 frames, is 960x720 and 88.093588 Mb\n",
      "2024-09_Tg-1y_TS_C04_A.avi has 10909 frames, is 960x720 and 123.188306 Mb\n",
      "2024-09_Tg-1y_TS_C06_A.avi has 10909 frames, is 960x720 and 99.988434 Mb\n",
      "2024-09_Tg-1y_TS_C08_B.avi has 10909 frames, is 960x720 and 92.694602 Mb\n",
      "Chopped videos is not a video file.\n"
     ]
    }
   ],
   "source": [
    "video_directory = r'C:\\Users\\dhers\\Desktop\\Bonsai_output\\TORM\\TS'\n",
    "\n",
    "for file in os.listdir(video_directory):\n",
    "    video_path = os.path.join(video_directory, file)\n",
    "    if os.path.isfile(video_path) and file.lower().endswith(('.mp4', '.avi', '.mov', '.mkv')):\n",
    "        frames, resolution, size = get_video_info(video_path)\n",
    "        print(f'{file} has {frames} frames, is {resolution[0]}x{resolution[1]} and {size/1000000} Mb')\n",
    "    else:\n",
    "        print(f'{file} is not a video file.')"
   ]
  },
  {
   "cell_type": "code",
   "execution_count": null,
   "metadata": {},
   "outputs": [],
   "source": []
  }
 ],
 "metadata": {
  "kernelspec": {
   "display_name": "TBNSS",
   "language": "python",
   "name": "python3"
  },
  "language_info": {
   "codemirror_mode": {
    "name": "ipython",
    "version": 3
   },
   "file_extension": ".py",
   "mimetype": "text/x-python",
   "name": "python",
   "nbconvert_exporter": "python",
   "pygments_lexer": "ipython3",
   "version": "3.10.14"
  }
 },
 "nbformat": 4,
 "nbformat_minor": 2
}
