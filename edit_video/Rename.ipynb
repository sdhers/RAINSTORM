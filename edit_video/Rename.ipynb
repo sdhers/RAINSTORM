{
 "cells": [
  {
   "cell_type": "code",
   "execution_count": 1,
   "metadata": {},
   "outputs": [],
   "source": [
    "import os\n",
    "\n",
    "def rename_files(folder, before, after):\n",
    "    # Get a list of all files in the specified folder\n",
    "    files = os.listdir(folder)\n",
    "    \n",
    "    for file_name in files:\n",
    "        # Check if 'before' is in the file name\n",
    "        if before in file_name:\n",
    "            # Construct the new file name\n",
    "            new_name = file_name.replace(before, after)\n",
    "            # Construct full file paths\n",
    "            old_file = os.path.join(folder, file_name)\n",
    "            new_file = os.path.join(folder, new_name)\n",
    "            # Rename the file\n",
    "            os.rename(old_file, new_file)\n",
    "            print(f'Renamed: {old_file} to {new_file}')"
   ]
  },
  {
   "cell_type": "code",
   "execution_count": 2,
   "metadata": {},
   "outputs": [
    {
     "name": "stdout",
     "output_type": "stream",
     "text": [
      "Renamed: C:\\Users\\dhers\\OneDrive - UBA\\workshop\\2024-09_NOR-Tg-1y\\TS_01_A_L_T16_03_57.h5 to C:\\Users\\dhers\\OneDrive - UBA\\workshop\\2024-09_NOR-Tg-1y\\TS_01_A_L_T16_03_57_position.h5\n",
      "Renamed: C:\\Users\\dhers\\OneDrive - UBA\\workshop\\2024-09_NOR-Tg-1y\\TS_02_A_R_T16_03_57.h5 to C:\\Users\\dhers\\OneDrive - UBA\\workshop\\2024-09_NOR-Tg-1y\\TS_02_A_R_T16_03_57_position.h5\n",
      "Renamed: C:\\Users\\dhers\\OneDrive - UBA\\workshop\\2024-09_NOR-Tg-1y\\TS_03_B_L_T16_03_57.h5 to C:\\Users\\dhers\\OneDrive - UBA\\workshop\\2024-09_NOR-Tg-1y\\TS_03_B_L_T16_03_57_position.h5\n",
      "Renamed: C:\\Users\\dhers\\OneDrive - UBA\\workshop\\2024-09_NOR-Tg-1y\\TS_04_B_L_T16_13_11.h5 to C:\\Users\\dhers\\OneDrive - UBA\\workshop\\2024-09_NOR-Tg-1y\\TS_04_B_L_T16_13_11_position.h5\n",
      "Renamed: C:\\Users\\dhers\\OneDrive - UBA\\workshop\\2024-09_NOR-Tg-1y\\TS_05_B_R_T16_13_11.h5 to C:\\Users\\dhers\\OneDrive - UBA\\workshop\\2024-09_NOR-Tg-1y\\TS_05_B_R_T16_13_11_position.h5\n",
      "Renamed: C:\\Users\\dhers\\OneDrive - UBA\\workshop\\2024-09_NOR-Tg-1y\\TS_06_A_L_T16_14_10.h5 to C:\\Users\\dhers\\OneDrive - UBA\\workshop\\2024-09_NOR-Tg-1y\\TS_06_A_L_T16_14_10_position.h5\n",
      "Renamed: C:\\Users\\dhers\\OneDrive - UBA\\workshop\\2024-09_NOR-Tg-1y\\TS_07_A_R_T16_14_10.h5 to C:\\Users\\dhers\\OneDrive - UBA\\workshop\\2024-09_NOR-Tg-1y\\TS_07_A_R_T16_14_10_position.h5\n",
      "Renamed: C:\\Users\\dhers\\OneDrive - UBA\\workshop\\2024-09_NOR-Tg-1y\\TS_08_A_R_T16_39_25.h5 to C:\\Users\\dhers\\OneDrive - UBA\\workshop\\2024-09_NOR-Tg-1y\\TS_08_A_R_T16_39_25_position.h5\n",
      "Renamed: C:\\Users\\dhers\\OneDrive - UBA\\workshop\\2024-09_NOR-Tg-1y\\TS_09_B_L_T16_24_18.h5 to C:\\Users\\dhers\\OneDrive - UBA\\workshop\\2024-09_NOR-Tg-1y\\TS_09_B_L_T16_24_18_position.h5\n",
      "Renamed: C:\\Users\\dhers\\OneDrive - UBA\\workshop\\2024-09_NOR-Tg-1y\\TS_10_B_R_T16_24_18.h5 to C:\\Users\\dhers\\OneDrive - UBA\\workshop\\2024-09_NOR-Tg-1y\\TS_10_B_R_T16_24_18_position.h5\n"
     ]
    }
   ],
   "source": [
    "folder_path = r'C:\\Users\\dhers\\OneDrive - UBA\\workshop\\2024-09_NOR-Tg-1y'\n",
    "\n",
    "before = '.h5'\n",
    "\n",
    "after = '_position.h5'\n",
    "\n",
    "rename_files(folder_path, before, after)"
   ]
  },
  {
   "cell_type": "code",
   "execution_count": null,
   "metadata": {},
   "outputs": [],
   "source": []
  }
 ],
 "metadata": {
  "kernelspec": {
   "display_name": "TBNSS",
   "language": "python",
   "name": "python3"
  },
  "language_info": {
   "codemirror_mode": {
    "name": "ipython",
    "version": 3
   },
   "file_extension": ".py",
   "mimetype": "text/x-python",
   "name": "python",
   "nbconvert_exporter": "python",
   "pygments_lexer": "ipython3",
   "version": "3.10.14"
  }
 },
 "nbformat": 4,
 "nbformat_minor": 2
}
