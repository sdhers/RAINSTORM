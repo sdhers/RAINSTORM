{
 "cells": [
  {
   "cell_type": "code",
   "execution_count": 1,
   "metadata": {},
   "outputs": [],
   "source": [
    "import os\n",
    "\n",
    "def rename_files(folder, before, after):\n",
    "    # Get a list of all files in the specified folder\n",
    "    files = os.listdir(folder)\n",
    "    \n",
    "    for file_name in files:\n",
    "        # Check if 'before' is in the file name\n",
    "        if before in file_name:\n",
    "            # Construct the new file name\n",
    "            new_name = file_name.replace(before, after)\n",
    "            # Construct full file paths\n",
    "            old_file = os.path.join(folder, file_name)\n",
    "            new_file = os.path.join(folder, new_name)\n",
    "            # Rename the file\n",
    "            os.rename(old_file, new_file)\n",
    "            print(f'Renamed: {old_file} to {new_file}')"
   ]
  },
  {
   "cell_type": "code",
   "execution_count": 4,
   "metadata": {},
   "outputs": [
    {
     "name": "stdout",
     "output_type": "stream",
     "text": [
      "Renamed: C:\\Users\\dhers\\OneDrive - UBA\\workshop\\b2-TORM-Tg-6m\\2024-08_TORM-Tg-6m_TS_C2_A_R_position.h5 to C:\\Users\\dhers\\OneDrive - UBA\\workshop\\b2-TORM-Tg-6m\\2024-08_TORM-Tg-6m_TS_C2_C_R_position.h5\n"
     ]
    }
   ],
   "source": [
    "folder_path = r'C:\\Users\\dhers\\OneDrive - UBA\\workshop\\b2-TORM-Tg-6m'\n",
    "\n",
    "before = 'C2_A_R'\n",
    "\n",
    "after = 'C2_C_R'\n",
    "\n",
    "rename_files(folder_path, before, after)"
   ]
  },
  {
   "cell_type": "code",
   "execution_count": null,
   "metadata": {},
   "outputs": [],
   "source": []
  }
 ],
 "metadata": {
  "kernelspec": {
   "display_name": "dlc3",
   "language": "python",
   "name": "python3"
  },
  "language_info": {
   "codemirror_mode": {
    "name": "ipython",
    "version": 3
   },
   "file_extension": ".py",
   "mimetype": "text/x-python",
   "name": "python",
   "nbconvert_exporter": "python",
   "pygments_lexer": "ipython3",
   "version": "3.10.14"
  }
 },
 "nbformat": 4,
 "nbformat_minor": 2
}
