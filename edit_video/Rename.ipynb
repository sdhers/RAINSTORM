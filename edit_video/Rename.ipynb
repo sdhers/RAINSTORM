{
 "cells": [
  {
   "cell_type": "code",
   "execution_count": 2,
   "metadata": {},
   "outputs": [],
   "source": [
    "import os\n",
    "\n",
    "def rename_files(folder, before, after):\n",
    "    # Get a list of all files in the specified folder\n",
    "    files = os.listdir(folder)\n",
    "    \n",
    "    for file_name in files:\n",
    "        # Check if 'before' is in the file name\n",
    "        if before in file_name:\n",
    "            # Construct the new file name\n",
    "            new_name = file_name.replace(before, after)\n",
    "            # Construct full file paths\n",
    "            old_file = os.path.join(folder, file_name)\n",
    "            new_file = os.path.join(folder, new_name)\n",
    "            # Rename the file\n",
    "            os.rename(old_file, new_file)\n",
    "            print(f'Renamed: {old_file} to {new_file}')"
   ]
  },
  {
   "cell_type": "code",
   "execution_count": 3,
   "metadata": {},
   "outputs": [
    {
     "name": "stdout",
     "output_type": "stream",
     "text": [
      "Renamed: C:\\Users\\dhers\\OneDrive - UBA\\NOR position\\3xTg\\1st batch\\2024-09_Tg-1y\\2024-09_Tg-1y_TS_R01_C03-i_A_LDLC_Resnet50_STORMOct1shuffle1_snapshot_200.h5 to C:\\Users\\dhers\\OneDrive - UBA\\NOR position\\3xTg\\1st batch\\2024-09_Tg-1y\\2024-09_Tg-1y_TS_R01_C03-i_A_L_position.h5\n",
      "Renamed: C:\\Users\\dhers\\OneDrive - UBA\\NOR position\\3xTg\\1st batch\\2024-09_Tg-1y\\2024-09_Tg-1y_TS_R02_C03-d_A_RDLC_Resnet50_STORMOct1shuffle1_snapshot_200.h5 to C:\\Users\\dhers\\OneDrive - UBA\\NOR position\\3xTg\\1st batch\\2024-09_Tg-1y\\2024-09_Tg-1y_TS_R02_C03-d_A_R_position.h5\n",
      "Renamed: C:\\Users\\dhers\\OneDrive - UBA\\NOR position\\3xTg\\1st batch\\2024-09_Tg-1y\\2024-09_Tg-1y_TS_R03_C03-a_B_RDLC_Resnet50_STORMOct1shuffle1_snapshot_200.h5 to C:\\Users\\dhers\\OneDrive - UBA\\NOR position\\3xTg\\1st batch\\2024-09_Tg-1y\\2024-09_Tg-1y_TS_R03_C03-a_B_R_position.h5\n",
      "Renamed: C:\\Users\\dhers\\OneDrive - UBA\\NOR position\\3xTg\\1st batch\\2024-09_Tg-1y\\2024-09_Tg-1y_TS_R04_C04-i_A_LDLC_Resnet50_STORMOct1shuffle1_snapshot_200.h5 to C:\\Users\\dhers\\OneDrive - UBA\\NOR position\\3xTg\\1st batch\\2024-09_Tg-1y\\2024-09_Tg-1y_TS_R04_C04-i_A_L_position.h5\n",
      "Renamed: C:\\Users\\dhers\\OneDrive - UBA\\NOR position\\3xTg\\1st batch\\2024-09_Tg-1y\\2024-09_Tg-1y_TS_R05_C04-d_A_RDLC_Resnet50_STORMOct1shuffle1_snapshot_200.h5 to C:\\Users\\dhers\\OneDrive - UBA\\NOR position\\3xTg\\1st batch\\2024-09_Tg-1y\\2024-09_Tg-1y_TS_R05_C04-d_A_R_position.h5\n",
      "Renamed: C:\\Users\\dhers\\OneDrive - UBA\\NOR position\\3xTg\\1st batch\\2024-09_Tg-1y\\2024-09_Tg-1y_TS_R07_C05-i_B_LDLC_Resnet50_STORMOct1shuffle1_snapshot_200.h5 to C:\\Users\\dhers\\OneDrive - UBA\\NOR position\\3xTg\\1st batch\\2024-09_Tg-1y\\2024-09_Tg-1y_TS_R07_C05-i_B_L_position.h5\n",
      "Renamed: C:\\Users\\dhers\\OneDrive - UBA\\NOR position\\3xTg\\1st batch\\2024-09_Tg-1y\\2024-09_Tg-1y_TS_R08_C05-a_B_RDLC_Resnet50_STORMOct1shuffle1_snapshot_200.h5 to C:\\Users\\dhers\\OneDrive - UBA\\NOR position\\3xTg\\1st batch\\2024-09_Tg-1y\\2024-09_Tg-1y_TS_R08_C05-a_B_R_position.h5\n",
      "Renamed: C:\\Users\\dhers\\OneDrive - UBA\\NOR position\\3xTg\\1st batch\\2024-09_Tg-1y\\2024-09_Tg-1y_TS_R09_C06-i_A_LDLC_Resnet50_STORMOct1shuffle1_snapshot_200.h5 to C:\\Users\\dhers\\OneDrive - UBA\\NOR position\\3xTg\\1st batch\\2024-09_Tg-1y\\2024-09_Tg-1y_TS_R09_C06-i_A_L_position.h5\n"
     ]
    }
   ],
   "source": [
    "folder_path = r'C:\\Users\\dhers\\OneDrive - UBA\\NOR position\\3xTg\\1st batch\\2024-09_Tg-1y'\n",
    "\n",
    "before = 'DLC_Resnet50_STORMOct1shuffle1_snapshot_200'\n",
    "\n",
    "after = '_position'\n",
    "\n",
    "rename_files(folder_path, before, after)"
   ]
  },
  {
   "cell_type": "code",
   "execution_count": null,
   "metadata": {},
   "outputs": [],
   "source": []
  }
 ],
 "metadata": {
  "kernelspec": {
   "display_name": "TBNSS",
   "language": "python",
   "name": "python3"
  },
  "language_info": {
   "codemirror_mode": {
    "name": "ipython",
    "version": 3
   },
   "file_extension": ".py",
   "mimetype": "text/x-python",
   "name": "python",
   "nbconvert_exporter": "python",
   "pygments_lexer": "ipython3",
   "version": "3.10.14"
  }
 },
 "nbformat": 4,
 "nbformat_minor": 2
}
