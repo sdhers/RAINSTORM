{
 "cells": [
  {
   "cell_type": "markdown",
   "metadata": {},
   "source": [
    "@author: Santiago D'hers\n",
    "\n",
    "Use:\n",
    "\n",
    "- This notebook renames all the files in a folder"
   ]
  },
  {
   "cell_type": "code",
   "execution_count": 3,
   "metadata": {},
   "outputs": [],
   "source": [
    "import os\n",
    "\n",
    "def rename_files(folder, before, after):\n",
    "    # Get a list of all files in the specified folder\n",
    "    files = os.listdir(folder)\n",
    "    \n",
    "    for file_name in files:\n",
    "        # Check if 'before' is in the file name\n",
    "        if before in file_name:\n",
    "            # Construct the new file name\n",
    "            new_name = file_name.replace(before, after)\n",
    "            # Construct full file paths\n",
    "            old_file = os.path.join(folder, file_name)\n",
    "            new_file = os.path.join(folder, new_name)\n",
    "            # Rename the file\n",
    "            os.rename(old_file, new_file)\n",
    "            print(f'Renamed: {old_file} to {new_file}')"
   ]
  },
  {
   "cell_type": "code",
   "execution_count": 4,
   "metadata": {},
   "outputs": [
    {
     "name": "stdout",
     "output_type": "stream",
     "text": [
      "Renamed: C:\\Users\\dhers\\OneDrive - UBA\\workshop\\2024-11_TORM-Tg-9m\\TS\\position\\2024-11_TORM-Tg-9m_TS_C1_A_L.csv to C:\\Users\\dhers\\OneDrive - UBA\\workshop\\2024-11_TORM-Tg-9m\\TS\\position\\2024-11_TORM-Tg-9m_TS_C1_A_L_position.csv\n",
      "Renamed: C:\\Users\\dhers\\OneDrive - UBA\\workshop\\2024-11_TORM-Tg-9m\\TS\\position\\2024-11_TORM-Tg-9m_TS_C1_A_R.csv to C:\\Users\\dhers\\OneDrive - UBA\\workshop\\2024-11_TORM-Tg-9m\\TS\\position\\2024-11_TORM-Tg-9m_TS_C1_A_R_position.csv\n",
      "Renamed: C:\\Users\\dhers\\OneDrive - UBA\\workshop\\2024-11_TORM-Tg-9m\\TS\\position\\2024-11_TORM-Tg-9m_TS_C1_B_L.csv to C:\\Users\\dhers\\OneDrive - UBA\\workshop\\2024-11_TORM-Tg-9m\\TS\\position\\2024-11_TORM-Tg-9m_TS_C1_B_L_position.csv\n",
      "Renamed: C:\\Users\\dhers\\OneDrive - UBA\\workshop\\2024-11_TORM-Tg-9m\\TS\\position\\2024-11_TORM-Tg-9m_TS_C2_A_L.csv to C:\\Users\\dhers\\OneDrive - UBA\\workshop\\2024-11_TORM-Tg-9m\\TS\\position\\2024-11_TORM-Tg-9m_TS_C2_A_L_position.csv\n",
      "Renamed: C:\\Users\\dhers\\OneDrive - UBA\\workshop\\2024-11_TORM-Tg-9m\\TS\\position\\2024-11_TORM-Tg-9m_TS_C2_A_R.csv to C:\\Users\\dhers\\OneDrive - UBA\\workshop\\2024-11_TORM-Tg-9m\\TS\\position\\2024-11_TORM-Tg-9m_TS_C2_A_R_position.csv\n",
      "Renamed: C:\\Users\\dhers\\OneDrive - UBA\\workshop\\2024-11_TORM-Tg-9m\\TS\\position\\2024-11_TORM-Tg-9m_TS_C2_B_L.csv to C:\\Users\\dhers\\OneDrive - UBA\\workshop\\2024-11_TORM-Tg-9m\\TS\\position\\2024-11_TORM-Tg-9m_TS_C2_B_L_position.csv\n",
      "Renamed: C:\\Users\\dhers\\OneDrive - UBA\\workshop\\2024-11_TORM-Tg-9m\\TS\\position\\2024-11_TORM-Tg-9m_TS_C3_A_L.csv to C:\\Users\\dhers\\OneDrive - UBA\\workshop\\2024-11_TORM-Tg-9m\\TS\\position\\2024-11_TORM-Tg-9m_TS_C3_A_L_position.csv\n",
      "Renamed: C:\\Users\\dhers\\OneDrive - UBA\\workshop\\2024-11_TORM-Tg-9m\\TS\\position\\2024-11_TORM-Tg-9m_TS_C3_A_R.csv to C:\\Users\\dhers\\OneDrive - UBA\\workshop\\2024-11_TORM-Tg-9m\\TS\\position\\2024-11_TORM-Tg-9m_TS_C3_A_R_position.csv\n",
      "Renamed: C:\\Users\\dhers\\OneDrive - UBA\\workshop\\2024-11_TORM-Tg-9m\\TS\\position\\2024-11_TORM-Tg-9m_TS_C3_B_L.csv to C:\\Users\\dhers\\OneDrive - UBA\\workshop\\2024-11_TORM-Tg-9m\\TS\\position\\2024-11_TORM-Tg-9m_TS_C3_B_L_position.csv\n",
      "Renamed: C:\\Users\\dhers\\OneDrive - UBA\\workshop\\2024-11_TORM-Tg-9m\\TS\\position\\2024-11_TORM-Tg-9m_TS_C4_B_L.csv to C:\\Users\\dhers\\OneDrive - UBA\\workshop\\2024-11_TORM-Tg-9m\\TS\\position\\2024-11_TORM-Tg-9m_TS_C4_B_L_position.csv\n",
      "Renamed: C:\\Users\\dhers\\OneDrive - UBA\\workshop\\2024-11_TORM-Tg-9m\\TS\\position\\2024-11_TORM-Tg-9m_TS_C4_B_R.csv to C:\\Users\\dhers\\OneDrive - UBA\\workshop\\2024-11_TORM-Tg-9m\\TS\\position\\2024-11_TORM-Tg-9m_TS_C4_B_R_position.csv\n",
      "Renamed: C:\\Users\\dhers\\OneDrive - UBA\\workshop\\2024-11_TORM-Tg-9m\\TS\\position\\2024-11_TORM-Tg-9m_TS_C5_A_L.csv to C:\\Users\\dhers\\OneDrive - UBA\\workshop\\2024-11_TORM-Tg-9m\\TS\\position\\2024-11_TORM-Tg-9m_TS_C5_A_L_position.csv\n",
      "Renamed: C:\\Users\\dhers\\OneDrive - UBA\\workshop\\2024-11_TORM-Tg-9m\\TS\\position\\2024-11_TORM-Tg-9m_TS_C5_A_R.csv to C:\\Users\\dhers\\OneDrive - UBA\\workshop\\2024-11_TORM-Tg-9m\\TS\\position\\2024-11_TORM-Tg-9m_TS_C5_A_R_position.csv\n",
      "Renamed: C:\\Users\\dhers\\OneDrive - UBA\\workshop\\2024-11_TORM-Tg-9m\\TS\\position\\2024-11_TORM-Tg-9m_TS_C5_B_L.csv to C:\\Users\\dhers\\OneDrive - UBA\\workshop\\2024-11_TORM-Tg-9m\\TS\\position\\2024-11_TORM-Tg-9m_TS_C5_B_L_position.csv\n",
      "Renamed: C:\\Users\\dhers\\OneDrive - UBA\\workshop\\2024-11_TORM-Tg-9m\\TS\\position\\2024-11_TORM-Tg-9m_TS_C6_A_L.csv to C:\\Users\\dhers\\OneDrive - UBA\\workshop\\2024-11_TORM-Tg-9m\\TS\\position\\2024-11_TORM-Tg-9m_TS_C6_A_L_position.csv\n",
      "Renamed: C:\\Users\\dhers\\OneDrive - UBA\\workshop\\2024-11_TORM-Tg-9m\\TS\\position\\2024-11_TORM-Tg-9m_TS_C6_A_R.csv to C:\\Users\\dhers\\OneDrive - UBA\\workshop\\2024-11_TORM-Tg-9m\\TS\\position\\2024-11_TORM-Tg-9m_TS_C6_A_R_position.csv\n",
      "Renamed: C:\\Users\\dhers\\OneDrive - UBA\\workshop\\2024-11_TORM-Tg-9m\\TS\\position\\2024-11_TORM-Tg-9m_TS_C6_B_R.csv to C:\\Users\\dhers\\OneDrive - UBA\\workshop\\2024-11_TORM-Tg-9m\\TS\\position\\2024-11_TORM-Tg-9m_TS_C6_B_R_position.csv\n"
     ]
    }
   ],
   "source": [
    "folder_path = r'C:\\Users\\dhers\\OneDrive - UBA\\workshop\\2024-11_TORM-Tg-9m\\TS\\position'\n",
    "\n",
    "before = '.csv'\n",
    "\n",
    "after = '_position.csv'\n",
    "\n",
    "rename_files(folder_path, before, after)"
   ]
  }
 ],
 "metadata": {
  "kernelspec": {
   "display_name": "storm",
   "language": "python",
   "name": "python3"
  },
  "language_info": {
   "codemirror_mode": {
    "name": "ipython",
    "version": 3
   },
   "file_extension": ".py",
   "mimetype": "text/x-python",
   "name": "python",
   "nbconvert_exporter": "python",
   "pygments_lexer": "ipython3",
   "version": "3.10.15"
  }
 },
 "nbformat": 4,
 "nbformat_minor": 2
}
