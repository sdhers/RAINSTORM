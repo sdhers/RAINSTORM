{
 "cells": [
  {
   "cell_type": "markdown",
   "metadata": {},
   "source": [
    "RAINSTORM - @author: Santiago D'hers\n",
    "\n",
    "## First steps\n",
    "\n",
    "Welcome!\n",
    "\n",
    "This is the first notebook of the RAINSTORM project. Here you'll find the initial steps to prepare the data for analysis.\n",
    "\n",
    "First of all, we will work with pose estimation data obtained with DeepLabCut. This data is stored in H5 files, which are the main files of the project (the ones we will start with).\n",
    "\n",
    "For better analysis, we should start by editing the names of the H5 files. We are looking for the following:\n",
    "- **position files must end with the word '_position'**\n",
    "    - Since we use the data from DeepLabCut, the filenames end with something like 'DLC_{Network_used + name + date + snapshot}.h5'. We can change that here.\n",
    "- If the files belong to different trials of an experiment, they should contain the name of the trial in the filename.\n",
    "\n",
    "We can find an easy way to rename files below."
   ]
  },
  {
   "cell_type": "markdown",
   "metadata": {},
   "source": [
    "---\n",
    "#### 1. Load the necessary modules"
   ]
  },
  {
   "cell_type": "code",
   "execution_count": 5,
   "metadata": {},
   "outputs": [],
   "source": [
    "import os\n",
    "import rainstorm.first_steps as rst"
   ]
  },
  {
   "cell_type": "markdown",
   "metadata": {},
   "source": [
    "---\n",
    "#### 2. Set your path (the path to the downloaded RAINSTORM repository folder)"
   ]
  },
  {
   "cell_type": "code",
   "execution_count": 6,
   "metadata": {},
   "outputs": [],
   "source": [
    "# State your path:\n",
    "repo = r'C:\\Users\\dhers\\Desktop\\RAINSTORM'\n",
    "example_folder = os.path.join(repo, 'docs\\examples\\position_files')"
   ]
  },
  {
   "cell_type": "markdown",
   "metadata": {},
   "source": [
    "---\n",
    "#### 3. Lets start by making a copy of the example position_files"
   ]
  },
  {
   "cell_type": "code",
   "execution_count": 7,
   "metadata": {},
   "outputs": [
    {
     "name": "stdout",
     "output_type": "stream",
     "text": [
      "Copied folder to 'C:\\Users\\dhers\\Desktop\\RAINSTORM\\docs\\examples\\position_files_copy'.\n"
     ]
    }
   ],
   "source": [
    "example_folder = rst.copy_folder(example_folder)"
   ]
  },
  {
   "cell_type": "markdown",
   "metadata": {},
   "source": [
    "---\n",
    "#### 4. Now we can rename the files on the copied folder to end in '_position.h5'"
   ]
  },
  {
   "cell_type": "code",
   "execution_count": 8,
   "metadata": {},
   "outputs": [
    {
     "name": "stdout",
     "output_type": "stream",
     "text": [
      "Renamed: C:\\Users\\dhers\\Desktop\\RAINSTORM\\docs\\examples\\position_files_copy\\2024-09_NOR_Hab_C1_ADLC_resnet50_shuffle2_200000.h5 to C:\\Users\\dhers\\Desktop\\RAINSTORM\\docs\\examples\\position_files_copy\\2024-09_NOR_Hab_C1_A_position.h5\n",
      "Renamed: C:\\Users\\dhers\\Desktop\\RAINSTORM\\docs\\examples\\position_files_copy\\2024-09_NOR_Hab_C1_BDLC_resnet50_shuffle2_200000.h5 to C:\\Users\\dhers\\Desktop\\RAINSTORM\\docs\\examples\\position_files_copy\\2024-09_NOR_Hab_C1_B_position.h5\n",
      "Renamed: C:\\Users\\dhers\\Desktop\\RAINSTORM\\docs\\examples\\position_files_copy\\2024-09_NOR_Hab_C1_CDLC_resnet50_shuffle2_200000.h5 to C:\\Users\\dhers\\Desktop\\RAINSTORM\\docs\\examples\\position_files_copy\\2024-09_NOR_Hab_C1_C_position.h5\n",
      "Renamed: C:\\Users\\dhers\\Desktop\\RAINSTORM\\docs\\examples\\position_files_copy\\2024-09_NOR_Hab_C2_ADLC_resnet50_shuffle2_200000.h5 to C:\\Users\\dhers\\Desktop\\RAINSTORM\\docs\\examples\\position_files_copy\\2024-09_NOR_Hab_C2_A_position.h5\n",
      "Renamed: C:\\Users\\dhers\\Desktop\\RAINSTORM\\docs\\examples\\position_files_copy\\2024-09_NOR_Hab_C2_BDLC_resnet50_shuffle2_200000.h5 to C:\\Users\\dhers\\Desktop\\RAINSTORM\\docs\\examples\\position_files_copy\\2024-09_NOR_Hab_C2_B_position.h5\n",
      "Renamed: C:\\Users\\dhers\\Desktop\\RAINSTORM\\docs\\examples\\position_files_copy\\2024-09_NOR_Hab_C2_CDLC_resnet50_shuffle2_200000.h5 to C:\\Users\\dhers\\Desktop\\RAINSTORM\\docs\\examples\\position_files_copy\\2024-09_NOR_Hab_C2_C_position.h5\n",
      "Renamed: C:\\Users\\dhers\\Desktop\\RAINSTORM\\docs\\examples\\position_files_copy\\2024-09_NOR_Hab_C3_ADLC_resnet50_shuffle2_200000.h5 to C:\\Users\\dhers\\Desktop\\RAINSTORM\\docs\\examples\\position_files_copy\\2024-09_NOR_Hab_C3_A_position.h5\n",
      "Renamed: C:\\Users\\dhers\\Desktop\\RAINSTORM\\docs\\examples\\position_files_copy\\2024-09_NOR_Hab_C3_BDLC_resnet50_shuffle2_200000.h5 to C:\\Users\\dhers\\Desktop\\RAINSTORM\\docs\\examples\\position_files_copy\\2024-09_NOR_Hab_C3_B_position.h5\n",
      "Renamed: C:\\Users\\dhers\\Desktop\\RAINSTORM\\docs\\examples\\position_files_copy\\2024-09_NOR_Hab_C3_CDLC_resnet50_shuffle2_200000.h5 to C:\\Users\\dhers\\Desktop\\RAINSTORM\\docs\\examples\\position_files_copy\\2024-09_NOR_Hab_C3_C_position.h5\n",
      "Renamed: C:\\Users\\dhers\\Desktop\\RAINSTORM\\docs\\examples\\position_files_copy\\2024-09_NOR_Hab_C4_ADLC_resnet50_shuffle2_200000.h5 to C:\\Users\\dhers\\Desktop\\RAINSTORM\\docs\\examples\\position_files_copy\\2024-09_NOR_Hab_C4_A_position.h5\n",
      "Renamed: C:\\Users\\dhers\\Desktop\\RAINSTORM\\docs\\examples\\position_files_copy\\2024-09_NOR_Hab_C4_BDLC_resnet50_shuffle2_200000.h5 to C:\\Users\\dhers\\Desktop\\RAINSTORM\\docs\\examples\\position_files_copy\\2024-09_NOR_Hab_C4_B_position.h5\n",
      "Renamed: C:\\Users\\dhers\\Desktop\\RAINSTORM\\docs\\examples\\position_files_copy\\2024-09_NOR_Hab_C4_CDLC_resnet50_shuffle2_200000.h5 to C:\\Users\\dhers\\Desktop\\RAINSTORM\\docs\\examples\\position_files_copy\\2024-09_NOR_Hab_C4_C_position.h5\n",
      "Renamed: C:\\Users\\dhers\\Desktop\\RAINSTORM\\docs\\examples\\position_files_copy\\2024-09_NOR_Hab_C5_ADLC_resnet50_shuffle2_200000.h5 to C:\\Users\\dhers\\Desktop\\RAINSTORM\\docs\\examples\\position_files_copy\\2024-09_NOR_Hab_C5_A_position.h5\n",
      "Renamed: C:\\Users\\dhers\\Desktop\\RAINSTORM\\docs\\examples\\position_files_copy\\2024-09_NOR_Hab_C5_BDLC_resnet50_shuffle2_200000.h5 to C:\\Users\\dhers\\Desktop\\RAINSTORM\\docs\\examples\\position_files_copy\\2024-09_NOR_Hab_C5_B_position.h5\n",
      "Renamed: C:\\Users\\dhers\\Desktop\\RAINSTORM\\docs\\examples\\position_files_copy\\2024-09_NOR_Hab_C5_CDLC_resnet50_shuffle2_200000.h5 to C:\\Users\\dhers\\Desktop\\RAINSTORM\\docs\\examples\\position_files_copy\\2024-09_NOR_Hab_C5_C_position.h5\n",
      "Renamed: C:\\Users\\dhers\\Desktop\\RAINSTORM\\docs\\examples\\position_files_copy\\2024-09_NOR_Hab_C6_ADLC_resnet50_shuffle2_200000.h5 to C:\\Users\\dhers\\Desktop\\RAINSTORM\\docs\\examples\\position_files_copy\\2024-09_NOR_Hab_C6_A_position.h5\n",
      "Renamed: C:\\Users\\dhers\\Desktop\\RAINSTORM\\docs\\examples\\position_files_copy\\2024-09_NOR_Hab_C6_BDLC_resnet50_shuffle2_200000.h5 to C:\\Users\\dhers\\Desktop\\RAINSTORM\\docs\\examples\\position_files_copy\\2024-09_NOR_Hab_C6_B_position.h5\n",
      "Renamed: C:\\Users\\dhers\\Desktop\\RAINSTORM\\docs\\examples\\position_files_copy\\2024-09_NOR_Hab_C6_CDLC_resnet50_shuffle2_200000.h5 to C:\\Users\\dhers\\Desktop\\RAINSTORM\\docs\\examples\\position_files_copy\\2024-09_NOR_Hab_C6_C_position.h5\n",
      "Renamed: C:\\Users\\dhers\\Desktop\\RAINSTORM\\docs\\examples\\position_files_copy\\2024-09_NOR_TR_C1_ADLC_resnet50_shuffle2_200000.h5 to C:\\Users\\dhers\\Desktop\\RAINSTORM\\docs\\examples\\position_files_copy\\2024-09_NOR_TR_C1_A_position.h5\n",
      "Renamed: C:\\Users\\dhers\\Desktop\\RAINSTORM\\docs\\examples\\position_files_copy\\2024-09_NOR_TR_C1_BDLC_resnet50_shuffle2_200000.h5 to C:\\Users\\dhers\\Desktop\\RAINSTORM\\docs\\examples\\position_files_copy\\2024-09_NOR_TR_C1_B_position.h5\n",
      "Renamed: C:\\Users\\dhers\\Desktop\\RAINSTORM\\docs\\examples\\position_files_copy\\2024-09_NOR_TR_C1_CDLC_resnet50_shuffle2_200000.h5 to C:\\Users\\dhers\\Desktop\\RAINSTORM\\docs\\examples\\position_files_copy\\2024-09_NOR_TR_C1_C_position.h5\n",
      "Renamed: C:\\Users\\dhers\\Desktop\\RAINSTORM\\docs\\examples\\position_files_copy\\2024-09_NOR_TR_C2_ADLC_resnet50_shuffle2_200000.h5 to C:\\Users\\dhers\\Desktop\\RAINSTORM\\docs\\examples\\position_files_copy\\2024-09_NOR_TR_C2_A_position.h5\n",
      "Renamed: C:\\Users\\dhers\\Desktop\\RAINSTORM\\docs\\examples\\position_files_copy\\2024-09_NOR_TR_C2_BDLC_resnet50_shuffle2_200000.h5 to C:\\Users\\dhers\\Desktop\\RAINSTORM\\docs\\examples\\position_files_copy\\2024-09_NOR_TR_C2_B_position.h5\n",
      "Renamed: C:\\Users\\dhers\\Desktop\\RAINSTORM\\docs\\examples\\position_files_copy\\2024-09_NOR_TR_C2_CDLC_resnet50_shuffle2_200000.h5 to C:\\Users\\dhers\\Desktop\\RAINSTORM\\docs\\examples\\position_files_copy\\2024-09_NOR_TR_C2_C_position.h5\n",
      "Renamed: C:\\Users\\dhers\\Desktop\\RAINSTORM\\docs\\examples\\position_files_copy\\2024-09_NOR_TR_C3_ADLC_resnet50_shuffle2_200000.h5 to C:\\Users\\dhers\\Desktop\\RAINSTORM\\docs\\examples\\position_files_copy\\2024-09_NOR_TR_C3_A_position.h5\n",
      "Renamed: C:\\Users\\dhers\\Desktop\\RAINSTORM\\docs\\examples\\position_files_copy\\2024-09_NOR_TR_C3_BDLC_resnet50_shuffle2_200000.h5 to C:\\Users\\dhers\\Desktop\\RAINSTORM\\docs\\examples\\position_files_copy\\2024-09_NOR_TR_C3_B_position.h5\n",
      "Renamed: C:\\Users\\dhers\\Desktop\\RAINSTORM\\docs\\examples\\position_files_copy\\2024-09_NOR_TR_C3_CDLC_resnet50_shuffle2_200000.h5 to C:\\Users\\dhers\\Desktop\\RAINSTORM\\docs\\examples\\position_files_copy\\2024-09_NOR_TR_C3_C_position.h5\n",
      "Renamed: C:\\Users\\dhers\\Desktop\\RAINSTORM\\docs\\examples\\position_files_copy\\2024-09_NOR_TR_C4_ADLC_resnet50_shuffle2_200000.h5 to C:\\Users\\dhers\\Desktop\\RAINSTORM\\docs\\examples\\position_files_copy\\2024-09_NOR_TR_C4_A_position.h5\n",
      "Renamed: C:\\Users\\dhers\\Desktop\\RAINSTORM\\docs\\examples\\position_files_copy\\2024-09_NOR_TR_C4_BDLC_resnet50_shuffle2_200000.h5 to C:\\Users\\dhers\\Desktop\\RAINSTORM\\docs\\examples\\position_files_copy\\2024-09_NOR_TR_C4_B_position.h5\n",
      "Renamed: C:\\Users\\dhers\\Desktop\\RAINSTORM\\docs\\examples\\position_files_copy\\2024-09_NOR_TR_C4_CDLC_resnet50_shuffle2_200000.h5 to C:\\Users\\dhers\\Desktop\\RAINSTORM\\docs\\examples\\position_files_copy\\2024-09_NOR_TR_C4_C_position.h5\n",
      "Renamed: C:\\Users\\dhers\\Desktop\\RAINSTORM\\docs\\examples\\position_files_copy\\2024-09_NOR_TR_C5_ADLC_resnet50_shuffle2_200000.h5 to C:\\Users\\dhers\\Desktop\\RAINSTORM\\docs\\examples\\position_files_copy\\2024-09_NOR_TR_C5_A_position.h5\n",
      "Renamed: C:\\Users\\dhers\\Desktop\\RAINSTORM\\docs\\examples\\position_files_copy\\2024-09_NOR_TR_C5_BDLC_resnet50_shuffle2_200000.h5 to C:\\Users\\dhers\\Desktop\\RAINSTORM\\docs\\examples\\position_files_copy\\2024-09_NOR_TR_C5_B_position.h5\n",
      "Renamed: C:\\Users\\dhers\\Desktop\\RAINSTORM\\docs\\examples\\position_files_copy\\2024-09_NOR_TR_C5_CDLC_resnet50_shuffle2_200000.h5 to C:\\Users\\dhers\\Desktop\\RAINSTORM\\docs\\examples\\position_files_copy\\2024-09_NOR_TR_C5_C_position.h5\n",
      "Renamed: C:\\Users\\dhers\\Desktop\\RAINSTORM\\docs\\examples\\position_files_copy\\2024-09_NOR_TR_C6_ADLC_resnet50_shuffle2_200000.h5 to C:\\Users\\dhers\\Desktop\\RAINSTORM\\docs\\examples\\position_files_copy\\2024-09_NOR_TR_C6_A_position.h5\n",
      "Renamed: C:\\Users\\dhers\\Desktop\\RAINSTORM\\docs\\examples\\position_files_copy\\2024-09_NOR_TR_C6_BDLC_resnet50_shuffle2_200000.h5 to C:\\Users\\dhers\\Desktop\\RAINSTORM\\docs\\examples\\position_files_copy\\2024-09_NOR_TR_C6_B_position.h5\n",
      "Renamed: C:\\Users\\dhers\\Desktop\\RAINSTORM\\docs\\examples\\position_files_copy\\2024-09_NOR_TR_C6_CDLC_resnet50_shuffle2_200000.h5 to C:\\Users\\dhers\\Desktop\\RAINSTORM\\docs\\examples\\position_files_copy\\2024-09_NOR_TR_C6_C_position.h5\n",
      "Renamed: C:\\Users\\dhers\\Desktop\\RAINSTORM\\docs\\examples\\position_files_copy\\2024-09_NOR_TS_C1_ADLC_resnet50_shuffle2_200000.h5 to C:\\Users\\dhers\\Desktop\\RAINSTORM\\docs\\examples\\position_files_copy\\2024-09_NOR_TS_C1_A_position.h5\n",
      "Renamed: C:\\Users\\dhers\\Desktop\\RAINSTORM\\docs\\examples\\position_files_copy\\2024-09_NOR_TS_C1_BDLC_resnet50_shuffle2_200000.h5 to C:\\Users\\dhers\\Desktop\\RAINSTORM\\docs\\examples\\position_files_copy\\2024-09_NOR_TS_C1_B_position.h5\n",
      "Renamed: C:\\Users\\dhers\\Desktop\\RAINSTORM\\docs\\examples\\position_files_copy\\2024-09_NOR_TS_C1_CDLC_resnet50_shuffle2_200000.h5 to C:\\Users\\dhers\\Desktop\\RAINSTORM\\docs\\examples\\position_files_copy\\2024-09_NOR_TS_C1_C_position.h5\n",
      "Renamed: C:\\Users\\dhers\\Desktop\\RAINSTORM\\docs\\examples\\position_files_copy\\2024-09_NOR_TS_C2_ADLC_resnet50_shuffle2_200000.h5 to C:\\Users\\dhers\\Desktop\\RAINSTORM\\docs\\examples\\position_files_copy\\2024-09_NOR_TS_C2_A_position.h5\n",
      "Renamed: C:\\Users\\dhers\\Desktop\\RAINSTORM\\docs\\examples\\position_files_copy\\2024-09_NOR_TS_C2_BDLC_resnet50_shuffle2_200000.h5 to C:\\Users\\dhers\\Desktop\\RAINSTORM\\docs\\examples\\position_files_copy\\2024-09_NOR_TS_C2_B_position.h5\n",
      "Renamed: C:\\Users\\dhers\\Desktop\\RAINSTORM\\docs\\examples\\position_files_copy\\2024-09_NOR_TS_C2_CDLC_resnet50_shuffle2_200000.h5 to C:\\Users\\dhers\\Desktop\\RAINSTORM\\docs\\examples\\position_files_copy\\2024-09_NOR_TS_C2_C_position.h5\n",
      "Renamed: C:\\Users\\dhers\\Desktop\\RAINSTORM\\docs\\examples\\position_files_copy\\2024-09_NOR_TS_C3_ADLC_resnet50_shuffle2_200000.h5 to C:\\Users\\dhers\\Desktop\\RAINSTORM\\docs\\examples\\position_files_copy\\2024-09_NOR_TS_C3_A_position.h5\n",
      "Renamed: C:\\Users\\dhers\\Desktop\\RAINSTORM\\docs\\examples\\position_files_copy\\2024-09_NOR_TS_C3_BDLC_resnet50_shuffle2_200000.h5 to C:\\Users\\dhers\\Desktop\\RAINSTORM\\docs\\examples\\position_files_copy\\2024-09_NOR_TS_C3_B_position.h5\n",
      "Renamed: C:\\Users\\dhers\\Desktop\\RAINSTORM\\docs\\examples\\position_files_copy\\2024-09_NOR_TS_C3_CDLC_resnet50_shuffle2_200000.h5 to C:\\Users\\dhers\\Desktop\\RAINSTORM\\docs\\examples\\position_files_copy\\2024-09_NOR_TS_C3_C_position.h5\n",
      "Renamed: C:\\Users\\dhers\\Desktop\\RAINSTORM\\docs\\examples\\position_files_copy\\2024-09_NOR_TS_C4_ADLC_resnet50_shuffle2_200000.h5 to C:\\Users\\dhers\\Desktop\\RAINSTORM\\docs\\examples\\position_files_copy\\2024-09_NOR_TS_C4_A_position.h5\n",
      "Renamed: C:\\Users\\dhers\\Desktop\\RAINSTORM\\docs\\examples\\position_files_copy\\2024-09_NOR_TS_C4_BDLC_resnet50_shuffle2_200000.h5 to C:\\Users\\dhers\\Desktop\\RAINSTORM\\docs\\examples\\position_files_copy\\2024-09_NOR_TS_C4_B_position.h5\n",
      "Renamed: C:\\Users\\dhers\\Desktop\\RAINSTORM\\docs\\examples\\position_files_copy\\2024-09_NOR_TS_C4_CDLC_resnet50_shuffle2_200000.h5 to C:\\Users\\dhers\\Desktop\\RAINSTORM\\docs\\examples\\position_files_copy\\2024-09_NOR_TS_C4_C_position.h5\n",
      "Renamed: C:\\Users\\dhers\\Desktop\\RAINSTORM\\docs\\examples\\position_files_copy\\2024-09_NOR_TS_C5_ADLC_resnet50_shuffle2_200000.h5 to C:\\Users\\dhers\\Desktop\\RAINSTORM\\docs\\examples\\position_files_copy\\2024-09_NOR_TS_C5_A_position.h5\n",
      "Renamed: C:\\Users\\dhers\\Desktop\\RAINSTORM\\docs\\examples\\position_files_copy\\2024-09_NOR_TS_C5_BDLC_resnet50_shuffle2_200000.h5 to C:\\Users\\dhers\\Desktop\\RAINSTORM\\docs\\examples\\position_files_copy\\2024-09_NOR_TS_C5_B_position.h5\n",
      "Renamed: C:\\Users\\dhers\\Desktop\\RAINSTORM\\docs\\examples\\position_files_copy\\2024-09_NOR_TS_C5_CDLC_resnet50_shuffle2_200000.h5 to C:\\Users\\dhers\\Desktop\\RAINSTORM\\docs\\examples\\position_files_copy\\2024-09_NOR_TS_C5_C_position.h5\n",
      "Renamed: C:\\Users\\dhers\\Desktop\\RAINSTORM\\docs\\examples\\position_files_copy\\2024-09_NOR_TS_C6_ADLC_resnet50_shuffle2_200000.h5 to C:\\Users\\dhers\\Desktop\\RAINSTORM\\docs\\examples\\position_files_copy\\2024-09_NOR_TS_C6_A_position.h5\n",
      "Renamed: C:\\Users\\dhers\\Desktop\\RAINSTORM\\docs\\examples\\position_files_copy\\2024-09_NOR_TS_C6_BDLC_resnet50_shuffle2_200000.h5 to C:\\Users\\dhers\\Desktop\\RAINSTORM\\docs\\examples\\position_files_copy\\2024-09_NOR_TS_C6_B_position.h5\n",
      "Renamed: C:\\Users\\dhers\\Desktop\\RAINSTORM\\docs\\examples\\position_files_copy\\2024-09_NOR_TS_C6_CDLC_resnet50_shuffle2_200000.h5 to C:\\Users\\dhers\\Desktop\\RAINSTORM\\docs\\examples\\position_files_copy\\2024-09_NOR_TS_C6_C_position.h5\n"
     ]
    }
   ],
   "source": [
    "# Change the file name as needed\n",
    "before = 'DLC_resnet50_shuffle2_200000.h5'\n",
    "after = '_position.h5'\n",
    "\n",
    "rst.rename_files(example_folder, before, after)"
   ]
  }
 ],
 "metadata": {
  "kernelspec": {
   "display_name": "storm",
   "language": "python",
   "name": "python3"
  },
  "language_info": {
   "codemirror_mode": {
    "name": "ipython",
    "version": 3
   },
   "file_extension": ".py",
   "mimetype": "text/x-python",
   "name": "python",
   "nbconvert_exporter": "python",
   "pygments_lexer": "ipython3",
   "version": "3.10.15"
  }
 },
 "nbformat": 4,
 "nbformat_minor": 2
}
