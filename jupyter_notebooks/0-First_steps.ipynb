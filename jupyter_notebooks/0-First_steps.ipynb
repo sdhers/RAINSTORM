{
 "cells": [
  {
   "cell_type": "markdown",
   "metadata": {},
   "source": [
    "RAINSTORM - @author: Santiago D'hers\n",
    "\n",
    "## First steps\n",
    "\n",
    "Welcome! This is the first notebook of the RAINSTORM project. It will guide you through the steps to prepare the data for the analysis.\n",
    "\n",
    "First of all, we work with pose estimation data obtained with DeepLabCut. This data is stored in H5 files, which are the main files of the project (the ones we will start with).\n",
    "\n",
    "For better analysis, we should start by editing the names of the H5 files. We are looking for the following:\n",
    "- **position files must end with the word '_position'**\n",
    "    - Since we recieve the data from DeepLabCut, we can assume the files end with something like 'DLC_{Network_used, name, date}shuffle{n_shuffle, snapshot, n_shuffle}.h5'   \n",
    "- If the files belong to different trials of an experiment, they should contain the name of the trial in the filename.\n",
    "\n",
    "We can find an easy way to rename files below."
   ]
  },
  {
   "cell_type": "markdown",
   "metadata": {},
   "source": [
    "---\n",
    "#### 1. Load the necessary modules"
   ]
  },
  {
   "cell_type": "code",
   "execution_count": 1,
   "metadata": {},
   "outputs": [],
   "source": [
    "import shutil\n",
    "import os"
   ]
  },
  {
   "cell_type": "markdown",
   "metadata": {},
   "source": [
    "---\n",
    "#### 2. Set your path (the path to the downloadad RAINSTORM repository folder)"
   ]
  },
  {
   "cell_type": "code",
   "execution_count": 2,
   "metadata": {},
   "outputs": [],
   "source": [
    "# State your path:\n",
    "repo = r'C:\\Users\\dhers\\Desktop\\RAINSTORM'\n",
    "example_folder = os.path.join(repo, 'docs\\examples\\position_files')"
   ]
  },
  {
   "cell_type": "markdown",
   "metadata": {},
   "source": [
    "---\n",
    "#### 3. Lets start by making a copy of the example position_files"
   ]
  },
  {
   "cell_type": "code",
   "execution_count": 9,
   "metadata": {},
   "outputs": [],
   "source": [
    "\n",
    "def copy_folder(folder_path, suffix=\"_copy\"):\n",
    "    \"\"\"\n",
    "    Makes a copy of a folder.\n",
    "\n",
    "    Parameters:\n",
    "    folder_path (str): Path to the original folder.\n",
    "    suffix (str): Suffix to add to the copied folder's name. Default is \"_copy\".\n",
    "\n",
    "    Returns:\n",
    "    str: Path to the copied folder.\n",
    "    \"\"\"\n",
    "    if not os.path.isdir(folder_path):\n",
    "        raise ValueError(f\"The path '{folder_path}' does not exist or is not a directory.\")\n",
    "\n",
    "    # Get the parent directory and the original folder name\n",
    "    parent_dir, original_folder_name = os.path.split(folder_path.rstrip(\"/\\\\\"))\n",
    "\n",
    "    # Define the new folder name with the suffix\n",
    "    copied_folder_name = f\"{original_folder_name}{suffix}\"\n",
    "    copied_folder_path = os.path.join(parent_dir, copied_folder_name)\n",
    "\n",
    "    # Check if the folder already exists\n",
    "    if os.path.exists(copied_folder_path):\n",
    "        print(f\"The folder '{copied_folder_path}' already exists.\")\n",
    "    else:\n",
    "        # Copy the folder\n",
    "        shutil.copytree(folder_path, copied_folder_path)\n",
    "        print(f\"Copied folder to '{copied_folder_path}'.\")\n",
    "\n",
    "    return copied_folder_path\n"
   ]
  },
  {
   "cell_type": "code",
   "execution_count": 11,
   "metadata": {},
   "outputs": [
    {
     "name": "stdout",
     "output_type": "stream",
     "text": [
      "The folder 'C:\\Users\\dhers\\Desktop\\RAINSTORM\\docs\\examples\\position_files_copy' already exists.\n"
     ]
    }
   ],
   "source": [
    "folder_copy = copy_folder(example_folder)"
   ]
  },
  {
   "cell_type": "code",
   "execution_count": 5,
   "metadata": {},
   "outputs": [],
   "source": [
    "import os\n",
    "\n",
    "def rename_files(folder: str, before: str, after: str):\n",
    "    \"\"\"Rename files in a folder.\n",
    "\n",
    "    Args:\n",
    "        folder (str): Folder to search for files.\n",
    "        before (str): String to be replaced in the file name.\n",
    "        after (str): String to replace the 'before' string with.\n",
    "    \"\"\"\n",
    "    # Get a list of all files in the specified folder\n",
    "    files = os.listdir(folder)\n",
    "    \n",
    "    for file_name in files:\n",
    "        # Check if 'before' is in the file name\n",
    "        if before in file_name:\n",
    "            # Construct the new file name\n",
    "            new_name = file_name.replace(before, after)\n",
    "            # Construct full file paths\n",
    "            old_file = os.path.join(folder, file_name)\n",
    "            new_file = os.path.join(folder, new_name)\n",
    "            # Rename the file\n",
    "            os.rename(old_file, new_file)\n",
    "            print(f'Renamed: {old_file} to {new_file}')"
   ]
  },
  {
   "cell_type": "code",
   "execution_count": null,
   "metadata": {},
   "outputs": [],
   "source": [
    "# Change the file name as needed\n",
    "before = 'DLC_{...}.h5'\n",
    "after = '_position.h5'"
   ]
  },
  {
   "cell_type": "code",
   "execution_count": 7,
   "metadata": {},
   "outputs": [],
   "source": [
    "rename_files(folder_copy, before, after)"
   ]
  }
 ],
 "metadata": {
  "kernelspec": {
   "display_name": "storm",
   "language": "python",
   "name": "python3"
  },
  "language_info": {
   "codemirror_mode": {
    "name": "ipython",
    "version": 3
   },
   "file_extension": ".py",
   "mimetype": "text/x-python",
   "name": "python",
   "nbconvert_exporter": "python",
   "pygments_lexer": "ipython3",
   "version": "3.10.15"
  }
 },
 "nbformat": 4,
 "nbformat_minor": 2
}
