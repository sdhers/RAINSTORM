{
 "cells": [
  {
   "cell_type": "code",
   "execution_count": 3,
   "metadata": {},
   "outputs": [
    {
     "name": "stdout",
     "output_type": "stream",
     "text": [
      "   Test  Animal  Duration  Distance  \\\n",
      "0     1       1     594.4    37.691   \n",
      "1     2       2     591.9    40.806   \n",
      "2     3       3     592.8    27.667   \n",
      "3     4       4     594.3    38.191   \n",
      "4     5       5     593.5    50.342   \n",
      "\n",
      "                                       Visited zones  Brazo1 : entries  \\\n",
      "0  [Brazo2,  Brazo3,  Brazo1,  Brazo2,  Brazo3,  ...                14   \n",
      "1  [Brazo1,  Brazo2,  Brazo1,  Brazo3,  Brazo1,  ...                19   \n",
      "2  [Brazo1,  Brazo3,  Brazo1,  Brazo3,  Brazo1,  ...                14   \n",
      "3  [Brazo1,  Brazo3,  Brazo1,  Brazo2,  Brazo3,  ...                20   \n",
      "4  [Brazo1,  Brazo3,  Brazo2,  Brazo3,  Brazo2,  ...                22   \n",
      "\n",
      "   Brazo2 : entries  Brazo3 : entries  Transitions  Repeat_num    Repeat  \\\n",
      "0                17                19         50.0        22.0  0.458333   \n",
      "1                17                18         54.0        21.0  0.403846   \n",
      "2                 9                16         39.0        16.0  0.432432   \n",
      "3                15                18         53.0        18.0  0.352941   \n",
      "4                19                26         67.0        31.0  0.476923   \n",
      "\n",
      "   Alternance_num  Alternance  \n",
      "0            26.0    0.541667  \n",
      "1            31.0    0.596154  \n",
      "2            21.0    0.567568  \n",
      "3            33.0    0.647059  \n",
      "4            34.0    0.523077  \n"
     ]
    }
   ],
   "source": [
    "import pandas as pd\n",
    "\n",
    "# Define the file path and sheet name\n",
    "file_path = r\"c:\\Users\\dhers\\OneDrive\\Para Agus\\Conducta 3xtg para poster.xlsx\"\n",
    "sheet_name = \"Y-maze 6 meses\"\n",
    "\n",
    "# Load the Excel file\n",
    "df = pd.read_excel(file_path, sheet_name=sheet_name)\n",
    "seq_column = 'Visited zones'\n",
    "\n",
    "# Assuming the 'sequence' column contains comma-separated values as strings, we convert them to lists\n",
    "df[seq_column] = df[seq_column].apply(lambda x: list(map(str, str(x).split(\",\"))))\n",
    "\n",
    "def compute_alternance(df, column = 'Sequence'):\n",
    "    def calculate_metrics(sequence):\n",
    "            transitions = len(sequence) # Total movements\n",
    "            repeat_num = sum(sequence[i] == sequence[i - 2] for i in range(2, len(sequence)))  # Movements to the same area\n",
    "            repeat = repeat_num / (transitions - 2) if transitions > 2 else 0  # Avoid division by zero\n",
    "            alternance_num = sum(sequence[i] != sequence[i - 2] for i in range(2, len(sequence))) # The place entered is diferent from the previous one\n",
    "            alternance = alternance_num / (transitions - 2) if transitions > 2 else 0  # Avoid division by zero\n",
    "            return transitions, repeat_num, repeat, alternance_num, alternance\n",
    "\n",
    "    # Apply function to each row and store results\n",
    "    df[[\"Transitions\", \"Repeat_num\", \"Repeat\", \"Alternance_num\", \"Alternance\"]] = df[column].apply(\n",
    "        lambda seq: pd.Series(calculate_metrics(seq))\n",
    "    )\n",
    "\n",
    "    return df\n",
    "\n",
    "# Apply the function to compute alternance\n",
    "df = compute_alternance(df, seq_column)\n",
    "\n",
    "# Save back to Excel if needed\n",
    "output_path = r\"c:\\Users\\dhers\\OneDrive\\Para Agus\\6mth.xlsx\"\n",
    "df.to_excel(output_path, index=False)\n",
    "\n",
    "print(df.head())  # Show first rows to verify"
   ]
  }
 ],
 "metadata": {
  "kernelspec": {
   "display_name": "rainstorm",
   "language": "python",
   "name": "python3"
  },
  "language_info": {
   "codemirror_mode": {
    "name": "ipython",
    "version": 3
   },
   "file_extension": ".py",
   "mimetype": "text/x-python",
   "name": "python",
   "nbconvert_exporter": "python",
   "pygments_lexer": "ipython3",
   "version": "3.9.21"
  }
 },
 "nbformat": 4,
 "nbformat_minor": 2
}
