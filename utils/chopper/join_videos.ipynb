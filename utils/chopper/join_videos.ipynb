{
 "cells": [
  {
   "cell_type": "code",
   "execution_count": 3,
   "metadata": {},
   "outputs": [],
   "source": [
    "import cv2\n",
    "import numpy as np\n",
    "\n",
    "def concat_videos(video1, video2, output_video):\n",
    "    \"\"\"\n",
    "    Concatenates two videos back to back using OpenCV.\n",
    "    :param video1: Path to the first video file.\n",
    "    :param video2: Path to the second video file.\n",
    "    :param output_video: Path for the output concatenated video.\n",
    "    \"\"\"\n",
    "    cap1 = cv2.VideoCapture(video1)\n",
    "    cap2 = cv2.VideoCapture(video2)\n",
    "    \n",
    "    # Get properties from the first video\n",
    "    fourcc = cv2.VideoWriter_fourcc(*'mp4v')\n",
    "    fps = int(cap1.get(cv2.CAP_PROP_FPS))\n",
    "    width = int(cap1.get(cv2.CAP_PROP_FRAME_WIDTH))\n",
    "    height = int(cap1.get(cv2.CAP_PROP_FRAME_HEIGHT))\n",
    "    \n",
    "    out = cv2.VideoWriter(output_video, fourcc, fps, (width, height))\n",
    "    \n",
    "    def write_frames(cap):\n",
    "        while cap.isOpened():\n",
    "            ret, frame = cap.read()\n",
    "            if not ret:\n",
    "                break\n",
    "            out.write(frame)\n",
    "        cap.release()\n",
    "    \n",
    "    write_frames(cap1)\n",
    "    write_frames(cap2)\n",
    "    \n",
    "    out.release()\n",
    "    print(f\"Concatenated video saved as: {output_video}\")\n",
    "\n"
   ]
  },
  {
   "cell_type": "code",
   "execution_count": 4,
   "metadata": {},
   "outputs": [
    {
     "name": "stdout",
     "output_type": "stream",
     "text": [
      "Concatenated video saved as: e:\\GAR\\NOR-Feb25 (n=20)\\TS 24h (14-2)\\WIN_20250214_12_27_53_Pro.mp4\n"
     ]
    }
   ],
   "source": [
    "# Example usage\n",
    "concat_videos(r\"e:\\GAR\\NOR-Feb25 (n=20)\\TS 24h (14-2)\\WIN_20250214_12_27_53_Pro_1.mp4\", r\"e:\\GAR\\NOR-Feb25 (n=20)\\TS 24h (14-2)\\WIN_20250214_12_31_11_Pro_2.mp4\", r\"e:\\GAR\\NOR-Feb25 (n=20)\\TS 24h (14-2)\\WIN_20250214_12_27_53_Pro.mp4\")"
   ]
  }
 ],
 "metadata": {
  "kernelspec": {
   "display_name": "GPU",
   "language": "python",
   "name": "python3"
  },
  "language_info": {
   "codemirror_mode": {
    "name": "ipython",
    "version": 3
   },
   "file_extension": ".py",
   "mimetype": "text/x-python",
   "name": "python",
   "nbconvert_exporter": "python",
   "pygments_lexer": "ipython3",
   "version": "3.9.19"
  }
 },
 "nbformat": 4,
 "nbformat_minor": 2
}
