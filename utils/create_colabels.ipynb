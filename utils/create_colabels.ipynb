{
 "cells": [
  {
   "cell_type": "markdown",
   "metadata": {},
   "source": [
    "## Create colabels\n",
    "\n",
    "Use:\n",
    "- This script will create a colabels file from seprate position and label files.\n",
    "\n",
    "Requirements:\n",
    "- A folder with position files containing bodyparts and objects.\n",
    "- One or more folders with labels for those positions.\n"
   ]
  },
  {
   "cell_type": "code",
   "execution_count": 1,
   "metadata": {},
   "outputs": [],
   "source": [
    "import pandas as pd\n",
    "import os"
   ]
  },
  {
   "cell_type": "code",
   "execution_count": null,
   "metadata": {},
   "outputs": [],
   "source": [
    "base = r'c:\\Users\\dhers\\Desktop\\create_colabels'\n",
    "\n",
    "path = os.path.join(base, 'positions')\n",
    "labelers = ['labels_cande']\n",
    "targets = ['obj_1', 'obj_2']"
   ]
  },
  {
   "cell_type": "code",
   "execution_count": null,
   "metadata": {},
   "outputs": [],
   "source": [
    "def create_colabels(path, labelers, targets):\n",
    "    \"\"\"Creates colabels for a given folder of position files.\n",
    "\n",
    "    Args:\n",
    "        path (str): Path to the folder containing position files.\n",
    "        labelers (list): List of labelers names, each corresponding to a folder.\n",
    "        targets (list): List of targets.\n",
    "    \"\"\"\n",
    "    # Get list of position files\n",
    "    position_files = [os.path.join(path, f) for f in os.listdir(path) if f.endswith('.csv')]\n",
    "    \n",
    "    # Initialize list to store concatenated data\n",
    "    all_data = []\n",
    "    \n",
    "    for pos_file in position_files:\n",
    "        # Load position data\n",
    "        pos_df = pd.read_csv(pos_file)\n",
    "        \n",
    "        # Identify body part columns (excluding object positions)\n",
    "        bodypart_cols = [col for col in pos_df.columns if not any(col.startswith(f'{obj}') for obj in targets)]\n",
    "        bodyparts = pos_df[bodypart_cols]\n",
    "        \n",
    "        for obj in targets:\n",
    "            # Extract object position columns\n",
    "            obj_x = pos_df[f'{obj}_x']\n",
    "            obj_y = pos_df[f'{obj}_y']\n",
    "            \n",
    "            # Load labeler data for this object\n",
    "            labels = []\n",
    "            for labeler in labelers:\n",
    "                label_file = os.path.join(os.path.dirname(path), labeler, os.path.basename(pos_file).replace('_position.csv', '_labels.csv'))\n",
    "                label_df = pd.read_csv(label_file)\n",
    "                labels.append(label_df[f'{obj}'])\n",
    "            \n",
    "            # Create a DataFrame with object positions, labels, and bodyparts\n",
    "            obj_data = pd.DataFrame({'obj_x': obj_x, 'obj_y': obj_y})\n",
    "            for i, label_col in enumerate(labels):\n",
    "                obj_data[f'{labelers[i]}'] = label_col\n",
    "            \n",
    "            # Repeat bodypart positions for each object\n",
    "            obj_data = pd.concat([bodyparts, obj_data], axis=1)\n",
    "            \n",
    "            all_data.append(obj_data)\n",
    "    \n",
    "    # Concatenate all targets' data vertically\n",
    "    colabels_df = pd.concat(all_data, ignore_index=True)\n",
    "    \n",
    "    # Save to CSV\n",
    "    output_file = os.path.join(os.path.dirname(path), 'colabels.csv')\n",
    "    colabels_df.to_csv(output_file, index=False)\n",
    "    print(f'Colabels file saved as {output_file}')"
   ]
  },
  {
   "cell_type": "code",
   "execution_count": null,
   "metadata": {},
   "outputs": [
    {
     "name": "stdout",
     "output_type": "stream",
     "text": [
      "Colabels file saved as c:\\Users\\dhers\\Desktop\\create_colabels\\colabels.csv\n"
     ]
    }
   ],
   "source": [
    "create_colabels(path, labelers, targets)"
   ]
  }
 ],
 "metadata": {
  "kernelspec": {
   "display_name": "rainstorm",
   "language": "python",
   "name": "python3"
  },
  "language_info": {
   "codemirror_mode": {
    "name": "ipython",
    "version": 3
   },
   "file_extension": ".py",
   "mimetype": "text/x-python",
   "name": "python",
   "nbconvert_exporter": "python",
   "pygments_lexer": "ipython3",
   "version": "3.9.21"
  }
 },
 "nbformat": 4,
 "nbformat_minor": 2
}
