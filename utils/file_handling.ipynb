{
 "cells": [
  {
   "cell_type": "markdown",
   "metadata": {},
   "source": [
    "RAIN - Real & Artificial Intelligence for Neuroscience\n",
    "\n",
    "## File handling\n",
    "\n",
    "Welcome to my file handling notebook!\n",
    "\n",
    "Here you'll find are a compilation of many functions I've written when working with files.\n",
    "\n",
    "Sometimes it is useful to rename, move, and organize files, among other things."
   ]
  },
  {
   "cell_type": "code",
   "execution_count": 7,
   "metadata": {},
   "outputs": [],
   "source": [
    "import shutil\n",
    "from pathlib import Path\n",
    "import os\n",
    "import pandas as pd"
   ]
  },
  {
   "cell_type": "markdown",
   "metadata": {},
   "source": [
    "---\n",
    "Start by stating the path to the folder containing the files"
   ]
  },
  {
   "cell_type": "code",
   "execution_count": 2,
   "metadata": {},
   "outputs": [],
   "source": [
    "folder_path = r'C:\\Users\\dhers\\OneDrive\\Doctorado\\Experimentos\\3xTg_B2\\aligned\\cropped'"
   ]
  },
  {
   "cell_type": "markdown",
   "metadata": {},
   "source": [
    "---\n",
    "If you want to organize your files into subfolders:"
   ]
  },
  {
   "cell_type": "code",
   "execution_count": 6,
   "metadata": {},
   "outputs": [],
   "source": [
    "def filter_files(folder_path: str, subfolders: list):\n",
    "    \"\"\"Filters and moves files to the appropriate subfolder.\n",
    "\n",
    "    Args:\n",
    "        path (str): The main folder containing the files.\n",
    "        subfolders (list): A list of subfolder names to filter files into.\n",
    "    \"\"\"\n",
    "    # Create a Path object\n",
    "    path = Path(folder_path)\n",
    "\n",
    "    # Get a list of all files in the input folder\n",
    "    files = [f for f in path.iterdir() if f.is_file()]\n",
    "\n",
    "    for subfolder in subfolders:\n",
    "        subfolder_path = path / subfolder\n",
    "\n",
    "        # Ensure subfolder and position folder exist\n",
    "        subfolder_path.mkdir(parents=True, exist_ok=True)\n",
    "\n",
    "        # Iterate through files and move matching ones\n",
    "        for file in files:\n",
    "            if subfolder in file.name:\n",
    "                destination = subfolder_path / file.name\n",
    "\n",
    "                # Avoid overwriting files\n",
    "                if not destination.exists():\n",
    "                    shutil.move(str(file), str(destination))\n",
    "                else:\n",
    "                    print(f\"File {file.name} already exists in {destination.parent}, skipping.\")"
   ]
  },
  {
   "cell_type": "code",
   "execution_count": 7,
   "metadata": {},
   "outputs": [],
   "source": [
    "subfolders = ['OF','Splash']\n",
    "filter_files(folder_path, subfolders)"
   ]
  },
  {
   "cell_type": "markdown",
   "metadata": {},
   "source": [
    "---\n",
    "If you want to list the names of the files in a folder (and eventually rename them):"
   ]
  },
  {
   "cell_type": "code",
   "execution_count": 12,
   "metadata": {},
   "outputs": [],
   "source": [
    "def list_files(folder_path: str):\n",
    "    \"\"\"Lists all files in a folder and saves them to a CSV file.\n",
    "\n",
    "    Args:\n",
    "        folder_path (str): Path to the folder.\n",
    "    \"\"\"\n",
    "    # Create a Path object\n",
    "    path = Path(folder_path)\n",
    "\n",
    "    # Get a list of all files in the input folder\n",
    "    files = [os.path.basename(f) for f in path.iterdir() if f.is_file()]\n",
    "\n",
    "    # Sort files alphabetically\n",
    "    files.sort()\n",
    "\n",
    "    # Create a DataFrame for the CSV\n",
    "    df = pd.DataFrame({\n",
    "        'filename': files,\n",
    "    })\n",
    "\n",
    "    # Write DataFrame to CSV\n",
    "    output_csv = path / 'filenames.csv'\n",
    "    df.to_csv(output_csv, index=False)\n",
    "    print(f\"Filenames saved to {output_csv}\")"
   ]
  },
  {
   "cell_type": "code",
   "execution_count": 14,
   "metadata": {},
   "outputs": [
    {
     "name": "stdout",
     "output_type": "stream",
     "text": [
      "Filenames saved to E:\\Guille\\2024_12\\E+M\\trimmed\\filenames.csv\n"
     ]
    }
   ],
   "source": [
    "folder_path = r'E:\\Guille\\2024_12\\E+M\\trimmed'\n",
    "list_files(folder_path)"
   ]
  },
  {
   "cell_type": "markdown",
   "metadata": {},
   "source": [
    "---\n",
    "To rename the files using the list created above:\n",
    "- Write the new names under a new column called 'rename' in the csv file\n",
    "- Run the function below"
   ]
  },
  {
   "cell_type": "code",
   "execution_count": null,
   "metadata": {},
   "outputs": [],
   "source": [
    "\n",
    "def rename_files(folder_path: str):\n",
    "    \"\"\"Renames files in a folder based on a CSV file containing a 'rename' column.\n",
    "\n",
    "    Args:\n",
    "        folder_path (str): Path to the folder.\n",
    "    \"\"\"\n",
    "    # Create a Path object\n",
    "    path = Path(folder_path)\n",
    "    csv_path = path / 'filenames.csv'\n",
    "    \n",
    "    # Check if the CSV file exists\n",
    "    if not csv_path.exists():\n",
    "        print(f\"Error: CSV with filenames not found in the folder.\")\n",
    "        return\n",
    "    \n",
    "    # Read CSV file\n",
    "    df = pd.read_csv(csv_path)\n",
    "    \n",
    "    # Check if the required columns exist\n",
    "    if 'filename' not in df.columns or 'rename' not in df.columns:\n",
    "        print(\"Error: CSV must contain 'filename' and 'rename' columns.\")\n",
    "        return\n",
    "    \n",
    "    # Iterate through each row and rename files\n",
    "    for _, row in df.iterrows():\n",
    "        old_name = row['filename']\n",
    "        new_name = row['rename']\n",
    "        \n",
    "        old_path = path / old_name\n",
    "        new_path = path / new_name\n",
    "        \n",
    "        if old_path.exists():\n",
    "            os.rename(old_path, new_path)\n",
    "            print(f\"Renamed: {old_name} -> {new_name}\")\n",
    "        else:\n",
    "            print(f\"Warning: File '{old_name}' not found, skipping.\")\n",
    "    \n",
    "    print(\"Renaming process completed.\")"
   ]
  },
  {
   "cell_type": "code",
   "execution_count": 17,
   "metadata": {},
   "outputs": [
    {
     "name": "stdout",
     "output_type": "stream",
     "text": [
      "Renamed: 2025_02-R01_C1i-Y_maze.avi -> Y-Maze_2025-02-06T15_49_55.avi\n",
      "Renamed: 2025_02-R02_C1d-Y_maze.avi -> Y-Maze_2025-02-06T16_30_06.avi\n",
      "Renamed: 2025_02-R03_C1a-Y_maze.avi -> Y-Maze_2025-02-06T16_42_54.avi\n",
      "Renamed: 2025_02-R04_C2n-Y_maze.avi -> Y-Maze_2025-02-06T16_55_26.avi\n",
      "Renamed: 2025_02-R05_C2i-Y_maze.avi -> Y-Maze_2025-02-06T17_08_52.avi\n",
      "Renamed: 2025_02-R06_C2d-Y_maze.avi -> Y-Maze_2025-02-06T17_21_56.avi\n",
      "Renamed: 2025_02-R07_C3i-Y_maze.avi -> Y-Maze_2025-02-06T17_36_27.avi\n",
      "Renamed: 2025_02-R08_C3d-Y_maze.avi -> Y-Maze_2025-02-06T17_49_06.avi\n",
      "Renamed: 2025_02-R09_C3a-Y_maze.avi -> Y-Maze_2025-02-06T18_01_42.avi\n",
      "Renamed: 2025_02-R10_C4i-Y_maze.avi -> Y-Maze_2025-02-06T18_14_04.avi\n",
      "Renamed: 2025_02-R11_C4d-Y_maze.avi -> Y-Maze_2025-02-06T18_27_59.avi\n",
      "Renamed: 2025_02-R12_C5n-Y_maze.avi -> Y-Maze_2025-02-07T16_05_59.avi\n",
      "Renamed: 2025_02-R13_C5i-Y_maze.avi -> Y-Maze_2025-02-07T16_17_32.avi\n",
      "Renamed: 2025_02-R14_C5d-Y_maze.avi -> Y-Maze_2025-02-07T16_29_58.avi\n",
      "Renamed: 2025_02-R15_C5a-Y_maze.avi -> Y-Maze_2025-02-07T16_42_28.avi\n",
      "Renamed: 2025_02-R16_C6i-Y_maze.avi -> Y-Maze_2025-02-07T16_54_46.avi\n",
      "Renamed: 2025_02-R17_C6d-Y_maze.avi -> Y-Maze_2025-02-07T17_07_44.avi\n",
      "Renamed: 2025_02-R18_C6a-Y_maze.avi -> Y-Maze_2025-02-07T17_23_40.avi\n",
      "Renamed: 2025_02-R19_C6ii-Y_maze.avi -> Y-Maze_2025-02-07T17_36_56.avi\n",
      "Renamed: 2025_02-R20_C7d-Y_maze.avi -> Y-Maze_2025-02-07T17_47_32.avi\n",
      "Renamed: 2025_02-R21_C7n-Y_maze.avi -> Y-Maze_2025-02-07T18_00_35.avi\n",
      "Renamed: 2025_02-R22_C8i-Y_maze.avi -> Y-Maze_2025-02-07T18_13_09.avi\n",
      "Renamed: 2025_02-R23_C8d-Y_maze.avi -> Y-Maze_2025-02-07T18_27_29.avi\n",
      "Renaming process completed.\n"
     ]
    }
   ],
   "source": [
    "folder_path = r'E:\\Guille\\2025_02\\Y_maze'\n",
    "rename_files(folder_path)"
   ]
  }
 ],
 "metadata": {
  "kernelspec": {
   "display_name": "rainstorm",
   "language": "python",
   "name": "python3"
  },
  "language_info": {
   "codemirror_mode": {
    "name": "ipython",
    "version": 3
   },
   "file_extension": ".py",
   "mimetype": "text/x-python",
   "name": "python",
   "nbconvert_exporter": "python",
   "pygments_lexer": "ipython3",
   "version": "3.9.21"
  }
 },
 "nbformat": 4,
 "nbformat_minor": 2
}
