{
 "cells": [
  {
   "cell_type": "markdown",
   "metadata": {},
   "source": [
    "RAIN - Real & Artificial Intelligence for Neuroscience\n",
    "\n",
    "## File handling\n",
    "\n",
    "Welcome to my file handling notebook!\n",
    "\n",
    "Here you'll find are a compilation of many functions I've written when working with files.\n",
    "\n",
    "Sometimes it is useful to rename, move, and organize files, among other things."
   ]
  },
  {
   "cell_type": "code",
   "execution_count": 1,
   "metadata": {},
   "outputs": [],
   "source": [
    "import shutil\n",
    "from pathlib import Path"
   ]
  },
  {
   "cell_type": "markdown",
   "metadata": {},
   "source": [
    "---\n",
    "Start by stating the path to the folder containing the files"
   ]
  },
  {
   "cell_type": "code",
   "execution_count": 5,
   "metadata": {},
   "outputs": [],
   "source": [
    "folder_path = r'C:\\Users\\dhers\\OneDrive\\Doctorado\\Experimentos\\3xTg_B2\\aligned\\cropped'"
   ]
  },
  {
   "cell_type": "markdown",
   "metadata": {},
   "source": [
    "---\n",
    "If you want to organize your files into subfolders:"
   ]
  },
  {
   "cell_type": "code",
   "execution_count": 6,
   "metadata": {},
   "outputs": [],
   "source": [
    "def filter_files(folder_path: str, subfolders: list):\n",
    "    \"\"\"Filters and moves files to the appropriate subfolder.\n",
    "\n",
    "    Args:\n",
    "        path (str): The main folder containing the files.\n",
    "        subfolders (list): A list of subfolder names to filter files into.\n",
    "    \"\"\"\n",
    "    # Create a Path object\n",
    "    path = Path(folder_path)\n",
    "\n",
    "    # Get a list of all files in the input folder\n",
    "    files = [f for f in path.iterdir() if f.is_file()]\n",
    "\n",
    "    for subfolder in subfolders:\n",
    "        subfolder_path = path / subfolder\n",
    "\n",
    "        # Ensure subfolder and position folder exist\n",
    "        subfolder_path.mkdir(parents=True, exist_ok=True)\n",
    "\n",
    "        # Iterate through files and move matching ones\n",
    "        for file in files:\n",
    "            if subfolder in file.name:\n",
    "                destination = subfolder_path / file.name\n",
    "\n",
    "                # Avoid overwriting files\n",
    "                if not destination.exists():\n",
    "                    shutil.move(str(file), str(destination))\n",
    "                else:\n",
    "                    print(f\"File {file.name} already exists in {destination.parent}, skipping.\")"
   ]
  },
  {
   "cell_type": "code",
   "execution_count": 7,
   "metadata": {},
   "outputs": [],
   "source": [
    "subfolders = ['OF','Splash']\n",
    "filter_files(folder_path, subfolders)"
   ]
  },
  {
   "cell_type": "markdown",
   "metadata": {},
   "source": [
    "---\n",
    "If you want to list the names of the files in a folder (and eventually rename them):"
   ]
  },
  {
   "cell_type": "code",
   "execution_count": 46,
   "metadata": {},
   "outputs": [],
   "source": [
    "def list_files(folder_path: str):\n",
    "    \"\"\"Lists all files in a folder and saves them to a CSV file.\n",
    "\n",
    "    Args:\n",
    "        folder_path (str): Path to the folder.\n",
    "    \"\"\"\n",
    "    # Create a Path object\n",
    "    path = Path(folder_path)\n",
    "\n",
    "    # Get a list of all files in the input folder\n",
    "    files = [os.path.basename(f) for f in path.iterdir() if f.is_file()]\n",
    "\n",
    "    # Sort files alphabetically\n",
    "    files.sort()\n",
    "\n",
    "    # Create a DataFrame for the CSV\n",
    "    df = pd.DataFrame({\n",
    "        'filename': files,\n",
    "    })\n",
    "\n",
    "    # Write DataFrame to CSV\n",
    "    output_csv = path / 'filenames.csv'\n",
    "    df.to_csv(output_csv, index=False)\n",
    "    print(f\"Filenames saved to {output_csv}\")"
   ]
  },
  {
   "cell_type": "code",
   "execution_count": null,
   "metadata": {},
   "outputs": [
    {
     "name": "stdout",
     "output_type": "stream",
     "text": [
      "Filenames saved to C:\\Users\\dhers\\OneDrive\\Doctorado\\Experimentos\\3xTg_B2\\2024_04-OF\\aligned\\filenames.csv\n"
     ]
    }
   ],
   "source": [
    "list_files(folder_path)"
   ]
  },
  {
   "cell_type": "markdown",
   "metadata": {},
   "source": [
    "---\n",
    "To rename the files using the list created above:\n",
    "- Write the new names under a new column called 'rename' in the csv file\n",
    "- Run the function below"
   ]
  },
  {
   "cell_type": "code",
   "execution_count": null,
   "metadata": {},
   "outputs": [],
   "source": [
    "def rename_files(folder_path: str):\n",
    "    \"\"\"Renames files in a folder based on a CSV file containing a 'rename' column.\n",
    "\n",
    "    Args:\n",
    "        folder_path (str): Path to the folder.\n",
    "    \"\"\"\n",
    "    # Create a Path object\n",
    "    path = Path(folder_path)\n",
    "    csv_path = path / 'filenames.csv'\n",
    "    \n",
    "    # Check if the CSV file exists\n",
    "    if not csv_path.exists():\n",
    "        print(f\"Error: CSV with filenames not found in the folder.\")\n",
    "        return\n",
    "    \n",
    "    # Read CSV file\n",
    "    df = pd.read_csv(csv_path)\n",
    "    \n",
    "    # Check if the required columns exist\n",
    "    if 'filename' not in df.columns or 'rename' not in df.columns:\n",
    "        print(\"Error: CSV must contain 'filename' and 'rename' columns.\")\n",
    "        return\n",
    "    \n",
    "    # Iterate through each row and rename files\n",
    "    for _, row in df.iterrows():\n",
    "        old_name = row['filename']\n",
    "        new_name = row['rename']\n",
    "        \n",
    "        old_path = path / old_name\n",
    "        new_path = path / new_name\n",
    "        \n",
    "        if old_path.exists():\n",
    "            os.rename(old_path, new_path)\n",
    "            print(f\"Renamed: {old_name} -> {new_name}\")\n",
    "        else:\n",
    "            print(f\"Warning: File '{old_name}' not found, skipping.\")\n",
    "    \n",
    "    print(\"Renaming process completed.\")"
   ]
  },
  {
   "cell_type": "code",
   "execution_count": 50,
   "metadata": {},
   "outputs": [
    {
     "name": "stdout",
     "output_type": "stream",
     "text": [
      "Renamed: WIN_20240408_10_35_21_Pro_L.mp4 -> 2024_04-R01_C1i-Splash.mp4\n",
      "Renamed: WIN_20240408_10_35_21_Pro_R.mp4 -> 2024_04-R02_C1d-Splash.mp4\n",
      "Renamed: WIN_20240408_11_09_20_Pro_L.mp4 -> 2024_04-R03_C1a-Splash.mp4\n",
      "Renamed: WIN_20240408_11_09_20_Pro_R.mp4 -> 2024_04-R04_C2i-Splash.mp4\n",
      "Renamed: WIN_20240408_11_39_08_Pro_L.mp4 -> 2024_04-R05_C2d-Splash.mp4\n",
      "Renamed: WIN_20240408_11_39_08_Pro_R.mp4 -> 2024_04-R06_C2a-Splash.mp4\n",
      "Renamed: WIN_20240408_12_10_46_Pro_L.mp4 -> 2024_04-R07_C3i-Splash.mp4\n",
      "Renamed: WIN_20240408_12_10_46_Pro_R.mp4 -> 2024_04-R08_C3d-Splash.mp4\n",
      "Renamed: WIN_20240408_12_41_31_Pro_L.mp4 -> 2024_04-R09_C3n-Splash.mp4\n",
      "Renamed: WIN_20240408_13_09_56_Pro_L.mp4 -> 2024_04-R10_C4i-Splash.mp4\n",
      "Renamed: WIN_20240408_13_09_56_Pro_R.mp4 -> 2024_04-R11_C4d-Splash.mp4\n",
      "Renamed: WIN_20240408_14_03_27_Pro_L.mp4 -> 2024_04-R12_C5i-Splash.mp4\n",
      "Renamed: WIN_20240408_14_03_27_Pro_R.mp4 -> 2024_04-R13_C5d-Splash.mp4\n",
      "Renamed: WIN_20240408_14_33_20_Pro_L.mp4 -> 2024_04-R14_C5a-Splash.mp4\n",
      "Renamed: WIN_20240408_14_33_20_Pro_R.mp4 -> 2024_04-R15_C5n-Splash.mp4\n",
      "Renamed: WIN_20240408_15_03_22_Pro_L.mp4 -> 2024_04-R16_C6i-Splash.mp4\n",
      "Renamed: WIN_20240408_15_03_22_Pro_R.mp4 -> 2024_04-R17_C6d-Splash.mp4\n",
      "Renamed: WIN_20240408_15_33_58_Pro_L.mp4 -> 2024_04-R18_C6a-Splash.mp4\n",
      "Renaming process completed.\n"
     ]
    }
   ],
   "source": [
    "rename_files(folder_path)"
   ]
  }
 ],
 "metadata": {
  "kernelspec": {
   "display_name": "rainstorm",
   "language": "python",
   "name": "python3"
  },
  "language_info": {
   "codemirror_mode": {
    "name": "ipython",
    "version": 3
   },
   "file_extension": ".py",
   "mimetype": "text/x-python",
   "name": "python",
   "nbconvert_exporter": "python",
   "pygments_lexer": "ipython3",
   "version": "3.9.21"
  }
 },
 "nbformat": 4,
 "nbformat_minor": 2
}
