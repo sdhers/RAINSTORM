{
 "cells": [
  {
   "cell_type": "markdown",
   "metadata": {},
   "source": [
    "RAIN - Real & Artificial Intelligence for Neuroscience\n",
    "\n",
    "## File handling\n",
    "\n",
    "Welcome to my file handling notebook!\n",
    "\n",
    "Here you'll find are a compilation of many functions I've written when working with files.\n",
    "\n",
    "Sometimes it is useful to rename, move, and organize files, among other things."
   ]
  },
  {
   "cell_type": "code",
   "execution_count": 1,
   "metadata": {},
   "outputs": [],
   "source": [
    "import shutil\n",
    "from pathlib import Path\n",
    "import os\n",
    "import pandas as pd"
   ]
  },
  {
   "cell_type": "markdown",
   "metadata": {},
   "source": [
    "---\n",
    "If you want to organize your files into subfolders:"
   ]
  },
  {
   "cell_type": "code",
   "execution_count": 6,
   "metadata": {},
   "outputs": [],
   "source": [
    "def filter_files(folder_path: str, subfolders: list):\n",
    "    \"\"\"Filters and moves files to the appropriate subfolder.\n",
    "\n",
    "    Args:\n",
    "        path (str): The main folder containing the files.\n",
    "        subfolders (list): A list of subfolder names to filter files into.\n",
    "    \"\"\"\n",
    "    # Create a Path object\n",
    "    path = Path(folder_path)\n",
    "\n",
    "    # Get a list of all files in the input folder\n",
    "    files = [f for f in path.iterdir() if f.is_file()]\n",
    "\n",
    "    for subfolder in subfolders:\n",
    "        subfolder_path = path / subfolder\n",
    "\n",
    "        # Ensure subfolder and position folder exist\n",
    "        subfolder_path.mkdir(parents=True, exist_ok=True)\n",
    "\n",
    "        # Iterate through files and move matching ones\n",
    "        for file in files:\n",
    "            if subfolder in file.name:\n",
    "                destination = subfolder_path / file.name\n",
    "\n",
    "                # Avoid overwriting files\n",
    "                if not destination.exists():\n",
    "                    shutil.move(str(file), str(destination))\n",
    "                else:\n",
    "                    print(f\"File {file.name} already exists in {destination.parent}, skipping.\")"
   ]
  },
  {
   "cell_type": "code",
   "execution_count": null,
   "metadata": {},
   "outputs": [],
   "source": [
    "folder_path = r'd:\\sdhers\\NOR full videos\\3xTg_B2 (TORM)\\2025_02-Y_Maze_12_m\\modified\\Y_Maze'\n",
    "subfolders = ['OF','Splash']\n",
    "filter_files(folder_path, subfolders)"
   ]
  },
  {
   "cell_type": "markdown",
   "metadata": {},
   "source": [
    "---\n",
    "If you want to change a word from all filenames in a folder:"
   ]
  },
  {
   "cell_type": "code",
   "execution_count": 6,
   "metadata": {},
   "outputs": [],
   "source": [
    "def edit_filenames(folder, before, after):\n",
    "    # Get a list of all files in the specified folder\n",
    "    files = os.listdir(folder)\n",
    "    \n",
    "    for file_name in files:\n",
    "        # Check if 'before' is in the file name\n",
    "        if before in file_name:\n",
    "            # Construct the new file name\n",
    "            new_name = file_name.replace(before, after)\n",
    "            # Construct full file paths\n",
    "            old_file = os.path.join(folder, file_name)\n",
    "            new_file = os.path.join(folder, new_name)\n",
    "            # Rename the file\n",
    "            os.rename(old_file, new_file)\n",
    "            print(f'Renamed: {old_file} to {new_file}')"
   ]
  },
  {
   "cell_type": "code",
   "execution_count": 11,
   "metadata": {},
   "outputs": [
    {
     "name": "stdout",
     "output_type": "stream",
     "text": [
      "Renamed: D:\\sdhers\\3_obj\\Chopped videos\\03_2025-TORM_3xTR-R01_C1n-TS to D:\\sdhers\\3_obj\\Chopped videos\\03_2025-TORM_3xTR-R01_C1n-TS.mp4\n",
      "Renamed: D:\\sdhers\\3_obj\\Chopped videos\\03_2025-TORM_3xTR-R02_C1i-TS to D:\\sdhers\\3_obj\\Chopped videos\\03_2025-TORM_3xTR-R02_C1i-TS.mp4\n",
      "Renamed: D:\\sdhers\\3_obj\\Chopped videos\\03_2025-TORM_3xTR-R03_C1d-TS to D:\\sdhers\\3_obj\\Chopped videos\\03_2025-TORM_3xTR-R03_C1d-TS.mp4\n",
      "Renamed: D:\\sdhers\\3_obj\\Chopped videos\\03_2025-TORM_3xTR-R04_C1a-TS to D:\\sdhers\\3_obj\\Chopped videos\\03_2025-TORM_3xTR-R04_C1a-TS.mp4\n",
      "Renamed: D:\\sdhers\\3_obj\\Chopped videos\\03_2025-TORM_3xTR-R05_C2n-TS to D:\\sdhers\\3_obj\\Chopped videos\\03_2025-TORM_3xTR-R05_C2n-TS.mp4\n",
      "Renamed: D:\\sdhers\\3_obj\\Chopped videos\\03_2025-TORM_3xTR-R06_C2i-TS to D:\\sdhers\\3_obj\\Chopped videos\\03_2025-TORM_3xTR-R06_C2i-TS.mp4\n",
      "Renamed: D:\\sdhers\\3_obj\\Chopped videos\\03_2025-TORM_3xTR-R07_C2d-TS to D:\\sdhers\\3_obj\\Chopped videos\\03_2025-TORM_3xTR-R07_C2d-TS.mp4\n",
      "Renamed: D:\\sdhers\\3_obj\\Chopped videos\\03_2025-TORM_3xTR-R08_C2a-TS to D:\\sdhers\\3_obj\\Chopped videos\\03_2025-TORM_3xTR-R08_C2a-TS.mp4\n",
      "Renamed: D:\\sdhers\\3_obj\\Chopped videos\\03_2025-TORM_3xTR-R09_C3n-TS to D:\\sdhers\\3_obj\\Chopped videos\\03_2025-TORM_3xTR-R09_C3n-TS.mp4\n",
      "Renamed: D:\\sdhers\\3_obj\\Chopped videos\\03_2025-TORM_3xTR-R10_C3i-TS to D:\\sdhers\\3_obj\\Chopped videos\\03_2025-TORM_3xTR-R10_C3i-TS.mp4\n",
      "Renamed: D:\\sdhers\\3_obj\\Chopped videos\\03_2025-TORM_3xTR-R11_C3d-TS to D:\\sdhers\\3_obj\\Chopped videos\\03_2025-TORM_3xTR-R11_C3d-TS.mp4\n",
      "Renamed: D:\\sdhers\\3_obj\\Chopped videos\\03_2025-TORM_3xTR-R12_C3a-TS to D:\\sdhers\\3_obj\\Chopped videos\\03_2025-TORM_3xTR-R12_C3a-TS.mp4\n",
      "Renamed: D:\\sdhers\\3_obj\\Chopped videos\\03_2025-TORM_3xTR-R13_C4n-TS to D:\\sdhers\\3_obj\\Chopped videos\\03_2025-TORM_3xTR-R13_C4n-TS.mp4\n",
      "Renamed: D:\\sdhers\\3_obj\\Chopped videos\\03_2025-TORM_3xTR-R14_C4i-TS to D:\\sdhers\\3_obj\\Chopped videos\\03_2025-TORM_3xTR-R14_C4i-TS.mp4\n",
      "Renamed: D:\\sdhers\\3_obj\\Chopped videos\\03_2025-TORM_3xTR-R15_C4d-TS to D:\\sdhers\\3_obj\\Chopped videos\\03_2025-TORM_3xTR-R15_C4d-TS.mp4\n",
      "Renamed: D:\\sdhers\\3_obj\\Chopped videos\\03_2025-TORM_3xTR-R16_C4a-TS to D:\\sdhers\\3_obj\\Chopped videos\\03_2025-TORM_3xTR-R16_C4a-TS.mp4\n"
     ]
    }
   ],
   "source": [
    "folder_path = r'D:\\sdhers\\3_obj\\Chopped videos'\n",
    "before = 'TS'\n",
    "after = 'TS.mp4'\n",
    "\n",
    "edit_filenames(folder_path, before, after)"
   ]
  },
  {
   "cell_type": "markdown",
   "metadata": {},
   "source": [
    "---\n",
    "If you want to change a word from inside all csv files in a folder"
   ]
  },
  {
   "cell_type": "code",
   "execution_count": null,
   "metadata": {},
   "outputs": [],
   "source": [
    "def replace_word_in_csv(folder_path, old_word, new_word):\n",
    "    # Iterate through all files in the folder\n",
    "    for filename in os.listdir(folder_path):\n",
    "        if filename.endswith(\".csv\"):  # Process only CSV files\n",
    "            file_path = os.path.join(folder_path, filename)\n",
    "            \n",
    "            try:\n",
    "                # Load the CSV file into a DataFrame\n",
    "                df = pd.read_csv(file_path, header=None)\n",
    "                \n",
    "                # Replace occurrences of the old word with the new word\n",
    "                df.replace(old_word, new_word, inplace=True)\n",
    "                \n",
    "                # Save the modified DataFrame back to the same file\n",
    "                df.to_csv(file_path, index=False, header=False)\n",
    "                \n",
    "                print(f\"Processed file: {filename}\")\n",
    "            except Exception as e:\n",
    "                print(f\"Failed to process file: {filename}. Error: {e}\")"
   ]
  },
  {
   "cell_type": "code",
   "execution_count": null,
   "metadata": {},
   "outputs": [],
   "source": [
    "folder_path = r\"C:\\Users\\dhers\\OneDrive - UBA\\workshop\\Interferencia\\TS\\labels\"  # Replace with your folder path\n",
    "old_word = \"Right\"\n",
    "new_word = \"obj_2\"\n",
    "\n",
    "replace_word_in_csv(folder_path, old_word, new_word)"
   ]
  },
  {
   "cell_type": "markdown",
   "metadata": {},
   "source": [
    "---\n",
    "If you want to list the names of the files in a folder (and eventually rename them):"
   ]
  },
  {
   "cell_type": "code",
   "execution_count": 2,
   "metadata": {},
   "outputs": [],
   "source": [
    "def list_files(folder_path: str):\n",
    "    \"\"\"Lists all files in a folder and saves them to a CSV file.\n",
    "\n",
    "    Args:\n",
    "        folder_path (str): Path to the folder.\n",
    "    \"\"\"\n",
    "    # Create a Path object\n",
    "    path = Path(folder_path)\n",
    "\n",
    "    # Get a list of all files in the input folder\n",
    "    files = [os.path.basename(f) for f in path.iterdir() if f.is_file()]\n",
    "\n",
    "    # Sort files alphabetically\n",
    "    files.sort()\n",
    "\n",
    "    # Create a DataFrame for the CSV\n",
    "    df = pd.DataFrame({\n",
    "        'filename': files,\n",
    "    })\n",
    "\n",
    "    # Write DataFrame to CSV\n",
    "    output_csv = path / 'filenames.csv'\n",
    "    df.to_csv(output_csv, index=False)\n",
    "    print(f\"Filenames saved to {output_csv}\")"
   ]
  },
  {
   "cell_type": "code",
   "execution_count": 3,
   "metadata": {},
   "outputs": [
    {
     "name": "stdout",
     "output_type": "stream",
     "text": [
      "Filenames saved to D:\\sdhers\\3_obj\\Chopped videos\\filenames.csv\n"
     ]
    }
   ],
   "source": [
    "folder_path = r'D:\\sdhers\\3_obj\\Chopped videos'\n",
    "list_files(folder_path)"
   ]
  },
  {
   "cell_type": "markdown",
   "metadata": {},
   "source": [
    "---\n",
    "To rename the files using the list created above:\n",
    "- Write the new names under a new column called 'rename' in the csv file\n",
    "- Run the function below"
   ]
  },
  {
   "cell_type": "code",
   "execution_count": 4,
   "metadata": {},
   "outputs": [],
   "source": [
    "def rename_files_from_list(folder_path: str):\n",
    "    \"\"\"Renames files in a folder based on a CSV file containing a 'rename' column.\n",
    "\n",
    "    Args:\n",
    "        folder_path (str): Path to the folder.\n",
    "    \"\"\"\n",
    "    # Create a Path object\n",
    "    path = Path(folder_path)\n",
    "    csv_path = path / 'filenames.csv'\n",
    "    \n",
    "    # Check if the CSV file exists\n",
    "    if not csv_path.exists():\n",
    "        print(f\"Error: CSV with filenames not found in the folder.\")\n",
    "        return\n",
    "    \n",
    "    # Read CSV file\n",
    "    df = pd.read_csv(csv_path)\n",
    "    \n",
    "    # Check if the required columns exist\n",
    "    if 'filename' not in df.columns or 'rename' not in df.columns:\n",
    "        print(\"Error: CSV must contain 'filename' and 'rename' columns.\")\n",
    "        return\n",
    "    \n",
    "    # Iterate through each row and rename files\n",
    "    for _, row in df.iterrows():\n",
    "        old_name = row['filename']\n",
    "        new_name = row['rename']\n",
    "        \n",
    "        old_path = path / old_name\n",
    "        new_path = path / new_name\n",
    "        \n",
    "        if old_path.exists():\n",
    "            os.rename(old_path, new_path)\n",
    "            print(f\"Renamed: {old_name} -> {new_name}\")\n",
    "        else:\n",
    "            print(f\"Warning: File '{old_name}' not found, skipping.\")\n",
    "    \n",
    "    print(\"Renaming process completed.\")"
   ]
  },
  {
   "cell_type": "code",
   "execution_count": 5,
   "metadata": {},
   "outputs": [
    {
     "name": "stdout",
     "output_type": "stream",
     "text": [
      "Renamed: TS2_A_2025-03-12T14_00_42_L.mp4 -> 03_2025-TORM_3xTR-R01_C1n-Hab\n",
      "Renamed: TS2_A_2025-03-12T14_00_42_R.mp4 -> 03_2025-TORM_3xTR-R02_C1i-Hab\n",
      "Renamed: TS2_A_2025-03-12T14_11_56_L.mp4 -> 03_2025-TORM_3xTR-R05_C2n-Hab\n",
      "Renamed: TS2_A_2025-03-12T14_11_56_R.mp4 -> 03_2025-TORM_3xTR-R06_C2i-Hab\n",
      "Renamed: TS2_A_2025-03-12T14_34_26_L.mp4 -> 03_2025-TORM_3xTR-R09_C3n-Hab\n",
      "Renamed: TS2_A_2025-03-12T14_34_26_R.mp4 -> 03_2025-TORM_3xTR-R10_C3i-Hab\n",
      "Renamed: TS2_A_2025-03-12T14_47_15_L.mp4 -> 03_2025-TORM_3xTR-R13_C4n-Hab\n",
      "Renamed: TS2_A_2025-03-12T14_47_15_R.mp4 -> 03_2025-TORM_3xTR-R14_C4i-Hab\n",
      "Renamed: TS2_A_2025-03-13T13_51_16_L.mp4 -> 03_2025-TORM_3xTR-R01_C1n-TR1\n",
      "Renamed: TS2_A_2025-03-13T13_51_16_R.mp4 -> 03_2025-TORM_3xTR-R02_C1i-TR1\n",
      "Renamed: TS2_A_2025-03-13T14_06_43_L.mp4 -> 03_2025-TORM_3xTR-R05_C2n-TR1\n",
      "Renamed: TS2_A_2025-03-13T14_06_43_R.mp4 -> 03_2025-TORM_3xTR-R06_C2i-TR1\n",
      "Renamed: TS2_A_2025-03-13T14_20_11_L.mp4 -> 03_2025-TORM_3xTR-R09_C3n-TR1\n",
      "Renamed: TS2_A_2025-03-13T14_20_11_R.mp4 -> 03_2025-TORM_3xTR-R10_C3i-TR1\n",
      "Renamed: TS2_A_2025-03-13T14_34_07_L.mp4 -> 03_2025-TORM_3xTR-R13_C4n-TR1\n",
      "Renamed: TS2_A_2025-03-13T14_34_07_R.mp4 -> 03_2025-TORM_3xTR-R14_C4i-TR1\n",
      "Renamed: TS2_A_2025-03-13T14_48_51_L.mp4 -> 03_2025-TORM_3xTR-R01_C1n-TR2\n",
      "Renamed: TS2_A_2025-03-13T14_48_51_R.mp4 -> 03_2025-TORM_3xTR-R02_C1i-TR2\n",
      "Renamed: TS2_A_2025-03-13T15_04_49_L.mp4 -> 03_2025-TORM_3xTR-R05_C2n-TR2\n",
      "Renamed: TS2_A_2025-03-13T15_04_49_R.mp4 -> 03_2025-TORM_3xTR-R06_C2i-TR2\n",
      "Renamed: TS2_A_2025-03-13T15_18_26_L.mp4 -> 03_2025-TORM_3xTR-R09_C3n-TR2\n",
      "Renamed: TS2_A_2025-03-13T15_18_26_R.mp4 -> 03_2025-TORM_3xTR-R10_C3i-TR2\n",
      "Renamed: TS2_A_2025-03-13T15_32_34_L.mp4 -> 03_2025-TORM_3xTR-R13_C4n-TR2\n",
      "Renamed: TS2_A_2025-03-13T15_32_34_R.mp4 -> 03_2025-TORM_3xTR-R14_C4i-TR2\n",
      "Renamed: TS2_A_2025-03-13T15_51_15_L.mp4 -> 03_2025-TORM_3xTR-R01_C1n-TR3\n",
      "Renamed: TS2_A_2025-03-13T15_51_15_R.mp4 -> 03_2025-TORM_3xTR-R02_C1i-TR3\n",
      "Renamed: TS2_A_2025-03-13T16_02_21_L.mp4 -> 03_2025-TORM_3xTR-R05_C2n-TR3\n",
      "Renamed: TS2_A_2025-03-13T16_02_21_R.mp4 -> 03_2025-TORM_3xTR-R06_C2i-TR3\n",
      "Renamed: TS2_A_2025-03-13T16_15_31_L.mp4 -> 03_2025-TORM_3xTR-R09_C3n-TR3\n",
      "Renamed: TS2_A_2025-03-13T16_15_31_R.mp4 -> 03_2025-TORM_3xTR-R10_C3i-TR3\n",
      "Renamed: TS2_A_2025-03-13T16_28_32_L.mp4 -> 03_2025-TORM_3xTR-R13_C4n-TR3\n",
      "Renamed: TS2_A_2025-03-13T16_28_32_R.mp4 -> 03_2025-TORM_3xTR-R14_C4i-TR3\n",
      "Renamed: TS2_A_2025-03-14T11_20_20_L.mp4 -> 03_2025-TORM_3xTR-R01_C1n-TS\n",
      "Renamed: TS2_A_2025-03-14T11_20_20_R.mp4 -> 03_2025-TORM_3xTR-R02_C1i-TS\n",
      "Renamed: TS2_A_2025-03-14T11_32_47_L.mp4 -> 03_2025-TORM_3xTR-R05_C2n-TS\n",
      "Renamed: TS2_A_2025-03-14T11_32_47_R.mp4 -> 03_2025-TORM_3xTR-R06_C2i-TS\n",
      "Renamed: TS2_A_2025-03-14T11_49_58_L.mp4 -> 03_2025-TORM_3xTR-R09_C3n-TS\n",
      "Renamed: TS2_A_2025-03-14T11_49_58_R.mp4 -> 03_2025-TORM_3xTR-R10_C3i-TS\n",
      "Renamed: TS2_A_2025-03-14T12_07_46_L.mp4 -> 03_2025-TORM_3xTR-R13_C4n-TS\n",
      "Renamed: TS2_A_2025-03-14T12_07_46_R.mp4 -> 03_2025-TORM_3xTR-R14_C4i-TS\n",
      "Renamed: TS2_B_2025-03-12T14_00_42_L.mp4 -> 03_2025-TORM_3xTR-R03_C1d-Hab\n",
      "Renamed: TS2_B_2025-03-12T14_00_42_R.mp4 -> 03_2025-TORM_3xTR-R04_C1a-Hab\n",
      "Renamed: TS2_B_2025-03-12T14_11_43_L.mp4 -> 03_2025-TORM_3xTR-R07_C2d-Hab\n",
      "Renamed: TS2_B_2025-03-12T14_11_43_R.mp4 -> 03_2025-TORM_3xTR-R08_C2a-Hab\n",
      "Renamed: TS2_B_2025-03-12T14_34_37_L.mp4 -> 03_2025-TORM_3xTR-R11_C3d-Hab\n",
      "Renamed: TS2_B_2025-03-12T14_34_37_R.mp4 -> 03_2025-TORM_3xTR-R12_C3a-Hab\n",
      "Renamed: TS2_B_2025-03-12T14_47_37_L.mp4 -> 03_2025-TORM_3xTR-R15_C4d-Hab\n",
      "Renamed: TS2_B_2025-03-12T14_47_37_R.mp4 -> 03_2025-TORM_3xTR-R16_C4a-Hab\n",
      "Renamed: TS2_B_2025-03-13T13_51_16_L.mp4 -> 03_2025-TORM_3xTR-R03_C1d-TR1\n",
      "Renamed: TS2_B_2025-03-13T13_51_16_R.mp4 -> 03_2025-TORM_3xTR-R04_C1a-TR1\n",
      "Renamed: TS2_B_2025-03-13T14_06_59_L.mp4 -> 03_2025-TORM_3xTR-R07_C2d-TR1\n",
      "Renamed: TS2_B_2025-03-13T14_06_59_R.mp4 -> 03_2025-TORM_3xTR-R08_C2a-TR1\n",
      "Renamed: TS2_B_2025-03-13T14_19_53_L.mp4 -> 03_2025-TORM_3xTR-R11_C3d-TR1\n",
      "Renamed: TS2_B_2025-03-13T14_19_53_R.mp4 -> 03_2025-TORM_3xTR-R12_C3a-TR1\n",
      "Renamed: TS2_B_2025-03-13T14_34_27_L.mp4 -> 03_2025-TORM_3xTR-R15_C4d-TR1\n",
      "Renamed: TS2_B_2025-03-13T14_34_27_R.mp4 -> 03_2025-TORM_3xTR-R16_C4a-TR1\n",
      "Renamed: TS2_B_2025-03-13T14_48_33_L.mp4 -> 03_2025-TORM_3xTR-R03_C1d-TR2\n",
      "Renamed: TS2_B_2025-03-13T14_48_33_R.mp4 -> 03_2025-TORM_3xTR-R04_C1a-TR2\n",
      "Renamed: TS2_B_2025-03-13T15_04_38_L.mp4 -> 03_2025-TORM_3xTR-R07_C2d-TR2\n",
      "Renamed: TS2_B_2025-03-13T15_04_38_R.mp4 -> 03_2025-TORM_3xTR-R08_C2a-TR2\n",
      "Renamed: TS2_B_2025-03-13T15_18_41_L.mp4 -> 03_2025-TORM_3xTR-R11_C3d-TR2\n",
      "Renamed: TS2_B_2025-03-13T15_18_41_R.mp4 -> 03_2025-TORM_3xTR-R12_C3a-TR2\n",
      "Renamed: TS2_B_2025-03-13T15_32_47_L.mp4 -> 03_2025-TORM_3xTR-R15_C4d-TR2\n",
      "Renamed: TS2_B_2025-03-13T15_32_47_R.mp4 -> 03_2025-TORM_3xTR-R16_C4a-TR2\n",
      "Renamed: TS2_B_2025-03-13T15_51_15_L.mp4 -> 03_2025-TORM_3xTR-R03_C1d-TR3\n",
      "Renamed: TS2_B_2025-03-13T15_51_15_R.mp4 -> 03_2025-TORM_3xTR-R04_C1a-TR3\n",
      "Renamed: TS2_B_2025-03-13T16_01_54_L.mp4 -> 03_2025-TORM_3xTR-R07_C2d-TR3\n",
      "Renamed: TS2_B_2025-03-13T16_01_54_R.mp4 -> 03_2025-TORM_3xTR-R08_C2a-TR3\n",
      "Renamed: TS2_B_2025-03-13T16_15_48_L.mp4 -> 03_2025-TORM_3xTR-R11_C3d-TR3\n",
      "Renamed: TS2_B_2025-03-13T16_15_48_R.mp4 -> 03_2025-TORM_3xTR-R12_C3a-TR3\n",
      "Renamed: TS2_B_2025-03-13T16_29_01_L.mp4 -> 03_2025-TORM_3xTR-R15_C4d-TR3\n",
      "Renamed: TS2_B_2025-03-13T16_29_01_R.mp4 -> 03_2025-TORM_3xTR-R16_C4a-TR3\n",
      "Renamed: TS2_B_2025-03-14T11_20_21_L.mp4 -> 03_2025-TORM_3xTR-R03_C1d-TS\n",
      "Renamed: TS2_B_2025-03-14T11_20_21_R.mp4 -> 03_2025-TORM_3xTR-R04_C1a-TS\n",
      "Renamed: TS2_B_2025-03-14T11_33_12_L.mp4 -> 03_2025-TORM_3xTR-R07_C2d-TS\n",
      "Renamed: TS2_B_2025-03-14T11_33_12_R.mp4 -> 03_2025-TORM_3xTR-R08_C2a-TS\n",
      "Renamed: TS2_B_2025-03-14T11_49_41_L.mp4 -> 03_2025-TORM_3xTR-R11_C3d-TS\n",
      "Renamed: TS2_B_2025-03-14T11_49_41_R.mp4 -> 03_2025-TORM_3xTR-R12_C3a-TS\n",
      "Renamed: TS2_B_2025-03-14T12_08_10_L.mp4 -> 03_2025-TORM_3xTR-R15_C4d-TS\n",
      "Renamed: TS2_B_2025-03-14T12_08_10_R.mp4 -> 03_2025-TORM_3xTR-R16_C4a-TS\n",
      "Renaming process completed.\n"
     ]
    }
   ],
   "source": [
    "folder_path = r'D:\\sdhers\\3_obj\\Chopped videos'\n",
    "rename_files_from_list(folder_path)"
   ]
  }
 ],
 "metadata": {
  "kernelspec": {
   "display_name": "rainstorm",
   "language": "python",
   "name": "python3"
  },
  "language_info": {
   "codemirror_mode": {
    "name": "ipython",
    "version": 3
   },
   "file_extension": ".py",
   "mimetype": "text/x-python",
   "name": "python",
   "nbconvert_exporter": "python",
   "pygments_lexer": "ipython3",
   "version": "3.9.21"
  }
 },
 "nbformat": 4,
 "nbformat_minor": 2
}
