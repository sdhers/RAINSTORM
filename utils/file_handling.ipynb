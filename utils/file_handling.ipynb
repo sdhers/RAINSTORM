{
 "cells": [
  {
   "cell_type": "markdown",
   "metadata": {},
   "source": [
    "RAIN - Real & Artificial Intelligence for Neuroscience\n",
    "\n",
    "## File handling\n",
    "\n",
    "Welcome to my file handling notebook!\n",
    "\n",
    "Here you'll find are a compilation of many functions I've written when working with files.\n",
    "\n",
    "Sometimes it is useful to rename, move, and organize files, among other things."
   ]
  },
  {
   "cell_type": "code",
   "execution_count": 1,
   "metadata": {},
   "outputs": [],
   "source": [
    "import shutil\n",
    "from pathlib import Path\n",
    "import os\n",
    "import pandas as pd"
   ]
  },
  {
   "cell_type": "markdown",
   "metadata": {},
   "source": [
    "---\n",
    "If you want to organize your files into subfolders:"
   ]
  },
  {
   "cell_type": "code",
   "execution_count": 6,
   "metadata": {},
   "outputs": [],
   "source": [
    "def filter_files(folder_path: str, subfolders: list):\n",
    "    \"\"\"Filters and moves files to the appropriate subfolder.\n",
    "\n",
    "    Args:\n",
    "        path (str): The main folder containing the files.\n",
    "        subfolders (list): A list of subfolder names to filter files into.\n",
    "    \"\"\"\n",
    "    # Create a Path object\n",
    "    path = Path(folder_path)\n",
    "\n",
    "    # Get a list of all files in the input folder\n",
    "    files = [f for f in path.iterdir() if f.is_file()]\n",
    "\n",
    "    for subfolder in subfolders:\n",
    "        subfolder_path = path / subfolder\n",
    "\n",
    "        # Ensure subfolder and position folder exist\n",
    "        subfolder_path.mkdir(parents=True, exist_ok=True)\n",
    "\n",
    "        # Iterate through files and move matching ones\n",
    "        for file in files:\n",
    "            if subfolder in file.name:\n",
    "                destination = subfolder_path / file.name\n",
    "\n",
    "                # Avoid overwriting files\n",
    "                if not destination.exists():\n",
    "                    shutil.move(str(file), str(destination))\n",
    "                else:\n",
    "                    print(f\"File {file.name} already exists in {destination.parent}, skipping.\")"
   ]
  },
  {
   "cell_type": "code",
   "execution_count": null,
   "metadata": {},
   "outputs": [],
   "source": [
    "folder_path = r'd:\\sdhers\\NOR full videos\\3xTg_B2 (TORM)\\2025_02-Y_Maze_12_m\\modified\\Y_Maze'\n",
    "subfolders = ['OF','Splash']\n",
    "filter_files(folder_path, subfolders)"
   ]
  },
  {
   "cell_type": "markdown",
   "metadata": {},
   "source": [
    "---\n",
    "If you want to change a word from all filenames in a folder:"
   ]
  },
  {
   "cell_type": "code",
   "execution_count": null,
   "metadata": {},
   "outputs": [],
   "source": [
    "def edit_filenames(folder, before, after):\n",
    "    # Get a list of all files in the specified folder\n",
    "    files = os.listdir(folder)\n",
    "    \n",
    "    for file_name in files:\n",
    "        # Check if 'before' is in the file name\n",
    "        if before in file_name:\n",
    "            # Construct the new file name\n",
    "            new_name = file_name.replace(before, after)\n",
    "            # Construct full file paths\n",
    "            old_file = os.path.join(folder, file_name)\n",
    "            new_file = os.path.join(folder, new_name)\n",
    "            # Rename the file\n",
    "            os.rename(old_file, new_file)\n",
    "            print(f'Renamed: {old_file} to {new_file}')"
   ]
  },
  {
   "cell_type": "code",
   "execution_count": null,
   "metadata": {},
   "outputs": [],
   "source": [
    "folder_path = r'C:\\Users\\dhers\\Desktop\\Rainstorm\\docs\\examples\\SM_example'\n",
    "before = 'TR1'\n",
    "after = 'TR'\n",
    "\n",
    "edit_filenames(folder_path, before, after)"
   ]
  },
  {
   "cell_type": "markdown",
   "metadata": {},
   "source": [
    "---\n",
    "If you want to change a word from inside all csv files in a folder"
   ]
  },
  {
   "cell_type": "code",
   "execution_count": null,
   "metadata": {},
   "outputs": [],
   "source": [
    "def replace_word_in_csv(folder_path, old_word, new_word):\n",
    "    # Iterate through all files in the folder\n",
    "    for filename in os.listdir(folder_path):\n",
    "        if filename.endswith(\".csv\"):  # Process only CSV files\n",
    "            file_path = os.path.join(folder_path, filename)\n",
    "            \n",
    "            try:\n",
    "                # Load the CSV file into a DataFrame\n",
    "                df = pd.read_csv(file_path, header=None)\n",
    "                \n",
    "                # Replace occurrences of the old word with the new word\n",
    "                df.replace(old_word, new_word, inplace=True)\n",
    "                \n",
    "                # Save the modified DataFrame back to the same file\n",
    "                df.to_csv(file_path, index=False, header=False)\n",
    "                \n",
    "                print(f\"Processed file: {filename}\")\n",
    "            except Exception as e:\n",
    "                print(f\"Failed to process file: {filename}. Error: {e}\")"
   ]
  },
  {
   "cell_type": "code",
   "execution_count": null,
   "metadata": {},
   "outputs": [],
   "source": [
    "folder_path = r\"C:\\Users\\dhers\\OneDrive - UBA\\workshop\\Interferencia\\TS\\labels\"  # Replace with your folder path\n",
    "old_word = \"Right\"\n",
    "new_word = \"obj_2\"\n",
    "\n",
    "replace_word_in_csv(folder_path, old_word, new_word)"
   ]
  },
  {
   "cell_type": "markdown",
   "metadata": {},
   "source": [
    "---\n",
    "If you want to list the names of the files in a folder (and eventually rename them):"
   ]
  },
  {
   "cell_type": "code",
   "execution_count": 2,
   "metadata": {},
   "outputs": [],
   "source": [
    "def list_files(folder_path: str):\n",
    "    \"\"\"Lists all files in a folder and saves them to a CSV file.\n",
    "\n",
    "    Args:\n",
    "        folder_path (str): Path to the folder.\n",
    "    \"\"\"\n",
    "    # Create a Path object\n",
    "    path = Path(folder_path)\n",
    "\n",
    "    # Get a list of all files in the input folder\n",
    "    files = [os.path.basename(f) for f in path.iterdir() if f.is_file()]\n",
    "\n",
    "    # Sort files alphabetically\n",
    "    files.sort()\n",
    "\n",
    "    # Create a DataFrame for the CSV\n",
    "    df = pd.DataFrame({\n",
    "        'filename': files,\n",
    "    })\n",
    "\n",
    "    # Write DataFrame to CSV\n",
    "    output_csv = path / 'filenames.csv'\n",
    "    df.to_csv(output_csv, index=False)\n",
    "    print(f\"Filenames saved to {output_csv}\")"
   ]
  },
  {
   "cell_type": "code",
   "execution_count": null,
   "metadata": {},
   "outputs": [
    {
     "name": "stdout",
     "output_type": "stream",
     "text": [
      "Filenames saved to D:\\Guille\\2024_12\\Social\\cropped\\filenames.csv\n"
     ]
    }
   ],
   "source": [
    "folder_path = r'D:\\Guille\\2025_02\\Social\\modified'\n",
    "list_files(folder_path)"
   ]
  },
  {
   "cell_type": "markdown",
   "metadata": {},
   "source": [
    "---\n",
    "To rename the files using the list created above:\n",
    "- Write the new names under a new column called 'rename' in the csv file\n",
    "- Run the function below"
   ]
  },
  {
   "cell_type": "code",
   "execution_count": null,
   "metadata": {},
   "outputs": [],
   "source": [
    "def rename_files_from_list(folder_path: str):\n",
    "    \"\"\"Renames files in a folder based on a CSV file containing a 'rename' column.\n",
    "\n",
    "    Args:\n",
    "        folder_path (str): Path to the folder.\n",
    "    \"\"\"\n",
    "    # Create a Path object\n",
    "    path = Path(folder_path)\n",
    "    csv_path = path / 'filenames.csv'\n",
    "    \n",
    "    # Check if the CSV file exists\n",
    "    if not csv_path.exists():\n",
    "        print(f\"Error: CSV with filenames not found in the folder.\")\n",
    "        return\n",
    "    \n",
    "    # Read CSV file\n",
    "    df = pd.read_csv(csv_path)\n",
    "    \n",
    "    # Check if the required columns exist\n",
    "    if 'filename' not in df.columns or 'rename' not in df.columns:\n",
    "        print(\"Error: CSV must contain 'filename' and 'rename' columns.\")\n",
    "        return\n",
    "    \n",
    "    # Iterate through each row and rename files\n",
    "    for _, row in df.iterrows():\n",
    "        old_name = row['filename']\n",
    "        new_name = row['rename']\n",
    "        \n",
    "        old_path = path / old_name\n",
    "        new_path = path / new_name\n",
    "        \n",
    "        if old_path.exists():\n",
    "            os.rename(old_path, new_path)\n",
    "            print(f\"Renamed: {old_name} -> {new_name}\")\n",
    "        else:\n",
    "            print(f\"Warning: File '{old_name}' not found, skipping.\")\n",
    "    \n",
    "    print(\"Renaming process completed.\")"
   ]
  },
  {
   "cell_type": "code",
   "execution_count": null,
   "metadata": {},
   "outputs": [
    {
     "name": "stdout",
     "output_type": "stream",
     "text": [
      "Renamed: Social_2025-02-17T16_02_01.avi -> 2025_02-R12-Social_Hab.avi\n",
      "Renamed: Social_2025-02-17T16_27_56.avi -> 2025_02-R12-Social_TR1.avi\n",
      "Renamed: Social_2025-02-17T16_36_39.avi -> 2025_02-R12-Social_TR2.avi\n",
      "Renamed: Social_2025-02-17T16_44_56.avi -> 2025_02-R13-Social_Hab.avi\n",
      "Renamed: Social_2025-02-17T16_53_16.avi -> 2025_02-R13-Social_TR1.avi\n",
      "Renamed: Social_2025-02-17T17_00_33.avi -> 2025_02-R13-Social_TR2.avi\n",
      "Renamed: Social_2025-02-17T17_09_48.avi -> 2025_02-R13-Social_TR3.avi\n",
      "Renamed: Social_2025-02-17T17_17_55.avi -> 2025_02-R14-Social_Hab.avi\n",
      "Renamed: Social_2025-02-17T17_28_04.avi -> 2025_02-R14-Social_TR1.avi\n",
      "Renamed: Social_2025-02-17T17_35_14.avi -> 2025_02-R14-Social_TR2.avi\n",
      "Renamed: Social_2025-02-17T17_43_47.avi -> 2025_02-R14-Social_TR3.avi\n",
      "Renamed: Social_2025-02-17T17_51_57.avi -> 2025_02-R15-Social_Hab.avi\n",
      "Renamed: Social_2025-02-17T18_01_14.avi -> 2025_02-R15-Social_TR1.avi\n",
      "Renamed: Social_2025-02-17T18_09_51.avi -> 2025_02-R15-Social_TR2.avi\n",
      "Renamed: Social_2025-02-17T18_18_51.avi -> 2025_02-R15-Social_TR3.avi\n",
      "Renamed: Social_2025-02-17T18_27_23.avi -> 2025_02-R22-Social_Hab.avi\n",
      "Renamed: Social_2025-02-17T18_36_56.avi -> 2025_02-R22-Social_TR1.avi\n",
      "Renamed: Social_2025-02-17T18_44_40.avi -> 2025_02-R22-Social_TR2.avi\n",
      "Renamed: Social_2025-02-17T18_52_40.avi -> 2025_02-R23-Social_Hab.avi\n",
      "Renamed: Social_2025-02-17T19_00_24.avi -> 2025_02-R23-Social_TR1.avi\n",
      "Renamed: Social_2025-02-17T19_07_46.avi -> 2025_02-R23-Social_TR2.avi\n",
      "Renamed: Social_2025-02-17T19_15_06.avi -> 2025_02-R23-Social_TR3.avi\n",
      "Renamed: Social_2025-02-18T15_47_37.avi -> 2025_02-R16-Social_Hab.avi\n",
      "Renamed: Social_2025-02-18T15_55_59.avi -> 2025_02-R16-Social_TR1.avi\n",
      "Renamed: Social_2025-02-18T16_03_54.avi -> 2025_02-R16-Social_TR2.avi\n",
      "Renamed: Social_2025-02-18T16_11_38.avi -> 2025_02-R17-Social_Hab.avi\n",
      "Renamed: Social_2025-02-18T16_18_59.avi -> 2025_02-R17-Social_TR1.avi\n",
      "Renamed: Social_2025-02-18T16_26_10.avi -> 2025_02-R17-Social_TR2.avi\n",
      "Renamed: Social_2025-02-18T16_33_51.avi -> 2025_02-R17-Social_TR3.avi\n",
      "Renamed: Social_2025-02-18T16_41_32.avi -> 2025_02-R18-Social_Hab.avi\n",
      "Renamed: Social_2025-02-18T16_49_26.avi -> 2025_02-R18-Social_TR1.avi\n",
      "Renamed: Social_2025-02-18T16_57_01.avi -> 2025_02-R18-Social_TR2.avi\n",
      "Renamed: Social_2025-02-18T17_04_50.avi -> 2025_02-R18-Social_TR3.avi\n",
      "Renamed: Social_2025-02-18T17_12_54.avi -> 2025_02-R19-Social_Hab.avi\n",
      "Renamed: Social_2025-02-18T17_20_11.avi -> 2025_02-R19-Social_TR1.avi\n",
      "Renamed: Social_2025-02-18T17_28_13.avi -> 2025_02-R19-Social_TR2.avi\n",
      "Renamed: Social_2025-02-18T17_36_08.avi -> 2025_02-R19-Social_TR3.avi\n",
      "Renamed: Social_2025-02-18T17_45_26.avi -> 2025_02-R21-Social_Hab.avi\n",
      "Renamed: Social_2025-02-18T17_53_19.avi -> 2025_02-R21-Social_TR1.avi\n",
      "Renamed: Social_2025-02-18T18_01_50.avi -> 2025_02-R21-Social_TR2.avi\n",
      "Renamed: Social_2025-02-18T18_09_01.avi -> 2025_02-R20-Social_Hab.avi\n",
      "Renamed: Social_2025-02-18T18_16_45.avi -> 2025_02-R20-Social_TR1.avi\n",
      "Renamed: Social_2025-02-18T18_23_39.avi -> 2025_02-R20-Social_TR2.avi\n",
      "Renamed: Social_2025-02-18T18_32_54.avi -> 2025_02-R20-Social_TR3.avi\n",
      "Renamed: Social_2025-02-19T16_18_26.avi -> 2025_02-R07-Social_Hab.avi\n",
      "Renamed: Social_2025-02-19T16_34_48.avi -> 2025_02-R07-Social_TR1.avi\n",
      "Renamed: Social_2025-02-19T16_42_33.avi -> 2025_02-R07-Social_TR2.avi\n",
      "Renamed: Social_2025-02-19T16_49_40.avi -> 2025_02-R08-Social_Hab.avi\n",
      "Renamed: Social_2025-02-19T16_57_38.avi -> 2025_02-R08-Social_TR1.avi\n",
      "Renamed: Social_2025-02-19T17_05_15.avi -> 2025_02-R08-Social_TR2.avi\n",
      "Renamed: Social_2025-02-19T17_12_46.avi -> 2025_02-R08-Social_TR3.avi\n",
      "Renamed: Social_2025-02-19T17_20_48.avi -> 2025_02-R09-Social_Hab.avi\n",
      "Renamed: Social_2025-02-19T17_28_47.avi -> 2025_02-R09-Social_TR1.avi\n",
      "Renamed: Social_2025-02-19T17_36_13.avi -> 2025_02-R09-Social_TR2.avi\n",
      "Renamed: Social_2025-02-19T17_43_29.avi -> 2025_02-R09-Social_TR3.avi\n",
      "Renamed: Social_2025-02-19T17_51_00.avi -> 2025_02-R10-Social_Hab.avi\n",
      "Renamed: Social_2025-02-19T18_11_12.avi -> 2025_02-R10-Social_TR1.avi\n",
      "Renamed: Social_2025-02-19T18_27_02.avi -> 2025_02-R10-Social_TR2.avi\n",
      "Renamed: Social_2025-02-19T18_32_57.avi -> 2025_02-R11-Social_Hab.avi\n",
      "Renamed: Social_2025-02-19T18_40_07.avi -> 2025_02-R11-Social_TR1.avi\n",
      "Renamed: Social_2025-02-19T18_48_17.avi -> 2025_02-R11-Social_TR2.avi\n",
      "Renamed: Social_2025-02-19T18_55_32.avi -> 2025_02-R11-Social_TR3.avi\n",
      "Renamed: Social_2025-02-20T15_38_49.avi -> 2025_02-R01-Social_Hab.avi\n",
      "Renamed: Social_2025-02-20T15_47_52.avi -> 2025_02-R01-Social_TR1.avi\n",
      "Renamed: Social_2025-02-20T15_54_53.avi -> 2025_02-R01-Social_TR2.avi\n",
      "Renamed: Social_2025-02-20T16_02_03.avi -> 2025_02-R02-Social_Hab.avi\n",
      "Renamed: Social_2025-02-20T16_09_24.avi -> 2025_02-R02-Social_TR1.avi\n",
      "Renamed: Social_2025-02-20T16_16_03.avi -> 2025_02-R02-Social_TR2.avi\n",
      "Renamed: Social_2025-02-20T16_23_07.avi -> 2025_02-R02-Social_TR3.avi\n",
      "Renamed: Social_2025-02-20T16_31_21.avi -> 2025_02-R03-Social_Hab.avi\n",
      "Renamed: Social_2025-02-20T16_38_39.avi -> 2025_02-R03-Social_TR1.avi\n",
      "Renamed: Social_2025-02-20T16_46_11.avi -> 2025_02-R03-Social_TR2.avi\n",
      "Renamed: Social_2025-02-20T16_53_15.avi -> 2025_02-R03-Social_TR3.avi\n",
      "Renamed: Social_2025-02-20T17_01_12.avi -> 2025_02-R04-Social_Hab.avi\n",
      "Renamed: Social_2025-02-20T17_31_40.avi -> 2025_02-R04-Social_TR1.avi\n",
      "Renamed: Social_2025-02-20T17_38_41.avi -> 2025_02-R04-Social_TR2.avi\n",
      "Renamed: Social_2025-02-20T17_46_09.avi -> 2025_02-R05-Social_Hab.avi\n",
      "Renamed: Social_2025-02-20T17_52_56.avi -> 2025_02-R05-Social_TR1.avi\n",
      "Renamed: Social_2025-02-20T17_59_26.avi -> 2025_02-R05-Social_TR2.avi\n",
      "Renamed: Social_2025-02-20T18_07_02.avi -> 2025_02-R05-Social_TR3.avi\n",
      "Renamed: Social_2025-02-20T18_14_15.avi -> 2025_02-R06-Social_Hab.avi\n",
      "Renamed: Social_2025-02-20T18_21_39.avi -> 2025_02-R06-Social_TR1.avi\n",
      "Renamed: Social_2025-02-20T18_28_59.avi -> 2025_02-R06-Social_TR2.avi\n",
      "Renamed: Social_2025-02-20T18_38_22.avi -> 2025_02-R06-Social_TR3.avi\n",
      "Renaming process completed.\n"
     ]
    }
   ],
   "source": [
    "folder_path = r'D:\\Guille\\2025_02\\Social\\modified'\n",
    "rename_files_from_list(folder_path)"
   ]
  }
 ],
 "metadata": {
  "kernelspec": {
   "display_name": "rainstorm",
   "language": "python",
   "name": "python3"
  },
  "language_info": {
   "codemirror_mode": {
    "name": "ipython",
    "version": 3
   },
   "file_extension": ".py",
   "mimetype": "text/x-python",
   "name": "python",
   "nbconvert_exporter": "python",
   "pygments_lexer": "ipython3",
   "version": "3.9.21"
  }
 },
 "nbformat": 4,
 "nbformat_minor": 2
}
