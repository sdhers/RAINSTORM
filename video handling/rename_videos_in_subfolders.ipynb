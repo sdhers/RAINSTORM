{
 "cells": [
  {
   "cell_type": "code",
   "execution_count": 12,
   "metadata": {},
   "outputs": [],
   "source": [
    "import os\n",
    "\n",
    "def rename_videos_in_subfolders(root_folder):\n",
    "    \"\"\"\n",
    "    Renames all video files inside subfolders of the given root folder\n",
    "    by replacing 'TORM-Tg-2m' with 'TORM_2m' in their filenames.\n",
    "    \n",
    "    :param root_folder: Path to the main folder containing subfolders with videos.\n",
    "    \"\"\"\n",
    "    for subdir, _, files in os.walk(root_folder):\n",
    "        for file in files:\n",
    "            if any(file.lower().endswith(ext) for ext in ['.mp4', '.avi', '.mov', '.mkv']):\n",
    "                old_path = os.path.join(subdir, file)\n",
    "                new_file = file.replace(\"Tg-1y_\", \"TORM_12m-\").replace(\"2024-09_\", \"2024_09-\").replace(\"Hab_\", \"Hab1_\")\n",
    "                new_path = os.path.join(subdir, new_file)\n",
    "                \n",
    "                if old_path != new_path:\n",
    "                    os.rename(old_path, new_path)\n",
    "                    print(f\"Renamed: {old_path} -> {new_path}\")\n",
    "\n"
   ]
  },
  {
   "cell_type": "code",
   "execution_count": 13,
   "metadata": {},
   "outputs": [
    {
     "name": "stdout",
     "output_type": "stream",
     "text": [
      "Renamed: D:\\Backup labo\\NOR full videos\\3xTg_B1\\2024_09-TORM_12m\\Hab1\\2024-09_Tg-1y_Hab_C03_A.avi -> D:\\Backup labo\\NOR full videos\\3xTg_B1\\2024_09-TORM_12m\\Hab1\\2024_09-TORM_12m-Hab1_C03_A.avi\n",
      "Renamed: D:\\Backup labo\\NOR full videos\\3xTg_B1\\2024_09-TORM_12m\\Hab1\\2024-09_Tg-1y_Hab_C03_B.avi -> D:\\Backup labo\\NOR full videos\\3xTg_B1\\2024_09-TORM_12m\\Hab1\\2024_09-TORM_12m-Hab1_C03_B.avi\n",
      "Renamed: D:\\Backup labo\\NOR full videos\\3xTg_B1\\2024_09-TORM_12m\\Hab1\\2024-09_Tg-1y_Hab_C04_A.avi -> D:\\Backup labo\\NOR full videos\\3xTg_B1\\2024_09-TORM_12m\\Hab1\\2024_09-TORM_12m-Hab1_C04_A.avi\n",
      "Renamed: D:\\Backup labo\\NOR full videos\\3xTg_B1\\2024_09-TORM_12m\\Hab1\\2024-09_Tg-1y_Hab_C06_A.avi -> D:\\Backup labo\\NOR full videos\\3xTg_B1\\2024_09-TORM_12m\\Hab1\\2024_09-TORM_12m-Hab1_C06_A.avi\n",
      "Renamed: D:\\Backup labo\\NOR full videos\\3xTg_B1\\2024_09-TORM_12m\\Hab1\\2024-09_Tg-1y_Hab_C08_B.avi -> D:\\Backup labo\\NOR full videos\\3xTg_B1\\2024_09-TORM_12m\\Hab1\\2024_09-TORM_12m-Hab1_C08_B.avi\n",
      "Renamed: D:\\Backup labo\\NOR full videos\\3xTg_B1\\2024_09-TORM_12m\\Hab2\\2024-09_Tg-1y_Hab2_C03_A.avi -> D:\\Backup labo\\NOR full videos\\3xTg_B1\\2024_09-TORM_12m\\Hab2\\2024_09-TORM_12m-Hab2_C03_A.avi\n",
      "Renamed: D:\\Backup labo\\NOR full videos\\3xTg_B1\\2024_09-TORM_12m\\Hab2\\2024-09_Tg-1y_Hab2_C03_B.avi -> D:\\Backup labo\\NOR full videos\\3xTg_B1\\2024_09-TORM_12m\\Hab2\\2024_09-TORM_12m-Hab2_C03_B.avi\n",
      "Renamed: D:\\Backup labo\\NOR full videos\\3xTg_B1\\2024_09-TORM_12m\\Hab2\\2024-09_Tg-1y_Hab2_C04_A.avi -> D:\\Backup labo\\NOR full videos\\3xTg_B1\\2024_09-TORM_12m\\Hab2\\2024_09-TORM_12m-Hab2_C04_A.avi\n",
      "Renamed: D:\\Backup labo\\NOR full videos\\3xTg_B1\\2024_09-TORM_12m\\Hab2\\2024-09_Tg-1y_Hab2_C06_A.avi -> D:\\Backup labo\\NOR full videos\\3xTg_B1\\2024_09-TORM_12m\\Hab2\\2024_09-TORM_12m-Hab2_C06_A.avi\n",
      "Renamed: D:\\Backup labo\\NOR full videos\\3xTg_B1\\2024_09-TORM_12m\\Hab2\\2024-09_Tg-1y_Hab2_C08_B.avi -> D:\\Backup labo\\NOR full videos\\3xTg_B1\\2024_09-TORM_12m\\Hab2\\2024_09-TORM_12m-Hab2_C08_B.avi\n",
      "Renamed: D:\\Backup labo\\NOR full videos\\3xTg_B1\\2024_09-TORM_12m\\TS\\2024-09_Tg-1y_TS_C03_A.avi -> D:\\Backup labo\\NOR full videos\\3xTg_B1\\2024_09-TORM_12m\\TS\\2024_09-TORM_12m-TS_C03_A.avi\n",
      "Renamed: D:\\Backup labo\\NOR full videos\\3xTg_B1\\2024_09-TORM_12m\\TS\\2024-09_Tg-1y_TS_C03_B.avi -> D:\\Backup labo\\NOR full videos\\3xTg_B1\\2024_09-TORM_12m\\TS\\2024_09-TORM_12m-TS_C03_B.avi\n",
      "Renamed: D:\\Backup labo\\NOR full videos\\3xTg_B1\\2024_09-TORM_12m\\TS\\2024-09_Tg-1y_TS_C04_A.avi -> D:\\Backup labo\\NOR full videos\\3xTg_B1\\2024_09-TORM_12m\\TS\\2024_09-TORM_12m-TS_C04_A.avi\n",
      "Renamed: D:\\Backup labo\\NOR full videos\\3xTg_B1\\2024_09-TORM_12m\\TS\\2024-09_Tg-1y_TS_C06_A.avi -> D:\\Backup labo\\NOR full videos\\3xTg_B1\\2024_09-TORM_12m\\TS\\2024_09-TORM_12m-TS_C06_A.avi\n",
      "Renamed: D:\\Backup labo\\NOR full videos\\3xTg_B1\\2024_09-TORM_12m\\TS\\2024-09_Tg-1y_TS_C08_B.avi -> D:\\Backup labo\\NOR full videos\\3xTg_B1\\2024_09-TORM_12m\\TS\\2024_09-TORM_12m-TS_C08_B.avi\n"
     ]
    }
   ],
   "source": [
    "# Example usage:\n",
    "rename_videos_in_subfolders(r\"D:\\Backup labo\\NOR full videos\\3xTg_B1\\2024_09-TORM_12m\")"
   ]
  }
 ],
 "metadata": {
  "kernelspec": {
   "display_name": "rainstorm",
   "language": "python",
   "name": "python3"
  },
  "language_info": {
   "codemirror_mode": {
    "name": "ipython",
    "version": 3
   },
   "file_extension": ".py",
   "mimetype": "text/x-python",
   "name": "python",
   "nbconvert_exporter": "python",
   "pygments_lexer": "ipython3",
   "version": "3.9.21"
  }
 },
 "nbformat": 4,
 "nbformat_minor": 2
}
