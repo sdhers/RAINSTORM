{
 "cells": [
  {
   "cell_type": "code",
   "execution_count": 56,
   "metadata": {},
   "outputs": [
    {
     "name": "stdout",
     "output_type": "stream",
     "text": [
      "Selected 42 videos.\n"
     ]
    }
   ],
   "source": [
    "import cv2\n",
    "import numpy as np\n",
    "from tkinter import Tk, filedialog\n",
    "\n",
    "def merge_frames(video_files: list) -> np.ndarray:\n",
    "    \"\"\"\n",
    "    Merge the first frames of user-selected videos with transparency.\n",
    "    \n",
    "    Returns:\n",
    "        np.ndarray: Merged image.\n",
    "    \"\"\"\n",
    "    merged_image = None\n",
    "    \n",
    "    for video_file in video_files:\n",
    "        cap = cv2.VideoCapture(video_file)\n",
    "        success, frame = cap.read()\n",
    "        cap.release()\n",
    "        \n",
    "        if not success:\n",
    "            print(f\"Could not read first frame of {video_file}\")\n",
    "            continue\n",
    "        \n",
    "        # Calculate transparency\n",
    "        transparency = round(1 / len(video_files), 4)\n",
    "        transparent_frame = (frame * transparency).astype(np.uint8)\n",
    "        \n",
    "        if merged_image is None:\n",
    "            # Initialize merged image\n",
    "            merged_image = np.zeros_like(transparent_frame)\n",
    "        \n",
    "        # Add transparent frame to the merged image\n",
    "        merged_image = cv2.add(merged_image, transparent_frame)\n",
    "    \n",
    "    return merged_image\n",
    "\n",
    "# Usage example\n",
    "try:\n",
    "    merged_image = merge_frames()\n",
    "    cv2.imshow(\"Merged First Frames\", merged_image)\n",
    "    cv2.waitKey(0)\n",
    "    cv2.destroyAllWindows()\n",
    "except ValueError as e:\n",
    "    print(e)"
   ]
  }
 ],
 "metadata": {
  "kernelspec": {
   "display_name": "rainstorm",
   "language": "python",
   "name": "python3"
  },
  "language_info": {
   "codemirror_mode": {
    "name": "ipython",
    "version": 3
   },
   "file_extension": ".py",
   "mimetype": "text/x-python",
   "name": "python",
   "nbconvert_exporter": "python",
   "pygments_lexer": "ipython3",
   "version": "3.9.21"
  }
 },
 "nbformat": 4,
 "nbformat_minor": 2
}
