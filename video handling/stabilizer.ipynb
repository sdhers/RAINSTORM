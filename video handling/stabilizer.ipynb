{
 "cells": [
  {
   "cell_type": "code",
   "execution_count": 1,
   "metadata": {},
   "outputs": [],
   "source": [
    "import cv2\n",
    "import numpy as np\n",
    "import glob\n",
    "import os\n",
    "\n",
    "def process_videos(video_paths, output_folder):\n",
    "    points = []\n",
    "    \n",
    "    def select_point(event, x, y, flags, param):\n",
    "        if event == cv2.EVENT_LBUTTONDOWN:\n",
    "            points.append((x, y))\n",
    "            cv2.circle(frame, (x, y), 5, (0, 0, 255), -1)\n",
    "            cv2.imshow('Select Point', frame)\n",
    "    \n",
    "    first_frames = []\n",
    "    \n",
    "    # Step 1: Extract first frames and collect points\n",
    "    for video_path in video_paths:\n",
    "        cap = cv2.VideoCapture(video_path)\n",
    "        ret, frame = cap.read()\n",
    "        if ret:\n",
    "            first_frames.append((frame, video_path))\n",
    "            cv2.imshow('Select Point', frame)\n",
    "            cv2.setMouseCallback('Select Point', select_point)\n",
    "            cv2.waitKey(0)\n",
    "        cap.release()\n",
    "    \n",
    "    cv2.destroyAllWindows()\n",
    "    \n",
    "    # Step 2: Calculate mean point\n",
    "    if not points:\n",
    "        print(\"No points were selected.\")\n",
    "        return\n",
    "    \n",
    "    mean_point = np.mean(points, axis=0).astype(int)\n",
    "    print(f\"Mean point: {mean_point}\")\n",
    "    \n",
    "    # Step 3: Align videos\n",
    "    os.makedirs(output_folder, exist_ok=True)\n",
    "    \n",
    "    for (frame, video_path), point in zip(first_frames, points):\n",
    "        dx, dy = mean_point[0] - point[0], mean_point[1] - point[1]\n",
    "        cap = cv2.VideoCapture(video_path)\n",
    "        width = int(cap.get(cv2.CAP_PROP_FRAME_WIDTH))\n",
    "        height = int(cap.get(cv2.CAP_PROP_FRAME_HEIGHT))\n",
    "        fps = cap.get(cv2.CAP_PROP_FPS)\n",
    "        fourcc = cv2.VideoWriter_fourcc(*'mp4v')\n",
    "        output_path = os.path.join(output_folder, os.path.basename(video_path))\n",
    "        out = cv2.VideoWriter(output_path, fourcc, fps, (width, height))\n",
    "        \n",
    "        while cap.isOpened():\n",
    "            ret, frame = cap.read()\n",
    "            if not ret:\n",
    "                break\n",
    "            translation_matrix = np.float32([[1, 0, dx], [0, 1, dy]])\n",
    "            translated_frame = cv2.warpAffine(frame, translation_matrix, (width, height))\n",
    "            out.write(translated_frame)\n",
    "        \n",
    "        cap.release()\n",
    "        out.release()\n",
    "    \n",
    "    print(f\"Aligned videos saved in '{output_folder}'.\")"
   ]
  },
  {
   "cell_type": "code",
   "execution_count": 4,
   "metadata": {},
   "outputs": [
    {
     "name": "stdout",
     "output_type": "stream",
     "text": [
      "Mean point: [188 117]\n",
      "Aligned videos saved in 'C:/Users/dhers/Desktop/prueba/aligned_videos'.\n"
     ]
    }
   ],
   "source": [
    "video_files = glob.glob(\"C:/Users/dhers/Desktop/prueba/*.mp4\")  # Update path to your videos\n",
    "output_dir = \"C:/Users/dhers/Desktop/prueba/aligned_videos\"\n",
    "process_videos(video_files, output_dir)"
   ]
  }
 ],
 "metadata": {
  "kernelspec": {
   "display_name": "rainstorm",
   "language": "python",
   "name": "python3"
  },
  "language_info": {
   "codemirror_mode": {
    "name": "ipython",
    "version": 3
   },
   "file_extension": ".py",
   "mimetype": "text/x-python",
   "name": "python",
   "nbconvert_exporter": "python",
   "pygments_lexer": "ipython3",
   "version": "3.9.21"
  }
 },
 "nbformat": 4,
 "nbformat_minor": 2
}
